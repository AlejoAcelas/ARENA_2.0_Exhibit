{
 "cells": [
  {
   "cell_type": "code",
   "execution_count": 39,
   "metadata": {},
   "outputs": [],
   "source": [
    "import os\n",
    "os.environ[\"ACCELERATE_DISABLE_RICH\"] = \"1\"\n",
    "os.environ[\"SDL_VIDEODRIVER\"] = \"dummy\"\n",
    "os.environ[\"KMP_DUPLICATE_LIB_OK\"]=\"TRUE\"\n",
    "\n",
    "import random\n",
    "import time\n",
    "import sys\n",
    "import re\n",
    "import pandas as pd\n",
    "from dataclasses import dataclass\n",
    "from tqdm import tqdm\n",
    "import numpy as np\n",
    "from numpy.random import Generator\n",
    "import plotly.express as px\n",
    "import torch as t\n",
    "from torch import Tensor\n",
    "from torch.optim.optimizer import Optimizer\n",
    "from torch.utils.data import Dataset\n",
    "import gym\n",
    "from gym.envs.classic_control.cartpole import CartPoleEnv\n",
    "import torch.nn as nn\n",
    "import torch.optim as optim\n",
    "from torch.distributions.categorical import Categorical\n",
    "from gym.spaces import Discrete\n",
    "import einops\n",
    "import copy\n",
    "from pathlib import Path\n",
    "from typing import List, Tuple, Dict, Any, Union, Callable, Optional\n",
    "from jaxtyping import Float, Int, Bool\n",
    "import pytorch_lightning as pl\n",
    "from pytorch_lightning.loggers import WandbLogger, CSVLogger\n",
    "import wandb\n",
    "\n",
    "# Make sure exercises are in the path\n",
    "chapter = r\"chapter2_rl\"\n",
    "exercises_dir = Path(f\"{os.getcwd().split(chapter)[0]}/{chapter}/exercises\").resolve()\n",
    "section_dir = exercises_dir / \"part3_ppo\"\n",
    "if str(exercises_dir) not in sys.path: sys.path.append(str(exercises_dir))\n",
    "\n",
    "from part1_intro_to_rl.utils import make_env\n",
    "from part2_dqn.utils import set_global_seeds\n",
    "from part2_dqn.solutions import Probe1, Probe2, Probe3, Probe4, Probe5\n",
    "import part3_ppo.utils as utils\n",
    "import part3_ppo.tests as tests\n",
    "from plotly_utils import plot_cartpole_obs_and_dones\n",
    "\n",
    "# Register our probes from last time\n",
    "for idx, probe in enumerate([Probe1, Probe2, Probe3, Probe4, Probe5]):\n",
    "    gym.envs.registration.register(id=f\"Probe{idx+1}-v0\", entry_point=probe)\n",
    "\n",
    "Arr = np.ndarray\n",
    "\n",
    "device = t.device(\"cuda\" if t.cuda.is_available() else \"cpu\")\n",
    "\n",
    "MAIN = __name__ == \"__main__\""
   ]
  },
  {
   "attachments": {},
   "cell_type": "markdown",
   "metadata": {},
   "source": [
    "Just like for DQN, we've provided you with a dataclass containing arguments for your train_ppo function. We've also given you a function from utils to display all these arguments (including which ones you've changed)."
   ]
  },
  {
   "cell_type": "code",
   "execution_count": 40,
   "metadata": {},
   "outputs": [
    {
     "data": {
      "text/html": [
       "<style type=\"text/css\">\n",
       "#T_845d0 td {\n",
       "  text-align: left;\n",
       "}\n",
       "#T_845d0 th {\n",
       "  text-align: left;\n",
       "}\n",
       "#T_845d0_row21_col0 {\n",
       "  background-color: red;\n",
       "}\n",
       "</style>\n",
       "<table id=\"T_845d0\">\n",
       "  <thead>\n",
       "    <tr>\n",
       "      <th class=\"blank level0\" >&nbsp;</th>\n",
       "      <th id=\"T_845d0_level0_col0\" class=\"col_heading level0 col0\" >default value</th>\n",
       "      <th id=\"T_845d0_level0_col1\" class=\"col_heading level0 col1\" >description</th>\n",
       "    </tr>\n",
       "    <tr>\n",
       "      <th class=\"index_name level0\" >arg</th>\n",
       "      <th class=\"blank col0\" >&nbsp;</th>\n",
       "      <th class=\"blank col1\" >&nbsp;</th>\n",
       "    </tr>\n",
       "  </thead>\n",
       "  <tbody>\n",
       "    <tr>\n",
       "      <th id=\"T_845d0_level0_row0\" class=\"row_heading level0 row0\" >exp_name</th>\n",
       "      <td id=\"T_845d0_row0_col0\" class=\"data row0 col0\" >'PPO_Implementation'</td>\n",
       "      <td id=\"T_845d0_row0_col1\" class=\"data row0 col1\" >the name of this experiment</td>\n",
       "    </tr>\n",
       "    <tr>\n",
       "      <th id=\"T_845d0_level0_row1\" class=\"row_heading level0 row1\" >seed</th>\n",
       "      <td id=\"T_845d0_row1_col0\" class=\"data row1 col0\" >1</td>\n",
       "      <td id=\"T_845d0_row1_col1\" class=\"data row1 col1\" >seed of the experiment</td>\n",
       "    </tr>\n",
       "    <tr>\n",
       "      <th id=\"T_845d0_level0_row2\" class=\"row_heading level0 row2\" >cuda</th>\n",
       "      <td id=\"T_845d0_row2_col0\" class=\"data row2 col0\" >True</td>\n",
       "      <td id=\"T_845d0_row2_col1\" class=\"data row2 col1\" >if toggled, cuda will be enabled by default</td>\n",
       "    </tr>\n",
       "    <tr>\n",
       "      <th id=\"T_845d0_level0_row3\" class=\"row_heading level0 row3\" >log_dir</th>\n",
       "      <td id=\"T_845d0_row3_col0\" class=\"data row3 col0\" >'logs'</td>\n",
       "      <td id=\"T_845d0_row3_col1\" class=\"data row3 col1\" >the directory where the logs will be stored</td>\n",
       "    </tr>\n",
       "    <tr>\n",
       "      <th id=\"T_845d0_level0_row4\" class=\"row_heading level0 row4\" >use_wandb</th>\n",
       "      <td id=\"T_845d0_row4_col0\" class=\"data row4 col0\" >False</td>\n",
       "      <td id=\"T_845d0_row4_col1\" class=\"data row4 col1\" >if toggled, this experiment will be tracked with Weights and Biases</td>\n",
       "    </tr>\n",
       "    <tr>\n",
       "      <th id=\"T_845d0_level0_row5\" class=\"row_heading level0 row5\" >wandb_project_name</th>\n",
       "      <td id=\"T_845d0_row5_col0\" class=\"data row5 col0\" >'PPOCart'</td>\n",
       "      <td id=\"T_845d0_row5_col1\" class=\"data row5 col1\" >the wandb's project name</td>\n",
       "    </tr>\n",
       "    <tr>\n",
       "      <th id=\"T_845d0_level0_row6\" class=\"row_heading level0 row6\" >wandb_entity</th>\n",
       "      <td id=\"T_845d0_row6_col0\" class=\"data row6 col0\" >None</td>\n",
       "      <td id=\"T_845d0_row6_col1\" class=\"data row6 col1\" >the entity (team) of wandb's project</td>\n",
       "    </tr>\n",
       "    <tr>\n",
       "      <th id=\"T_845d0_level0_row7\" class=\"row_heading level0 row7\" >capture_video</th>\n",
       "      <td id=\"T_845d0_row7_col0\" class=\"data row7 col0\" >True</td>\n",
       "      <td id=\"T_845d0_row7_col1\" class=\"data row7 col1\" >whether to capture videos of the agent performances (check out `videos` folder)</td>\n",
       "    </tr>\n",
       "    <tr>\n",
       "      <th id=\"T_845d0_level0_row8\" class=\"row_heading level0 row8\" >env_id</th>\n",
       "      <td id=\"T_845d0_row8_col0\" class=\"data row8 col0\" >'CartPole-v1'</td>\n",
       "      <td id=\"T_845d0_row8_col1\" class=\"data row8 col1\" >the id of the environment</td>\n",
       "    </tr>\n",
       "    <tr>\n",
       "      <th id=\"T_845d0_level0_row9\" class=\"row_heading level0 row9\" >total_timesteps</th>\n",
       "      <td id=\"T_845d0_row9_col0\" class=\"data row9 col0\" >500000</td>\n",
       "      <td id=\"T_845d0_row9_col1\" class=\"data row9 col1\" >total timesteps of the experiments</td>\n",
       "    </tr>\n",
       "    <tr>\n",
       "      <th id=\"T_845d0_level0_row10\" class=\"row_heading level0 row10\" >learning_rate</th>\n",
       "      <td id=\"T_845d0_row10_col0\" class=\"data row10 col0\" >0.00025</td>\n",
       "      <td id=\"T_845d0_row10_col1\" class=\"data row10 col1\" >the learning rate of the optimizer</td>\n",
       "    </tr>\n",
       "    <tr>\n",
       "      <th id=\"T_845d0_level0_row11\" class=\"row_heading level0 row11\" >num_envs</th>\n",
       "      <td id=\"T_845d0_row11_col0\" class=\"data row11 col0\" >4</td>\n",
       "      <td id=\"T_845d0_row11_col1\" class=\"data row11 col1\" >number of synchronized vector environments in our `envs` object</td>\n",
       "    </tr>\n",
       "    <tr>\n",
       "      <th id=\"T_845d0_level0_row12\" class=\"row_heading level0 row12\" >num_steps</th>\n",
       "      <td id=\"T_845d0_row12_col0\" class=\"data row12 col0\" >128</td>\n",
       "      <td id=\"T_845d0_row12_col1\" class=\"data row12 col1\" >number of steps taken in the rollout phase</td>\n",
       "    </tr>\n",
       "    <tr>\n",
       "      <th id=\"T_845d0_level0_row13\" class=\"row_heading level0 row13\" >gamma</th>\n",
       "      <td id=\"T_845d0_row13_col0\" class=\"data row13 col0\" >0.99</td>\n",
       "      <td id=\"T_845d0_row13_col1\" class=\"data row13 col1\" >the discount factor gamma</td>\n",
       "    </tr>\n",
       "    <tr>\n",
       "      <th id=\"T_845d0_level0_row14\" class=\"row_heading level0 row14\" >gae_lambda</th>\n",
       "      <td id=\"T_845d0_row14_col0\" class=\"data row14 col0\" >0.95</td>\n",
       "      <td id=\"T_845d0_row14_col1\" class=\"data row14 col1\" >the discount factor used in our GAE estimation</td>\n",
       "    </tr>\n",
       "    <tr>\n",
       "      <th id=\"T_845d0_level0_row15\" class=\"row_heading level0 row15\" >batches_per_epoch</th>\n",
       "      <td id=\"T_845d0_row15_col0\" class=\"data row15 col0\" >4</td>\n",
       "      <td id=\"T_845d0_row15_col1\" class=\"data row15 col1\" >how many times you loop through the data generated in rollout</td>\n",
       "    </tr>\n",
       "    <tr>\n",
       "      <th id=\"T_845d0_level0_row16\" class=\"row_heading level0 row16\" >clip_coef</th>\n",
       "      <td id=\"T_845d0_row16_col0\" class=\"data row16 col0\" >0.2</td>\n",
       "      <td id=\"T_845d0_row16_col1\" class=\"data row16 col1\" >the epsilon term used in the clipped surrogate objective function</td>\n",
       "    </tr>\n",
       "    <tr>\n",
       "      <th id=\"T_845d0_level0_row17\" class=\"row_heading level0 row17\" >ent_coef</th>\n",
       "      <td id=\"T_845d0_row17_col0\" class=\"data row17 col0\" >0.01</td>\n",
       "      <td id=\"T_845d0_row17_col1\" class=\"data row17 col1\" >coefficient of entropy bonus term</td>\n",
       "    </tr>\n",
       "    <tr>\n",
       "      <th id=\"T_845d0_level0_row18\" class=\"row_heading level0 row18\" >vf_coef</th>\n",
       "      <td id=\"T_845d0_row18_col0\" class=\"data row18 col0\" >0.5</td>\n",
       "      <td id=\"T_845d0_row18_col1\" class=\"data row18 col1\" >cofficient of value loss function</td>\n",
       "    </tr>\n",
       "    <tr>\n",
       "      <th id=\"T_845d0_level0_row19\" class=\"row_heading level0 row19\" >max_grad_norm</th>\n",
       "      <td id=\"T_845d0_row19_col0\" class=\"data row19 col0\" >0.5</td>\n",
       "      <td id=\"T_845d0_row19_col1\" class=\"data row19 col1\" >value used in gradient clipping</td>\n",
       "    </tr>\n",
       "    <tr>\n",
       "      <th id=\"T_845d0_level0_row20\" class=\"row_heading level0 row20\" >batch_size</th>\n",
       "      <td id=\"T_845d0_row20_col0\" class=\"data row20 col0\" >512</td>\n",
       "      <td id=\"T_845d0_row20_col1\" class=\"data row20 col1\" >number of random samples we take from the rollout data</td>\n",
       "    </tr>\n",
       "    <tr>\n",
       "      <th id=\"T_845d0_level0_row21\" class=\"row_heading level0 row21\" >minibatch_size</th>\n",
       "      <td id=\"T_845d0_row21_col0\" class=\"data row21 col0\" >256</td>\n",
       "      <td id=\"T_845d0_row21_col1\" class=\"data row21 col1\" >size of each minibatch we perform a gradient step on</td>\n",
       "    </tr>\n",
       "  </tbody>\n",
       "</table>\n"
      ],
      "text/plain": [
       "<pandas.io.formats.style.Styler at 0x7fd9304105b0>"
      ]
     },
     "metadata": {},
     "output_type": "display_data"
    }
   ],
   "source": [
    "@dataclass\n",
    "class PPOArgs:\n",
    "    exp_name: str = \"PPO_Implementation\"\n",
    "    seed: int = 1\n",
    "    cuda: bool = t.cuda.is_available()\n",
    "    log_dir: str = \"logs\"\n",
    "    use_wandb: bool = False\n",
    "    wandb_project_name: str = \"PPOCart\"\n",
    "    wandb_entity: str = None\n",
    "    capture_video: bool = True\n",
    "    env_id: str = \"CartPole-v1\"\n",
    "    total_timesteps: int = 500000\n",
    "    learning_rate: float = 0.00025\n",
    "    num_envs: int = 4\n",
    "    num_steps: int = 128\n",
    "    gamma: float = 0.99\n",
    "    gae_lambda: float = 0.95\n",
    "    num_minibatches: int = 4\n",
    "    batches_per_epoch: int = 4\n",
    "    clip_coef: float = 0.2\n",
    "    ent_coef: float = 0.01\n",
    "    vf_coef: float = 0.5\n",
    "    max_grad_norm: float = 0.5\n",
    "    batch_size: int = 512\n",
    "    minibatch_size: int = 128\n",
    "\n",
    "    def __post_init__(self):\n",
    "        assert self.batch_size % self.minibatch_size == 0, \"batch_size must be divisible by minibatch_size\"\n",
    "        self.total_epochs = self.total_timesteps // (self.num_steps * self.num_envs)\n",
    "        self.total_training_steps = self.total_epochs * self.batches_per_epoch * (self.batch_size // self.minibatch_size)\n",
    "\n",
    "\n",
    "\n",
    "args = PPOArgs(minibatch_size=256)\n",
    "utils.arg_help(args)"
   ]
  },
  {
   "cell_type": "code",
   "execution_count": null,
   "metadata": {},
   "outputs": [],
   "source": []
  },
  {
   "cell_type": "code",
   "execution_count": 41,
   "metadata": {},
   "outputs": [
    {
     "name": "stdout",
     "output_type": "stream",
     "text": [
      "All tests in `test_agent` passed!\n"
     ]
    }
   ],
   "source": [
    "def layer_init(layer: nn.Linear, std=np.sqrt(2), bias_const=0.0):\n",
    "    t.nn.init.orthogonal_(layer.weight, std)\n",
    "    t.nn.init.constant_(layer.bias, bias_const)\n",
    "    return layer\n",
    "\n",
    "\n",
    "def get_actor_and_critic(envs: gym.vector.SyncVectorEnv) -> Tuple[nn.Module, nn.Module]:\n",
    "    '''\n",
    "    Returns (actor, critic), the networks used for PPO.\n",
    "    '''\n",
    "    obs_shape = envs.single_observation_space.shape # shape of a single observation\n",
    "    num_obs = np.array(obs_shape).prod() # num of observations\n",
    "    num_actions = envs.single_action_space.n # num of actions\n",
    "\n",
    "    actor = nn.Sequential(\n",
    "        layer_init(nn.Linear(num_obs, 64)),\n",
    "        nn.Tanh(),\n",
    "        layer_init(nn.Linear(64, 64)),\n",
    "        nn.Tanh(),\n",
    "        layer_init(nn.Linear(64, num_actions), std = 0.01)   \n",
    "    ).to(device)\n",
    "\n",
    "    critic = nn.Sequential(\n",
    "        layer_init(nn.Linear(num_obs, 64)),\n",
    "        nn.Tanh(),\n",
    "        layer_init(nn.Linear(64, 64)),\n",
    "        nn.Tanh(),\n",
    "        layer_init(nn.Linear(64, 1), std = 1)\n",
    "    ).to(device)\n",
    "\n",
    "    return actor, critic\n",
    "\n",
    "\n",
    "tests.test_get_actor_and_critic(get_actor_and_critic)"
   ]
  },
  {
   "cell_type": "code",
   "execution_count": 42,
   "metadata": {},
   "outputs": [
    {
     "name": "stdout",
     "output_type": "stream",
     "text": [
      "Testing with all dones=False, single environment ... \n",
      "tensor([[ 1.4543],\n",
      "        [-1.1223],\n",
      "        [ 0.1097],\n",
      "        [ 1.4587],\n",
      "        [ 2.7030]])\n",
      "tensor([[ 1.4543],\n",
      "        [-1.1223],\n",
      "        [ 0.1097],\n",
      "        [ 1.4587],\n",
      "        [ 2.7030]])\n",
      "Testing with all dones=False, multiple environments ... \n",
      "tensor([[ 0.1594, -0.3251, -0.2987,  1.1519,  2.0758,  0.7224,  1.2437, -2.4686,\n",
      "          0.5064, -0.0272,  2.2572,  3.3977],\n",
      "        [-0.0567, -2.4618,  1.8946,  0.2556,  2.4666,  2.8071,  1.1162, -2.2486,\n",
      "          0.4076, -1.8984,  2.2209,  1.7789],\n",
      "        [-0.7926, -0.1208,  2.5170, -0.8624,  0.7960,  2.6622, -2.1781, -1.8528,\n",
      "         -0.5893, -1.3040,  3.0947,  1.8433],\n",
      "        [ 1.3622, -1.0406,  0.3349, -0.3110,  3.3928, -0.4877,  1.7606, -1.3924,\n",
      "         -0.5113, -1.9005,  3.1233, -0.4753],\n",
      "        [ 0.0248,  1.1286, -0.2455, -1.2853, -0.8644, -1.1911,  0.1614, -0.5642,\n",
      "          3.0767,  1.3337, -1.3365, -1.5714]])\n",
      "tensor([[ 0.1594, -0.3251, -0.2987,  1.1519,  2.0758,  0.7224,  1.2437, -2.4686,\n",
      "          0.5064, -0.0272,  2.2572,  3.3977],\n",
      "        [-0.0567, -2.4618,  1.8946,  0.2556,  2.4666,  2.8071,  1.1162, -2.2486,\n",
      "          0.4076, -1.8984,  2.2209,  1.7789],\n",
      "        [-0.7926, -0.1208,  2.5170, -0.8624,  0.7960,  2.6622, -2.1781, -1.8528,\n",
      "         -0.5893, -1.3040,  3.0947,  1.8433],\n",
      "        [ 1.3622, -1.0406,  0.3349, -0.3110,  3.3928, -0.4877,  1.7606, -1.3924,\n",
      "         -0.5113, -1.9005,  3.1233, -0.4753],\n",
      "        [ 0.0248,  1.1286, -0.2455, -1.2853, -0.8644, -1.1911,  0.1614, -0.5642,\n",
      "          3.0767,  1.3337, -1.3365, -1.5714]])\n",
      "Testing with episode termination, single environment ... \n",
      "tensor([[-0.2082],\n",
      "        [-2.1224],\n",
      "        [-2.7726],\n",
      "        [-2.9664],\n",
      "        [-0.8839]])\n",
      "tensor([[-0.2082],\n",
      "        [-2.1224],\n",
      "        [-2.7726],\n",
      "        [-2.9664],\n",
      "        [-0.8839]])\n",
      "Testing with episode termination, multiple environments ... \n",
      "tensor([[-0.8538,  0.9168, -1.8355,  0.2451, -0.7203,  2.1356,  0.9442, -1.0035,\n",
      "         -1.0534,  2.0000,  0.5270,  1.7709],\n",
      "        [ 1.4123,  1.2413, -3.4647,  0.8383, -2.0385,  0.1613, -0.8988, -1.7055,\n",
      "          1.5929,  0.0169,  0.7451,  1.2329],\n",
      "        [-1.1829,  0.3192,  0.9128,  0.1066, -0.4809,  0.5285, -0.7143, -1.3029,\n",
      "         -0.2169,  0.7521,  1.1373, -1.0306],\n",
      "        [ 1.9055, -2.4391,  2.5044,  4.0359,  1.6541, -3.2848,  1.2700,  0.6083,\n",
      "         -1.2567,  0.2703, -1.5219, -1.5942],\n",
      "        [ 2.4936, -0.0460,  0.3675, -0.7231, -0.6346, -0.4610,  0.5318,  1.8528,\n",
      "         -1.6638,  0.8481,  1.2969, -2.3153]])\n",
      "tensor([[-0.8538,  0.9168, -1.8355,  0.2451, -0.7203,  2.1356,  0.9442, -1.0035,\n",
      "         -1.0534,  2.0000,  0.5270,  1.7709],\n",
      "        [ 1.4123,  1.2413, -3.4647,  0.8383, -2.0385,  0.1613, -0.8988, -1.7055,\n",
      "          1.5929,  0.0169,  0.7451,  1.2329],\n",
      "        [-1.1829,  0.3192,  0.9128,  0.1066, -0.4809,  0.5285, -0.7143, -1.3029,\n",
      "         -0.2169,  0.7521,  1.1373, -1.0306],\n",
      "        [ 1.9055, -2.4391,  2.5044,  4.0359,  1.6541, -3.2848,  1.2700,  0.6083,\n",
      "         -1.2567,  0.2703, -1.5219, -1.5942],\n",
      "        [ 2.4936, -0.0460,  0.3675, -0.7231, -0.6346, -0.4610,  0.5318,  1.8528,\n",
      "         -1.6638,  0.8481,  1.2969, -2.3153]])\n",
      "All tests in `test_compute_advantages_single` passed!\n"
     ]
    }
   ],
   "source": [
    "@t.inference_mode()\n",
    "def compute_advantages( # you run this BEFORE sampling, once you've already finished envs\n",
    "    next_value: t.Tensor,\n",
    "    next_done: t.Tensor,\n",
    "    rewards: t.Tensor,\n",
    "    values: t.Tensor,\n",
    "    dones: t.Tensor,\n",
    "    gamma: float,\n",
    "    gae_lambda: float,\n",
    ") -> t.Tensor:\n",
    "    '''Compute advantages using Generalized Advantage Estimation.\n",
    "    next_value: shape (env,)\n",
    "    next_done: shape (env,)\n",
    "    rewards: shape (buffer_size, env)\n",
    "    values: shape (buffer_size, env)\n",
    "    dones: shape (buffer_size, env)\n",
    "    Return: shape (buffer_size, env)\n",
    "    '''\n",
    "    # buffer_size, env = dones.shape # env = the number of environments in parallel\n",
    "\n",
    "    # advantages = t.zeros(buffer_size, env)\n",
    "    # next_values = t.concat((values[1:], next_value.unsqueeze(dim=0)))\n",
    "    # next_dones = t.concat((dones[1:], next_done.unsqueeze(dim=0)))\n",
    "\n",
    "    # deltas = rewards + gamma * (next_values) * (1.0-next_dones) - values\n",
    "\n",
    "    # for i in range(buffer_size-1, -1, -1):\n",
    "    #     if i == buffer_size - 1:\n",
    "    #         advantages[i] = deltas[i]\n",
    "    #     else:\n",
    "    #         advantages[i] = deltas[i] + gamma * gae_lambda * (1-dones[i]) * advantages[i + 1]\n",
    "\n",
    "    # return advantages\n",
    "\n",
    "    # SOLUTION\n",
    "    T = values.shape[0]\n",
    "    next_values = t.concat([values[1:], next_value.unsqueeze(0)])\n",
    "    next_dones = t.concat([dones[1:], next_done.unsqueeze(0)])\n",
    "    deltas = rewards + gamma * next_values * (1.0 - next_dones) - values # TD-error.\n",
    "    advantages = t.zeros_like(deltas)\n",
    "    advantages[-1] = deltas[-1]\n",
    "    for s in reversed(range(1, T)):\n",
    "        advantages[s-1] = deltas[s-1] + gamma * gae_lambda * (1.0 - dones[s]) * advantages[s]\n",
    "    return advantages\n",
    "\n",
    "tests.test_compute_advantages(compute_advantages)"
   ]
  },
  {
   "cell_type": "code",
   "execution_count": 43,
   "metadata": {},
   "outputs": [
    {
     "name": "stdout",
     "output_type": "stream",
     "text": [
      "[0 1 2 3 4 5]\n",
      "All tests in `test_minibatch_indexes` passed!\n"
     ]
    }
   ],
   "source": [
    "def minibatch_indexes(rng: Generator, batch_size: int, minibatch_size: int) -> List[np.ndarray]:\n",
    "    '''\n",
    "    Return a list of length (batch_size // minibatch_size) where each element is an array of indexes into the batch.\n",
    "\n",
    "    Each index should appear exactly once.\n",
    "    '''\n",
    "    assert batch_size % minibatch_size == 0\n",
    "    num_minibatches = batch_size // minibatch_size\n",
    "    return rng.permutation(np.arange(batch_size)).reshape(num_minibatches, minibatch_size)\n",
    "\n",
    "rng = np.random.default_rng(0)\n",
    "batch_size = 6\n",
    "minibatch_size = 2\n",
    "indexes = minibatch_indexes(rng, batch_size, minibatch_size)\n",
    "\n",
    "assert np.array(indexes).shape == (batch_size // minibatch_size, minibatch_size)\n",
    "print(np.unique(indexes))\n",
    "assert sorted(np.unique(indexes)) == [0, 1, 2, 3, 4, 5]\n",
    "print(\"All tests in `test_minibatch_indexes` passed!\")"
   ]
  },
  {
   "cell_type": "code",
   "execution_count": 44,
   "metadata": {},
   "outputs": [],
   "source": [
    "@dataclass\n",
    "class ReplayBufferSamples:\n",
    "    '''\n",
    "    Samples from the replay buffer, converted to PyTorch for use in neural network training.\n",
    "    '''\n",
    "    obs: Float[Tensor, \"minibatch_size *obs_shape\"]\n",
    "    dones: Float[Tensor, \"minibatch_size\"]\n",
    "    actions: Int[Tensor, \"minibatch_size\"]\n",
    "    logprobs: Float[Tensor, \"minibatch_size\"]\n",
    "    values: Float[Tensor, \"minibatch_size\"]\n",
    "    advantages: Float[Tensor, \"minibatch_size\"]\n",
    "    returns: Float[Tensor, \"minibatch_size\"]\n",
    "\n",
    "\n",
    "class ReplayBuffer:\n",
    "    '''\n",
    "    Contains buffer; has a method to sample from it to return a ReplayBufferSamples object.\n",
    "\n",
    "    Needs to be initialized with the first obs, dones and values.\n",
    "    '''\n",
    "    def __init__(self, args: PPOArgs, envs: gym.vector.SyncVectorEnv):\n",
    "        '''Defining all the attributes the buffer's methods will need to access.'''\n",
    "        self.rng = np.random.default_rng(args.seed)\n",
    "        self.num_envs = envs.num_envs\n",
    "        self.obs_shape = envs.single_observation_space.shape\n",
    "        self.gamma = args.gamma\n",
    "        self.gae_lambda = args.gae_lambda\n",
    "        self.batch_size = args.batch_size\n",
    "        self.minibatch_size = args.minibatch_size\n",
    "        self.num_steps = args.num_steps\n",
    "        self.batches_per_epoch = args.batches_per_epoch\n",
    "        self.experiences = []\n",
    "\n",
    "\n",
    "    def add(self, obs: Arr, actions: Arr, rewards: Arr, dones: Arr, logprobs: Arr, values: Arr) -> None:\n",
    "        '''\n",
    "        obs: shape (n_envs, *observation_shape) \n",
    "            Observation before the action\n",
    "        actions: shape (n_envs,) \n",
    "            Action chosen by the agent\n",
    "        rewards: shape (n_envs,) \n",
    "            Reward after the action\n",
    "        dones: shape (n_envs,) \n",
    "            If True, the episode ended and was reset automatically\n",
    "        logprobs: shape (n_envs,)\n",
    "            Log probability of the action that was taken (according to old policy)\n",
    "        values: shape (n_envs,)\n",
    "            Values, estimated by the critic (according to old policy)\n",
    "        '''\n",
    "        assert obs.shape == (self.num_envs, *self.obs_shape)\n",
    "        assert actions.shape == (self.num_envs,)\n",
    "        assert rewards.shape == (self.num_envs,)\n",
    "        assert dones.shape == (self.num_envs,)\n",
    "        assert logprobs.shape == (self.num_envs,)\n",
    "        assert values.shape == (self.num_envs,)\n",
    "\n",
    "        self.experiences.append((obs, dones, actions, logprobs, values, rewards))\n",
    "\n",
    "\n",
    "    def get_minibatches(self, next_value: t.Tensor, next_done: t.Tensor) -> List[ReplayBufferSamples]:\n",
    "\n",
    "        # The logic to compute advantages and returns is all contained in the get_minibatches method. You should read through this method and make sure you understand what's being computed and why.\n",
    "        \n",
    "        minibatches = []\n",
    "\n",
    "        # Turn all experiences to tensors on our device (we only want to do this once, not every time we add a new experience)\n",
    "        obs, dones, actions, logprobs, values, rewards = [t.stack(arr).to(device) for arr in zip(*self.experiences)]\n",
    "\n",
    "        # Compute advantages and returns (then get a list of everything we'll need for our replay buffer samples)\n",
    "        advantages = compute_advantages(next_value, next_done, rewards, values, dones.float(), self.gamma, self.gae_lambda)\n",
    "        returns = advantages + values\n",
    "        replaybuffer_args = [obs, dones, actions, logprobs, values, advantages, returns]\n",
    "\n",
    "        # We cycle through the entire buffer `self.batches_per_epoch` times\n",
    "        for _ in range(self.batches_per_epoch):\n",
    "\n",
    "            # Get random indices we'll use to generate our minibatches\n",
    "            indices = minibatch_indexes(self.rng, self.batch_size, self.minibatch_size)\n",
    "\n",
    "            # Get our new list of minibatches, and add them to the list\n",
    "            for index in indices:\n",
    "                minibatch = ReplayBufferSamples(*[\n",
    "                    arg.flatten(0, 1)[index].to(device) for arg in replaybuffer_args\n",
    "                ])\n",
    "                minibatches.append(minibatch)\n",
    "\n",
    "        # Reset the buffer\n",
    "        self.experiences = []\n",
    "\n",
    "        return minibatches"
   ]
  },
  {
   "cell_type": "code",
   "execution_count": 45,
   "metadata": {},
   "outputs": [
    {
     "data": {
      "application/vnd.plotly.v1+json": {
       "config": {
        "plotlyServerURL": "https://plot.ly"
       },
       "data": [
        {
         "marker": {
          "color": "#1F77B4"
         },
         "mode": "lines",
         "name": "posn",
         "type": "scatter",
         "xaxis": "x",
         "y": [
          0.031327024102211,
          0.032152533531188965,
          0.029072580859065056,
          0.022087056189775467,
          0.011194289661943913,
          -0.0036087208427488804,
          -0.022325892001390457,
          -0.04496141895651817,
          -0.07151889055967331,
          0.004362499341368675,
          0.00523264380171895,
          0.0021915831603109837,
          -0.004760379903018475,
          -0.015624419786036015,
          -0.03040298819541931,
          -0.04909941926598549,
          -0.0717172920703888,
          -0.09825956076383591,
          0.03574042767286301,
          0.03480760008096695,
          0.029965898022055626,
          0.0212155319750309,
          0.008555187843739986,
          -0.008017762564122677,
          -0.028506863862276077,
          -0.05291596055030823,
          -0.08124832063913345,
          0.036317892372608185,
          0.03640081360936165,
          0.03258715569972992,
          0.024876931682229042,
          0.013268427923321724,
          -0.002241607289761305,
          -0.021657617762684822,
          -0.04498469457030296,
          -0.07222782075405121,
          -0.10339082032442093,
          -0.047168031334877014,
          -0.047919467091560364,
          -0.0525781475007534,
          -0.06114412844181061,
          -0.07361898571252823,
          -0.09000559896230698,
          -0.1103077381849289,
          -0.13452939689159393,
          -0.16267389059066772,
          0.011538511142134666,
          0.011305865831673145,
          0.007157254498451948,
          -0.0009074481204152107,
          -0.012889678589999676,
          -0.02879190631210804,
          -0.048617132008075714,
          -0.07236813753843307,
          0.018554197624325752,
          0.01885511726140976,
          0.015248293988406658,
          0.007733821403235197,
          -0.003689745208248496,
          -0.0190251674503088,
          -0.03827612102031708,
          -0.06144656240940094,
          -0.08853985369205475,
          -0.03649035096168518,
          -0.036047372967004776,
          -0.039507560431957245,
          -0.04687080159783363,
          -0.05813860893249512,
          -0.07331392914056778,
          -0.09240074455738068,
          -0.11540351808071136,
          -0.14232635498046875,
          -0.001416464103385806,
          -0.0006374884396791458,
          -0.0037728464230895042,
          -0.01082239206880331,
          -0.02178736962378025,
          -0.036670178174972534,
          -0.0554739311337471,
          -0.0782017633318901,
          0.007152982987463474,
          0.006796721834689379,
          0.0025353424716740847,
          -0.00563105009496212,
          -0.017703939229249954,
          -0.03368619084358215,
          -0.05358166992664337,
          -0.07739461958408356,
          -0.10512885451316833,
          -0.010838099755346775,
          -0.010057550854980946,
          -0.013171407394111156,
          -0.020179789513349533,
          -0.031084567308425903,
          -0.045889172703027725,
          -0.06459823995828629,
          -0.0872170627117157,
          -0.1137508675456047,
          -0.14420372247695923,
          -0.04159846529364586,
          -0.04093317687511444,
          -0.044178321957588196,
          -0.0513337180018425,
          -0.06240066885948181,
          -0.07738174498081207,
          -0.09628038108348846,
          -0.11910023540258408,
          -0.14584428071975708,
          0.03764842450618744,
          0.03676556050777435,
          0.03198503330349922,
          0.02330702915787697,
          0.010730011388659477,
          -0.005749105010181665,
          -0.026134613901376724,
          -0.05043148621916771,
          -0.07864463329315186,
          -0.11077786982059479,
          -0.004966063424944878,
          -0.004373414907604456,
          -0.0076752775348722935,
          -0.01487141102552414,
          -0.025963345542550087,
          -0.04095422849059105,
          -0.05984848737716675,
          -0.08265135437250137,
          -0.10936813801527023,
          -0.1400032639503479,
          -0.018816854804754257,
          -0.018970202654600143,
          -0.023035073652863503,
          -0.031011365354061127,
          -0.04290042817592621,
          -0.058704834431409836,
          -0.07842795550823212,
          -0.10207328200340271,
          -0.1296435296535492,
          0.004959368612617254,
          0.004014486912637949,
          -0.0008399183861911297,
          -0.00960382167249918,
          -0.022278688848018646,
          -0.038867246359586716,
          -0.05937304347753525,
          -0.0837998241186142,
          -0.11215057224035263,
          -0.017026828601956367,
          -0.01644997112452984,
          -0.01976979896426201,
          -0.026986313983798027,
          -0.03810124471783638,
          -0.05311786010861397,
          -0.07204059511423111,
          -0.0948745533823967,
          -0.1216246709227562,
          -0.15229475498199463,
          -0.03659582883119583,
          -0.036789603531360626,
          -0.04087706655263901,
          -0.04885810986161232,
          -0.06073440983891487,
          -0.07650923728942871,
          -0.09618714451789856,
          -0.11977346241474152,
          -0.14727355539798737,
          -0.17869184911251068,
          0.025036467239260674,
          0.0245972853153944,
          0.02025608904659748,
          0.012012600898742676,
          -0.00013506771938409656,
          -0.016190188005566597,
          -0.03615698963403702,
          -0.06004003807902336,
          -0.08784336596727371,
          0.046165719628334045,
          0.046615298837423325,
          0.043161261826753616,
          0.035803742706775665,
          0.024541249498724937,
          0.009370876476168633,
          -0.009711327031254768,
          -0.03270977735519409,
          -0.05962851643562317,
          -0.03393479809165001,
          -0.03299494832754135,
          -0.03595799580216408,
          -0.04282372444868088,
          -0.05359354615211487,
          -0.06827033311128616,
          -0.08685804903507233,
          -0.1093611791729927,
          -0.13578392565250397,
          0.012348975986242294,
          0.012902341783046722,
          0.0095500648021698,
          0.0022919378243386745,
          -0.008873796090483665,
          -0.023950200527906418,
          -0.04294121265411377,
          -0.06585099548101425,
          -0.09268301725387573,
          -0.04604071378707886,
          -0.045983534306287766,
          -0.04982762411236763,
          -0.057572733610868454,
          -0.06922028213739395,
          -0.08477319031953812,
          -0.10423550009727478,
          -0.12761186063289642,
          -0.15490670502185822,
          -0.18612323701381683,
          0.014132817275822163,
          0.01483808271586895,
          0.011638267897069454,
          0.004533521831035614,
          -0.0064776018261909485,
          -0.021397940814495087,
          -0.04023133963346481,
          -0.06298206001520157,
          -0.08965393155813217,
          0.03398815169930458,
          0.03400714322924614,
          0.030123384669423103,
          0.02233673259615898,
          0.010645434260368347,
          -0.0049536521546542645,
          -0.024464653804898262,
          -0.04789206385612488,
          -0.0752398893237114,
          -0.03520779684185982,
          -0.03456854447722435,
          -0.03783688694238663,
          -0.0450129508972168,
          -0.056098368018865585,
          -0.07109605520963669,
          -0.09000977128744125,
          -0.11284344643354416,
          -0.13960029184818268,
          -0.03083837404847145,
          -0.03023364581167698,
          -0.033522237092256546,
          -0.04070392996072769,
          -0.05178029462695122,
          -0.06675451993942261,
          -0.0856311097741127,
          -0.1084154024720192,
          -0.13511283695697784,
          -0.16572801768779755,
          0.0355226956307888,
          0.03624526411294937,
          0.033055007457733154,
          0.025952009484171867,
          0.014934931881725788,
          0.0000012532238997664535,
          -0.018852287903428078,
          0.010010052472352982,
          0.010467173531651497,
          0.0070310779847204685,
          -0.0002979980781674385,
          -0.011521607637405396,
          -0.0266429353505373,
          -0.04566648229956627,
          -0.06859757751226425,
          -0.09544169157743454,
          -0.12620344758033752,
          -0.022503063082695007,
          -0.022188197821378708,
          -0.02577754482626915,
          -0.03327089920639992,
          -0.04466967284679413,
          -0.059976693242788315,
          -0.07919583469629288,
          -0.10233145952224731,
          -0.12938757240772247,
          -0.0067369211465120316,
          -0.006398326251655817,
          -0.009959938935935497,
          -0.017421850934624672,
          -0.028785811737179756,
          -0.0440550297498703,
          -0.06323377788066864,
          -0.08632682263851166,
          -0.11333857476711273,
          -0.14427202939987183,
          0.046743594110012054,
          0.04710972309112549,
          0.04357655718922615,
          0.03614426031708717,
          0.024811306968331337,
          0.009574655443429947,
          -0.009569904766976833,
          -0.032627202570438385,
          -0.05960191786289215,
          -0.09049753844738007,
          -0.015403933823108673,
          -0.01538180187344551,
          -0.019272878766059875,
          -0.02707722783088684,
          -0.03879630193114281,
          -0.054432690143585205,
          -0.07398965209722519,
          -0.09747041016817093,
          -0.018185339868068695,
          -0.017336906865239143,
          -0.02039007470011711,
          -0.02734496258199215,
          -0.038203317672014236,
          -0.05296831950545311,
          -0.07164414972066879,
          -0.09423543512821198,
          -0.12074637413024902,
          -0.0392792709171772,
          -0.04007018357515335,
          -0.04475473612546921,
          -0.05333322286605835,
          -0.06580768525600433,
          -0.08218169957399368,
          -0.10246003419160843,
          -0.12664808332920074,
          -0.15475107729434967,
          -0.18677309155464172,
          0.017981145530939102,
          0.01867961883544922,
          0.015471570193767548,
          0.008357074111700058,
          -0.0026653511449694633,
          -0.017598535865545273,
          -0.03644624724984169,
          -0.0592125840485096,
          -0.08590110391378403,
          0.0016578193753957748,
          0.001844706479460001,
          -0.0018808478489518166,
          -0.00951874814927578,
          -0.0210703294724226,
          -0.036538124084472656,
          -0.05592542514204979,
          -0.07923560589551926,
          -0.10647121071815491,
          0.039224009960889816,
          0.03945144638419151,
          0.03576730936765671,
          0.028171665966510773,
          0.01666312664747238,
          0.0012390902265906334,
          -0.018103817477822304,
          -0.041369080543518066,
          -0.06855935603380203,
          0.019251814112067223,
          0.01892986334860325,
          0.014704822562634945,
          0.00657685287296772,
          -0.005455510690808296,
          -0.02139517478644848,
          -0.04124611243605614,
          -0.06501278281211853,
          -0.09269934147596359,
          -0.03992963954806328,
          -0.04085243120789528,
          -0.04568333551287651,
          -0.054422296583652496,
          -0.06707078218460083,
          -0.08363155275583267,
          -0.10410826653242111,
          -0.12850484251976013,
          -0.15682454407215118,
          0.03977341577410698,
          0.0404437817633152,
          0.03721504285931587,
          0.03008689358830452,
          0.01905737817287445,
          0.004123091697692871,
          -0.014720401726663113,
          -0.03747797757387161,
          -0.06415410339832306,
          0.009206200949847698,
          0.009737967513501644,
          0.006369981449097395,
          -0.0008975927485153079,
          -0.012066278606653214,
          -0.027139106765389442,
          -0.046120259910821915,
          -0.0690145269036293,
          -0.040587134659290314,
          -0.04072088375687599,
          -0.044756464660167694,
          -0.0526936911046505,
          -0.0645340234041214,
          -0.08028040081262589,
          -0.09993685781955719,
          -0.12350797653198242,
          -0.15099811553955078,
          -0.18241028487682343,
          0.023457715287804604,
          0.022685058414936066,
          0.01801311783492565,
          0.009441862814128399,
          -0.0030304156243801117,
          -0.019406909123063087,
          -0.039691925048828125,
          -0.06389030069112778,
          -0.09200664609670639,
          -0.12404419481754303,
          -0.0069371978752315044,
          -0.006763600744307041,
          -0.010499099269509315,
          -0.01814388483762741,
          -0.029699629172682762,
          -0.04516921564936638,
          -0.0645563080906868,
          -0.08786462992429733,
          -0.1150970533490181,
          -0.021579883992671967,
          -0.02128278836607933,
          -0.02489365078508854,
          -0.0324123241007328,
          -0.0438401997089386,
          -0.05917999893426895,
          -0.07843535393476486,
          -0.1016102135181427,
          -0.12870794534683228,
          -0.04985099285840988,
          -0.04890407249331474,
          -0.05185369402170181,
          -0.058699775487184525,
          -0.0694439709186554,
          -0.08408947288990021,
          -0.10264070332050323,
          -0.12510274350643158,
          -0.15148061513900757,
          -0.181778222322464,
          0.03917110711336136,
          0.039341431111097336,
          0.0356101468205452,
          0.027977081015706062,
          0.01644044741988182,
          0.0009970430983230472,
          -0.018357345834374428,
          -0.04162733629345894,
          -0.06881709396839142,
          -0.04696539789438248,
          -0.04655146971344948,
          -0.05003632605075836,
          -0.05741974711418152,
          -0.06870321184396744,
          -0.08388973772525787,
          -0.10298354178667068,
          -0.12598948180675507,
          -0.15291233360767365,
          -0.1837557554244995,
          0.016050007194280624,
          0.01691293530166149,
          0.013882061466574669,
          0.0069572580978274345,
          -0.003863361431285739,
          -0.018583251163363457,
          -0.03720708563923836,
          -0.05974021553993225,
          -0.0861879289150238,
          -0.11655441671609879,
          -0.020183691754937172,
          -0.019700177013874054,
          -0.023125331848859787,
          -0.030458969995379448,
          -0.041702426970005035,
          -0.0568583644926548,
          -0.07593034207820892,
          -0.0989222303032875,
          -0.1258373111486435,
          0.03298868611454964,
          0.033303990960121155,
          0.029711710289120674,
          0.0222117081284523,
          0.010802331380546093,
          -0.004519347101449966,
          -0.02375708892941475,
          -0.046914830803871155,
          -0.07399577647447586,
          -0.007142709568142891,
          -0.006625298876315355,
          -0.01002076081931591,
          -0.017328837886452675,
          -0.028550703078508377,
          -0.043688759207725525,
          -0.06274621188640594,
          -0.08572643995285034,
          -0.11263205111026764,
          0.03497683256864548,
          0.03476468846201897,
          0.030650688335299492,
          0.02263503335416317,
          0.010716266930103302,
          -0.00510853435844183,
          -0.024843407794833183,
          -0.04849293828010559,
          -0.07606147229671478,
          -0.10755203664302826,
          0.019842633977532387,
          0.01942659169435501,
          0.015097868628799915,
          0.006856641266494989,
          -0.005298348143696785,
          -0.02136956714093685,
          -0.04136026278138161,
          -0.06527380645275116,
          -0.0931127741932869,
          0.00618097186088562,
          0.005980284418910742,
          0.001873956061899662,
          -0.006137828342616558,
          -0.018056469038128853
         ],
         "yaxis": "y"
        },
        {
         "marker": {
          "color": "#1F77B4"
         },
         "mode": "lines",
         "name": "posn_min",
         "type": "scatter",
         "xaxis": "x",
         "y": [
          -2.4000000953674316,
          -2.4000000953674316,
          -2.4000000953674316,
          -2.4000000953674316,
          -2.4000000953674316,
          -2.4000000953674316,
          -2.4000000953674316,
          -2.4000000953674316,
          -2.4000000953674316,
          -2.4000000953674316,
          -2.4000000953674316,
          -2.4000000953674316,
          -2.4000000953674316,
          -2.4000000953674316,
          -2.4000000953674316,
          -2.4000000953674316,
          -2.4000000953674316,
          -2.4000000953674316,
          -2.4000000953674316,
          -2.4000000953674316,
          -2.4000000953674316,
          -2.4000000953674316,
          -2.4000000953674316,
          -2.4000000953674316,
          -2.4000000953674316,
          -2.4000000953674316,
          -2.4000000953674316,
          -2.4000000953674316,
          -2.4000000953674316,
          -2.4000000953674316,
          -2.4000000953674316,
          -2.4000000953674316,
          -2.4000000953674316,
          -2.4000000953674316,
          -2.4000000953674316,
          -2.4000000953674316,
          -2.4000000953674316,
          -2.4000000953674316,
          -2.4000000953674316,
          -2.4000000953674316,
          -2.4000000953674316,
          -2.4000000953674316,
          -2.4000000953674316,
          -2.4000000953674316,
          -2.4000000953674316,
          -2.4000000953674316,
          -2.4000000953674316,
          -2.4000000953674316,
          -2.4000000953674316,
          -2.4000000953674316,
          -2.4000000953674316,
          -2.4000000953674316,
          -2.4000000953674316,
          -2.4000000953674316,
          -2.4000000953674316,
          -2.4000000953674316,
          -2.4000000953674316,
          -2.4000000953674316,
          -2.4000000953674316,
          -2.4000000953674316,
          -2.4000000953674316,
          -2.4000000953674316,
          -2.4000000953674316,
          -2.4000000953674316,
          -2.4000000953674316,
          -2.4000000953674316,
          -2.4000000953674316,
          -2.4000000953674316,
          -2.4000000953674316,
          -2.4000000953674316,
          -2.4000000953674316,
          -2.4000000953674316,
          -2.4000000953674316,
          -2.4000000953674316,
          -2.4000000953674316,
          -2.4000000953674316,
          -2.4000000953674316,
          -2.4000000953674316,
          -2.4000000953674316,
          -2.4000000953674316,
          -2.4000000953674316,
          -2.4000000953674316,
          -2.4000000953674316,
          -2.4000000953674316,
          -2.4000000953674316,
          -2.4000000953674316,
          -2.4000000953674316,
          -2.4000000953674316,
          -2.4000000953674316,
          -2.4000000953674316,
          -2.4000000953674316,
          -2.4000000953674316,
          -2.4000000953674316,
          -2.4000000953674316,
          -2.4000000953674316,
          -2.4000000953674316,
          -2.4000000953674316,
          -2.4000000953674316,
          -2.4000000953674316,
          -2.4000000953674316,
          -2.4000000953674316,
          -2.4000000953674316,
          -2.4000000953674316,
          -2.4000000953674316,
          -2.4000000953674316,
          -2.4000000953674316,
          -2.4000000953674316,
          -2.4000000953674316,
          -2.4000000953674316,
          -2.4000000953674316,
          -2.4000000953674316,
          -2.4000000953674316,
          -2.4000000953674316,
          -2.4000000953674316,
          -2.4000000953674316,
          -2.4000000953674316,
          -2.4000000953674316,
          -2.4000000953674316,
          -2.4000000953674316,
          -2.4000000953674316,
          -2.4000000953674316,
          -2.4000000953674316,
          -2.4000000953674316,
          -2.4000000953674316,
          -2.4000000953674316,
          -2.4000000953674316,
          -2.4000000953674316,
          -2.4000000953674316,
          -2.4000000953674316,
          -2.4000000953674316,
          -2.4000000953674316,
          -2.4000000953674316,
          -2.4000000953674316,
          -2.4000000953674316,
          -2.4000000953674316,
          -2.4000000953674316,
          -2.4000000953674316,
          -2.4000000953674316,
          -2.4000000953674316,
          -2.4000000953674316,
          -2.4000000953674316,
          -2.4000000953674316,
          -2.4000000953674316,
          -2.4000000953674316,
          -2.4000000953674316,
          -2.4000000953674316,
          -2.4000000953674316,
          -2.4000000953674316,
          -2.4000000953674316,
          -2.4000000953674316,
          -2.4000000953674316,
          -2.4000000953674316,
          -2.4000000953674316,
          -2.4000000953674316,
          -2.4000000953674316,
          -2.4000000953674316,
          -2.4000000953674316,
          -2.4000000953674316,
          -2.4000000953674316,
          -2.4000000953674316,
          -2.4000000953674316,
          -2.4000000953674316,
          -2.4000000953674316,
          -2.4000000953674316,
          -2.4000000953674316,
          -2.4000000953674316,
          -2.4000000953674316,
          -2.4000000953674316,
          -2.4000000953674316,
          -2.4000000953674316,
          -2.4000000953674316,
          -2.4000000953674316,
          -2.4000000953674316,
          -2.4000000953674316,
          -2.4000000953674316,
          -2.4000000953674316,
          -2.4000000953674316,
          -2.4000000953674316,
          -2.4000000953674316,
          -2.4000000953674316,
          -2.4000000953674316,
          -2.4000000953674316,
          -2.4000000953674316,
          -2.4000000953674316,
          -2.4000000953674316,
          -2.4000000953674316,
          -2.4000000953674316,
          -2.4000000953674316,
          -2.4000000953674316,
          -2.4000000953674316,
          -2.4000000953674316,
          -2.4000000953674316,
          -2.4000000953674316,
          -2.4000000953674316,
          -2.4000000953674316,
          -2.4000000953674316,
          -2.4000000953674316,
          -2.4000000953674316,
          -2.4000000953674316,
          -2.4000000953674316,
          -2.4000000953674316,
          -2.4000000953674316,
          -2.4000000953674316,
          -2.4000000953674316,
          -2.4000000953674316,
          -2.4000000953674316,
          -2.4000000953674316,
          -2.4000000953674316,
          -2.4000000953674316,
          -2.4000000953674316,
          -2.4000000953674316,
          -2.4000000953674316,
          -2.4000000953674316,
          -2.4000000953674316,
          -2.4000000953674316,
          -2.4000000953674316,
          -2.4000000953674316,
          -2.4000000953674316,
          -2.4000000953674316,
          -2.4000000953674316,
          -2.4000000953674316,
          -2.4000000953674316,
          -2.4000000953674316,
          -2.4000000953674316,
          -2.4000000953674316,
          -2.4000000953674316,
          -2.4000000953674316,
          -2.4000000953674316,
          -2.4000000953674316,
          -2.4000000953674316,
          -2.4000000953674316,
          -2.4000000953674316,
          -2.4000000953674316,
          -2.4000000953674316,
          -2.4000000953674316,
          -2.4000000953674316,
          -2.4000000953674316,
          -2.4000000953674316,
          -2.4000000953674316,
          -2.4000000953674316,
          -2.4000000953674316,
          -2.4000000953674316,
          -2.4000000953674316,
          -2.4000000953674316,
          -2.4000000953674316,
          -2.4000000953674316,
          -2.4000000953674316,
          -2.4000000953674316,
          -2.4000000953674316,
          -2.4000000953674316,
          -2.4000000953674316,
          -2.4000000953674316,
          -2.4000000953674316,
          -2.4000000953674316,
          -2.4000000953674316,
          -2.4000000953674316,
          -2.4000000953674316,
          -2.4000000953674316,
          -2.4000000953674316,
          -2.4000000953674316,
          -2.4000000953674316,
          -2.4000000953674316,
          -2.4000000953674316,
          -2.4000000953674316,
          -2.4000000953674316,
          -2.4000000953674316,
          -2.4000000953674316,
          -2.4000000953674316,
          -2.4000000953674316,
          -2.4000000953674316,
          -2.4000000953674316,
          -2.4000000953674316,
          -2.4000000953674316,
          -2.4000000953674316,
          -2.4000000953674316,
          -2.4000000953674316,
          -2.4000000953674316,
          -2.4000000953674316,
          -2.4000000953674316,
          -2.4000000953674316,
          -2.4000000953674316,
          -2.4000000953674316,
          -2.4000000953674316,
          -2.4000000953674316,
          -2.4000000953674316,
          -2.4000000953674316,
          -2.4000000953674316,
          -2.4000000953674316,
          -2.4000000953674316,
          -2.4000000953674316,
          -2.4000000953674316,
          -2.4000000953674316,
          -2.4000000953674316,
          -2.4000000953674316,
          -2.4000000953674316,
          -2.4000000953674316,
          -2.4000000953674316,
          -2.4000000953674316,
          -2.4000000953674316,
          -2.4000000953674316,
          -2.4000000953674316,
          -2.4000000953674316,
          -2.4000000953674316,
          -2.4000000953674316,
          -2.4000000953674316,
          -2.4000000953674316,
          -2.4000000953674316,
          -2.4000000953674316,
          -2.4000000953674316,
          -2.4000000953674316,
          -2.4000000953674316,
          -2.4000000953674316,
          -2.4000000953674316,
          -2.4000000953674316,
          -2.4000000953674316,
          -2.4000000953674316,
          -2.4000000953674316,
          -2.4000000953674316,
          -2.4000000953674316,
          -2.4000000953674316,
          -2.4000000953674316,
          -2.4000000953674316,
          -2.4000000953674316,
          -2.4000000953674316,
          -2.4000000953674316,
          -2.4000000953674316,
          -2.4000000953674316,
          -2.4000000953674316,
          -2.4000000953674316,
          -2.4000000953674316,
          -2.4000000953674316,
          -2.4000000953674316,
          -2.4000000953674316,
          -2.4000000953674316,
          -2.4000000953674316,
          -2.4000000953674316,
          -2.4000000953674316,
          -2.4000000953674316,
          -2.4000000953674316,
          -2.4000000953674316,
          -2.4000000953674316,
          -2.4000000953674316,
          -2.4000000953674316,
          -2.4000000953674316,
          -2.4000000953674316,
          -2.4000000953674316,
          -2.4000000953674316,
          -2.4000000953674316,
          -2.4000000953674316,
          -2.4000000953674316,
          -2.4000000953674316,
          -2.4000000953674316,
          -2.4000000953674316,
          -2.4000000953674316,
          -2.4000000953674316,
          -2.4000000953674316,
          -2.4000000953674316,
          -2.4000000953674316,
          -2.4000000953674316,
          -2.4000000953674316,
          -2.4000000953674316,
          -2.4000000953674316,
          -2.4000000953674316,
          -2.4000000953674316,
          -2.4000000953674316,
          -2.4000000953674316,
          -2.4000000953674316,
          -2.4000000953674316,
          -2.4000000953674316,
          -2.4000000953674316,
          -2.4000000953674316,
          -2.4000000953674316,
          -2.4000000953674316,
          -2.4000000953674316,
          -2.4000000953674316,
          -2.4000000953674316,
          -2.4000000953674316,
          -2.4000000953674316,
          -2.4000000953674316,
          -2.4000000953674316,
          -2.4000000953674316,
          -2.4000000953674316,
          -2.4000000953674316,
          -2.4000000953674316,
          -2.4000000953674316,
          -2.4000000953674316,
          -2.4000000953674316,
          -2.4000000953674316,
          -2.4000000953674316,
          -2.4000000953674316,
          -2.4000000953674316,
          -2.4000000953674316,
          -2.4000000953674316,
          -2.4000000953674316,
          -2.4000000953674316,
          -2.4000000953674316,
          -2.4000000953674316,
          -2.4000000953674316,
          -2.4000000953674316,
          -2.4000000953674316,
          -2.4000000953674316,
          -2.4000000953674316,
          -2.4000000953674316,
          -2.4000000953674316,
          -2.4000000953674316,
          -2.4000000953674316,
          -2.4000000953674316,
          -2.4000000953674316,
          -2.4000000953674316,
          -2.4000000953674316,
          -2.4000000953674316,
          -2.4000000953674316,
          -2.4000000953674316,
          -2.4000000953674316,
          -2.4000000953674316,
          -2.4000000953674316,
          -2.4000000953674316,
          -2.4000000953674316,
          -2.4000000953674316,
          -2.4000000953674316,
          -2.4000000953674316,
          -2.4000000953674316,
          -2.4000000953674316,
          -2.4000000953674316,
          -2.4000000953674316,
          -2.4000000953674316,
          -2.4000000953674316,
          -2.4000000953674316,
          -2.4000000953674316,
          -2.4000000953674316,
          -2.4000000953674316,
          -2.4000000953674316,
          -2.4000000953674316,
          -2.4000000953674316,
          -2.4000000953674316,
          -2.4000000953674316,
          -2.4000000953674316,
          -2.4000000953674316,
          -2.4000000953674316,
          -2.4000000953674316,
          -2.4000000953674316,
          -2.4000000953674316,
          -2.4000000953674316,
          -2.4000000953674316,
          -2.4000000953674316,
          -2.4000000953674316,
          -2.4000000953674316,
          -2.4000000953674316,
          -2.4000000953674316,
          -2.4000000953674316,
          -2.4000000953674316,
          -2.4000000953674316,
          -2.4000000953674316,
          -2.4000000953674316,
          -2.4000000953674316,
          -2.4000000953674316,
          -2.4000000953674316,
          -2.4000000953674316,
          -2.4000000953674316,
          -2.4000000953674316,
          -2.4000000953674316,
          -2.4000000953674316,
          -2.4000000953674316,
          -2.4000000953674316,
          -2.4000000953674316,
          -2.4000000953674316,
          -2.4000000953674316,
          -2.4000000953674316,
          -2.4000000953674316,
          -2.4000000953674316,
          -2.4000000953674316,
          -2.4000000953674316,
          -2.4000000953674316,
          -2.4000000953674316,
          -2.4000000953674316,
          -2.4000000953674316,
          -2.4000000953674316,
          -2.4000000953674316,
          -2.4000000953674316,
          -2.4000000953674316,
          -2.4000000953674316,
          -2.4000000953674316,
          -2.4000000953674316,
          -2.4000000953674316,
          -2.4000000953674316,
          -2.4000000953674316,
          -2.4000000953674316,
          -2.4000000953674316,
          -2.4000000953674316,
          -2.4000000953674316,
          -2.4000000953674316,
          -2.4000000953674316,
          -2.4000000953674316,
          -2.4000000953674316,
          -2.4000000953674316,
          -2.4000000953674316,
          -2.4000000953674316,
          -2.4000000953674316,
          -2.4000000953674316,
          -2.4000000953674316,
          -2.4000000953674316,
          -2.4000000953674316,
          -2.4000000953674316,
          -2.4000000953674316,
          -2.4000000953674316,
          -2.4000000953674316,
          -2.4000000953674316,
          -2.4000000953674316,
          -2.4000000953674316,
          -2.4000000953674316,
          -2.4000000953674316,
          -2.4000000953674316
         ],
         "yaxis": "y"
        },
        {
         "marker": {
          "color": "#1F77B4"
         },
         "mode": "lines",
         "name": "posn_max",
         "type": "scatter",
         "xaxis": "x",
         "y": [
          2.4000000953674316,
          2.4000000953674316,
          2.4000000953674316,
          2.4000000953674316,
          2.4000000953674316,
          2.4000000953674316,
          2.4000000953674316,
          2.4000000953674316,
          2.4000000953674316,
          2.4000000953674316,
          2.4000000953674316,
          2.4000000953674316,
          2.4000000953674316,
          2.4000000953674316,
          2.4000000953674316,
          2.4000000953674316,
          2.4000000953674316,
          2.4000000953674316,
          2.4000000953674316,
          2.4000000953674316,
          2.4000000953674316,
          2.4000000953674316,
          2.4000000953674316,
          2.4000000953674316,
          2.4000000953674316,
          2.4000000953674316,
          2.4000000953674316,
          2.4000000953674316,
          2.4000000953674316,
          2.4000000953674316,
          2.4000000953674316,
          2.4000000953674316,
          2.4000000953674316,
          2.4000000953674316,
          2.4000000953674316,
          2.4000000953674316,
          2.4000000953674316,
          2.4000000953674316,
          2.4000000953674316,
          2.4000000953674316,
          2.4000000953674316,
          2.4000000953674316,
          2.4000000953674316,
          2.4000000953674316,
          2.4000000953674316,
          2.4000000953674316,
          2.4000000953674316,
          2.4000000953674316,
          2.4000000953674316,
          2.4000000953674316,
          2.4000000953674316,
          2.4000000953674316,
          2.4000000953674316,
          2.4000000953674316,
          2.4000000953674316,
          2.4000000953674316,
          2.4000000953674316,
          2.4000000953674316,
          2.4000000953674316,
          2.4000000953674316,
          2.4000000953674316,
          2.4000000953674316,
          2.4000000953674316,
          2.4000000953674316,
          2.4000000953674316,
          2.4000000953674316,
          2.4000000953674316,
          2.4000000953674316,
          2.4000000953674316,
          2.4000000953674316,
          2.4000000953674316,
          2.4000000953674316,
          2.4000000953674316,
          2.4000000953674316,
          2.4000000953674316,
          2.4000000953674316,
          2.4000000953674316,
          2.4000000953674316,
          2.4000000953674316,
          2.4000000953674316,
          2.4000000953674316,
          2.4000000953674316,
          2.4000000953674316,
          2.4000000953674316,
          2.4000000953674316,
          2.4000000953674316,
          2.4000000953674316,
          2.4000000953674316,
          2.4000000953674316,
          2.4000000953674316,
          2.4000000953674316,
          2.4000000953674316,
          2.4000000953674316,
          2.4000000953674316,
          2.4000000953674316,
          2.4000000953674316,
          2.4000000953674316,
          2.4000000953674316,
          2.4000000953674316,
          2.4000000953674316,
          2.4000000953674316,
          2.4000000953674316,
          2.4000000953674316,
          2.4000000953674316,
          2.4000000953674316,
          2.4000000953674316,
          2.4000000953674316,
          2.4000000953674316,
          2.4000000953674316,
          2.4000000953674316,
          2.4000000953674316,
          2.4000000953674316,
          2.4000000953674316,
          2.4000000953674316,
          2.4000000953674316,
          2.4000000953674316,
          2.4000000953674316,
          2.4000000953674316,
          2.4000000953674316,
          2.4000000953674316,
          2.4000000953674316,
          2.4000000953674316,
          2.4000000953674316,
          2.4000000953674316,
          2.4000000953674316,
          2.4000000953674316,
          2.4000000953674316,
          2.4000000953674316,
          2.4000000953674316,
          2.4000000953674316,
          2.4000000953674316,
          2.4000000953674316,
          2.4000000953674316,
          2.4000000953674316,
          2.4000000953674316,
          2.4000000953674316,
          2.4000000953674316,
          2.4000000953674316,
          2.4000000953674316,
          2.4000000953674316,
          2.4000000953674316,
          2.4000000953674316,
          2.4000000953674316,
          2.4000000953674316,
          2.4000000953674316,
          2.4000000953674316,
          2.4000000953674316,
          2.4000000953674316,
          2.4000000953674316,
          2.4000000953674316,
          2.4000000953674316,
          2.4000000953674316,
          2.4000000953674316,
          2.4000000953674316,
          2.4000000953674316,
          2.4000000953674316,
          2.4000000953674316,
          2.4000000953674316,
          2.4000000953674316,
          2.4000000953674316,
          2.4000000953674316,
          2.4000000953674316,
          2.4000000953674316,
          2.4000000953674316,
          2.4000000953674316,
          2.4000000953674316,
          2.4000000953674316,
          2.4000000953674316,
          2.4000000953674316,
          2.4000000953674316,
          2.4000000953674316,
          2.4000000953674316,
          2.4000000953674316,
          2.4000000953674316,
          2.4000000953674316,
          2.4000000953674316,
          2.4000000953674316,
          2.4000000953674316,
          2.4000000953674316,
          2.4000000953674316,
          2.4000000953674316,
          2.4000000953674316,
          2.4000000953674316,
          2.4000000953674316,
          2.4000000953674316,
          2.4000000953674316,
          2.4000000953674316,
          2.4000000953674316,
          2.4000000953674316,
          2.4000000953674316,
          2.4000000953674316,
          2.4000000953674316,
          2.4000000953674316,
          2.4000000953674316,
          2.4000000953674316,
          2.4000000953674316,
          2.4000000953674316,
          2.4000000953674316,
          2.4000000953674316,
          2.4000000953674316,
          2.4000000953674316,
          2.4000000953674316,
          2.4000000953674316,
          2.4000000953674316,
          2.4000000953674316,
          2.4000000953674316,
          2.4000000953674316,
          2.4000000953674316,
          2.4000000953674316,
          2.4000000953674316,
          2.4000000953674316,
          2.4000000953674316,
          2.4000000953674316,
          2.4000000953674316,
          2.4000000953674316,
          2.4000000953674316,
          2.4000000953674316,
          2.4000000953674316,
          2.4000000953674316,
          2.4000000953674316,
          2.4000000953674316,
          2.4000000953674316,
          2.4000000953674316,
          2.4000000953674316,
          2.4000000953674316,
          2.4000000953674316,
          2.4000000953674316,
          2.4000000953674316,
          2.4000000953674316,
          2.4000000953674316,
          2.4000000953674316,
          2.4000000953674316,
          2.4000000953674316,
          2.4000000953674316,
          2.4000000953674316,
          2.4000000953674316,
          2.4000000953674316,
          2.4000000953674316,
          2.4000000953674316,
          2.4000000953674316,
          2.4000000953674316,
          2.4000000953674316,
          2.4000000953674316,
          2.4000000953674316,
          2.4000000953674316,
          2.4000000953674316,
          2.4000000953674316,
          2.4000000953674316,
          2.4000000953674316,
          2.4000000953674316,
          2.4000000953674316,
          2.4000000953674316,
          2.4000000953674316,
          2.4000000953674316,
          2.4000000953674316,
          2.4000000953674316,
          2.4000000953674316,
          2.4000000953674316,
          2.4000000953674316,
          2.4000000953674316,
          2.4000000953674316,
          2.4000000953674316,
          2.4000000953674316,
          2.4000000953674316,
          2.4000000953674316,
          2.4000000953674316,
          2.4000000953674316,
          2.4000000953674316,
          2.4000000953674316,
          2.4000000953674316,
          2.4000000953674316,
          2.4000000953674316,
          2.4000000953674316,
          2.4000000953674316,
          2.4000000953674316,
          2.4000000953674316,
          2.4000000953674316,
          2.4000000953674316,
          2.4000000953674316,
          2.4000000953674316,
          2.4000000953674316,
          2.4000000953674316,
          2.4000000953674316,
          2.4000000953674316,
          2.4000000953674316,
          2.4000000953674316,
          2.4000000953674316,
          2.4000000953674316,
          2.4000000953674316,
          2.4000000953674316,
          2.4000000953674316,
          2.4000000953674316,
          2.4000000953674316,
          2.4000000953674316,
          2.4000000953674316,
          2.4000000953674316,
          2.4000000953674316,
          2.4000000953674316,
          2.4000000953674316,
          2.4000000953674316,
          2.4000000953674316,
          2.4000000953674316,
          2.4000000953674316,
          2.4000000953674316,
          2.4000000953674316,
          2.4000000953674316,
          2.4000000953674316,
          2.4000000953674316,
          2.4000000953674316,
          2.4000000953674316,
          2.4000000953674316,
          2.4000000953674316,
          2.4000000953674316,
          2.4000000953674316,
          2.4000000953674316,
          2.4000000953674316,
          2.4000000953674316,
          2.4000000953674316,
          2.4000000953674316,
          2.4000000953674316,
          2.4000000953674316,
          2.4000000953674316,
          2.4000000953674316,
          2.4000000953674316,
          2.4000000953674316,
          2.4000000953674316,
          2.4000000953674316,
          2.4000000953674316,
          2.4000000953674316,
          2.4000000953674316,
          2.4000000953674316,
          2.4000000953674316,
          2.4000000953674316,
          2.4000000953674316,
          2.4000000953674316,
          2.4000000953674316,
          2.4000000953674316,
          2.4000000953674316,
          2.4000000953674316,
          2.4000000953674316,
          2.4000000953674316,
          2.4000000953674316,
          2.4000000953674316,
          2.4000000953674316,
          2.4000000953674316,
          2.4000000953674316,
          2.4000000953674316,
          2.4000000953674316,
          2.4000000953674316,
          2.4000000953674316,
          2.4000000953674316,
          2.4000000953674316,
          2.4000000953674316,
          2.4000000953674316,
          2.4000000953674316,
          2.4000000953674316,
          2.4000000953674316,
          2.4000000953674316,
          2.4000000953674316,
          2.4000000953674316,
          2.4000000953674316,
          2.4000000953674316,
          2.4000000953674316,
          2.4000000953674316,
          2.4000000953674316,
          2.4000000953674316,
          2.4000000953674316,
          2.4000000953674316,
          2.4000000953674316,
          2.4000000953674316,
          2.4000000953674316,
          2.4000000953674316,
          2.4000000953674316,
          2.4000000953674316,
          2.4000000953674316,
          2.4000000953674316,
          2.4000000953674316,
          2.4000000953674316,
          2.4000000953674316,
          2.4000000953674316,
          2.4000000953674316,
          2.4000000953674316,
          2.4000000953674316,
          2.4000000953674316,
          2.4000000953674316,
          2.4000000953674316,
          2.4000000953674316,
          2.4000000953674316,
          2.4000000953674316,
          2.4000000953674316,
          2.4000000953674316,
          2.4000000953674316,
          2.4000000953674316,
          2.4000000953674316,
          2.4000000953674316,
          2.4000000953674316,
          2.4000000953674316,
          2.4000000953674316,
          2.4000000953674316,
          2.4000000953674316,
          2.4000000953674316,
          2.4000000953674316,
          2.4000000953674316,
          2.4000000953674316,
          2.4000000953674316,
          2.4000000953674316,
          2.4000000953674316,
          2.4000000953674316,
          2.4000000953674316,
          2.4000000953674316,
          2.4000000953674316,
          2.4000000953674316,
          2.4000000953674316,
          2.4000000953674316,
          2.4000000953674316,
          2.4000000953674316,
          2.4000000953674316,
          2.4000000953674316,
          2.4000000953674316,
          2.4000000953674316,
          2.4000000953674316,
          2.4000000953674316,
          2.4000000953674316,
          2.4000000953674316,
          2.4000000953674316,
          2.4000000953674316,
          2.4000000953674316,
          2.4000000953674316,
          2.4000000953674316,
          2.4000000953674316,
          2.4000000953674316,
          2.4000000953674316,
          2.4000000953674316,
          2.4000000953674316,
          2.4000000953674316,
          2.4000000953674316,
          2.4000000953674316,
          2.4000000953674316,
          2.4000000953674316,
          2.4000000953674316,
          2.4000000953674316,
          2.4000000953674316,
          2.4000000953674316,
          2.4000000953674316,
          2.4000000953674316,
          2.4000000953674316,
          2.4000000953674316,
          2.4000000953674316,
          2.4000000953674316,
          2.4000000953674316,
          2.4000000953674316,
          2.4000000953674316,
          2.4000000953674316,
          2.4000000953674316,
          2.4000000953674316,
          2.4000000953674316,
          2.4000000953674316,
          2.4000000953674316,
          2.4000000953674316,
          2.4000000953674316,
          2.4000000953674316,
          2.4000000953674316,
          2.4000000953674316,
          2.4000000953674316,
          2.4000000953674316,
          2.4000000953674316,
          2.4000000953674316,
          2.4000000953674316,
          2.4000000953674316,
          2.4000000953674316,
          2.4000000953674316,
          2.4000000953674316,
          2.4000000953674316,
          2.4000000953674316,
          2.4000000953674316,
          2.4000000953674316,
          2.4000000953674316,
          2.4000000953674316,
          2.4000000953674316,
          2.4000000953674316,
          2.4000000953674316,
          2.4000000953674316,
          2.4000000953674316,
          2.4000000953674316,
          2.4000000953674316,
          2.4000000953674316,
          2.4000000953674316,
          2.4000000953674316,
          2.4000000953674316,
          2.4000000953674316,
          2.4000000953674316,
          2.4000000953674316,
          2.4000000953674316,
          2.4000000953674316,
          2.4000000953674316,
          2.4000000953674316,
          2.4000000953674316,
          2.4000000953674316,
          2.4000000953674316,
          2.4000000953674316,
          2.4000000953674316,
          2.4000000953674316,
          2.4000000953674316,
          2.4000000953674316,
          2.4000000953674316,
          2.4000000953674316,
          2.4000000953674316,
          2.4000000953674316,
          2.4000000953674316,
          2.4000000953674316,
          2.4000000953674316,
          2.4000000953674316
         ],
         "yaxis": "y"
        },
        {
         "marker": {
          "color": "#FF7F0E"
         },
         "mode": "lines",
         "name": "angle",
         "type": "scatter",
         "xaxis": "x2",
         "y": [
          0.010663577355444431,
          0.011122570373117924,
          0.017502129077911377,
          0.029805080965161324,
          0.04807090386748314,
          0.07237471640110016,
          0.10282553732395172,
          0.1395636945962906,
          0.18275724351406097,
          0.03158535435795784,
          0.030590832233428955,
          0.03564588353037834,
          0.04674438759684563,
          0.06391683220863342,
          0.0872294157743454,
          0.11678236722946167,
          0.15270736813545227,
          0.19516399502754211,
          0.02296554483473301,
          0.022316856309771538,
          0.02766495570540428,
          0.03900580480694771,
          0.0563720241189003,
          0.07983198761940002,
          0.10948813706636429,
          0.14547446370124817,
          0.1879529505968094,
          -0.02002881094813347,
          -0.020183436572551727,
          -0.014612124301493168,
          -0.003315823385491967,
          0.013741354458034039,
          0.036631301045417786,
          0.0654604509472847,
          0.10036761313676834,
          0.1415209025144577,
          0.1891135722398758,
          0.017062442377209663,
          0.01735682040452957,
          0.023611541837453842,
          0.035828378051519394,
          0.054045721888542175,
          0.07833756506443024,
          0.10881174355745316,
          0.14560732245445251,
          0.18889091908931732,
          0.049720995128154755,
          0.050682663917541504,
          0.05780326575040817,
          0.07108834385871887,
          0.09057959914207458,
          0.11635363847017288,
          0.14851993322372437,
          0.18721771240234375,
          0.01884467341005802,
          0.018622515723109245,
          0.024371730163693428,
          0.03609089553356171,
          0.05381525680422783,
          0.07761574536561966,
          0.10759730637073517,
          0.14389632642269135,
          0.18667703866958618,
          0.002535432344302535,
          0.002155916066840291,
          0.007646035868674517,
          0.019003398716449738,
          0.036262396723032,
          0.05949333682656288,
          0.08880084753036499,
          0.12432151287794113,
          0.16622057557106018,
          0.04340435191988945,
          0.04311994090676308,
          0.04895664006471634,
          0.06091263145208359,
          0.07902248203754425,
          0.10335612297058105,
          0.1340169906616211,
          0.17113924026489258,
          0.009430003352463245,
          0.009105825796723366,
          0.014694512821733952,
          0.026194017380475998,
          0.043639037758111954,
          0.06710009276866913,
          0.09668190777301788,
          0.13252097368240356,
          0.17478208243846893,
          -0.02728424035012722,
          -0.027037866413593292,
          -0.0211124699562788,
          -0.009506383910775185,
          0.007818862795829773,
          0.030937686562538147,
          0.05995899811387062,
          0.09502402693033218,
          0.13630332052707672,
          0.18399257957935333,
          0.028709830716252327,
          0.028188569471240044,
          0.03369932994246483,
          0.04523886740207672,
          0.06284051388502121,
          0.08657326549291611,
          0.11654001474380493,
          0.15287497639656067,
          0.1957399994134903,
          -0.016388293355703354,
          -0.01708773523569107,
          -0.012037825770676136,
          -0.0012430254137143493,
          0.015329090878367424,
          0.03774704039096832,
          0.06611402332782745,
          0.10056577622890472,
          0.1412675678730011,
          0.18841011822223663,
          -0.026935778558254242,
          -0.02783173695206642,
          -0.023046409711241722,
          -0.012585568241775036,
          0.003581924131140113,
          0.025523370131850243,
          0.05334090813994408,
          0.08716950565576553,
          0.12717412412166595,
          0.17354586720466614,
          0.03277026116847992,
          0.0325886569917202,
          0.03846384584903717,
          0.05039463937282562,
          0.06841635704040527,
          0.09259983152151108,
          0.12304960191249847,
          0.1599011868238449,
          0.20331734418869019,
          0.025351310148835182,
          0.025427596643567085,
          0.03151533380150795,
          0.04361492395401001,
          0.06176332011818886,
          0.08603304624557495,
          0.11653036624193192,
          0.15339265763759613,
          0.1967846304178238,
          -0.01968051679432392,
          -0.019773520529270172,
          -0.014138343743979931,
          -0.002775537548586726,
          0.014351177960634232,
          0.037314072251319885,
          0.06621993333101273,
          0.10120788961648941,
          0.14244630932807922,
          0.19012868404388428,
          -0.029654476791620255,
          -0.030129849910736084,
          -0.02494160085916519,
          -0.014092765748500824,
          0.002450492000207305,
          0.024758098646998405,
          0.05293471738696098,
          0.08711770921945572,
          0.12747424840927124,
          0.17419743537902832,
          -0.0014809025451540947,
          -0.0005194281693547964,
          0.006286352872848511,
          0.018942514434456825,
          0.037491798400878906,
          0.062012579292058945,
          0.09261716157197952,
          0.12944921851158142,
          0.1726803183555603,
          0.004122685641050339,
          0.003676468040794134,
          0.009109866805374622,
          0.020420070737600327,
          0.03764105215668678,
          0.06084269657731056,
          0.09012920409440994,
          0.1256367415189743,
          0.1675301045179367,
          0.0016068585682660341,
          0.0008385897963307798,
          0.005934110376983881,
          0.016888577491044998,
          0.03373397886753082,
          0.05653829500079155,
          0.08540397882461548,
          0.12046566605567932,
          0.16188690066337585,
          0.011300330050289631,
          0.012134925462305546,
          0.018894055858254433,
          0.03158288076519966,
          0.050243161618709564,
          0.07495220005512238,
          0.10582104325294495,
          0.142991840839386,
          0.18663416802883148,
          -0.00406641187146306,
          -0.004941712599247694,
          0.00001092994261853164,
          0.010785974562168121,
          0.027414746582508087,
          0.049964629113674164,
          0.07853759080171585,
          0.11326796561479568,
          0.15431928634643555,
          0.20188003778457642,
          0.009294101968407631,
          0.008814296685159206,
          0.014246506616473198,
          0.025587715208530426,
          0.042871661484241486,
          0.06616795063018799,
          0.09558044373989105,
          0.13124483823776245,
          0.1733252853155136,
          0.00108888850081712,
          0.0015949488151818514,
          0.007961534895002842,
          0.02019183151423931,
          0.0383257232606411,
          0.06243882328271866,
          0.09264078736305237,
          0.12907281517982483,
          0.17190420627593994,
          0.01832869090139866,
          0.018902884796261787,
          0.025445258244872093,
          0.037959303706884384,
          0.05648508667945862,
          0.08109819144010544,
          0.11190792173147202,
          0.1490546017885208,
          0.1927058845758438,
          -0.03086760826408863,
          -0.03170450031757355,
          -0.02688567154109478,
          -0.016416514292359352,
          -0.00026553316274657845,
          0.02163492888212204,
          0.049387384206056595,
          0.0831272155046463,
          0.12301988154649734,
          0.16925710439682007,
          0.037653710693120956,
          0.03759752959012985,
          0.0436277762055397,
          0.05574400722980499,
          0.07398222386837006,
          0.09841381758451462,
          0.12914374470710754,
          -0.03120989352464676,
          -0.03209960088133812,
          -0.02733580954372883,
          -0.016924269497394562,
          -0.0008338272455148399,
          0.021002843976020813,
          0.04868794232606888,
          0.08235655725002289,
          0.12217390537261963,
          0.16833153367042542,
          0.006226566154509783,
          0.005526690743863583,
          0.010719634592533112,
          0.021800996735692024,
          0.03880317881703377,
          0.06179451942443848,
          0.09087773412466049,
          0.12618757784366608,
          0.16788749396800995,
          -0.007721532601863146,
          -0.007455164100974798,
          -0.0013840605970472097,
          0.010493491776287556,
          0.028215976431965828,
          0.05185772478580475,
          0.08152732253074646,
          0.11736524850130081,
          0.1595405787229538,
          0.20824651420116425,
          -0.010837516747415066,
          -0.011463011614978313,
          -0.006303627043962479,
          0.004636665340512991,
          0.0213907603174448,
          0.04402760788798332,
          0.0726507380604744,
          0.10739608854055405,
          0.14842887222766876,
          0.19593942165374756,
          0.03912094235420227,
          0.03967206925153732,
          0.04631849378347397,
          0.059063415974378586,
          0.07794637978076935,
          0.10304216295480728,
          0.13445881009101868,
          0.17233476042747498,
          -0.0029090114403516054,
          -0.0025214937049895525,
          0.00370129756629467,
          0.01576182246208191,
          0.03369927406311035,
          0.05758863687515259,
          0.08753903955221176,
          0.12369131296873093,
          0.16621463000774384,
          -0.02980925515294075,
          -0.02904035523533821,
          -0.022608840838074684,
          -0.010509624145925045,
          0.007299129385501146,
          0.03089509718120098,
          0.06039030849933624,
          0.09592892229557037,
          0.13768413662910461,
          0.18585404753684998,
          0.014443626627326012,
          0.014256712049245834,
          0.020013893023133278,
          0.031713977456092834,
          0.0493924543261528,
          0.07312056422233582,
          0.1030036211013794,
          0.13917846977710724,
          0.18180999159812927,
          0.03621179983019829,
          0.03608817234635353,
          0.042042236775159836,
          0.05407315120100975,
          0.07221654057502747,
          0.09654345363378525,
          0.12715856730937958,
          0.1641974002122879,
          0.20782248675823212,
          0.03293561190366745,
          0.032931726425886154,
          0.038985636085271835,
          0.05109722912311554,
          0.06930288672447205,
          0.0936744436621666,
          0.12431737035512924,
          0.16136804223060608,
          0.20498989522457123,
          0.002282850444316864,
          0.0017152972286567092,
          0.0070157903246581554,
          0.01818075217306614,
          0.03524341434240341,
          0.05827295407652855,
          0.08737295120954514,
          0.12267903238534927,
          0.16435560584068298,
          0.020194947719573975,
          0.020107809454202652,
          0.026000382378697395,
          0.0378720797598362,
          0.055758945643901825,
          0.07973267138004303,
          0.1098988801240921,
          0.1463945209980011,
          0.18938426673412323,
          -0.011490486562252045,
          -0.010543129406869411,
          -0.0038150607142597437,
          0.00869979988783598,
          0.02704424038529396,
          0.051296766847372055,
          0.08156996220350266,
          0.11800805479288101,
          0.16078351438045502,
          -0.00928056426346302,
          -0.009888224303722382,
          -0.004701076075434685,
          0.006277026608586311,
          0.02307908982038498,
          0.04577415809035301,
          0.07446584850549698,
          0.10929011553525925,
          -0.002094870200380683,
          -0.002775392262265086,
          0.002384510124102235,
          0.013380537740886211,
          0.030245229601860046,
          0.05304713174700737,
          0.08188928663730621,
          0.11690695583820343,
          0.1582644134759903,
          0.2061506062746048,
          -0.010877180844545364,
          -0.010843700729310513,
          -0.005025594495236874,
          0.006577378138899803,
          0.024002261459827423,
          0.04732201620936394,
          0.07664398103952408,
          0.11210757493972778,
          0.15388108789920807,
          0.20215728878974915,
          0.02378377877175808,
          0.024696312844753265,
          0.03161066770553589,
          0.04453236609697342,
          0.06350340694189072,
          0.08860116451978683,
          0.11993647366762161,
          0.15765085816383362,
          0.20191264152526855,
          0.019621599465608597,
          0.019207041710615158,
          0.024768654257059097,
          0.03630383685231209,
          0.05384664982557297,
          0.07746689766645432,
          0.10726843774318695,
          0.14338664710521698,
          0.18598486483097076,
          -0.020159877836704254,
          -0.020531905815005302,
          -0.015178839676082134,
          -0.004103034734725952,
          0.012730015441775322,
          0.035390861332416534,
          0.06398466974496841,
          0.09864907711744308,
          0.13955117762088776,
          0.18688340485095978,
          -0.0028690334875136614,
          -0.002322479384019971,
          0.004059601109474897,
          0.016280673444271088,
          0.034380923956632614,
          0.058436278253793716,
          0.08855676651000977,
          0.12488403171300888,
          0.16758795082569122,
          -0.01257561706006527,
          -0.01339391153305769,
          -0.008438429795205593,
          0.002285617869347334,
          0.018809909000992775,
          0.04120221734046936,
          0.06956499069929123,
          0.1040332019329071,
          0.1447712779045105,
          0.19196902215480804,
          -0.029280882328748703,
          -0.029020702466368675,
          -0.02309447154402733,
          -0.011500422842800617,
          0.005800008773803711,
          0.028881339356303215,
          0.05785258859395981,
          0.09285513311624527,
          0.13405971229076385,
          0.18166235089302063,
          0.02221648022532463,
          0.021653911098837852,
          0.027083519846200943,
          0.0385017916560173,
          0.055941879749298096,
          0.07947266101837158,
          0.10919709503650665,
          0.1452496349811554,
          0.18779271841049194,
          0.018279891461133957,
          0.018920041620731354,
          0.0255280714482069,
          0.03810787945985794,
          0.05669992417097092,
          0.08138018101453781,
          0.11225831508636475,
          0.14947497844696045,
          0.1931980848312378,
          0.03784801810979843,
          0.03705265745520592,
          0.042344897985458374,
          0.05371984839439392,
          0.0712091401219368,
          0.09487995505332947,
          0.12483333051204681,
          0.16120144724845886,
          0.2041439563035965,
          -0.0020316075533628464,
          -0.002738938434049487,
          0.0023945553693920374,
          0.013364404439926147,
          0.03020298294723034,
          0.052978672087192535,
          0.0817943587899208,
          0.11678516864776611,
          0.1581152379512787,
          0.20597340166568756,
          0.037113916128873825,
          0.03666466474533081,
          0.0422985702753067,
          0.054012831300497055,
          0.07184112071990967,
          0.09585263580083847,
          0.12615026533603668,
          0.16286790370941162,
          0.20616666972637177,
          0.01129094883799553,
          0.01068422757089138,
          0.016001982614398003,
          0.027240410447120667,
          0.04443245753645897
         ],
         "yaxis": "y2"
        },
        {
         "marker": {
          "color": "#FF7F0E"
         },
         "mode": "lines",
         "name": "angle_min",
         "type": "scatter",
         "xaxis": "x2",
         "y": [
          -0.2094999998807907,
          -0.2094999998807907,
          -0.2094999998807907,
          -0.2094999998807907,
          -0.2094999998807907,
          -0.2094999998807907,
          -0.2094999998807907,
          -0.2094999998807907,
          -0.2094999998807907,
          -0.2094999998807907,
          -0.2094999998807907,
          -0.2094999998807907,
          -0.2094999998807907,
          -0.2094999998807907,
          -0.2094999998807907,
          -0.2094999998807907,
          -0.2094999998807907,
          -0.2094999998807907,
          -0.2094999998807907,
          -0.2094999998807907,
          -0.2094999998807907,
          -0.2094999998807907,
          -0.2094999998807907,
          -0.2094999998807907,
          -0.2094999998807907,
          -0.2094999998807907,
          -0.2094999998807907,
          -0.2094999998807907,
          -0.2094999998807907,
          -0.2094999998807907,
          -0.2094999998807907,
          -0.2094999998807907,
          -0.2094999998807907,
          -0.2094999998807907,
          -0.2094999998807907,
          -0.2094999998807907,
          -0.2094999998807907,
          -0.2094999998807907,
          -0.2094999998807907,
          -0.2094999998807907,
          -0.2094999998807907,
          -0.2094999998807907,
          -0.2094999998807907,
          -0.2094999998807907,
          -0.2094999998807907,
          -0.2094999998807907,
          -0.2094999998807907,
          -0.2094999998807907,
          -0.2094999998807907,
          -0.2094999998807907,
          -0.2094999998807907,
          -0.2094999998807907,
          -0.2094999998807907,
          -0.2094999998807907,
          -0.2094999998807907,
          -0.2094999998807907,
          -0.2094999998807907,
          -0.2094999998807907,
          -0.2094999998807907,
          -0.2094999998807907,
          -0.2094999998807907,
          -0.2094999998807907,
          -0.2094999998807907,
          -0.2094999998807907,
          -0.2094999998807907,
          -0.2094999998807907,
          -0.2094999998807907,
          -0.2094999998807907,
          -0.2094999998807907,
          -0.2094999998807907,
          -0.2094999998807907,
          -0.2094999998807907,
          -0.2094999998807907,
          -0.2094999998807907,
          -0.2094999998807907,
          -0.2094999998807907,
          -0.2094999998807907,
          -0.2094999998807907,
          -0.2094999998807907,
          -0.2094999998807907,
          -0.2094999998807907,
          -0.2094999998807907,
          -0.2094999998807907,
          -0.2094999998807907,
          -0.2094999998807907,
          -0.2094999998807907,
          -0.2094999998807907,
          -0.2094999998807907,
          -0.2094999998807907,
          -0.2094999998807907,
          -0.2094999998807907,
          -0.2094999998807907,
          -0.2094999998807907,
          -0.2094999998807907,
          -0.2094999998807907,
          -0.2094999998807907,
          -0.2094999998807907,
          -0.2094999998807907,
          -0.2094999998807907,
          -0.2094999998807907,
          -0.2094999998807907,
          -0.2094999998807907,
          -0.2094999998807907,
          -0.2094999998807907,
          -0.2094999998807907,
          -0.2094999998807907,
          -0.2094999998807907,
          -0.2094999998807907,
          -0.2094999998807907,
          -0.2094999998807907,
          -0.2094999998807907,
          -0.2094999998807907,
          -0.2094999998807907,
          -0.2094999998807907,
          -0.2094999998807907,
          -0.2094999998807907,
          -0.2094999998807907,
          -0.2094999998807907,
          -0.2094999998807907,
          -0.2094999998807907,
          -0.2094999998807907,
          -0.2094999998807907,
          -0.2094999998807907,
          -0.2094999998807907,
          -0.2094999998807907,
          -0.2094999998807907,
          -0.2094999998807907,
          -0.2094999998807907,
          -0.2094999998807907,
          -0.2094999998807907,
          -0.2094999998807907,
          -0.2094999998807907,
          -0.2094999998807907,
          -0.2094999998807907,
          -0.2094999998807907,
          -0.2094999998807907,
          -0.2094999998807907,
          -0.2094999998807907,
          -0.2094999998807907,
          -0.2094999998807907,
          -0.2094999998807907,
          -0.2094999998807907,
          -0.2094999998807907,
          -0.2094999998807907,
          -0.2094999998807907,
          -0.2094999998807907,
          -0.2094999998807907,
          -0.2094999998807907,
          -0.2094999998807907,
          -0.2094999998807907,
          -0.2094999998807907,
          -0.2094999998807907,
          -0.2094999998807907,
          -0.2094999998807907,
          -0.2094999998807907,
          -0.2094999998807907,
          -0.2094999998807907,
          -0.2094999998807907,
          -0.2094999998807907,
          -0.2094999998807907,
          -0.2094999998807907,
          -0.2094999998807907,
          -0.2094999998807907,
          -0.2094999998807907,
          -0.2094999998807907,
          -0.2094999998807907,
          -0.2094999998807907,
          -0.2094999998807907,
          -0.2094999998807907,
          -0.2094999998807907,
          -0.2094999998807907,
          -0.2094999998807907,
          -0.2094999998807907,
          -0.2094999998807907,
          -0.2094999998807907,
          -0.2094999998807907,
          -0.2094999998807907,
          -0.2094999998807907,
          -0.2094999998807907,
          -0.2094999998807907,
          -0.2094999998807907,
          -0.2094999998807907,
          -0.2094999998807907,
          -0.2094999998807907,
          -0.2094999998807907,
          -0.2094999998807907,
          -0.2094999998807907,
          -0.2094999998807907,
          -0.2094999998807907,
          -0.2094999998807907,
          -0.2094999998807907,
          -0.2094999998807907,
          -0.2094999998807907,
          -0.2094999998807907,
          -0.2094999998807907,
          -0.2094999998807907,
          -0.2094999998807907,
          -0.2094999998807907,
          -0.2094999998807907,
          -0.2094999998807907,
          -0.2094999998807907,
          -0.2094999998807907,
          -0.2094999998807907,
          -0.2094999998807907,
          -0.2094999998807907,
          -0.2094999998807907,
          -0.2094999998807907,
          -0.2094999998807907,
          -0.2094999998807907,
          -0.2094999998807907,
          -0.2094999998807907,
          -0.2094999998807907,
          -0.2094999998807907,
          -0.2094999998807907,
          -0.2094999998807907,
          -0.2094999998807907,
          -0.2094999998807907,
          -0.2094999998807907,
          -0.2094999998807907,
          -0.2094999998807907,
          -0.2094999998807907,
          -0.2094999998807907,
          -0.2094999998807907,
          -0.2094999998807907,
          -0.2094999998807907,
          -0.2094999998807907,
          -0.2094999998807907,
          -0.2094999998807907,
          -0.2094999998807907,
          -0.2094999998807907,
          -0.2094999998807907,
          -0.2094999998807907,
          -0.2094999998807907,
          -0.2094999998807907,
          -0.2094999998807907,
          -0.2094999998807907,
          -0.2094999998807907,
          -0.2094999998807907,
          -0.2094999998807907,
          -0.2094999998807907,
          -0.2094999998807907,
          -0.2094999998807907,
          -0.2094999998807907,
          -0.2094999998807907,
          -0.2094999998807907,
          -0.2094999998807907,
          -0.2094999998807907,
          -0.2094999998807907,
          -0.2094999998807907,
          -0.2094999998807907,
          -0.2094999998807907,
          -0.2094999998807907,
          -0.2094999998807907,
          -0.2094999998807907,
          -0.2094999998807907,
          -0.2094999998807907,
          -0.2094999998807907,
          -0.2094999998807907,
          -0.2094999998807907,
          -0.2094999998807907,
          -0.2094999998807907,
          -0.2094999998807907,
          -0.2094999998807907,
          -0.2094999998807907,
          -0.2094999998807907,
          -0.2094999998807907,
          -0.2094999998807907,
          -0.2094999998807907,
          -0.2094999998807907,
          -0.2094999998807907,
          -0.2094999998807907,
          -0.2094999998807907,
          -0.2094999998807907,
          -0.2094999998807907,
          -0.2094999998807907,
          -0.2094999998807907,
          -0.2094999998807907,
          -0.2094999998807907,
          -0.2094999998807907,
          -0.2094999998807907,
          -0.2094999998807907,
          -0.2094999998807907,
          -0.2094999998807907,
          -0.2094999998807907,
          -0.2094999998807907,
          -0.2094999998807907,
          -0.2094999998807907,
          -0.2094999998807907,
          -0.2094999998807907,
          -0.2094999998807907,
          -0.2094999998807907,
          -0.2094999998807907,
          -0.2094999998807907,
          -0.2094999998807907,
          -0.2094999998807907,
          -0.2094999998807907,
          -0.2094999998807907,
          -0.2094999998807907,
          -0.2094999998807907,
          -0.2094999998807907,
          -0.2094999998807907,
          -0.2094999998807907,
          -0.2094999998807907,
          -0.2094999998807907,
          -0.2094999998807907,
          -0.2094999998807907,
          -0.2094999998807907,
          -0.2094999998807907,
          -0.2094999998807907,
          -0.2094999998807907,
          -0.2094999998807907,
          -0.2094999998807907,
          -0.2094999998807907,
          -0.2094999998807907,
          -0.2094999998807907,
          -0.2094999998807907,
          -0.2094999998807907,
          -0.2094999998807907,
          -0.2094999998807907,
          -0.2094999998807907,
          -0.2094999998807907,
          -0.2094999998807907,
          -0.2094999998807907,
          -0.2094999998807907,
          -0.2094999998807907,
          -0.2094999998807907,
          -0.2094999998807907,
          -0.2094999998807907,
          -0.2094999998807907,
          -0.2094999998807907,
          -0.2094999998807907,
          -0.2094999998807907,
          -0.2094999998807907,
          -0.2094999998807907,
          -0.2094999998807907,
          -0.2094999998807907,
          -0.2094999998807907,
          -0.2094999998807907,
          -0.2094999998807907,
          -0.2094999998807907,
          -0.2094999998807907,
          -0.2094999998807907,
          -0.2094999998807907,
          -0.2094999998807907,
          -0.2094999998807907,
          -0.2094999998807907,
          -0.2094999998807907,
          -0.2094999998807907,
          -0.2094999998807907,
          -0.2094999998807907,
          -0.2094999998807907,
          -0.2094999998807907,
          -0.2094999998807907,
          -0.2094999998807907,
          -0.2094999998807907,
          -0.2094999998807907,
          -0.2094999998807907,
          -0.2094999998807907,
          -0.2094999998807907,
          -0.2094999998807907,
          -0.2094999998807907,
          -0.2094999998807907,
          -0.2094999998807907,
          -0.2094999998807907,
          -0.2094999998807907,
          -0.2094999998807907,
          -0.2094999998807907,
          -0.2094999998807907,
          -0.2094999998807907,
          -0.2094999998807907,
          -0.2094999998807907,
          -0.2094999998807907,
          -0.2094999998807907,
          -0.2094999998807907,
          -0.2094999998807907,
          -0.2094999998807907,
          -0.2094999998807907,
          -0.2094999998807907,
          -0.2094999998807907,
          -0.2094999998807907,
          -0.2094999998807907,
          -0.2094999998807907,
          -0.2094999998807907,
          -0.2094999998807907,
          -0.2094999998807907,
          -0.2094999998807907,
          -0.2094999998807907,
          -0.2094999998807907,
          -0.2094999998807907,
          -0.2094999998807907,
          -0.2094999998807907,
          -0.2094999998807907,
          -0.2094999998807907,
          -0.2094999998807907,
          -0.2094999998807907,
          -0.2094999998807907,
          -0.2094999998807907,
          -0.2094999998807907,
          -0.2094999998807907,
          -0.2094999998807907,
          -0.2094999998807907,
          -0.2094999998807907,
          -0.2094999998807907,
          -0.2094999998807907,
          -0.2094999998807907,
          -0.2094999998807907,
          -0.2094999998807907,
          -0.2094999998807907,
          -0.2094999998807907,
          -0.2094999998807907,
          -0.2094999998807907,
          -0.2094999998807907,
          -0.2094999998807907,
          -0.2094999998807907,
          -0.2094999998807907,
          -0.2094999998807907,
          -0.2094999998807907,
          -0.2094999998807907,
          -0.2094999998807907,
          -0.2094999998807907,
          -0.2094999998807907,
          -0.2094999998807907,
          -0.2094999998807907,
          -0.2094999998807907,
          -0.2094999998807907,
          -0.2094999998807907,
          -0.2094999998807907,
          -0.2094999998807907,
          -0.2094999998807907,
          -0.2094999998807907,
          -0.2094999998807907,
          -0.2094999998807907,
          -0.2094999998807907,
          -0.2094999998807907,
          -0.2094999998807907,
          -0.2094999998807907,
          -0.2094999998807907,
          -0.2094999998807907,
          -0.2094999998807907,
          -0.2094999998807907,
          -0.2094999998807907,
          -0.2094999998807907,
          -0.2094999998807907,
          -0.2094999998807907,
          -0.2094999998807907,
          -0.2094999998807907,
          -0.2094999998807907,
          -0.2094999998807907,
          -0.2094999998807907,
          -0.2094999998807907,
          -0.2094999998807907,
          -0.2094999998807907,
          -0.2094999998807907,
          -0.2094999998807907,
          -0.2094999998807907,
          -0.2094999998807907,
          -0.2094999998807907,
          -0.2094999998807907,
          -0.2094999998807907,
          -0.2094999998807907,
          -0.2094999998807907,
          -0.2094999998807907,
          -0.2094999998807907,
          -0.2094999998807907,
          -0.2094999998807907,
          -0.2094999998807907,
          -0.2094999998807907,
          -0.2094999998807907,
          -0.2094999998807907,
          -0.2094999998807907,
          -0.2094999998807907,
          -0.2094999998807907,
          -0.2094999998807907,
          -0.2094999998807907,
          -0.2094999998807907,
          -0.2094999998807907,
          -0.2094999998807907,
          -0.2094999998807907,
          -0.2094999998807907,
          -0.2094999998807907,
          -0.2094999998807907,
          -0.2094999998807907,
          -0.2094999998807907,
          -0.2094999998807907,
          -0.2094999998807907,
          -0.2094999998807907,
          -0.2094999998807907,
          -0.2094999998807907,
          -0.2094999998807907,
          -0.2094999998807907,
          -0.2094999998807907,
          -0.2094999998807907,
          -0.2094999998807907,
          -0.2094999998807907,
          -0.2094999998807907,
          -0.2094999998807907,
          -0.2094999998807907,
          -0.2094999998807907,
          -0.2094999998807907,
          -0.2094999998807907,
          -0.2094999998807907,
          -0.2094999998807907,
          -0.2094999998807907,
          -0.2094999998807907,
          -0.2094999998807907,
          -0.2094999998807907,
          -0.2094999998807907,
          -0.2094999998807907,
          -0.2094999998807907,
          -0.2094999998807907,
          -0.2094999998807907,
          -0.2094999998807907
         ],
         "yaxis": "y2"
        },
        {
         "marker": {
          "color": "#FF7F0E"
         },
         "mode": "lines",
         "name": "angle_max",
         "type": "scatter",
         "xaxis": "x2",
         "y": [
          0.2094999998807907,
          0.2094999998807907,
          0.2094999998807907,
          0.2094999998807907,
          0.2094999998807907,
          0.2094999998807907,
          0.2094999998807907,
          0.2094999998807907,
          0.2094999998807907,
          0.2094999998807907,
          0.2094999998807907,
          0.2094999998807907,
          0.2094999998807907,
          0.2094999998807907,
          0.2094999998807907,
          0.2094999998807907,
          0.2094999998807907,
          0.2094999998807907,
          0.2094999998807907,
          0.2094999998807907,
          0.2094999998807907,
          0.2094999998807907,
          0.2094999998807907,
          0.2094999998807907,
          0.2094999998807907,
          0.2094999998807907,
          0.2094999998807907,
          0.2094999998807907,
          0.2094999998807907,
          0.2094999998807907,
          0.2094999998807907,
          0.2094999998807907,
          0.2094999998807907,
          0.2094999998807907,
          0.2094999998807907,
          0.2094999998807907,
          0.2094999998807907,
          0.2094999998807907,
          0.2094999998807907,
          0.2094999998807907,
          0.2094999998807907,
          0.2094999998807907,
          0.2094999998807907,
          0.2094999998807907,
          0.2094999998807907,
          0.2094999998807907,
          0.2094999998807907,
          0.2094999998807907,
          0.2094999998807907,
          0.2094999998807907,
          0.2094999998807907,
          0.2094999998807907,
          0.2094999998807907,
          0.2094999998807907,
          0.2094999998807907,
          0.2094999998807907,
          0.2094999998807907,
          0.2094999998807907,
          0.2094999998807907,
          0.2094999998807907,
          0.2094999998807907,
          0.2094999998807907,
          0.2094999998807907,
          0.2094999998807907,
          0.2094999998807907,
          0.2094999998807907,
          0.2094999998807907,
          0.2094999998807907,
          0.2094999998807907,
          0.2094999998807907,
          0.2094999998807907,
          0.2094999998807907,
          0.2094999998807907,
          0.2094999998807907,
          0.2094999998807907,
          0.2094999998807907,
          0.2094999998807907,
          0.2094999998807907,
          0.2094999998807907,
          0.2094999998807907,
          0.2094999998807907,
          0.2094999998807907,
          0.2094999998807907,
          0.2094999998807907,
          0.2094999998807907,
          0.2094999998807907,
          0.2094999998807907,
          0.2094999998807907,
          0.2094999998807907,
          0.2094999998807907,
          0.2094999998807907,
          0.2094999998807907,
          0.2094999998807907,
          0.2094999998807907,
          0.2094999998807907,
          0.2094999998807907,
          0.2094999998807907,
          0.2094999998807907,
          0.2094999998807907,
          0.2094999998807907,
          0.2094999998807907,
          0.2094999998807907,
          0.2094999998807907,
          0.2094999998807907,
          0.2094999998807907,
          0.2094999998807907,
          0.2094999998807907,
          0.2094999998807907,
          0.2094999998807907,
          0.2094999998807907,
          0.2094999998807907,
          0.2094999998807907,
          0.2094999998807907,
          0.2094999998807907,
          0.2094999998807907,
          0.2094999998807907,
          0.2094999998807907,
          0.2094999998807907,
          0.2094999998807907,
          0.2094999998807907,
          0.2094999998807907,
          0.2094999998807907,
          0.2094999998807907,
          0.2094999998807907,
          0.2094999998807907,
          0.2094999998807907,
          0.2094999998807907,
          0.2094999998807907,
          0.2094999998807907,
          0.2094999998807907,
          0.2094999998807907,
          0.2094999998807907,
          0.2094999998807907,
          0.2094999998807907,
          0.2094999998807907,
          0.2094999998807907,
          0.2094999998807907,
          0.2094999998807907,
          0.2094999998807907,
          0.2094999998807907,
          0.2094999998807907,
          0.2094999998807907,
          0.2094999998807907,
          0.2094999998807907,
          0.2094999998807907,
          0.2094999998807907,
          0.2094999998807907,
          0.2094999998807907,
          0.2094999998807907,
          0.2094999998807907,
          0.2094999998807907,
          0.2094999998807907,
          0.2094999998807907,
          0.2094999998807907,
          0.2094999998807907,
          0.2094999998807907,
          0.2094999998807907,
          0.2094999998807907,
          0.2094999998807907,
          0.2094999998807907,
          0.2094999998807907,
          0.2094999998807907,
          0.2094999998807907,
          0.2094999998807907,
          0.2094999998807907,
          0.2094999998807907,
          0.2094999998807907,
          0.2094999998807907,
          0.2094999998807907,
          0.2094999998807907,
          0.2094999998807907,
          0.2094999998807907,
          0.2094999998807907,
          0.2094999998807907,
          0.2094999998807907,
          0.2094999998807907,
          0.2094999998807907,
          0.2094999998807907,
          0.2094999998807907,
          0.2094999998807907,
          0.2094999998807907,
          0.2094999998807907,
          0.2094999998807907,
          0.2094999998807907,
          0.2094999998807907,
          0.2094999998807907,
          0.2094999998807907,
          0.2094999998807907,
          0.2094999998807907,
          0.2094999998807907,
          0.2094999998807907,
          0.2094999998807907,
          0.2094999998807907,
          0.2094999998807907,
          0.2094999998807907,
          0.2094999998807907,
          0.2094999998807907,
          0.2094999998807907,
          0.2094999998807907,
          0.2094999998807907,
          0.2094999998807907,
          0.2094999998807907,
          0.2094999998807907,
          0.2094999998807907,
          0.2094999998807907,
          0.2094999998807907,
          0.2094999998807907,
          0.2094999998807907,
          0.2094999998807907,
          0.2094999998807907,
          0.2094999998807907,
          0.2094999998807907,
          0.2094999998807907,
          0.2094999998807907,
          0.2094999998807907,
          0.2094999998807907,
          0.2094999998807907,
          0.2094999998807907,
          0.2094999998807907,
          0.2094999998807907,
          0.2094999998807907,
          0.2094999998807907,
          0.2094999998807907,
          0.2094999998807907,
          0.2094999998807907,
          0.2094999998807907,
          0.2094999998807907,
          0.2094999998807907,
          0.2094999998807907,
          0.2094999998807907,
          0.2094999998807907,
          0.2094999998807907,
          0.2094999998807907,
          0.2094999998807907,
          0.2094999998807907,
          0.2094999998807907,
          0.2094999998807907,
          0.2094999998807907,
          0.2094999998807907,
          0.2094999998807907,
          0.2094999998807907,
          0.2094999998807907,
          0.2094999998807907,
          0.2094999998807907,
          0.2094999998807907,
          0.2094999998807907,
          0.2094999998807907,
          0.2094999998807907,
          0.2094999998807907,
          0.2094999998807907,
          0.2094999998807907,
          0.2094999998807907,
          0.2094999998807907,
          0.2094999998807907,
          0.2094999998807907,
          0.2094999998807907,
          0.2094999998807907,
          0.2094999998807907,
          0.2094999998807907,
          0.2094999998807907,
          0.2094999998807907,
          0.2094999998807907,
          0.2094999998807907,
          0.2094999998807907,
          0.2094999998807907,
          0.2094999998807907,
          0.2094999998807907,
          0.2094999998807907,
          0.2094999998807907,
          0.2094999998807907,
          0.2094999998807907,
          0.2094999998807907,
          0.2094999998807907,
          0.2094999998807907,
          0.2094999998807907,
          0.2094999998807907,
          0.2094999998807907,
          0.2094999998807907,
          0.2094999998807907,
          0.2094999998807907,
          0.2094999998807907,
          0.2094999998807907,
          0.2094999998807907,
          0.2094999998807907,
          0.2094999998807907,
          0.2094999998807907,
          0.2094999998807907,
          0.2094999998807907,
          0.2094999998807907,
          0.2094999998807907,
          0.2094999998807907,
          0.2094999998807907,
          0.2094999998807907,
          0.2094999998807907,
          0.2094999998807907,
          0.2094999998807907,
          0.2094999998807907,
          0.2094999998807907,
          0.2094999998807907,
          0.2094999998807907,
          0.2094999998807907,
          0.2094999998807907,
          0.2094999998807907,
          0.2094999998807907,
          0.2094999998807907,
          0.2094999998807907,
          0.2094999998807907,
          0.2094999998807907,
          0.2094999998807907,
          0.2094999998807907,
          0.2094999998807907,
          0.2094999998807907,
          0.2094999998807907,
          0.2094999998807907,
          0.2094999998807907,
          0.2094999998807907,
          0.2094999998807907,
          0.2094999998807907,
          0.2094999998807907,
          0.2094999998807907,
          0.2094999998807907,
          0.2094999998807907,
          0.2094999998807907,
          0.2094999998807907,
          0.2094999998807907,
          0.2094999998807907,
          0.2094999998807907,
          0.2094999998807907,
          0.2094999998807907,
          0.2094999998807907,
          0.2094999998807907,
          0.2094999998807907,
          0.2094999998807907,
          0.2094999998807907,
          0.2094999998807907,
          0.2094999998807907,
          0.2094999998807907,
          0.2094999998807907,
          0.2094999998807907,
          0.2094999998807907,
          0.2094999998807907,
          0.2094999998807907,
          0.2094999998807907,
          0.2094999998807907,
          0.2094999998807907,
          0.2094999998807907,
          0.2094999998807907,
          0.2094999998807907,
          0.2094999998807907,
          0.2094999998807907,
          0.2094999998807907,
          0.2094999998807907,
          0.2094999998807907,
          0.2094999998807907,
          0.2094999998807907,
          0.2094999998807907,
          0.2094999998807907,
          0.2094999998807907,
          0.2094999998807907,
          0.2094999998807907,
          0.2094999998807907,
          0.2094999998807907,
          0.2094999998807907,
          0.2094999998807907,
          0.2094999998807907,
          0.2094999998807907,
          0.2094999998807907,
          0.2094999998807907,
          0.2094999998807907,
          0.2094999998807907,
          0.2094999998807907,
          0.2094999998807907,
          0.2094999998807907,
          0.2094999998807907,
          0.2094999998807907,
          0.2094999998807907,
          0.2094999998807907,
          0.2094999998807907,
          0.2094999998807907,
          0.2094999998807907,
          0.2094999998807907,
          0.2094999998807907,
          0.2094999998807907,
          0.2094999998807907,
          0.2094999998807907,
          0.2094999998807907,
          0.2094999998807907,
          0.2094999998807907,
          0.2094999998807907,
          0.2094999998807907,
          0.2094999998807907,
          0.2094999998807907,
          0.2094999998807907,
          0.2094999998807907,
          0.2094999998807907,
          0.2094999998807907,
          0.2094999998807907,
          0.2094999998807907,
          0.2094999998807907,
          0.2094999998807907,
          0.2094999998807907,
          0.2094999998807907,
          0.2094999998807907,
          0.2094999998807907,
          0.2094999998807907,
          0.2094999998807907,
          0.2094999998807907,
          0.2094999998807907,
          0.2094999998807907,
          0.2094999998807907,
          0.2094999998807907,
          0.2094999998807907,
          0.2094999998807907,
          0.2094999998807907,
          0.2094999998807907,
          0.2094999998807907,
          0.2094999998807907,
          0.2094999998807907,
          0.2094999998807907,
          0.2094999998807907,
          0.2094999998807907,
          0.2094999998807907,
          0.2094999998807907,
          0.2094999998807907,
          0.2094999998807907,
          0.2094999998807907,
          0.2094999998807907,
          0.2094999998807907,
          0.2094999998807907,
          0.2094999998807907,
          0.2094999998807907,
          0.2094999998807907,
          0.2094999998807907,
          0.2094999998807907,
          0.2094999998807907,
          0.2094999998807907,
          0.2094999998807907,
          0.2094999998807907,
          0.2094999998807907,
          0.2094999998807907,
          0.2094999998807907,
          0.2094999998807907,
          0.2094999998807907,
          0.2094999998807907,
          0.2094999998807907,
          0.2094999998807907,
          0.2094999998807907,
          0.2094999998807907,
          0.2094999998807907,
          0.2094999998807907,
          0.2094999998807907,
          0.2094999998807907,
          0.2094999998807907,
          0.2094999998807907,
          0.2094999998807907,
          0.2094999998807907,
          0.2094999998807907,
          0.2094999998807907,
          0.2094999998807907,
          0.2094999998807907,
          0.2094999998807907,
          0.2094999998807907,
          0.2094999998807907,
          0.2094999998807907,
          0.2094999998807907,
          0.2094999998807907,
          0.2094999998807907,
          0.2094999998807907,
          0.2094999998807907,
          0.2094999998807907,
          0.2094999998807907,
          0.2094999998807907,
          0.2094999998807907,
          0.2094999998807907,
          0.2094999998807907,
          0.2094999998807907,
          0.2094999998807907,
          0.2094999998807907,
          0.2094999998807907,
          0.2094999998807907,
          0.2094999998807907,
          0.2094999998807907,
          0.2094999998807907,
          0.2094999998807907,
          0.2094999998807907,
          0.2094999998807907,
          0.2094999998807907,
          0.2094999998807907,
          0.2094999998807907,
          0.2094999998807907,
          0.2094999998807907,
          0.2094999998807907,
          0.2094999998807907,
          0.2094999998807907,
          0.2094999998807907,
          0.2094999998807907,
          0.2094999998807907,
          0.2094999998807907,
          0.2094999998807907,
          0.2094999998807907,
          0.2094999998807907,
          0.2094999998807907,
          0.2094999998807907,
          0.2094999998807907,
          0.2094999998807907,
          0.2094999998807907,
          0.2094999998807907,
          0.2094999998807907,
          0.2094999998807907,
          0.2094999998807907,
          0.2094999998807907,
          0.2094999998807907
         ],
         "yaxis": "y2"
        }
       ],
       "layout": {
        "annotations": [
         {
          "font": {
           "size": 16
          },
          "showarrow": false,
          "text": "Cart x-position",
          "x": 0.5,
          "xanchor": "center",
          "xref": "paper",
          "y": 1,
          "yanchor": "bottom",
          "yref": "paper"
         },
         {
          "font": {
           "size": 16
          },
          "showarrow": false,
          "text": "Cart angle",
          "x": 0.5,
          "xanchor": "center",
          "xref": "paper",
          "y": 0.375,
          "yanchor": "bottom",
          "yref": "paper"
         },
         {
          "showarrow": false,
          "text": "Min posn",
          "x": 537.6,
          "xref": "x",
          "y": -2.4,
          "yref": "y"
         },
         {
          "showarrow": false,
          "text": "Min angle",
          "x": 537.6,
          "xref": "x2",
          "y": -0.2095,
          "yref": "y2"
         },
         {
          "showarrow": false,
          "text": "Max posn",
          "x": 537.6,
          "xref": "x",
          "y": 2.4,
          "yref": "y"
         },
         {
          "showarrow": false,
          "text": "Max angle",
          "x": 537.6,
          "xref": "x2",
          "y": 0.2095,
          "yref": "y2"
         }
        ],
        "shapes": [
         {
          "line": {
           "color": "black",
           "dash": "dash",
           "width": 2
          },
          "type": "line",
          "x0": 8,
          "x1": 8,
          "xref": "x",
          "y0": 0,
          "y1": 1,
          "yref": "y domain"
         },
         {
          "line": {
           "color": "black",
           "dash": "dash",
           "width": 2
          },
          "type": "line",
          "x0": 17,
          "x1": 17,
          "xref": "x",
          "y0": 0,
          "y1": 1,
          "yref": "y domain"
         },
         {
          "line": {
           "color": "black",
           "dash": "dash",
           "width": 2
          },
          "type": "line",
          "x0": 26,
          "x1": 26,
          "xref": "x",
          "y0": 0,
          "y1": 1,
          "yref": "y domain"
         },
         {
          "line": {
           "color": "black",
           "dash": "dash",
           "width": 2
          },
          "type": "line",
          "x0": 36,
          "x1": 36,
          "xref": "x",
          "y0": 0,
          "y1": 1,
          "yref": "y domain"
         },
         {
          "line": {
           "color": "black",
           "dash": "dash",
           "width": 2
          },
          "type": "line",
          "x0": 45,
          "x1": 45,
          "xref": "x",
          "y0": 0,
          "y1": 1,
          "yref": "y domain"
         },
         {
          "line": {
           "color": "black",
           "dash": "dash",
           "width": 2
          },
          "type": "line",
          "x0": 53,
          "x1": 53,
          "xref": "x",
          "y0": 0,
          "y1": 1,
          "yref": "y domain"
         },
         {
          "line": {
           "color": "black",
           "dash": "dash",
           "width": 2
          },
          "type": "line",
          "x0": 62,
          "x1": 62,
          "xref": "x",
          "y0": 0,
          "y1": 1,
          "yref": "y domain"
         },
         {
          "line": {
           "color": "black",
           "dash": "dash",
           "width": 2
          },
          "type": "line",
          "x0": 71,
          "x1": 71,
          "xref": "x",
          "y0": 0,
          "y1": 1,
          "yref": "y domain"
         },
         {
          "line": {
           "color": "black",
           "dash": "dash",
           "width": 2
          },
          "type": "line",
          "x0": 79,
          "x1": 79,
          "xref": "x",
          "y0": 0,
          "y1": 1,
          "yref": "y domain"
         },
         {
          "line": {
           "color": "black",
           "dash": "dash",
           "width": 2
          },
          "type": "line",
          "x0": 88,
          "x1": 88,
          "xref": "x",
          "y0": 0,
          "y1": 1,
          "yref": "y domain"
         },
         {
          "line": {
           "color": "black",
           "dash": "dash",
           "width": 2
          },
          "type": "line",
          "x0": 98,
          "x1": 98,
          "xref": "x",
          "y0": 0,
          "y1": 1,
          "yref": "y domain"
         },
         {
          "line": {
           "color": "black",
           "dash": "dash",
           "width": 2
          },
          "type": "line",
          "x0": 107,
          "x1": 107,
          "xref": "x",
          "y0": 0,
          "y1": 1,
          "yref": "y domain"
         },
         {
          "line": {
           "color": "black",
           "dash": "dash",
           "width": 2
          },
          "type": "line",
          "x0": 117,
          "x1": 117,
          "xref": "x",
          "y0": 0,
          "y1": 1,
          "yref": "y domain"
         },
         {
          "line": {
           "color": "black",
           "dash": "dash",
           "width": 2
          },
          "type": "line",
          "x0": 127,
          "x1": 127,
          "xref": "x",
          "y0": 0,
          "y1": 1,
          "yref": "y domain"
         },
         {
          "line": {
           "color": "black",
           "dash": "dash",
           "width": 2
          },
          "type": "line",
          "x0": 136,
          "x1": 136,
          "xref": "x",
          "y0": 0,
          "y1": 1,
          "yref": "y domain"
         },
         {
          "line": {
           "color": "black",
           "dash": "dash",
           "width": 2
          },
          "type": "line",
          "x0": 145,
          "x1": 145,
          "xref": "x",
          "y0": 0,
          "y1": 1,
          "yref": "y domain"
         },
         {
          "line": {
           "color": "black",
           "dash": "dash",
           "width": 2
          },
          "type": "line",
          "x0": 155,
          "x1": 155,
          "xref": "x",
          "y0": 0,
          "y1": 1,
          "yref": "y domain"
         },
         {
          "line": {
           "color": "black",
           "dash": "dash",
           "width": 2
          },
          "type": "line",
          "x0": 165,
          "x1": 165,
          "xref": "x",
          "y0": 0,
          "y1": 1,
          "yref": "y domain"
         },
         {
          "line": {
           "color": "black",
           "dash": "dash",
           "width": 2
          },
          "type": "line",
          "x0": 174,
          "x1": 174,
          "xref": "x",
          "y0": 0,
          "y1": 1,
          "yref": "y domain"
         },
         {
          "line": {
           "color": "black",
           "dash": "dash",
           "width": 2
          },
          "type": "line",
          "x0": 183,
          "x1": 183,
          "xref": "x",
          "y0": 0,
          "y1": 1,
          "yref": "y domain"
         },
         {
          "line": {
           "color": "black",
           "dash": "dash",
           "width": 2
          },
          "type": "line",
          "x0": 192,
          "x1": 192,
          "xref": "x",
          "y0": 0,
          "y1": 1,
          "yref": "y domain"
         },
         {
          "line": {
           "color": "black",
           "dash": "dash",
           "width": 2
          },
          "type": "line",
          "x0": 201,
          "x1": 201,
          "xref": "x",
          "y0": 0,
          "y1": 1,
          "yref": "y domain"
         },
         {
          "line": {
           "color": "black",
           "dash": "dash",
           "width": 2
          },
          "type": "line",
          "x0": 211,
          "x1": 211,
          "xref": "x",
          "y0": 0,
          "y1": 1,
          "yref": "y domain"
         },
         {
          "line": {
           "color": "black",
           "dash": "dash",
           "width": 2
          },
          "type": "line",
          "x0": 220,
          "x1": 220,
          "xref": "x",
          "y0": 0,
          "y1": 1,
          "yref": "y domain"
         },
         {
          "line": {
           "color": "black",
           "dash": "dash",
           "width": 2
          },
          "type": "line",
          "x0": 229,
          "x1": 229,
          "xref": "x",
          "y0": 0,
          "y1": 1,
          "yref": "y domain"
         },
         {
          "line": {
           "color": "black",
           "dash": "dash",
           "width": 2
          },
          "type": "line",
          "x0": 238,
          "x1": 238,
          "xref": "x",
          "y0": 0,
          "y1": 1,
          "yref": "y domain"
         },
         {
          "line": {
           "color": "black",
           "dash": "dash",
           "width": 2
          },
          "type": "line",
          "x0": 248,
          "x1": 248,
          "xref": "x",
          "y0": 0,
          "y1": 1,
          "yref": "y domain"
         },
         {
          "line": {
           "color": "black",
           "dash": "dash",
           "width": 2
          },
          "type": "line",
          "x0": 265,
          "x1": 265,
          "xref": "x",
          "y0": 0,
          "y1": 1,
          "yref": "y domain"
         },
         {
          "line": {
           "color": "black",
           "dash": "dash",
           "width": 2
          },
          "type": "line",
          "x0": 274,
          "x1": 274,
          "xref": "x",
          "y0": 0,
          "y1": 1,
          "yref": "y domain"
         },
         {
          "line": {
           "color": "black",
           "dash": "dash",
           "width": 2
          },
          "type": "line",
          "x0": 284,
          "x1": 284,
          "xref": "x",
          "y0": 0,
          "y1": 1,
          "yref": "y domain"
         },
         {
          "line": {
           "color": "black",
           "dash": "dash",
           "width": 2
          },
          "type": "line",
          "x0": 294,
          "x1": 294,
          "xref": "x",
          "y0": 0,
          "y1": 1,
          "yref": "y domain"
         },
         {
          "line": {
           "color": "black",
           "dash": "dash",
           "width": 2
          },
          "type": "line",
          "x0": 302,
          "x1": 302,
          "xref": "x",
          "y0": 0,
          "y1": 1,
          "yref": "y domain"
         },
         {
          "line": {
           "color": "black",
           "dash": "dash",
           "width": 2
          },
          "type": "line",
          "x0": 311,
          "x1": 311,
          "xref": "x",
          "y0": 0,
          "y1": 1,
          "yref": "y domain"
         },
         {
          "line": {
           "color": "black",
           "dash": "dash",
           "width": 2
          },
          "type": "line",
          "x0": 321,
          "x1": 321,
          "xref": "x",
          "y0": 0,
          "y1": 1,
          "yref": "y domain"
         },
         {
          "line": {
           "color": "black",
           "dash": "dash",
           "width": 2
          },
          "type": "line",
          "x0": 330,
          "x1": 330,
          "xref": "x",
          "y0": 0,
          "y1": 1,
          "yref": "y domain"
         },
         {
          "line": {
           "color": "black",
           "dash": "dash",
           "width": 2
          },
          "type": "line",
          "x0": 339,
          "x1": 339,
          "xref": "x",
          "y0": 0,
          "y1": 1,
          "yref": "y domain"
         },
         {
          "line": {
           "color": "black",
           "dash": "dash",
           "width": 2
          },
          "type": "line",
          "x0": 348,
          "x1": 348,
          "xref": "x",
          "y0": 0,
          "y1": 1,
          "yref": "y domain"
         },
         {
          "line": {
           "color": "black",
           "dash": "dash",
           "width": 2
          },
          "type": "line",
          "x0": 357,
          "x1": 357,
          "xref": "x",
          "y0": 0,
          "y1": 1,
          "yref": "y domain"
         },
         {
          "line": {
           "color": "black",
           "dash": "dash",
           "width": 2
          },
          "type": "line",
          "x0": 366,
          "x1": 366,
          "xref": "x",
          "y0": 0,
          "y1": 1,
          "yref": "y domain"
         },
         {
          "line": {
           "color": "black",
           "dash": "dash",
           "width": 2
          },
          "type": "line",
          "x0": 375,
          "x1": 375,
          "xref": "x",
          "y0": 0,
          "y1": 1,
          "yref": "y domain"
         },
         {
          "line": {
           "color": "black",
           "dash": "dash",
           "width": 2
          },
          "type": "line",
          "x0": 393,
          "x1": 393,
          "xref": "x",
          "y0": 0,
          "y1": 1,
          "yref": "y domain"
         },
         {
          "line": {
           "color": "black",
           "dash": "dash",
           "width": 2
          },
          "type": "line",
          "x0": 403,
          "x1": 403,
          "xref": "x",
          "y0": 0,
          "y1": 1,
          "yref": "y domain"
         },
         {
          "line": {
           "color": "black",
           "dash": "dash",
           "width": 2
          },
          "type": "line",
          "x0": 412,
          "x1": 412,
          "xref": "x",
          "y0": 0,
          "y1": 1,
          "yref": "y domain"
         },
         {
          "line": {
           "color": "black",
           "dash": "dash",
           "width": 2
          },
          "type": "line",
          "x0": 421,
          "x1": 421,
          "xref": "x",
          "y0": 0,
          "y1": 1,
          "yref": "y domain"
         },
         {
          "line": {
           "color": "black",
           "dash": "dash",
           "width": 2
          },
          "type": "line",
          "x0": 431,
          "x1": 431,
          "xref": "x",
          "y0": 0,
          "y1": 1,
          "yref": "y domain"
         },
         {
          "line": {
           "color": "black",
           "dash": "dash",
           "width": 2
          },
          "type": "line",
          "x0": 440,
          "x1": 440,
          "xref": "x",
          "y0": 0,
          "y1": 1,
          "yref": "y domain"
         },
         {
          "line": {
           "color": "black",
           "dash": "dash",
           "width": 2
          },
          "type": "line",
          "x0": 450,
          "x1": 450,
          "xref": "x",
          "y0": 0,
          "y1": 1,
          "yref": "y domain"
         },
         {
          "line": {
           "color": "black",
           "dash": "dash",
           "width": 2
          },
          "type": "line",
          "x0": 460,
          "x1": 460,
          "xref": "x",
          "y0": 0,
          "y1": 1,
          "yref": "y domain"
         },
         {
          "line": {
           "color": "black",
           "dash": "dash",
           "width": 2
          },
          "type": "line",
          "x0": 469,
          "x1": 469,
          "xref": "x",
          "y0": 0,
          "y1": 1,
          "yref": "y domain"
         },
         {
          "line": {
           "color": "black",
           "dash": "dash",
           "width": 2
          },
          "type": "line",
          "x0": 478,
          "x1": 478,
          "xref": "x",
          "y0": 0,
          "y1": 1,
          "yref": "y domain"
         },
         {
          "line": {
           "color": "black",
           "dash": "dash",
           "width": 2
          },
          "type": "line",
          "x0": 487,
          "x1": 487,
          "xref": "x",
          "y0": 0,
          "y1": 1,
          "yref": "y domain"
         },
         {
          "line": {
           "color": "black",
           "dash": "dash",
           "width": 2
          },
          "type": "line",
          "x0": 497,
          "x1": 497,
          "xref": "x",
          "y0": 0,
          "y1": 1,
          "yref": "y domain"
         },
         {
          "line": {
           "color": "black",
           "dash": "dash",
           "width": 2
          },
          "type": "line",
          "x0": 506,
          "x1": 506,
          "xref": "x",
          "y0": 0,
          "y1": 1,
          "yref": "y domain"
         },
         {
          "line": {
           "color": "black",
           "width": 4
          },
          "type": "line",
          "x0": 128,
          "x1": 128,
          "xref": "x",
          "y0": 0,
          "y1": 1,
          "yref": "y domain"
         },
         {
          "line": {
           "color": "black",
           "width": 4
          },
          "type": "line",
          "x0": 256,
          "x1": 256,
          "xref": "x",
          "y0": 0,
          "y1": 1,
          "yref": "y domain"
         },
         {
          "line": {
           "color": "black",
           "width": 4
          },
          "type": "line",
          "x0": 384,
          "x1": 384,
          "xref": "x",
          "y0": 0,
          "y1": 1,
          "yref": "y domain"
         },
         {
          "line": {
           "color": "black",
           "dash": "dash",
           "width": 2
          },
          "type": "line",
          "x0": 8,
          "x1": 8,
          "xref": "x2",
          "y0": 0,
          "y1": 1,
          "yref": "y2 domain"
         },
         {
          "line": {
           "color": "black",
           "dash": "dash",
           "width": 2
          },
          "type": "line",
          "x0": 17,
          "x1": 17,
          "xref": "x2",
          "y0": 0,
          "y1": 1,
          "yref": "y2 domain"
         },
         {
          "line": {
           "color": "black",
           "dash": "dash",
           "width": 2
          },
          "type": "line",
          "x0": 26,
          "x1": 26,
          "xref": "x2",
          "y0": 0,
          "y1": 1,
          "yref": "y2 domain"
         },
         {
          "line": {
           "color": "black",
           "dash": "dash",
           "width": 2
          },
          "type": "line",
          "x0": 36,
          "x1": 36,
          "xref": "x2",
          "y0": 0,
          "y1": 1,
          "yref": "y2 domain"
         },
         {
          "line": {
           "color": "black",
           "dash": "dash",
           "width": 2
          },
          "type": "line",
          "x0": 45,
          "x1": 45,
          "xref": "x2",
          "y0": 0,
          "y1": 1,
          "yref": "y2 domain"
         },
         {
          "line": {
           "color": "black",
           "dash": "dash",
           "width": 2
          },
          "type": "line",
          "x0": 53,
          "x1": 53,
          "xref": "x2",
          "y0": 0,
          "y1": 1,
          "yref": "y2 domain"
         },
         {
          "line": {
           "color": "black",
           "dash": "dash",
           "width": 2
          },
          "type": "line",
          "x0": 62,
          "x1": 62,
          "xref": "x2",
          "y0": 0,
          "y1": 1,
          "yref": "y2 domain"
         },
         {
          "line": {
           "color": "black",
           "dash": "dash",
           "width": 2
          },
          "type": "line",
          "x0": 71,
          "x1": 71,
          "xref": "x2",
          "y0": 0,
          "y1": 1,
          "yref": "y2 domain"
         },
         {
          "line": {
           "color": "black",
           "dash": "dash",
           "width": 2
          },
          "type": "line",
          "x0": 79,
          "x1": 79,
          "xref": "x2",
          "y0": 0,
          "y1": 1,
          "yref": "y2 domain"
         },
         {
          "line": {
           "color": "black",
           "dash": "dash",
           "width": 2
          },
          "type": "line",
          "x0": 88,
          "x1": 88,
          "xref": "x2",
          "y0": 0,
          "y1": 1,
          "yref": "y2 domain"
         },
         {
          "line": {
           "color": "black",
           "dash": "dash",
           "width": 2
          },
          "type": "line",
          "x0": 98,
          "x1": 98,
          "xref": "x2",
          "y0": 0,
          "y1": 1,
          "yref": "y2 domain"
         },
         {
          "line": {
           "color": "black",
           "dash": "dash",
           "width": 2
          },
          "type": "line",
          "x0": 107,
          "x1": 107,
          "xref": "x2",
          "y0": 0,
          "y1": 1,
          "yref": "y2 domain"
         },
         {
          "line": {
           "color": "black",
           "dash": "dash",
           "width": 2
          },
          "type": "line",
          "x0": 117,
          "x1": 117,
          "xref": "x2",
          "y0": 0,
          "y1": 1,
          "yref": "y2 domain"
         },
         {
          "line": {
           "color": "black",
           "dash": "dash",
           "width": 2
          },
          "type": "line",
          "x0": 127,
          "x1": 127,
          "xref": "x2",
          "y0": 0,
          "y1": 1,
          "yref": "y2 domain"
         },
         {
          "line": {
           "color": "black",
           "dash": "dash",
           "width": 2
          },
          "type": "line",
          "x0": 136,
          "x1": 136,
          "xref": "x2",
          "y0": 0,
          "y1": 1,
          "yref": "y2 domain"
         },
         {
          "line": {
           "color": "black",
           "dash": "dash",
           "width": 2
          },
          "type": "line",
          "x0": 145,
          "x1": 145,
          "xref": "x2",
          "y0": 0,
          "y1": 1,
          "yref": "y2 domain"
         },
         {
          "line": {
           "color": "black",
           "dash": "dash",
           "width": 2
          },
          "type": "line",
          "x0": 155,
          "x1": 155,
          "xref": "x2",
          "y0": 0,
          "y1": 1,
          "yref": "y2 domain"
         },
         {
          "line": {
           "color": "black",
           "dash": "dash",
           "width": 2
          },
          "type": "line",
          "x0": 165,
          "x1": 165,
          "xref": "x2",
          "y0": 0,
          "y1": 1,
          "yref": "y2 domain"
         },
         {
          "line": {
           "color": "black",
           "dash": "dash",
           "width": 2
          },
          "type": "line",
          "x0": 174,
          "x1": 174,
          "xref": "x2",
          "y0": 0,
          "y1": 1,
          "yref": "y2 domain"
         },
         {
          "line": {
           "color": "black",
           "dash": "dash",
           "width": 2
          },
          "type": "line",
          "x0": 183,
          "x1": 183,
          "xref": "x2",
          "y0": 0,
          "y1": 1,
          "yref": "y2 domain"
         },
         {
          "line": {
           "color": "black",
           "dash": "dash",
           "width": 2
          },
          "type": "line",
          "x0": 192,
          "x1": 192,
          "xref": "x2",
          "y0": 0,
          "y1": 1,
          "yref": "y2 domain"
         },
         {
          "line": {
           "color": "black",
           "dash": "dash",
           "width": 2
          },
          "type": "line",
          "x0": 201,
          "x1": 201,
          "xref": "x2",
          "y0": 0,
          "y1": 1,
          "yref": "y2 domain"
         },
         {
          "line": {
           "color": "black",
           "dash": "dash",
           "width": 2
          },
          "type": "line",
          "x0": 211,
          "x1": 211,
          "xref": "x2",
          "y0": 0,
          "y1": 1,
          "yref": "y2 domain"
         },
         {
          "line": {
           "color": "black",
           "dash": "dash",
           "width": 2
          },
          "type": "line",
          "x0": 220,
          "x1": 220,
          "xref": "x2",
          "y0": 0,
          "y1": 1,
          "yref": "y2 domain"
         },
         {
          "line": {
           "color": "black",
           "dash": "dash",
           "width": 2
          },
          "type": "line",
          "x0": 229,
          "x1": 229,
          "xref": "x2",
          "y0": 0,
          "y1": 1,
          "yref": "y2 domain"
         },
         {
          "line": {
           "color": "black",
           "dash": "dash",
           "width": 2
          },
          "type": "line",
          "x0": 238,
          "x1": 238,
          "xref": "x2",
          "y0": 0,
          "y1": 1,
          "yref": "y2 domain"
         },
         {
          "line": {
           "color": "black",
           "dash": "dash",
           "width": 2
          },
          "type": "line",
          "x0": 248,
          "x1": 248,
          "xref": "x2",
          "y0": 0,
          "y1": 1,
          "yref": "y2 domain"
         },
         {
          "line": {
           "color": "black",
           "dash": "dash",
           "width": 2
          },
          "type": "line",
          "x0": 265,
          "x1": 265,
          "xref": "x2",
          "y0": 0,
          "y1": 1,
          "yref": "y2 domain"
         },
         {
          "line": {
           "color": "black",
           "dash": "dash",
           "width": 2
          },
          "type": "line",
          "x0": 274,
          "x1": 274,
          "xref": "x2",
          "y0": 0,
          "y1": 1,
          "yref": "y2 domain"
         },
         {
          "line": {
           "color": "black",
           "dash": "dash",
           "width": 2
          },
          "type": "line",
          "x0": 284,
          "x1": 284,
          "xref": "x2",
          "y0": 0,
          "y1": 1,
          "yref": "y2 domain"
         },
         {
          "line": {
           "color": "black",
           "dash": "dash",
           "width": 2
          },
          "type": "line",
          "x0": 294,
          "x1": 294,
          "xref": "x2",
          "y0": 0,
          "y1": 1,
          "yref": "y2 domain"
         },
         {
          "line": {
           "color": "black",
           "dash": "dash",
           "width": 2
          },
          "type": "line",
          "x0": 302,
          "x1": 302,
          "xref": "x2",
          "y0": 0,
          "y1": 1,
          "yref": "y2 domain"
         },
         {
          "line": {
           "color": "black",
           "dash": "dash",
           "width": 2
          },
          "type": "line",
          "x0": 311,
          "x1": 311,
          "xref": "x2",
          "y0": 0,
          "y1": 1,
          "yref": "y2 domain"
         },
         {
          "line": {
           "color": "black",
           "dash": "dash",
           "width": 2
          },
          "type": "line",
          "x0": 321,
          "x1": 321,
          "xref": "x2",
          "y0": 0,
          "y1": 1,
          "yref": "y2 domain"
         },
         {
          "line": {
           "color": "black",
           "dash": "dash",
           "width": 2
          },
          "type": "line",
          "x0": 330,
          "x1": 330,
          "xref": "x2",
          "y0": 0,
          "y1": 1,
          "yref": "y2 domain"
         },
         {
          "line": {
           "color": "black",
           "dash": "dash",
           "width": 2
          },
          "type": "line",
          "x0": 339,
          "x1": 339,
          "xref": "x2",
          "y0": 0,
          "y1": 1,
          "yref": "y2 domain"
         },
         {
          "line": {
           "color": "black",
           "dash": "dash",
           "width": 2
          },
          "type": "line",
          "x0": 348,
          "x1": 348,
          "xref": "x2",
          "y0": 0,
          "y1": 1,
          "yref": "y2 domain"
         },
         {
          "line": {
           "color": "black",
           "dash": "dash",
           "width": 2
          },
          "type": "line",
          "x0": 357,
          "x1": 357,
          "xref": "x2",
          "y0": 0,
          "y1": 1,
          "yref": "y2 domain"
         },
         {
          "line": {
           "color": "black",
           "dash": "dash",
           "width": 2
          },
          "type": "line",
          "x0": 366,
          "x1": 366,
          "xref": "x2",
          "y0": 0,
          "y1": 1,
          "yref": "y2 domain"
         },
         {
          "line": {
           "color": "black",
           "dash": "dash",
           "width": 2
          },
          "type": "line",
          "x0": 375,
          "x1": 375,
          "xref": "x2",
          "y0": 0,
          "y1": 1,
          "yref": "y2 domain"
         },
         {
          "line": {
           "color": "black",
           "dash": "dash",
           "width": 2
          },
          "type": "line",
          "x0": 393,
          "x1": 393,
          "xref": "x2",
          "y0": 0,
          "y1": 1,
          "yref": "y2 domain"
         },
         {
          "line": {
           "color": "black",
           "dash": "dash",
           "width": 2
          },
          "type": "line",
          "x0": 403,
          "x1": 403,
          "xref": "x2",
          "y0": 0,
          "y1": 1,
          "yref": "y2 domain"
         },
         {
          "line": {
           "color": "black",
           "dash": "dash",
           "width": 2
          },
          "type": "line",
          "x0": 412,
          "x1": 412,
          "xref": "x2",
          "y0": 0,
          "y1": 1,
          "yref": "y2 domain"
         },
         {
          "line": {
           "color": "black",
           "dash": "dash",
           "width": 2
          },
          "type": "line",
          "x0": 421,
          "x1": 421,
          "xref": "x2",
          "y0": 0,
          "y1": 1,
          "yref": "y2 domain"
         },
         {
          "line": {
           "color": "black",
           "dash": "dash",
           "width": 2
          },
          "type": "line",
          "x0": 431,
          "x1": 431,
          "xref": "x2",
          "y0": 0,
          "y1": 1,
          "yref": "y2 domain"
         },
         {
          "line": {
           "color": "black",
           "dash": "dash",
           "width": 2
          },
          "type": "line",
          "x0": 440,
          "x1": 440,
          "xref": "x2",
          "y0": 0,
          "y1": 1,
          "yref": "y2 domain"
         },
         {
          "line": {
           "color": "black",
           "dash": "dash",
           "width": 2
          },
          "type": "line",
          "x0": 450,
          "x1": 450,
          "xref": "x2",
          "y0": 0,
          "y1": 1,
          "yref": "y2 domain"
         },
         {
          "line": {
           "color": "black",
           "dash": "dash",
           "width": 2
          },
          "type": "line",
          "x0": 460,
          "x1": 460,
          "xref": "x2",
          "y0": 0,
          "y1": 1,
          "yref": "y2 domain"
         },
         {
          "line": {
           "color": "black",
           "dash": "dash",
           "width": 2
          },
          "type": "line",
          "x0": 469,
          "x1": 469,
          "xref": "x2",
          "y0": 0,
          "y1": 1,
          "yref": "y2 domain"
         },
         {
          "line": {
           "color": "black",
           "dash": "dash",
           "width": 2
          },
          "type": "line",
          "x0": 478,
          "x1": 478,
          "xref": "x2",
          "y0": 0,
          "y1": 1,
          "yref": "y2 domain"
         },
         {
          "line": {
           "color": "black",
           "dash": "dash",
           "width": 2
          },
          "type": "line",
          "x0": 487,
          "x1": 487,
          "xref": "x2",
          "y0": 0,
          "y1": 1,
          "yref": "y2 domain"
         },
         {
          "line": {
           "color": "black",
           "dash": "dash",
           "width": 2
          },
          "type": "line",
          "x0": 497,
          "x1": 497,
          "xref": "x2",
          "y0": 0,
          "y1": 1,
          "yref": "y2 domain"
         },
         {
          "line": {
           "color": "black",
           "dash": "dash",
           "width": 2
          },
          "type": "line",
          "x0": 506,
          "x1": 506,
          "xref": "x2",
          "y0": 0,
          "y1": 1,
          "yref": "y2 domain"
         },
         {
          "line": {
           "color": "black",
           "width": 4
          },
          "type": "line",
          "x0": 128,
          "x1": 128,
          "xref": "x2",
          "y0": 0,
          "y1": 1,
          "yref": "y2 domain"
         },
         {
          "line": {
           "color": "black",
           "width": 4
          },
          "type": "line",
          "x0": 256,
          "x1": 256,
          "xref": "x2",
          "y0": 0,
          "y1": 1,
          "yref": "y2 domain"
         },
         {
          "line": {
           "color": "black",
           "width": 4
          },
          "type": "line",
          "x0": 384,
          "x1": 384,
          "xref": "x2",
          "y0": 0,
          "y1": 1,
          "yref": "y2 domain"
         }
        ],
        "showlegend": false,
        "template": {
         "data": {
          "bar": [
           {
            "error_x": {
             "color": "rgb(36,36,36)"
            },
            "error_y": {
             "color": "rgb(36,36,36)"
            },
            "marker": {
             "line": {
              "color": "white",
              "width": 0.5
             },
             "pattern": {
              "fillmode": "overlay",
              "size": 10,
              "solidity": 0.2
             }
            },
            "type": "bar"
           }
          ],
          "barpolar": [
           {
            "marker": {
             "line": {
              "color": "white",
              "width": 0.5
             },
             "pattern": {
              "fillmode": "overlay",
              "size": 10,
              "solidity": 0.2
             }
            },
            "type": "barpolar"
           }
          ],
          "carpet": [
           {
            "aaxis": {
             "endlinecolor": "rgb(36,36,36)",
             "gridcolor": "white",
             "linecolor": "white",
             "minorgridcolor": "white",
             "startlinecolor": "rgb(36,36,36)"
            },
            "baxis": {
             "endlinecolor": "rgb(36,36,36)",
             "gridcolor": "white",
             "linecolor": "white",
             "minorgridcolor": "white",
             "startlinecolor": "rgb(36,36,36)"
            },
            "type": "carpet"
           }
          ],
          "choropleth": [
           {
            "colorbar": {
             "outlinewidth": 1,
             "tickcolor": "rgb(36,36,36)",
             "ticks": "outside"
            },
            "type": "choropleth"
           }
          ],
          "contour": [
           {
            "colorbar": {
             "outlinewidth": 1,
             "tickcolor": "rgb(36,36,36)",
             "ticks": "outside"
            },
            "colorscale": [
             [
              0,
              "#440154"
             ],
             [
              0.1111111111111111,
              "#482878"
             ],
             [
              0.2222222222222222,
              "#3e4989"
             ],
             [
              0.3333333333333333,
              "#31688e"
             ],
             [
              0.4444444444444444,
              "#26828e"
             ],
             [
              0.5555555555555556,
              "#1f9e89"
             ],
             [
              0.6666666666666666,
              "#35b779"
             ],
             [
              0.7777777777777778,
              "#6ece58"
             ],
             [
              0.8888888888888888,
              "#b5de2b"
             ],
             [
              1,
              "#fde725"
             ]
            ],
            "type": "contour"
           }
          ],
          "contourcarpet": [
           {
            "colorbar": {
             "outlinewidth": 1,
             "tickcolor": "rgb(36,36,36)",
             "ticks": "outside"
            },
            "type": "contourcarpet"
           }
          ],
          "heatmap": [
           {
            "colorbar": {
             "outlinewidth": 1,
             "tickcolor": "rgb(36,36,36)",
             "ticks": "outside"
            },
            "colorscale": [
             [
              0,
              "#440154"
             ],
             [
              0.1111111111111111,
              "#482878"
             ],
             [
              0.2222222222222222,
              "#3e4989"
             ],
             [
              0.3333333333333333,
              "#31688e"
             ],
             [
              0.4444444444444444,
              "#26828e"
             ],
             [
              0.5555555555555556,
              "#1f9e89"
             ],
             [
              0.6666666666666666,
              "#35b779"
             ],
             [
              0.7777777777777778,
              "#6ece58"
             ],
             [
              0.8888888888888888,
              "#b5de2b"
             ],
             [
              1,
              "#fde725"
             ]
            ],
            "type": "heatmap"
           }
          ],
          "heatmapgl": [
           {
            "colorbar": {
             "outlinewidth": 1,
             "tickcolor": "rgb(36,36,36)",
             "ticks": "outside"
            },
            "colorscale": [
             [
              0,
              "#440154"
             ],
             [
              0.1111111111111111,
              "#482878"
             ],
             [
              0.2222222222222222,
              "#3e4989"
             ],
             [
              0.3333333333333333,
              "#31688e"
             ],
             [
              0.4444444444444444,
              "#26828e"
             ],
             [
              0.5555555555555556,
              "#1f9e89"
             ],
             [
              0.6666666666666666,
              "#35b779"
             ],
             [
              0.7777777777777778,
              "#6ece58"
             ],
             [
              0.8888888888888888,
              "#b5de2b"
             ],
             [
              1,
              "#fde725"
             ]
            ],
            "type": "heatmapgl"
           }
          ],
          "histogram": [
           {
            "marker": {
             "line": {
              "color": "white",
              "width": 0.6
             }
            },
            "type": "histogram"
           }
          ],
          "histogram2d": [
           {
            "colorbar": {
             "outlinewidth": 1,
             "tickcolor": "rgb(36,36,36)",
             "ticks": "outside"
            },
            "colorscale": [
             [
              0,
              "#440154"
             ],
             [
              0.1111111111111111,
              "#482878"
             ],
             [
              0.2222222222222222,
              "#3e4989"
             ],
             [
              0.3333333333333333,
              "#31688e"
             ],
             [
              0.4444444444444444,
              "#26828e"
             ],
             [
              0.5555555555555556,
              "#1f9e89"
             ],
             [
              0.6666666666666666,
              "#35b779"
             ],
             [
              0.7777777777777778,
              "#6ece58"
             ],
             [
              0.8888888888888888,
              "#b5de2b"
             ],
             [
              1,
              "#fde725"
             ]
            ],
            "type": "histogram2d"
           }
          ],
          "histogram2dcontour": [
           {
            "colorbar": {
             "outlinewidth": 1,
             "tickcolor": "rgb(36,36,36)",
             "ticks": "outside"
            },
            "colorscale": [
             [
              0,
              "#440154"
             ],
             [
              0.1111111111111111,
              "#482878"
             ],
             [
              0.2222222222222222,
              "#3e4989"
             ],
             [
              0.3333333333333333,
              "#31688e"
             ],
             [
              0.4444444444444444,
              "#26828e"
             ],
             [
              0.5555555555555556,
              "#1f9e89"
             ],
             [
              0.6666666666666666,
              "#35b779"
             ],
             [
              0.7777777777777778,
              "#6ece58"
             ],
             [
              0.8888888888888888,
              "#b5de2b"
             ],
             [
              1,
              "#fde725"
             ]
            ],
            "type": "histogram2dcontour"
           }
          ],
          "mesh3d": [
           {
            "colorbar": {
             "outlinewidth": 1,
             "tickcolor": "rgb(36,36,36)",
             "ticks": "outside"
            },
            "type": "mesh3d"
           }
          ],
          "parcoords": [
           {
            "line": {
             "colorbar": {
              "outlinewidth": 1,
              "tickcolor": "rgb(36,36,36)",
              "ticks": "outside"
             }
            },
            "type": "parcoords"
           }
          ],
          "pie": [
           {
            "automargin": true,
            "type": "pie"
           }
          ],
          "scatter": [
           {
            "fillpattern": {
             "fillmode": "overlay",
             "size": 10,
             "solidity": 0.2
            },
            "type": "scatter"
           }
          ],
          "scatter3d": [
           {
            "line": {
             "colorbar": {
              "outlinewidth": 1,
              "tickcolor": "rgb(36,36,36)",
              "ticks": "outside"
             }
            },
            "marker": {
             "colorbar": {
              "outlinewidth": 1,
              "tickcolor": "rgb(36,36,36)",
              "ticks": "outside"
             }
            },
            "type": "scatter3d"
           }
          ],
          "scattercarpet": [
           {
            "marker": {
             "colorbar": {
              "outlinewidth": 1,
              "tickcolor": "rgb(36,36,36)",
              "ticks": "outside"
             }
            },
            "type": "scattercarpet"
           }
          ],
          "scattergeo": [
           {
            "marker": {
             "colorbar": {
              "outlinewidth": 1,
              "tickcolor": "rgb(36,36,36)",
              "ticks": "outside"
             }
            },
            "type": "scattergeo"
           }
          ],
          "scattergl": [
           {
            "marker": {
             "colorbar": {
              "outlinewidth": 1,
              "tickcolor": "rgb(36,36,36)",
              "ticks": "outside"
             }
            },
            "type": "scattergl"
           }
          ],
          "scattermapbox": [
           {
            "marker": {
             "colorbar": {
              "outlinewidth": 1,
              "tickcolor": "rgb(36,36,36)",
              "ticks": "outside"
             }
            },
            "type": "scattermapbox"
           }
          ],
          "scatterpolar": [
           {
            "marker": {
             "colorbar": {
              "outlinewidth": 1,
              "tickcolor": "rgb(36,36,36)",
              "ticks": "outside"
             }
            },
            "type": "scatterpolar"
           }
          ],
          "scatterpolargl": [
           {
            "marker": {
             "colorbar": {
              "outlinewidth": 1,
              "tickcolor": "rgb(36,36,36)",
              "ticks": "outside"
             }
            },
            "type": "scatterpolargl"
           }
          ],
          "scatterternary": [
           {
            "marker": {
             "colorbar": {
              "outlinewidth": 1,
              "tickcolor": "rgb(36,36,36)",
              "ticks": "outside"
             }
            },
            "type": "scatterternary"
           }
          ],
          "surface": [
           {
            "colorbar": {
             "outlinewidth": 1,
             "tickcolor": "rgb(36,36,36)",
             "ticks": "outside"
            },
            "colorscale": [
             [
              0,
              "#440154"
             ],
             [
              0.1111111111111111,
              "#482878"
             ],
             [
              0.2222222222222222,
              "#3e4989"
             ],
             [
              0.3333333333333333,
              "#31688e"
             ],
             [
              0.4444444444444444,
              "#26828e"
             ],
             [
              0.5555555555555556,
              "#1f9e89"
             ],
             [
              0.6666666666666666,
              "#35b779"
             ],
             [
              0.7777777777777778,
              "#6ece58"
             ],
             [
              0.8888888888888888,
              "#b5de2b"
             ],
             [
              1,
              "#fde725"
             ]
            ],
            "type": "surface"
           }
          ],
          "table": [
           {
            "cells": {
             "fill": {
              "color": "rgb(237,237,237)"
             },
             "line": {
              "color": "white"
             }
            },
            "header": {
             "fill": {
              "color": "rgb(217,217,217)"
             },
             "line": {
              "color": "white"
             }
            },
            "type": "table"
           }
          ]
         },
         "layout": {
          "annotationdefaults": {
           "arrowhead": 0,
           "arrowwidth": 1
          },
          "autotypenumbers": "strict",
          "coloraxis": {
           "colorbar": {
            "outlinewidth": 1,
            "tickcolor": "rgb(36,36,36)",
            "ticks": "outside"
           }
          },
          "colorscale": {
           "diverging": [
            [
             0,
             "rgb(103,0,31)"
            ],
            [
             0.1,
             "rgb(178,24,43)"
            ],
            [
             0.2,
             "rgb(214,96,77)"
            ],
            [
             0.3,
             "rgb(244,165,130)"
            ],
            [
             0.4,
             "rgb(253,219,199)"
            ],
            [
             0.5,
             "rgb(247,247,247)"
            ],
            [
             0.6,
             "rgb(209,229,240)"
            ],
            [
             0.7,
             "rgb(146,197,222)"
            ],
            [
             0.8,
             "rgb(67,147,195)"
            ],
            [
             0.9,
             "rgb(33,102,172)"
            ],
            [
             1,
             "rgb(5,48,97)"
            ]
           ],
           "sequential": [
            [
             0,
             "#440154"
            ],
            [
             0.1111111111111111,
             "#482878"
            ],
            [
             0.2222222222222222,
             "#3e4989"
            ],
            [
             0.3333333333333333,
             "#31688e"
            ],
            [
             0.4444444444444444,
             "#26828e"
            ],
            [
             0.5555555555555556,
             "#1f9e89"
            ],
            [
             0.6666666666666666,
             "#35b779"
            ],
            [
             0.7777777777777778,
             "#6ece58"
            ],
            [
             0.8888888888888888,
             "#b5de2b"
            ],
            [
             1,
             "#fde725"
            ]
           ],
           "sequentialminus": [
            [
             0,
             "#440154"
            ],
            [
             0.1111111111111111,
             "#482878"
            ],
            [
             0.2222222222222222,
             "#3e4989"
            ],
            [
             0.3333333333333333,
             "#31688e"
            ],
            [
             0.4444444444444444,
             "#26828e"
            ],
            [
             0.5555555555555556,
             "#1f9e89"
            ],
            [
             0.6666666666666666,
             "#35b779"
            ],
            [
             0.7777777777777778,
             "#6ece58"
            ],
            [
             0.8888888888888888,
             "#b5de2b"
            ],
            [
             1,
             "#fde725"
            ]
           ]
          },
          "colorway": [
           "#1F77B4",
           "#FF7F0E",
           "#2CA02C",
           "#D62728",
           "#9467BD",
           "#8C564B",
           "#E377C2",
           "#7F7F7F",
           "#BCBD22",
           "#17BECF"
          ],
          "font": {
           "color": "rgb(36,36,36)"
          },
          "geo": {
           "bgcolor": "white",
           "lakecolor": "white",
           "landcolor": "white",
           "showlakes": true,
           "showland": true,
           "subunitcolor": "white"
          },
          "hoverlabel": {
           "align": "left"
          },
          "hovermode": "closest",
          "mapbox": {
           "style": "light"
          },
          "paper_bgcolor": "white",
          "plot_bgcolor": "white",
          "polar": {
           "angularaxis": {
            "gridcolor": "rgb(232,232,232)",
            "linecolor": "rgb(36,36,36)",
            "showgrid": false,
            "showline": true,
            "ticks": "outside"
           },
           "bgcolor": "white",
           "radialaxis": {
            "gridcolor": "rgb(232,232,232)",
            "linecolor": "rgb(36,36,36)",
            "showgrid": false,
            "showline": true,
            "ticks": "outside"
           }
          },
          "scene": {
           "xaxis": {
            "backgroundcolor": "white",
            "gridcolor": "rgb(232,232,232)",
            "gridwidth": 2,
            "linecolor": "rgb(36,36,36)",
            "showbackground": true,
            "showgrid": false,
            "showline": true,
            "ticks": "outside",
            "zeroline": false,
            "zerolinecolor": "rgb(36,36,36)"
           },
           "yaxis": {
            "backgroundcolor": "white",
            "gridcolor": "rgb(232,232,232)",
            "gridwidth": 2,
            "linecolor": "rgb(36,36,36)",
            "showbackground": true,
            "showgrid": false,
            "showline": true,
            "ticks": "outside",
            "zeroline": false,
            "zerolinecolor": "rgb(36,36,36)"
           },
           "zaxis": {
            "backgroundcolor": "white",
            "gridcolor": "rgb(232,232,232)",
            "gridwidth": 2,
            "linecolor": "rgb(36,36,36)",
            "showbackground": true,
            "showgrid": false,
            "showline": true,
            "ticks": "outside",
            "zeroline": false,
            "zerolinecolor": "rgb(36,36,36)"
           }
          },
          "shapedefaults": {
           "fillcolor": "black",
           "line": {
            "width": 0
           },
           "opacity": 0.3
          },
          "ternary": {
           "aaxis": {
            "gridcolor": "rgb(232,232,232)",
            "linecolor": "rgb(36,36,36)",
            "showgrid": false,
            "showline": true,
            "ticks": "outside"
           },
           "baxis": {
            "gridcolor": "rgb(232,232,232)",
            "linecolor": "rgb(36,36,36)",
            "showgrid": false,
            "showline": true,
            "ticks": "outside"
           },
           "bgcolor": "white",
           "caxis": {
            "gridcolor": "rgb(232,232,232)",
            "linecolor": "rgb(36,36,36)",
            "showgrid": false,
            "showline": true,
            "ticks": "outside"
           }
          },
          "title": {
           "x": 0.05
          },
          "xaxis": {
           "automargin": true,
           "gridcolor": "rgb(232,232,232)",
           "linecolor": "rgb(36,36,36)",
           "showgrid": false,
           "showline": true,
           "ticks": "outside",
           "title": {
            "standoff": 15
           },
           "zeroline": false,
           "zerolinecolor": "rgb(36,36,36)"
          },
          "yaxis": {
           "automargin": true,
           "gridcolor": "rgb(232,232,232)",
           "linecolor": "rgb(36,36,36)",
           "showgrid": false,
           "showline": true,
           "ticks": "outside",
           "title": {
            "standoff": 15
           },
           "zeroline": false,
           "zerolinecolor": "rgb(36,36,36)"
          }
         }
        },
        "title": {
         "text": "CartPole experiences (dotted lines = termination)"
        },
        "xaxis": {
         "anchor": "y",
         "domain": [
          0,
          1
         ]
        },
        "xaxis2": {
         "anchor": "y2",
         "domain": [
          0,
          1
         ]
        },
        "yaxis": {
         "anchor": "x",
         "domain": [
          0.625,
          1
         ]
        },
        "yaxis2": {
         "anchor": "x2",
         "domain": [
          0,
          0.375
         ]
        }
       }
      },
      "text/html": [
       "<div>                            <div id=\"c8d67a35-24c7-45fa-bd22-b57082e36eef\" class=\"plotly-graph-div\" style=\"height:525px; width:100%;\"></div>            <script type=\"text/javascript\">                require([\"plotly\"], function(Plotly) {                    window.PLOTLYENV=window.PLOTLYENV || {};                                    if (document.getElementById(\"c8d67a35-24c7-45fa-bd22-b57082e36eef\")) {                    Plotly.newPlot(                        \"c8d67a35-24c7-45fa-bd22-b57082e36eef\",                        [{\"marker\":{\"color\":\"#1F77B4\"},\"mode\":\"lines\",\"name\":\"posn\",\"y\":[0.031327024102211,0.032152533531188965,0.029072580859065056,0.022087056189775467,0.011194289661943913,-0.0036087208427488804,-0.022325892001390457,-0.04496141895651817,-0.07151889055967331,0.004362499341368675,0.00523264380171895,0.0021915831603109837,-0.004760379903018475,-0.015624419786036015,-0.03040298819541931,-0.04909941926598549,-0.0717172920703888,-0.09825956076383591,0.03574042767286301,0.03480760008096695,0.029965898022055626,0.0212155319750309,0.008555187843739986,-0.008017762564122677,-0.028506863862276077,-0.05291596055030823,-0.08124832063913345,0.036317892372608185,0.03640081360936165,0.03258715569972992,0.024876931682229042,0.013268427923321724,-0.002241607289761305,-0.021657617762684822,-0.04498469457030296,-0.07222782075405121,-0.10339082032442093,-0.047168031334877014,-0.047919467091560364,-0.0525781475007534,-0.06114412844181061,-0.07361898571252823,-0.09000559896230698,-0.1103077381849289,-0.13452939689159393,-0.16267389059066772,0.011538511142134666,0.011305865831673145,0.007157254498451948,-0.0009074481204152107,-0.012889678589999676,-0.02879190631210804,-0.048617132008075714,-0.07236813753843307,0.018554197624325752,0.01885511726140976,0.015248293988406658,0.007733821403235197,-0.003689745208248496,-0.0190251674503088,-0.03827612102031708,-0.06144656240940094,-0.08853985369205475,-0.03649035096168518,-0.036047372967004776,-0.039507560431957245,-0.04687080159783363,-0.05813860893249512,-0.07331392914056778,-0.09240074455738068,-0.11540351808071136,-0.14232635498046875,-0.001416464103385806,-0.0006374884396791458,-0.0037728464230895042,-0.01082239206880331,-0.02178736962378025,-0.036670178174972534,-0.0554739311337471,-0.0782017633318901,0.007152982987463474,0.006796721834689379,0.0025353424716740847,-0.00563105009496212,-0.017703939229249954,-0.03368619084358215,-0.05358166992664337,-0.07739461958408356,-0.10512885451316833,-0.010838099755346775,-0.010057550854980946,-0.013171407394111156,-0.020179789513349533,-0.031084567308425903,-0.045889172703027725,-0.06459823995828629,-0.0872170627117157,-0.1137508675456047,-0.14420372247695923,-0.04159846529364586,-0.04093317687511444,-0.044178321957588196,-0.0513337180018425,-0.06240066885948181,-0.07738174498081207,-0.09628038108348846,-0.11910023540258408,-0.14584428071975708,0.03764842450618744,0.03676556050777435,0.03198503330349922,0.02330702915787697,0.010730011388659477,-0.005749105010181665,-0.026134613901376724,-0.05043148621916771,-0.07864463329315186,-0.11077786982059479,-0.004966063424944878,-0.004373414907604456,-0.0076752775348722935,-0.01487141102552414,-0.025963345542550087,-0.04095422849059105,-0.05984848737716675,-0.08265135437250137,-0.10936813801527023,-0.1400032639503479,-0.018816854804754257,-0.018970202654600143,-0.023035073652863503,-0.031011365354061127,-0.04290042817592621,-0.058704834431409836,-0.07842795550823212,-0.10207328200340271,-0.1296435296535492,0.004959368612617254,0.004014486912637949,-0.0008399183861911297,-0.00960382167249918,-0.022278688848018646,-0.038867246359586716,-0.05937304347753525,-0.0837998241186142,-0.11215057224035263,-0.017026828601956367,-0.01644997112452984,-0.01976979896426201,-0.026986313983798027,-0.03810124471783638,-0.05311786010861397,-0.07204059511423111,-0.0948745533823967,-0.1216246709227562,-0.15229475498199463,-0.03659582883119583,-0.036789603531360626,-0.04087706655263901,-0.04885810986161232,-0.06073440983891487,-0.07650923728942871,-0.09618714451789856,-0.11977346241474152,-0.14727355539798737,-0.17869184911251068,0.025036467239260674,0.0245972853153944,0.02025608904659748,0.012012600898742676,-0.00013506771938409656,-0.016190188005566597,-0.03615698963403702,-0.06004003807902336,-0.08784336596727371,0.046165719628334045,0.046615298837423325,0.043161261826753616,0.035803742706775665,0.024541249498724937,0.009370876476168633,-0.009711327031254768,-0.03270977735519409,-0.05962851643562317,-0.03393479809165001,-0.03299494832754135,-0.03595799580216408,-0.04282372444868088,-0.05359354615211487,-0.06827033311128616,-0.08685804903507233,-0.1093611791729927,-0.13578392565250397,0.012348975986242294,0.012902341783046722,0.0095500648021698,0.0022919378243386745,-0.008873796090483665,-0.023950200527906418,-0.04294121265411377,-0.06585099548101425,-0.09268301725387573,-0.04604071378707886,-0.045983534306287766,-0.04982762411236763,-0.057572733610868454,-0.06922028213739395,-0.08477319031953812,-0.10423550009727478,-0.12761186063289642,-0.15490670502185822,-0.18612323701381683,0.014132817275822163,0.01483808271586895,0.011638267897069454,0.004533521831035614,-0.0064776018261909485,-0.021397940814495087,-0.04023133963346481,-0.06298206001520157,-0.08965393155813217,0.03398815169930458,0.03400714322924614,0.030123384669423103,0.02233673259615898,0.010645434260368347,-0.0049536521546542645,-0.024464653804898262,-0.04789206385612488,-0.0752398893237114,-0.03520779684185982,-0.03456854447722435,-0.03783688694238663,-0.0450129508972168,-0.056098368018865585,-0.07109605520963669,-0.09000977128744125,-0.11284344643354416,-0.13960029184818268,-0.03083837404847145,-0.03023364581167698,-0.033522237092256546,-0.04070392996072769,-0.05178029462695122,-0.06675451993942261,-0.0856311097741127,-0.1084154024720192,-0.13511283695697784,-0.16572801768779755,0.0355226956307888,0.03624526411294937,0.033055007457733154,0.025952009484171867,0.014934931881725788,1.2532238997664535e-06,-0.018852287903428078,0.010010052472352982,0.010467173531651497,0.0070310779847204685,-0.0002979980781674385,-0.011521607637405396,-0.0266429353505373,-0.04566648229956627,-0.06859757751226425,-0.09544169157743454,-0.12620344758033752,-0.022503063082695007,-0.022188197821378708,-0.02577754482626915,-0.03327089920639992,-0.04466967284679413,-0.059976693242788315,-0.07919583469629288,-0.10233145952224731,-0.12938757240772247,-0.0067369211465120316,-0.006398326251655817,-0.009959938935935497,-0.017421850934624672,-0.028785811737179756,-0.0440550297498703,-0.06323377788066864,-0.08632682263851166,-0.11333857476711273,-0.14427202939987183,0.046743594110012054,0.04710972309112549,0.04357655718922615,0.03614426031708717,0.024811306968331337,0.009574655443429947,-0.009569904766976833,-0.032627202570438385,-0.05960191786289215,-0.09049753844738007,-0.015403933823108673,-0.01538180187344551,-0.019272878766059875,-0.02707722783088684,-0.03879630193114281,-0.054432690143585205,-0.07398965209722519,-0.09747041016817093,-0.018185339868068695,-0.017336906865239143,-0.02039007470011711,-0.02734496258199215,-0.038203317672014236,-0.05296831950545311,-0.07164414972066879,-0.09423543512821198,-0.12074637413024902,-0.0392792709171772,-0.04007018357515335,-0.04475473612546921,-0.05333322286605835,-0.06580768525600433,-0.08218169957399368,-0.10246003419160843,-0.12664808332920074,-0.15475107729434967,-0.18677309155464172,0.017981145530939102,0.01867961883544922,0.015471570193767548,0.008357074111700058,-0.0026653511449694633,-0.017598535865545273,-0.03644624724984169,-0.0592125840485096,-0.08590110391378403,0.0016578193753957748,0.001844706479460001,-0.0018808478489518166,-0.00951874814927578,-0.0210703294724226,-0.036538124084472656,-0.05592542514204979,-0.07923560589551926,-0.10647121071815491,0.039224009960889816,0.03945144638419151,0.03576730936765671,0.028171665966510773,0.01666312664747238,0.0012390902265906334,-0.018103817477822304,-0.041369080543518066,-0.06855935603380203,0.019251814112067223,0.01892986334860325,0.014704822562634945,0.00657685287296772,-0.005455510690808296,-0.02139517478644848,-0.04124611243605614,-0.06501278281211853,-0.09269934147596359,-0.03992963954806328,-0.04085243120789528,-0.04568333551287651,-0.054422296583652496,-0.06707078218460083,-0.08363155275583267,-0.10410826653242111,-0.12850484251976013,-0.15682454407215118,0.03977341577410698,0.0404437817633152,0.03721504285931587,0.03008689358830452,0.01905737817287445,0.004123091697692871,-0.014720401726663113,-0.03747797757387161,-0.06415410339832306,0.009206200949847698,0.009737967513501644,0.006369981449097395,-0.0008975927485153079,-0.012066278606653214,-0.027139106765389442,-0.046120259910821915,-0.0690145269036293,-0.040587134659290314,-0.04072088375687599,-0.044756464660167694,-0.0526936911046505,-0.0645340234041214,-0.08028040081262589,-0.09993685781955719,-0.12350797653198242,-0.15099811553955078,-0.18241028487682343,0.023457715287804604,0.022685058414936066,0.01801311783492565,0.009441862814128399,-0.0030304156243801117,-0.019406909123063087,-0.039691925048828125,-0.06389030069112778,-0.09200664609670639,-0.12404419481754303,-0.0069371978752315044,-0.006763600744307041,-0.010499099269509315,-0.01814388483762741,-0.029699629172682762,-0.04516921564936638,-0.0645563080906868,-0.08786462992429733,-0.1150970533490181,-0.021579883992671967,-0.02128278836607933,-0.02489365078508854,-0.0324123241007328,-0.0438401997089386,-0.05917999893426895,-0.07843535393476486,-0.1016102135181427,-0.12870794534683228,-0.04985099285840988,-0.04890407249331474,-0.05185369402170181,-0.058699775487184525,-0.0694439709186554,-0.08408947288990021,-0.10264070332050323,-0.12510274350643158,-0.15148061513900757,-0.181778222322464,0.03917110711336136,0.039341431111097336,0.0356101468205452,0.027977081015706062,0.01644044741988182,0.0009970430983230472,-0.018357345834374428,-0.04162733629345894,-0.06881709396839142,-0.04696539789438248,-0.04655146971344948,-0.05003632605075836,-0.05741974711418152,-0.06870321184396744,-0.08388973772525787,-0.10298354178667068,-0.12598948180675507,-0.15291233360767365,-0.1837557554244995,0.016050007194280624,0.01691293530166149,0.013882061466574669,0.0069572580978274345,-0.003863361431285739,-0.018583251163363457,-0.03720708563923836,-0.05974021553993225,-0.0861879289150238,-0.11655441671609879,-0.020183691754937172,-0.019700177013874054,-0.023125331848859787,-0.030458969995379448,-0.041702426970005035,-0.0568583644926548,-0.07593034207820892,-0.0989222303032875,-0.1258373111486435,0.03298868611454964,0.033303990960121155,0.029711710289120674,0.0222117081284523,0.010802331380546093,-0.004519347101449966,-0.02375708892941475,-0.046914830803871155,-0.07399577647447586,-0.007142709568142891,-0.006625298876315355,-0.01002076081931591,-0.017328837886452675,-0.028550703078508377,-0.043688759207725525,-0.06274621188640594,-0.08572643995285034,-0.11263205111026764,0.03497683256864548,0.03476468846201897,0.030650688335299492,0.02263503335416317,0.010716266930103302,-0.00510853435844183,-0.024843407794833183,-0.04849293828010559,-0.07606147229671478,-0.10755203664302826,0.019842633977532387,0.01942659169435501,0.015097868628799915,0.006856641266494989,-0.005298348143696785,-0.02136956714093685,-0.04136026278138161,-0.06527380645275116,-0.0931127741932869,0.00618097186088562,0.005980284418910742,0.001873956061899662,-0.006137828342616558,-0.018056469038128853],\"type\":\"scatter\",\"xaxis\":\"x\",\"yaxis\":\"y\"},{\"marker\":{\"color\":\"#1F77B4\"},\"mode\":\"lines\",\"name\":\"posn_min\",\"y\":[-2.4000000953674316,-2.4000000953674316,-2.4000000953674316,-2.4000000953674316,-2.4000000953674316,-2.4000000953674316,-2.4000000953674316,-2.4000000953674316,-2.4000000953674316,-2.4000000953674316,-2.4000000953674316,-2.4000000953674316,-2.4000000953674316,-2.4000000953674316,-2.4000000953674316,-2.4000000953674316,-2.4000000953674316,-2.4000000953674316,-2.4000000953674316,-2.4000000953674316,-2.4000000953674316,-2.4000000953674316,-2.4000000953674316,-2.4000000953674316,-2.4000000953674316,-2.4000000953674316,-2.4000000953674316,-2.4000000953674316,-2.4000000953674316,-2.4000000953674316,-2.4000000953674316,-2.4000000953674316,-2.4000000953674316,-2.4000000953674316,-2.4000000953674316,-2.4000000953674316,-2.4000000953674316,-2.4000000953674316,-2.4000000953674316,-2.4000000953674316,-2.4000000953674316,-2.4000000953674316,-2.4000000953674316,-2.4000000953674316,-2.4000000953674316,-2.4000000953674316,-2.4000000953674316,-2.4000000953674316,-2.4000000953674316,-2.4000000953674316,-2.4000000953674316,-2.4000000953674316,-2.4000000953674316,-2.4000000953674316,-2.4000000953674316,-2.4000000953674316,-2.4000000953674316,-2.4000000953674316,-2.4000000953674316,-2.4000000953674316,-2.4000000953674316,-2.4000000953674316,-2.4000000953674316,-2.4000000953674316,-2.4000000953674316,-2.4000000953674316,-2.4000000953674316,-2.4000000953674316,-2.4000000953674316,-2.4000000953674316,-2.4000000953674316,-2.4000000953674316,-2.4000000953674316,-2.4000000953674316,-2.4000000953674316,-2.4000000953674316,-2.4000000953674316,-2.4000000953674316,-2.4000000953674316,-2.4000000953674316,-2.4000000953674316,-2.4000000953674316,-2.4000000953674316,-2.4000000953674316,-2.4000000953674316,-2.4000000953674316,-2.4000000953674316,-2.4000000953674316,-2.4000000953674316,-2.4000000953674316,-2.4000000953674316,-2.4000000953674316,-2.4000000953674316,-2.4000000953674316,-2.4000000953674316,-2.4000000953674316,-2.4000000953674316,-2.4000000953674316,-2.4000000953674316,-2.4000000953674316,-2.4000000953674316,-2.4000000953674316,-2.4000000953674316,-2.4000000953674316,-2.4000000953674316,-2.4000000953674316,-2.4000000953674316,-2.4000000953674316,-2.4000000953674316,-2.4000000953674316,-2.4000000953674316,-2.4000000953674316,-2.4000000953674316,-2.4000000953674316,-2.4000000953674316,-2.4000000953674316,-2.4000000953674316,-2.4000000953674316,-2.4000000953674316,-2.4000000953674316,-2.4000000953674316,-2.4000000953674316,-2.4000000953674316,-2.4000000953674316,-2.4000000953674316,-2.4000000953674316,-2.4000000953674316,-2.4000000953674316,-2.4000000953674316,-2.4000000953674316,-2.4000000953674316,-2.4000000953674316,-2.4000000953674316,-2.4000000953674316,-2.4000000953674316,-2.4000000953674316,-2.4000000953674316,-2.4000000953674316,-2.4000000953674316,-2.4000000953674316,-2.4000000953674316,-2.4000000953674316,-2.4000000953674316,-2.4000000953674316,-2.4000000953674316,-2.4000000953674316,-2.4000000953674316,-2.4000000953674316,-2.4000000953674316,-2.4000000953674316,-2.4000000953674316,-2.4000000953674316,-2.4000000953674316,-2.4000000953674316,-2.4000000953674316,-2.4000000953674316,-2.4000000953674316,-2.4000000953674316,-2.4000000953674316,-2.4000000953674316,-2.4000000953674316,-2.4000000953674316,-2.4000000953674316,-2.4000000953674316,-2.4000000953674316,-2.4000000953674316,-2.4000000953674316,-2.4000000953674316,-2.4000000953674316,-2.4000000953674316,-2.4000000953674316,-2.4000000953674316,-2.4000000953674316,-2.4000000953674316,-2.4000000953674316,-2.4000000953674316,-2.4000000953674316,-2.4000000953674316,-2.4000000953674316,-2.4000000953674316,-2.4000000953674316,-2.4000000953674316,-2.4000000953674316,-2.4000000953674316,-2.4000000953674316,-2.4000000953674316,-2.4000000953674316,-2.4000000953674316,-2.4000000953674316,-2.4000000953674316,-2.4000000953674316,-2.4000000953674316,-2.4000000953674316,-2.4000000953674316,-2.4000000953674316,-2.4000000953674316,-2.4000000953674316,-2.4000000953674316,-2.4000000953674316,-2.4000000953674316,-2.4000000953674316,-2.4000000953674316,-2.4000000953674316,-2.4000000953674316,-2.4000000953674316,-2.4000000953674316,-2.4000000953674316,-2.4000000953674316,-2.4000000953674316,-2.4000000953674316,-2.4000000953674316,-2.4000000953674316,-2.4000000953674316,-2.4000000953674316,-2.4000000953674316,-2.4000000953674316,-2.4000000953674316,-2.4000000953674316,-2.4000000953674316,-2.4000000953674316,-2.4000000953674316,-2.4000000953674316,-2.4000000953674316,-2.4000000953674316,-2.4000000953674316,-2.4000000953674316,-2.4000000953674316,-2.4000000953674316,-2.4000000953674316,-2.4000000953674316,-2.4000000953674316,-2.4000000953674316,-2.4000000953674316,-2.4000000953674316,-2.4000000953674316,-2.4000000953674316,-2.4000000953674316,-2.4000000953674316,-2.4000000953674316,-2.4000000953674316,-2.4000000953674316,-2.4000000953674316,-2.4000000953674316,-2.4000000953674316,-2.4000000953674316,-2.4000000953674316,-2.4000000953674316,-2.4000000953674316,-2.4000000953674316,-2.4000000953674316,-2.4000000953674316,-2.4000000953674316,-2.4000000953674316,-2.4000000953674316,-2.4000000953674316,-2.4000000953674316,-2.4000000953674316,-2.4000000953674316,-2.4000000953674316,-2.4000000953674316,-2.4000000953674316,-2.4000000953674316,-2.4000000953674316,-2.4000000953674316,-2.4000000953674316,-2.4000000953674316,-2.4000000953674316,-2.4000000953674316,-2.4000000953674316,-2.4000000953674316,-2.4000000953674316,-2.4000000953674316,-2.4000000953674316,-2.4000000953674316,-2.4000000953674316,-2.4000000953674316,-2.4000000953674316,-2.4000000953674316,-2.4000000953674316,-2.4000000953674316,-2.4000000953674316,-2.4000000953674316,-2.4000000953674316,-2.4000000953674316,-2.4000000953674316,-2.4000000953674316,-2.4000000953674316,-2.4000000953674316,-2.4000000953674316,-2.4000000953674316,-2.4000000953674316,-2.4000000953674316,-2.4000000953674316,-2.4000000953674316,-2.4000000953674316,-2.4000000953674316,-2.4000000953674316,-2.4000000953674316,-2.4000000953674316,-2.4000000953674316,-2.4000000953674316,-2.4000000953674316,-2.4000000953674316,-2.4000000953674316,-2.4000000953674316,-2.4000000953674316,-2.4000000953674316,-2.4000000953674316,-2.4000000953674316,-2.4000000953674316,-2.4000000953674316,-2.4000000953674316,-2.4000000953674316,-2.4000000953674316,-2.4000000953674316,-2.4000000953674316,-2.4000000953674316,-2.4000000953674316,-2.4000000953674316,-2.4000000953674316,-2.4000000953674316,-2.4000000953674316,-2.4000000953674316,-2.4000000953674316,-2.4000000953674316,-2.4000000953674316,-2.4000000953674316,-2.4000000953674316,-2.4000000953674316,-2.4000000953674316,-2.4000000953674316,-2.4000000953674316,-2.4000000953674316,-2.4000000953674316,-2.4000000953674316,-2.4000000953674316,-2.4000000953674316,-2.4000000953674316,-2.4000000953674316,-2.4000000953674316,-2.4000000953674316,-2.4000000953674316,-2.4000000953674316,-2.4000000953674316,-2.4000000953674316,-2.4000000953674316,-2.4000000953674316,-2.4000000953674316,-2.4000000953674316,-2.4000000953674316,-2.4000000953674316,-2.4000000953674316,-2.4000000953674316,-2.4000000953674316,-2.4000000953674316,-2.4000000953674316,-2.4000000953674316,-2.4000000953674316,-2.4000000953674316,-2.4000000953674316,-2.4000000953674316,-2.4000000953674316,-2.4000000953674316,-2.4000000953674316,-2.4000000953674316,-2.4000000953674316,-2.4000000953674316,-2.4000000953674316,-2.4000000953674316,-2.4000000953674316,-2.4000000953674316,-2.4000000953674316,-2.4000000953674316,-2.4000000953674316,-2.4000000953674316,-2.4000000953674316,-2.4000000953674316,-2.4000000953674316,-2.4000000953674316,-2.4000000953674316,-2.4000000953674316,-2.4000000953674316,-2.4000000953674316,-2.4000000953674316,-2.4000000953674316,-2.4000000953674316,-2.4000000953674316,-2.4000000953674316,-2.4000000953674316,-2.4000000953674316,-2.4000000953674316,-2.4000000953674316,-2.4000000953674316,-2.4000000953674316,-2.4000000953674316,-2.4000000953674316,-2.4000000953674316,-2.4000000953674316,-2.4000000953674316,-2.4000000953674316,-2.4000000953674316,-2.4000000953674316,-2.4000000953674316,-2.4000000953674316,-2.4000000953674316,-2.4000000953674316,-2.4000000953674316,-2.4000000953674316,-2.4000000953674316,-2.4000000953674316,-2.4000000953674316,-2.4000000953674316,-2.4000000953674316,-2.4000000953674316,-2.4000000953674316,-2.4000000953674316,-2.4000000953674316,-2.4000000953674316,-2.4000000953674316,-2.4000000953674316,-2.4000000953674316,-2.4000000953674316,-2.4000000953674316,-2.4000000953674316,-2.4000000953674316,-2.4000000953674316,-2.4000000953674316,-2.4000000953674316,-2.4000000953674316,-2.4000000953674316,-2.4000000953674316,-2.4000000953674316,-2.4000000953674316,-2.4000000953674316,-2.4000000953674316,-2.4000000953674316,-2.4000000953674316,-2.4000000953674316,-2.4000000953674316,-2.4000000953674316,-2.4000000953674316,-2.4000000953674316,-2.4000000953674316,-2.4000000953674316,-2.4000000953674316,-2.4000000953674316,-2.4000000953674316,-2.4000000953674316,-2.4000000953674316,-2.4000000953674316,-2.4000000953674316,-2.4000000953674316,-2.4000000953674316,-2.4000000953674316,-2.4000000953674316,-2.4000000953674316,-2.4000000953674316,-2.4000000953674316,-2.4000000953674316,-2.4000000953674316,-2.4000000953674316,-2.4000000953674316,-2.4000000953674316,-2.4000000953674316,-2.4000000953674316,-2.4000000953674316,-2.4000000953674316,-2.4000000953674316,-2.4000000953674316,-2.4000000953674316,-2.4000000953674316,-2.4000000953674316,-2.4000000953674316,-2.4000000953674316,-2.4000000953674316,-2.4000000953674316,-2.4000000953674316,-2.4000000953674316,-2.4000000953674316,-2.4000000953674316,-2.4000000953674316,-2.4000000953674316,-2.4000000953674316,-2.4000000953674316,-2.4000000953674316,-2.4000000953674316,-2.4000000953674316,-2.4000000953674316,-2.4000000953674316,-2.4000000953674316,-2.4000000953674316,-2.4000000953674316,-2.4000000953674316,-2.4000000953674316,-2.4000000953674316,-2.4000000953674316,-2.4000000953674316,-2.4000000953674316,-2.4000000953674316,-2.4000000953674316,-2.4000000953674316,-2.4000000953674316,-2.4000000953674316,-2.4000000953674316,-2.4000000953674316,-2.4000000953674316,-2.4000000953674316,-2.4000000953674316,-2.4000000953674316,-2.4000000953674316,-2.4000000953674316,-2.4000000953674316],\"type\":\"scatter\",\"xaxis\":\"x\",\"yaxis\":\"y\"},{\"marker\":{\"color\":\"#1F77B4\"},\"mode\":\"lines\",\"name\":\"posn_max\",\"y\":[2.4000000953674316,2.4000000953674316,2.4000000953674316,2.4000000953674316,2.4000000953674316,2.4000000953674316,2.4000000953674316,2.4000000953674316,2.4000000953674316,2.4000000953674316,2.4000000953674316,2.4000000953674316,2.4000000953674316,2.4000000953674316,2.4000000953674316,2.4000000953674316,2.4000000953674316,2.4000000953674316,2.4000000953674316,2.4000000953674316,2.4000000953674316,2.4000000953674316,2.4000000953674316,2.4000000953674316,2.4000000953674316,2.4000000953674316,2.4000000953674316,2.4000000953674316,2.4000000953674316,2.4000000953674316,2.4000000953674316,2.4000000953674316,2.4000000953674316,2.4000000953674316,2.4000000953674316,2.4000000953674316,2.4000000953674316,2.4000000953674316,2.4000000953674316,2.4000000953674316,2.4000000953674316,2.4000000953674316,2.4000000953674316,2.4000000953674316,2.4000000953674316,2.4000000953674316,2.4000000953674316,2.4000000953674316,2.4000000953674316,2.4000000953674316,2.4000000953674316,2.4000000953674316,2.4000000953674316,2.4000000953674316,2.4000000953674316,2.4000000953674316,2.4000000953674316,2.4000000953674316,2.4000000953674316,2.4000000953674316,2.4000000953674316,2.4000000953674316,2.4000000953674316,2.4000000953674316,2.4000000953674316,2.4000000953674316,2.4000000953674316,2.4000000953674316,2.4000000953674316,2.4000000953674316,2.4000000953674316,2.4000000953674316,2.4000000953674316,2.4000000953674316,2.4000000953674316,2.4000000953674316,2.4000000953674316,2.4000000953674316,2.4000000953674316,2.4000000953674316,2.4000000953674316,2.4000000953674316,2.4000000953674316,2.4000000953674316,2.4000000953674316,2.4000000953674316,2.4000000953674316,2.4000000953674316,2.4000000953674316,2.4000000953674316,2.4000000953674316,2.4000000953674316,2.4000000953674316,2.4000000953674316,2.4000000953674316,2.4000000953674316,2.4000000953674316,2.4000000953674316,2.4000000953674316,2.4000000953674316,2.4000000953674316,2.4000000953674316,2.4000000953674316,2.4000000953674316,2.4000000953674316,2.4000000953674316,2.4000000953674316,2.4000000953674316,2.4000000953674316,2.4000000953674316,2.4000000953674316,2.4000000953674316,2.4000000953674316,2.4000000953674316,2.4000000953674316,2.4000000953674316,2.4000000953674316,2.4000000953674316,2.4000000953674316,2.4000000953674316,2.4000000953674316,2.4000000953674316,2.4000000953674316,2.4000000953674316,2.4000000953674316,2.4000000953674316,2.4000000953674316,2.4000000953674316,2.4000000953674316,2.4000000953674316,2.4000000953674316,2.4000000953674316,2.4000000953674316,2.4000000953674316,2.4000000953674316,2.4000000953674316,2.4000000953674316,2.4000000953674316,2.4000000953674316,2.4000000953674316,2.4000000953674316,2.4000000953674316,2.4000000953674316,2.4000000953674316,2.4000000953674316,2.4000000953674316,2.4000000953674316,2.4000000953674316,2.4000000953674316,2.4000000953674316,2.4000000953674316,2.4000000953674316,2.4000000953674316,2.4000000953674316,2.4000000953674316,2.4000000953674316,2.4000000953674316,2.4000000953674316,2.4000000953674316,2.4000000953674316,2.4000000953674316,2.4000000953674316,2.4000000953674316,2.4000000953674316,2.4000000953674316,2.4000000953674316,2.4000000953674316,2.4000000953674316,2.4000000953674316,2.4000000953674316,2.4000000953674316,2.4000000953674316,2.4000000953674316,2.4000000953674316,2.4000000953674316,2.4000000953674316,2.4000000953674316,2.4000000953674316,2.4000000953674316,2.4000000953674316,2.4000000953674316,2.4000000953674316,2.4000000953674316,2.4000000953674316,2.4000000953674316,2.4000000953674316,2.4000000953674316,2.4000000953674316,2.4000000953674316,2.4000000953674316,2.4000000953674316,2.4000000953674316,2.4000000953674316,2.4000000953674316,2.4000000953674316,2.4000000953674316,2.4000000953674316,2.4000000953674316,2.4000000953674316,2.4000000953674316,2.4000000953674316,2.4000000953674316,2.4000000953674316,2.4000000953674316,2.4000000953674316,2.4000000953674316,2.4000000953674316,2.4000000953674316,2.4000000953674316,2.4000000953674316,2.4000000953674316,2.4000000953674316,2.4000000953674316,2.4000000953674316,2.4000000953674316,2.4000000953674316,2.4000000953674316,2.4000000953674316,2.4000000953674316,2.4000000953674316,2.4000000953674316,2.4000000953674316,2.4000000953674316,2.4000000953674316,2.4000000953674316,2.4000000953674316,2.4000000953674316,2.4000000953674316,2.4000000953674316,2.4000000953674316,2.4000000953674316,2.4000000953674316,2.4000000953674316,2.4000000953674316,2.4000000953674316,2.4000000953674316,2.4000000953674316,2.4000000953674316,2.4000000953674316,2.4000000953674316,2.4000000953674316,2.4000000953674316,2.4000000953674316,2.4000000953674316,2.4000000953674316,2.4000000953674316,2.4000000953674316,2.4000000953674316,2.4000000953674316,2.4000000953674316,2.4000000953674316,2.4000000953674316,2.4000000953674316,2.4000000953674316,2.4000000953674316,2.4000000953674316,2.4000000953674316,2.4000000953674316,2.4000000953674316,2.4000000953674316,2.4000000953674316,2.4000000953674316,2.4000000953674316,2.4000000953674316,2.4000000953674316,2.4000000953674316,2.4000000953674316,2.4000000953674316,2.4000000953674316,2.4000000953674316,2.4000000953674316,2.4000000953674316,2.4000000953674316,2.4000000953674316,2.4000000953674316,2.4000000953674316,2.4000000953674316,2.4000000953674316,2.4000000953674316,2.4000000953674316,2.4000000953674316,2.4000000953674316,2.4000000953674316,2.4000000953674316,2.4000000953674316,2.4000000953674316,2.4000000953674316,2.4000000953674316,2.4000000953674316,2.4000000953674316,2.4000000953674316,2.4000000953674316,2.4000000953674316,2.4000000953674316,2.4000000953674316,2.4000000953674316,2.4000000953674316,2.4000000953674316,2.4000000953674316,2.4000000953674316,2.4000000953674316,2.4000000953674316,2.4000000953674316,2.4000000953674316,2.4000000953674316,2.4000000953674316,2.4000000953674316,2.4000000953674316,2.4000000953674316,2.4000000953674316,2.4000000953674316,2.4000000953674316,2.4000000953674316,2.4000000953674316,2.4000000953674316,2.4000000953674316,2.4000000953674316,2.4000000953674316,2.4000000953674316,2.4000000953674316,2.4000000953674316,2.4000000953674316,2.4000000953674316,2.4000000953674316,2.4000000953674316,2.4000000953674316,2.4000000953674316,2.4000000953674316,2.4000000953674316,2.4000000953674316,2.4000000953674316,2.4000000953674316,2.4000000953674316,2.4000000953674316,2.4000000953674316,2.4000000953674316,2.4000000953674316,2.4000000953674316,2.4000000953674316,2.4000000953674316,2.4000000953674316,2.4000000953674316,2.4000000953674316,2.4000000953674316,2.4000000953674316,2.4000000953674316,2.4000000953674316,2.4000000953674316,2.4000000953674316,2.4000000953674316,2.4000000953674316,2.4000000953674316,2.4000000953674316,2.4000000953674316,2.4000000953674316,2.4000000953674316,2.4000000953674316,2.4000000953674316,2.4000000953674316,2.4000000953674316,2.4000000953674316,2.4000000953674316,2.4000000953674316,2.4000000953674316,2.4000000953674316,2.4000000953674316,2.4000000953674316,2.4000000953674316,2.4000000953674316,2.4000000953674316,2.4000000953674316,2.4000000953674316,2.4000000953674316,2.4000000953674316,2.4000000953674316,2.4000000953674316,2.4000000953674316,2.4000000953674316,2.4000000953674316,2.4000000953674316,2.4000000953674316,2.4000000953674316,2.4000000953674316,2.4000000953674316,2.4000000953674316,2.4000000953674316,2.4000000953674316,2.4000000953674316,2.4000000953674316,2.4000000953674316,2.4000000953674316,2.4000000953674316,2.4000000953674316,2.4000000953674316,2.4000000953674316,2.4000000953674316,2.4000000953674316,2.4000000953674316,2.4000000953674316,2.4000000953674316,2.4000000953674316,2.4000000953674316,2.4000000953674316,2.4000000953674316,2.4000000953674316,2.4000000953674316,2.4000000953674316,2.4000000953674316,2.4000000953674316,2.4000000953674316,2.4000000953674316,2.4000000953674316,2.4000000953674316,2.4000000953674316,2.4000000953674316,2.4000000953674316,2.4000000953674316,2.4000000953674316,2.4000000953674316,2.4000000953674316,2.4000000953674316,2.4000000953674316,2.4000000953674316,2.4000000953674316,2.4000000953674316,2.4000000953674316,2.4000000953674316,2.4000000953674316,2.4000000953674316,2.4000000953674316,2.4000000953674316,2.4000000953674316,2.4000000953674316,2.4000000953674316,2.4000000953674316,2.4000000953674316,2.4000000953674316,2.4000000953674316,2.4000000953674316,2.4000000953674316,2.4000000953674316,2.4000000953674316,2.4000000953674316,2.4000000953674316,2.4000000953674316,2.4000000953674316,2.4000000953674316,2.4000000953674316,2.4000000953674316,2.4000000953674316,2.4000000953674316,2.4000000953674316,2.4000000953674316,2.4000000953674316,2.4000000953674316,2.4000000953674316,2.4000000953674316,2.4000000953674316,2.4000000953674316,2.4000000953674316,2.4000000953674316,2.4000000953674316,2.4000000953674316,2.4000000953674316,2.4000000953674316,2.4000000953674316,2.4000000953674316,2.4000000953674316,2.4000000953674316,2.4000000953674316,2.4000000953674316,2.4000000953674316,2.4000000953674316,2.4000000953674316,2.4000000953674316,2.4000000953674316,2.4000000953674316,2.4000000953674316,2.4000000953674316,2.4000000953674316,2.4000000953674316,2.4000000953674316,2.4000000953674316,2.4000000953674316,2.4000000953674316,2.4000000953674316,2.4000000953674316,2.4000000953674316,2.4000000953674316,2.4000000953674316,2.4000000953674316,2.4000000953674316,2.4000000953674316,2.4000000953674316,2.4000000953674316,2.4000000953674316,2.4000000953674316,2.4000000953674316,2.4000000953674316,2.4000000953674316,2.4000000953674316,2.4000000953674316,2.4000000953674316,2.4000000953674316,2.4000000953674316,2.4000000953674316,2.4000000953674316,2.4000000953674316,2.4000000953674316,2.4000000953674316,2.4000000953674316,2.4000000953674316],\"type\":\"scatter\",\"xaxis\":\"x\",\"yaxis\":\"y\"},{\"marker\":{\"color\":\"#FF7F0E\"},\"mode\":\"lines\",\"name\":\"angle\",\"y\":[0.010663577355444431,0.011122570373117924,0.017502129077911377,0.029805080965161324,0.04807090386748314,0.07237471640110016,0.10282553732395172,0.1395636945962906,0.18275724351406097,0.03158535435795784,0.030590832233428955,0.03564588353037834,0.04674438759684563,0.06391683220863342,0.0872294157743454,0.11678236722946167,0.15270736813545227,0.19516399502754211,0.02296554483473301,0.022316856309771538,0.02766495570540428,0.03900580480694771,0.0563720241189003,0.07983198761940002,0.10948813706636429,0.14547446370124817,0.1879529505968094,-0.02002881094813347,-0.020183436572551727,-0.014612124301493168,-0.003315823385491967,0.013741354458034039,0.036631301045417786,0.0654604509472847,0.10036761313676834,0.1415209025144577,0.1891135722398758,0.017062442377209663,0.01735682040452957,0.023611541837453842,0.035828378051519394,0.054045721888542175,0.07833756506443024,0.10881174355745316,0.14560732245445251,0.18889091908931732,0.049720995128154755,0.050682663917541504,0.05780326575040817,0.07108834385871887,0.09057959914207458,0.11635363847017288,0.14851993322372437,0.18721771240234375,0.01884467341005802,0.018622515723109245,0.024371730163693428,0.03609089553356171,0.05381525680422783,0.07761574536561966,0.10759730637073517,0.14389632642269135,0.18667703866958618,0.002535432344302535,0.002155916066840291,0.007646035868674517,0.019003398716449738,0.036262396723032,0.05949333682656288,0.08880084753036499,0.12432151287794113,0.16622057557106018,0.04340435191988945,0.04311994090676308,0.04895664006471634,0.06091263145208359,0.07902248203754425,0.10335612297058105,0.1340169906616211,0.17113924026489258,0.009430003352463245,0.009105825796723366,0.014694512821733952,0.026194017380475998,0.043639037758111954,0.06710009276866913,0.09668190777301788,0.13252097368240356,0.17478208243846893,-0.02728424035012722,-0.027037866413593292,-0.0211124699562788,-0.009506383910775185,0.007818862795829773,0.030937686562538147,0.05995899811387062,0.09502402693033218,0.13630332052707672,0.18399257957935333,0.028709830716252327,0.028188569471240044,0.03369932994246483,0.04523886740207672,0.06284051388502121,0.08657326549291611,0.11654001474380493,0.15287497639656067,0.1957399994134903,-0.016388293355703354,-0.01708773523569107,-0.012037825770676136,-0.0012430254137143493,0.015329090878367424,0.03774704039096832,0.06611402332782745,0.10056577622890472,0.1412675678730011,0.18841011822223663,-0.026935778558254242,-0.02783173695206642,-0.023046409711241722,-0.012585568241775036,0.003581924131140113,0.025523370131850243,0.05334090813994408,0.08716950565576553,0.12717412412166595,0.17354586720466614,0.03277026116847992,0.0325886569917202,0.03846384584903717,0.05039463937282562,0.06841635704040527,0.09259983152151108,0.12304960191249847,0.1599011868238449,0.20331734418869019,0.025351310148835182,0.025427596643567085,0.03151533380150795,0.04361492395401001,0.06176332011818886,0.08603304624557495,0.11653036624193192,0.15339265763759613,0.1967846304178238,-0.01968051679432392,-0.019773520529270172,-0.014138343743979931,-0.002775537548586726,0.014351177960634232,0.037314072251319885,0.06621993333101273,0.10120788961648941,0.14244630932807922,0.19012868404388428,-0.029654476791620255,-0.030129849910736084,-0.02494160085916519,-0.014092765748500824,0.002450492000207305,0.024758098646998405,0.05293471738696098,0.08711770921945572,0.12747424840927124,0.17419743537902832,-0.0014809025451540947,-0.0005194281693547964,0.006286352872848511,0.018942514434456825,0.037491798400878906,0.062012579292058945,0.09261716157197952,0.12944921851158142,0.1726803183555603,0.004122685641050339,0.003676468040794134,0.009109866805374622,0.020420070737600327,0.03764105215668678,0.06084269657731056,0.09012920409440994,0.1256367415189743,0.1675301045179367,0.0016068585682660341,0.0008385897963307798,0.005934110376983881,0.016888577491044998,0.03373397886753082,0.05653829500079155,0.08540397882461548,0.12046566605567932,0.16188690066337585,0.011300330050289631,0.012134925462305546,0.018894055858254433,0.03158288076519966,0.050243161618709564,0.07495220005512238,0.10582104325294495,0.142991840839386,0.18663416802883148,-0.00406641187146306,-0.004941712599247694,1.092994261853164e-05,0.010785974562168121,0.027414746582508087,0.049964629113674164,0.07853759080171585,0.11326796561479568,0.15431928634643555,0.20188003778457642,0.009294101968407631,0.008814296685159206,0.014246506616473198,0.025587715208530426,0.042871661484241486,0.06616795063018799,0.09558044373989105,0.13124483823776245,0.1733252853155136,0.00108888850081712,0.0015949488151818514,0.007961534895002842,0.02019183151423931,0.0383257232606411,0.06243882328271866,0.09264078736305237,0.12907281517982483,0.17190420627593994,0.01832869090139866,0.018902884796261787,0.025445258244872093,0.037959303706884384,0.05648508667945862,0.08109819144010544,0.11190792173147202,0.1490546017885208,0.1927058845758438,-0.03086760826408863,-0.03170450031757355,-0.02688567154109478,-0.016416514292359352,-0.00026553316274657845,0.02163492888212204,0.049387384206056595,0.0831272155046463,0.12301988154649734,0.16925710439682007,0.037653710693120956,0.03759752959012985,0.0436277762055397,0.05574400722980499,0.07398222386837006,0.09841381758451462,0.12914374470710754,-0.03120989352464676,-0.03209960088133812,-0.02733580954372883,-0.016924269497394562,-0.0008338272455148399,0.021002843976020813,0.04868794232606888,0.08235655725002289,0.12217390537261963,0.16833153367042542,0.006226566154509783,0.005526690743863583,0.010719634592533112,0.021800996735692024,0.03880317881703377,0.06179451942443848,0.09087773412466049,0.12618757784366608,0.16788749396800995,-0.007721532601863146,-0.007455164100974798,-0.0013840605970472097,0.010493491776287556,0.028215976431965828,0.05185772478580475,0.08152732253074646,0.11736524850130081,0.1595405787229538,0.20824651420116425,-0.010837516747415066,-0.011463011614978313,-0.006303627043962479,0.004636665340512991,0.0213907603174448,0.04402760788798332,0.0726507380604744,0.10739608854055405,0.14842887222766876,0.19593942165374756,0.03912094235420227,0.03967206925153732,0.04631849378347397,0.059063415974378586,0.07794637978076935,0.10304216295480728,0.13445881009101868,0.17233476042747498,-0.0029090114403516054,-0.0025214937049895525,0.00370129756629467,0.01576182246208191,0.03369927406311035,0.05758863687515259,0.08753903955221176,0.12369131296873093,0.16621463000774384,-0.02980925515294075,-0.02904035523533821,-0.022608840838074684,-0.010509624145925045,0.007299129385501146,0.03089509718120098,0.06039030849933624,0.09592892229557037,0.13768413662910461,0.18585404753684998,0.014443626627326012,0.014256712049245834,0.020013893023133278,0.031713977456092834,0.0493924543261528,0.07312056422233582,0.1030036211013794,0.13917846977710724,0.18180999159812927,0.03621179983019829,0.03608817234635353,0.042042236775159836,0.05407315120100975,0.07221654057502747,0.09654345363378525,0.12715856730937958,0.1641974002122879,0.20782248675823212,0.03293561190366745,0.032931726425886154,0.038985636085271835,0.05109722912311554,0.06930288672447205,0.0936744436621666,0.12431737035512924,0.16136804223060608,0.20498989522457123,0.002282850444316864,0.0017152972286567092,0.0070157903246581554,0.01818075217306614,0.03524341434240341,0.05827295407652855,0.08737295120954514,0.12267903238534927,0.16435560584068298,0.020194947719573975,0.020107809454202652,0.026000382378697395,0.0378720797598362,0.055758945643901825,0.07973267138004303,0.1098988801240921,0.1463945209980011,0.18938426673412323,-0.011490486562252045,-0.010543129406869411,-0.0038150607142597437,0.00869979988783598,0.02704424038529396,0.051296766847372055,0.08156996220350266,0.11800805479288101,0.16078351438045502,-0.00928056426346302,-0.009888224303722382,-0.004701076075434685,0.006277026608586311,0.02307908982038498,0.04577415809035301,0.07446584850549698,0.10929011553525925,-0.002094870200380683,-0.002775392262265086,0.002384510124102235,0.013380537740886211,0.030245229601860046,0.05304713174700737,0.08188928663730621,0.11690695583820343,0.1582644134759903,0.2061506062746048,-0.010877180844545364,-0.010843700729310513,-0.005025594495236874,0.006577378138899803,0.024002261459827423,0.04732201620936394,0.07664398103952408,0.11210757493972778,0.15388108789920807,0.20215728878974915,0.02378377877175808,0.024696312844753265,0.03161066770553589,0.04453236609697342,0.06350340694189072,0.08860116451978683,0.11993647366762161,0.15765085816383362,0.20191264152526855,0.019621599465608597,0.019207041710615158,0.024768654257059097,0.03630383685231209,0.05384664982557297,0.07746689766645432,0.10726843774318695,0.14338664710521698,0.18598486483097076,-0.020159877836704254,-0.020531905815005302,-0.015178839676082134,-0.004103034734725952,0.012730015441775322,0.035390861332416534,0.06398466974496841,0.09864907711744308,0.13955117762088776,0.18688340485095978,-0.0028690334875136614,-0.002322479384019971,0.004059601109474897,0.016280673444271088,0.034380923956632614,0.058436278253793716,0.08855676651000977,0.12488403171300888,0.16758795082569122,-0.01257561706006527,-0.01339391153305769,-0.008438429795205593,0.002285617869347334,0.018809909000992775,0.04120221734046936,0.06956499069929123,0.1040332019329071,0.1447712779045105,0.19196902215480804,-0.029280882328748703,-0.029020702466368675,-0.02309447154402733,-0.011500422842800617,0.005800008773803711,0.028881339356303215,0.05785258859395981,0.09285513311624527,0.13405971229076385,0.18166235089302063,0.02221648022532463,0.021653911098837852,0.027083519846200943,0.0385017916560173,0.055941879749298096,0.07947266101837158,0.10919709503650665,0.1452496349811554,0.18779271841049194,0.018279891461133957,0.018920041620731354,0.0255280714482069,0.03810787945985794,0.05669992417097092,0.08138018101453781,0.11225831508636475,0.14947497844696045,0.1931980848312378,0.03784801810979843,0.03705265745520592,0.042344897985458374,0.05371984839439392,0.0712091401219368,0.09487995505332947,0.12483333051204681,0.16120144724845886,0.2041439563035965,-0.0020316075533628464,-0.002738938434049487,0.0023945553693920374,0.013364404439926147,0.03020298294723034,0.052978672087192535,0.0817943587899208,0.11678516864776611,0.1581152379512787,0.20597340166568756,0.037113916128873825,0.03666466474533081,0.0422985702753067,0.054012831300497055,0.07184112071990967,0.09585263580083847,0.12615026533603668,0.16286790370941162,0.20616666972637177,0.01129094883799553,0.01068422757089138,0.016001982614398003,0.027240410447120667,0.04443245753645897],\"type\":\"scatter\",\"xaxis\":\"x2\",\"yaxis\":\"y2\"},{\"marker\":{\"color\":\"#FF7F0E\"},\"mode\":\"lines\",\"name\":\"angle_min\",\"y\":[-0.2094999998807907,-0.2094999998807907,-0.2094999998807907,-0.2094999998807907,-0.2094999998807907,-0.2094999998807907,-0.2094999998807907,-0.2094999998807907,-0.2094999998807907,-0.2094999998807907,-0.2094999998807907,-0.2094999998807907,-0.2094999998807907,-0.2094999998807907,-0.2094999998807907,-0.2094999998807907,-0.2094999998807907,-0.2094999998807907,-0.2094999998807907,-0.2094999998807907,-0.2094999998807907,-0.2094999998807907,-0.2094999998807907,-0.2094999998807907,-0.2094999998807907,-0.2094999998807907,-0.2094999998807907,-0.2094999998807907,-0.2094999998807907,-0.2094999998807907,-0.2094999998807907,-0.2094999998807907,-0.2094999998807907,-0.2094999998807907,-0.2094999998807907,-0.2094999998807907,-0.2094999998807907,-0.2094999998807907,-0.2094999998807907,-0.2094999998807907,-0.2094999998807907,-0.2094999998807907,-0.2094999998807907,-0.2094999998807907,-0.2094999998807907,-0.2094999998807907,-0.2094999998807907,-0.2094999998807907,-0.2094999998807907,-0.2094999998807907,-0.2094999998807907,-0.2094999998807907,-0.2094999998807907,-0.2094999998807907,-0.2094999998807907,-0.2094999998807907,-0.2094999998807907,-0.2094999998807907,-0.2094999998807907,-0.2094999998807907,-0.2094999998807907,-0.2094999998807907,-0.2094999998807907,-0.2094999998807907,-0.2094999998807907,-0.2094999998807907,-0.2094999998807907,-0.2094999998807907,-0.2094999998807907,-0.2094999998807907,-0.2094999998807907,-0.2094999998807907,-0.2094999998807907,-0.2094999998807907,-0.2094999998807907,-0.2094999998807907,-0.2094999998807907,-0.2094999998807907,-0.2094999998807907,-0.2094999998807907,-0.2094999998807907,-0.2094999998807907,-0.2094999998807907,-0.2094999998807907,-0.2094999998807907,-0.2094999998807907,-0.2094999998807907,-0.2094999998807907,-0.2094999998807907,-0.2094999998807907,-0.2094999998807907,-0.2094999998807907,-0.2094999998807907,-0.2094999998807907,-0.2094999998807907,-0.2094999998807907,-0.2094999998807907,-0.2094999998807907,-0.2094999998807907,-0.2094999998807907,-0.2094999998807907,-0.2094999998807907,-0.2094999998807907,-0.2094999998807907,-0.2094999998807907,-0.2094999998807907,-0.2094999998807907,-0.2094999998807907,-0.2094999998807907,-0.2094999998807907,-0.2094999998807907,-0.2094999998807907,-0.2094999998807907,-0.2094999998807907,-0.2094999998807907,-0.2094999998807907,-0.2094999998807907,-0.2094999998807907,-0.2094999998807907,-0.2094999998807907,-0.2094999998807907,-0.2094999998807907,-0.2094999998807907,-0.2094999998807907,-0.2094999998807907,-0.2094999998807907,-0.2094999998807907,-0.2094999998807907,-0.2094999998807907,-0.2094999998807907,-0.2094999998807907,-0.2094999998807907,-0.2094999998807907,-0.2094999998807907,-0.2094999998807907,-0.2094999998807907,-0.2094999998807907,-0.2094999998807907,-0.2094999998807907,-0.2094999998807907,-0.2094999998807907,-0.2094999998807907,-0.2094999998807907,-0.2094999998807907,-0.2094999998807907,-0.2094999998807907,-0.2094999998807907,-0.2094999998807907,-0.2094999998807907,-0.2094999998807907,-0.2094999998807907,-0.2094999998807907,-0.2094999998807907,-0.2094999998807907,-0.2094999998807907,-0.2094999998807907,-0.2094999998807907,-0.2094999998807907,-0.2094999998807907,-0.2094999998807907,-0.2094999998807907,-0.2094999998807907,-0.2094999998807907,-0.2094999998807907,-0.2094999998807907,-0.2094999998807907,-0.2094999998807907,-0.2094999998807907,-0.2094999998807907,-0.2094999998807907,-0.2094999998807907,-0.2094999998807907,-0.2094999998807907,-0.2094999998807907,-0.2094999998807907,-0.2094999998807907,-0.2094999998807907,-0.2094999998807907,-0.2094999998807907,-0.2094999998807907,-0.2094999998807907,-0.2094999998807907,-0.2094999998807907,-0.2094999998807907,-0.2094999998807907,-0.2094999998807907,-0.2094999998807907,-0.2094999998807907,-0.2094999998807907,-0.2094999998807907,-0.2094999998807907,-0.2094999998807907,-0.2094999998807907,-0.2094999998807907,-0.2094999998807907,-0.2094999998807907,-0.2094999998807907,-0.2094999998807907,-0.2094999998807907,-0.2094999998807907,-0.2094999998807907,-0.2094999998807907,-0.2094999998807907,-0.2094999998807907,-0.2094999998807907,-0.2094999998807907,-0.2094999998807907,-0.2094999998807907,-0.2094999998807907,-0.2094999998807907,-0.2094999998807907,-0.2094999998807907,-0.2094999998807907,-0.2094999998807907,-0.2094999998807907,-0.2094999998807907,-0.2094999998807907,-0.2094999998807907,-0.2094999998807907,-0.2094999998807907,-0.2094999998807907,-0.2094999998807907,-0.2094999998807907,-0.2094999998807907,-0.2094999998807907,-0.2094999998807907,-0.2094999998807907,-0.2094999998807907,-0.2094999998807907,-0.2094999998807907,-0.2094999998807907,-0.2094999998807907,-0.2094999998807907,-0.2094999998807907,-0.2094999998807907,-0.2094999998807907,-0.2094999998807907,-0.2094999998807907,-0.2094999998807907,-0.2094999998807907,-0.2094999998807907,-0.2094999998807907,-0.2094999998807907,-0.2094999998807907,-0.2094999998807907,-0.2094999998807907,-0.2094999998807907,-0.2094999998807907,-0.2094999998807907,-0.2094999998807907,-0.2094999998807907,-0.2094999998807907,-0.2094999998807907,-0.2094999998807907,-0.2094999998807907,-0.2094999998807907,-0.2094999998807907,-0.2094999998807907,-0.2094999998807907,-0.2094999998807907,-0.2094999998807907,-0.2094999998807907,-0.2094999998807907,-0.2094999998807907,-0.2094999998807907,-0.2094999998807907,-0.2094999998807907,-0.2094999998807907,-0.2094999998807907,-0.2094999998807907,-0.2094999998807907,-0.2094999998807907,-0.2094999998807907,-0.2094999998807907,-0.2094999998807907,-0.2094999998807907,-0.2094999998807907,-0.2094999998807907,-0.2094999998807907,-0.2094999998807907,-0.2094999998807907,-0.2094999998807907,-0.2094999998807907,-0.2094999998807907,-0.2094999998807907,-0.2094999998807907,-0.2094999998807907,-0.2094999998807907,-0.2094999998807907,-0.2094999998807907,-0.2094999998807907,-0.2094999998807907,-0.2094999998807907,-0.2094999998807907,-0.2094999998807907,-0.2094999998807907,-0.2094999998807907,-0.2094999998807907,-0.2094999998807907,-0.2094999998807907,-0.2094999998807907,-0.2094999998807907,-0.2094999998807907,-0.2094999998807907,-0.2094999998807907,-0.2094999998807907,-0.2094999998807907,-0.2094999998807907,-0.2094999998807907,-0.2094999998807907,-0.2094999998807907,-0.2094999998807907,-0.2094999998807907,-0.2094999998807907,-0.2094999998807907,-0.2094999998807907,-0.2094999998807907,-0.2094999998807907,-0.2094999998807907,-0.2094999998807907,-0.2094999998807907,-0.2094999998807907,-0.2094999998807907,-0.2094999998807907,-0.2094999998807907,-0.2094999998807907,-0.2094999998807907,-0.2094999998807907,-0.2094999998807907,-0.2094999998807907,-0.2094999998807907,-0.2094999998807907,-0.2094999998807907,-0.2094999998807907,-0.2094999998807907,-0.2094999998807907,-0.2094999998807907,-0.2094999998807907,-0.2094999998807907,-0.2094999998807907,-0.2094999998807907,-0.2094999998807907,-0.2094999998807907,-0.2094999998807907,-0.2094999998807907,-0.2094999998807907,-0.2094999998807907,-0.2094999998807907,-0.2094999998807907,-0.2094999998807907,-0.2094999998807907,-0.2094999998807907,-0.2094999998807907,-0.2094999998807907,-0.2094999998807907,-0.2094999998807907,-0.2094999998807907,-0.2094999998807907,-0.2094999998807907,-0.2094999998807907,-0.2094999998807907,-0.2094999998807907,-0.2094999998807907,-0.2094999998807907,-0.2094999998807907,-0.2094999998807907,-0.2094999998807907,-0.2094999998807907,-0.2094999998807907,-0.2094999998807907,-0.2094999998807907,-0.2094999998807907,-0.2094999998807907,-0.2094999998807907,-0.2094999998807907,-0.2094999998807907,-0.2094999998807907,-0.2094999998807907,-0.2094999998807907,-0.2094999998807907,-0.2094999998807907,-0.2094999998807907,-0.2094999998807907,-0.2094999998807907,-0.2094999998807907,-0.2094999998807907,-0.2094999998807907,-0.2094999998807907,-0.2094999998807907,-0.2094999998807907,-0.2094999998807907,-0.2094999998807907,-0.2094999998807907,-0.2094999998807907,-0.2094999998807907,-0.2094999998807907,-0.2094999998807907,-0.2094999998807907,-0.2094999998807907,-0.2094999998807907,-0.2094999998807907,-0.2094999998807907,-0.2094999998807907,-0.2094999998807907,-0.2094999998807907,-0.2094999998807907,-0.2094999998807907,-0.2094999998807907,-0.2094999998807907,-0.2094999998807907,-0.2094999998807907,-0.2094999998807907,-0.2094999998807907,-0.2094999998807907,-0.2094999998807907,-0.2094999998807907,-0.2094999998807907,-0.2094999998807907,-0.2094999998807907,-0.2094999998807907,-0.2094999998807907,-0.2094999998807907,-0.2094999998807907,-0.2094999998807907,-0.2094999998807907,-0.2094999998807907,-0.2094999998807907,-0.2094999998807907,-0.2094999998807907,-0.2094999998807907,-0.2094999998807907,-0.2094999998807907,-0.2094999998807907,-0.2094999998807907,-0.2094999998807907,-0.2094999998807907,-0.2094999998807907,-0.2094999998807907,-0.2094999998807907,-0.2094999998807907,-0.2094999998807907,-0.2094999998807907,-0.2094999998807907,-0.2094999998807907,-0.2094999998807907,-0.2094999998807907,-0.2094999998807907,-0.2094999998807907,-0.2094999998807907,-0.2094999998807907,-0.2094999998807907,-0.2094999998807907,-0.2094999998807907,-0.2094999998807907,-0.2094999998807907,-0.2094999998807907,-0.2094999998807907,-0.2094999998807907,-0.2094999998807907,-0.2094999998807907,-0.2094999998807907,-0.2094999998807907,-0.2094999998807907,-0.2094999998807907,-0.2094999998807907,-0.2094999998807907,-0.2094999998807907,-0.2094999998807907,-0.2094999998807907,-0.2094999998807907,-0.2094999998807907,-0.2094999998807907,-0.2094999998807907,-0.2094999998807907,-0.2094999998807907,-0.2094999998807907,-0.2094999998807907,-0.2094999998807907,-0.2094999998807907,-0.2094999998807907,-0.2094999998807907,-0.2094999998807907,-0.2094999998807907,-0.2094999998807907,-0.2094999998807907,-0.2094999998807907,-0.2094999998807907,-0.2094999998807907,-0.2094999998807907,-0.2094999998807907,-0.2094999998807907,-0.2094999998807907,-0.2094999998807907,-0.2094999998807907,-0.2094999998807907,-0.2094999998807907,-0.2094999998807907,-0.2094999998807907,-0.2094999998807907,-0.2094999998807907,-0.2094999998807907,-0.2094999998807907,-0.2094999998807907,-0.2094999998807907,-0.2094999998807907,-0.2094999998807907,-0.2094999998807907,-0.2094999998807907,-0.2094999998807907,-0.2094999998807907,-0.2094999998807907,-0.2094999998807907],\"type\":\"scatter\",\"xaxis\":\"x2\",\"yaxis\":\"y2\"},{\"marker\":{\"color\":\"#FF7F0E\"},\"mode\":\"lines\",\"name\":\"angle_max\",\"y\":[0.2094999998807907,0.2094999998807907,0.2094999998807907,0.2094999998807907,0.2094999998807907,0.2094999998807907,0.2094999998807907,0.2094999998807907,0.2094999998807907,0.2094999998807907,0.2094999998807907,0.2094999998807907,0.2094999998807907,0.2094999998807907,0.2094999998807907,0.2094999998807907,0.2094999998807907,0.2094999998807907,0.2094999998807907,0.2094999998807907,0.2094999998807907,0.2094999998807907,0.2094999998807907,0.2094999998807907,0.2094999998807907,0.2094999998807907,0.2094999998807907,0.2094999998807907,0.2094999998807907,0.2094999998807907,0.2094999998807907,0.2094999998807907,0.2094999998807907,0.2094999998807907,0.2094999998807907,0.2094999998807907,0.2094999998807907,0.2094999998807907,0.2094999998807907,0.2094999998807907,0.2094999998807907,0.2094999998807907,0.2094999998807907,0.2094999998807907,0.2094999998807907,0.2094999998807907,0.2094999998807907,0.2094999998807907,0.2094999998807907,0.2094999998807907,0.2094999998807907,0.2094999998807907,0.2094999998807907,0.2094999998807907,0.2094999998807907,0.2094999998807907,0.2094999998807907,0.2094999998807907,0.2094999998807907,0.2094999998807907,0.2094999998807907,0.2094999998807907,0.2094999998807907,0.2094999998807907,0.2094999998807907,0.2094999998807907,0.2094999998807907,0.2094999998807907,0.2094999998807907,0.2094999998807907,0.2094999998807907,0.2094999998807907,0.2094999998807907,0.2094999998807907,0.2094999998807907,0.2094999998807907,0.2094999998807907,0.2094999998807907,0.2094999998807907,0.2094999998807907,0.2094999998807907,0.2094999998807907,0.2094999998807907,0.2094999998807907,0.2094999998807907,0.2094999998807907,0.2094999998807907,0.2094999998807907,0.2094999998807907,0.2094999998807907,0.2094999998807907,0.2094999998807907,0.2094999998807907,0.2094999998807907,0.2094999998807907,0.2094999998807907,0.2094999998807907,0.2094999998807907,0.2094999998807907,0.2094999998807907,0.2094999998807907,0.2094999998807907,0.2094999998807907,0.2094999998807907,0.2094999998807907,0.2094999998807907,0.2094999998807907,0.2094999998807907,0.2094999998807907,0.2094999998807907,0.2094999998807907,0.2094999998807907,0.2094999998807907,0.2094999998807907,0.2094999998807907,0.2094999998807907,0.2094999998807907,0.2094999998807907,0.2094999998807907,0.2094999998807907,0.2094999998807907,0.2094999998807907,0.2094999998807907,0.2094999998807907,0.2094999998807907,0.2094999998807907,0.2094999998807907,0.2094999998807907,0.2094999998807907,0.2094999998807907,0.2094999998807907,0.2094999998807907,0.2094999998807907,0.2094999998807907,0.2094999998807907,0.2094999998807907,0.2094999998807907,0.2094999998807907,0.2094999998807907,0.2094999998807907,0.2094999998807907,0.2094999998807907,0.2094999998807907,0.2094999998807907,0.2094999998807907,0.2094999998807907,0.2094999998807907,0.2094999998807907,0.2094999998807907,0.2094999998807907,0.2094999998807907,0.2094999998807907,0.2094999998807907,0.2094999998807907,0.2094999998807907,0.2094999998807907,0.2094999998807907,0.2094999998807907,0.2094999998807907,0.2094999998807907,0.2094999998807907,0.2094999998807907,0.2094999998807907,0.2094999998807907,0.2094999998807907,0.2094999998807907,0.2094999998807907,0.2094999998807907,0.2094999998807907,0.2094999998807907,0.2094999998807907,0.2094999998807907,0.2094999998807907,0.2094999998807907,0.2094999998807907,0.2094999998807907,0.2094999998807907,0.2094999998807907,0.2094999998807907,0.2094999998807907,0.2094999998807907,0.2094999998807907,0.2094999998807907,0.2094999998807907,0.2094999998807907,0.2094999998807907,0.2094999998807907,0.2094999998807907,0.2094999998807907,0.2094999998807907,0.2094999998807907,0.2094999998807907,0.2094999998807907,0.2094999998807907,0.2094999998807907,0.2094999998807907,0.2094999998807907,0.2094999998807907,0.2094999998807907,0.2094999998807907,0.2094999998807907,0.2094999998807907,0.2094999998807907,0.2094999998807907,0.2094999998807907,0.2094999998807907,0.2094999998807907,0.2094999998807907,0.2094999998807907,0.2094999998807907,0.2094999998807907,0.2094999998807907,0.2094999998807907,0.2094999998807907,0.2094999998807907,0.2094999998807907,0.2094999998807907,0.2094999998807907,0.2094999998807907,0.2094999998807907,0.2094999998807907,0.2094999998807907,0.2094999998807907,0.2094999998807907,0.2094999998807907,0.2094999998807907,0.2094999998807907,0.2094999998807907,0.2094999998807907,0.2094999998807907,0.2094999998807907,0.2094999998807907,0.2094999998807907,0.2094999998807907,0.2094999998807907,0.2094999998807907,0.2094999998807907,0.2094999998807907,0.2094999998807907,0.2094999998807907,0.2094999998807907,0.2094999998807907,0.2094999998807907,0.2094999998807907,0.2094999998807907,0.2094999998807907,0.2094999998807907,0.2094999998807907,0.2094999998807907,0.2094999998807907,0.2094999998807907,0.2094999998807907,0.2094999998807907,0.2094999998807907,0.2094999998807907,0.2094999998807907,0.2094999998807907,0.2094999998807907,0.2094999998807907,0.2094999998807907,0.2094999998807907,0.2094999998807907,0.2094999998807907,0.2094999998807907,0.2094999998807907,0.2094999998807907,0.2094999998807907,0.2094999998807907,0.2094999998807907,0.2094999998807907,0.2094999998807907,0.2094999998807907,0.2094999998807907,0.2094999998807907,0.2094999998807907,0.2094999998807907,0.2094999998807907,0.2094999998807907,0.2094999998807907,0.2094999998807907,0.2094999998807907,0.2094999998807907,0.2094999998807907,0.2094999998807907,0.2094999998807907,0.2094999998807907,0.2094999998807907,0.2094999998807907,0.2094999998807907,0.2094999998807907,0.2094999998807907,0.2094999998807907,0.2094999998807907,0.2094999998807907,0.2094999998807907,0.2094999998807907,0.2094999998807907,0.2094999998807907,0.2094999998807907,0.2094999998807907,0.2094999998807907,0.2094999998807907,0.2094999998807907,0.2094999998807907,0.2094999998807907,0.2094999998807907,0.2094999998807907,0.2094999998807907,0.2094999998807907,0.2094999998807907,0.2094999998807907,0.2094999998807907,0.2094999998807907,0.2094999998807907,0.2094999998807907,0.2094999998807907,0.2094999998807907,0.2094999998807907,0.2094999998807907,0.2094999998807907,0.2094999998807907,0.2094999998807907,0.2094999998807907,0.2094999998807907,0.2094999998807907,0.2094999998807907,0.2094999998807907,0.2094999998807907,0.2094999998807907,0.2094999998807907,0.2094999998807907,0.2094999998807907,0.2094999998807907,0.2094999998807907,0.2094999998807907,0.2094999998807907,0.2094999998807907,0.2094999998807907,0.2094999998807907,0.2094999998807907,0.2094999998807907,0.2094999998807907,0.2094999998807907,0.2094999998807907,0.2094999998807907,0.2094999998807907,0.2094999998807907,0.2094999998807907,0.2094999998807907,0.2094999998807907,0.2094999998807907,0.2094999998807907,0.2094999998807907,0.2094999998807907,0.2094999998807907,0.2094999998807907,0.2094999998807907,0.2094999998807907,0.2094999998807907,0.2094999998807907,0.2094999998807907,0.2094999998807907,0.2094999998807907,0.2094999998807907,0.2094999998807907,0.2094999998807907,0.2094999998807907,0.2094999998807907,0.2094999998807907,0.2094999998807907,0.2094999998807907,0.2094999998807907,0.2094999998807907,0.2094999998807907,0.2094999998807907,0.2094999998807907,0.2094999998807907,0.2094999998807907,0.2094999998807907,0.2094999998807907,0.2094999998807907,0.2094999998807907,0.2094999998807907,0.2094999998807907,0.2094999998807907,0.2094999998807907,0.2094999998807907,0.2094999998807907,0.2094999998807907,0.2094999998807907,0.2094999998807907,0.2094999998807907,0.2094999998807907,0.2094999998807907,0.2094999998807907,0.2094999998807907,0.2094999998807907,0.2094999998807907,0.2094999998807907,0.2094999998807907,0.2094999998807907,0.2094999998807907,0.2094999998807907,0.2094999998807907,0.2094999998807907,0.2094999998807907,0.2094999998807907,0.2094999998807907,0.2094999998807907,0.2094999998807907,0.2094999998807907,0.2094999998807907,0.2094999998807907,0.2094999998807907,0.2094999998807907,0.2094999998807907,0.2094999998807907,0.2094999998807907,0.2094999998807907,0.2094999998807907,0.2094999998807907,0.2094999998807907,0.2094999998807907,0.2094999998807907,0.2094999998807907,0.2094999998807907,0.2094999998807907,0.2094999998807907,0.2094999998807907,0.2094999998807907,0.2094999998807907,0.2094999998807907,0.2094999998807907,0.2094999998807907,0.2094999998807907,0.2094999998807907,0.2094999998807907,0.2094999998807907,0.2094999998807907,0.2094999998807907,0.2094999998807907,0.2094999998807907,0.2094999998807907,0.2094999998807907,0.2094999998807907,0.2094999998807907,0.2094999998807907,0.2094999998807907,0.2094999998807907,0.2094999998807907,0.2094999998807907,0.2094999998807907,0.2094999998807907,0.2094999998807907,0.2094999998807907,0.2094999998807907,0.2094999998807907,0.2094999998807907,0.2094999998807907,0.2094999998807907,0.2094999998807907,0.2094999998807907,0.2094999998807907,0.2094999998807907,0.2094999998807907,0.2094999998807907,0.2094999998807907,0.2094999998807907,0.2094999998807907,0.2094999998807907,0.2094999998807907,0.2094999998807907,0.2094999998807907,0.2094999998807907,0.2094999998807907,0.2094999998807907,0.2094999998807907,0.2094999998807907,0.2094999998807907,0.2094999998807907,0.2094999998807907,0.2094999998807907,0.2094999998807907,0.2094999998807907,0.2094999998807907,0.2094999998807907,0.2094999998807907,0.2094999998807907,0.2094999998807907,0.2094999998807907,0.2094999998807907,0.2094999998807907,0.2094999998807907,0.2094999998807907,0.2094999998807907,0.2094999998807907,0.2094999998807907,0.2094999998807907,0.2094999998807907,0.2094999998807907,0.2094999998807907,0.2094999998807907,0.2094999998807907,0.2094999998807907,0.2094999998807907,0.2094999998807907,0.2094999998807907,0.2094999998807907,0.2094999998807907,0.2094999998807907,0.2094999998807907,0.2094999998807907],\"type\":\"scatter\",\"xaxis\":\"x2\",\"yaxis\":\"y2\"}],                        {\"template\":{\"data\":{\"barpolar\":[{\"marker\":{\"line\":{\"color\":\"white\",\"width\":0.5},\"pattern\":{\"fillmode\":\"overlay\",\"size\":10,\"solidity\":0.2}},\"type\":\"barpolar\"}],\"bar\":[{\"error_x\":{\"color\":\"rgb(36,36,36)\"},\"error_y\":{\"color\":\"rgb(36,36,36)\"},\"marker\":{\"line\":{\"color\":\"white\",\"width\":0.5},\"pattern\":{\"fillmode\":\"overlay\",\"size\":10,\"solidity\":0.2}},\"type\":\"bar\"}],\"carpet\":[{\"aaxis\":{\"endlinecolor\":\"rgb(36,36,36)\",\"gridcolor\":\"white\",\"linecolor\":\"white\",\"minorgridcolor\":\"white\",\"startlinecolor\":\"rgb(36,36,36)\"},\"baxis\":{\"endlinecolor\":\"rgb(36,36,36)\",\"gridcolor\":\"white\",\"linecolor\":\"white\",\"minorgridcolor\":\"white\",\"startlinecolor\":\"rgb(36,36,36)\"},\"type\":\"carpet\"}],\"choropleth\":[{\"colorbar\":{\"outlinewidth\":1,\"tickcolor\":\"rgb(36,36,36)\",\"ticks\":\"outside\"},\"type\":\"choropleth\"}],\"contourcarpet\":[{\"colorbar\":{\"outlinewidth\":1,\"tickcolor\":\"rgb(36,36,36)\",\"ticks\":\"outside\"},\"type\":\"contourcarpet\"}],\"contour\":[{\"colorbar\":{\"outlinewidth\":1,\"tickcolor\":\"rgb(36,36,36)\",\"ticks\":\"outside\"},\"colorscale\":[[0.0,\"#440154\"],[0.1111111111111111,\"#482878\"],[0.2222222222222222,\"#3e4989\"],[0.3333333333333333,\"#31688e\"],[0.4444444444444444,\"#26828e\"],[0.5555555555555556,\"#1f9e89\"],[0.6666666666666666,\"#35b779\"],[0.7777777777777778,\"#6ece58\"],[0.8888888888888888,\"#b5de2b\"],[1.0,\"#fde725\"]],\"type\":\"contour\"}],\"heatmapgl\":[{\"colorbar\":{\"outlinewidth\":1,\"tickcolor\":\"rgb(36,36,36)\",\"ticks\":\"outside\"},\"colorscale\":[[0.0,\"#440154\"],[0.1111111111111111,\"#482878\"],[0.2222222222222222,\"#3e4989\"],[0.3333333333333333,\"#31688e\"],[0.4444444444444444,\"#26828e\"],[0.5555555555555556,\"#1f9e89\"],[0.6666666666666666,\"#35b779\"],[0.7777777777777778,\"#6ece58\"],[0.8888888888888888,\"#b5de2b\"],[1.0,\"#fde725\"]],\"type\":\"heatmapgl\"}],\"heatmap\":[{\"colorbar\":{\"outlinewidth\":1,\"tickcolor\":\"rgb(36,36,36)\",\"ticks\":\"outside\"},\"colorscale\":[[0.0,\"#440154\"],[0.1111111111111111,\"#482878\"],[0.2222222222222222,\"#3e4989\"],[0.3333333333333333,\"#31688e\"],[0.4444444444444444,\"#26828e\"],[0.5555555555555556,\"#1f9e89\"],[0.6666666666666666,\"#35b779\"],[0.7777777777777778,\"#6ece58\"],[0.8888888888888888,\"#b5de2b\"],[1.0,\"#fde725\"]],\"type\":\"heatmap\"}],\"histogram2dcontour\":[{\"colorbar\":{\"outlinewidth\":1,\"tickcolor\":\"rgb(36,36,36)\",\"ticks\":\"outside\"},\"colorscale\":[[0.0,\"#440154\"],[0.1111111111111111,\"#482878\"],[0.2222222222222222,\"#3e4989\"],[0.3333333333333333,\"#31688e\"],[0.4444444444444444,\"#26828e\"],[0.5555555555555556,\"#1f9e89\"],[0.6666666666666666,\"#35b779\"],[0.7777777777777778,\"#6ece58\"],[0.8888888888888888,\"#b5de2b\"],[1.0,\"#fde725\"]],\"type\":\"histogram2dcontour\"}],\"histogram2d\":[{\"colorbar\":{\"outlinewidth\":1,\"tickcolor\":\"rgb(36,36,36)\",\"ticks\":\"outside\"},\"colorscale\":[[0.0,\"#440154\"],[0.1111111111111111,\"#482878\"],[0.2222222222222222,\"#3e4989\"],[0.3333333333333333,\"#31688e\"],[0.4444444444444444,\"#26828e\"],[0.5555555555555556,\"#1f9e89\"],[0.6666666666666666,\"#35b779\"],[0.7777777777777778,\"#6ece58\"],[0.8888888888888888,\"#b5de2b\"],[1.0,\"#fde725\"]],\"type\":\"histogram2d\"}],\"histogram\":[{\"marker\":{\"line\":{\"color\":\"white\",\"width\":0.6}},\"type\":\"histogram\"}],\"mesh3d\":[{\"colorbar\":{\"outlinewidth\":1,\"tickcolor\":\"rgb(36,36,36)\",\"ticks\":\"outside\"},\"type\":\"mesh3d\"}],\"parcoords\":[{\"line\":{\"colorbar\":{\"outlinewidth\":1,\"tickcolor\":\"rgb(36,36,36)\",\"ticks\":\"outside\"}},\"type\":\"parcoords\"}],\"pie\":[{\"automargin\":true,\"type\":\"pie\"}],\"scatter3d\":[{\"line\":{\"colorbar\":{\"outlinewidth\":1,\"tickcolor\":\"rgb(36,36,36)\",\"ticks\":\"outside\"}},\"marker\":{\"colorbar\":{\"outlinewidth\":1,\"tickcolor\":\"rgb(36,36,36)\",\"ticks\":\"outside\"}},\"type\":\"scatter3d\"}],\"scattercarpet\":[{\"marker\":{\"colorbar\":{\"outlinewidth\":1,\"tickcolor\":\"rgb(36,36,36)\",\"ticks\":\"outside\"}},\"type\":\"scattercarpet\"}],\"scattergeo\":[{\"marker\":{\"colorbar\":{\"outlinewidth\":1,\"tickcolor\":\"rgb(36,36,36)\",\"ticks\":\"outside\"}},\"type\":\"scattergeo\"}],\"scattergl\":[{\"marker\":{\"colorbar\":{\"outlinewidth\":1,\"tickcolor\":\"rgb(36,36,36)\",\"ticks\":\"outside\"}},\"type\":\"scattergl\"}],\"scattermapbox\":[{\"marker\":{\"colorbar\":{\"outlinewidth\":1,\"tickcolor\":\"rgb(36,36,36)\",\"ticks\":\"outside\"}},\"type\":\"scattermapbox\"}],\"scatterpolargl\":[{\"marker\":{\"colorbar\":{\"outlinewidth\":1,\"tickcolor\":\"rgb(36,36,36)\",\"ticks\":\"outside\"}},\"type\":\"scatterpolargl\"}],\"scatterpolar\":[{\"marker\":{\"colorbar\":{\"outlinewidth\":1,\"tickcolor\":\"rgb(36,36,36)\",\"ticks\":\"outside\"}},\"type\":\"scatterpolar\"}],\"scatter\":[{\"fillpattern\":{\"fillmode\":\"overlay\",\"size\":10,\"solidity\":0.2},\"type\":\"scatter\"}],\"scatterternary\":[{\"marker\":{\"colorbar\":{\"outlinewidth\":1,\"tickcolor\":\"rgb(36,36,36)\",\"ticks\":\"outside\"}},\"type\":\"scatterternary\"}],\"surface\":[{\"colorbar\":{\"outlinewidth\":1,\"tickcolor\":\"rgb(36,36,36)\",\"ticks\":\"outside\"},\"colorscale\":[[0.0,\"#440154\"],[0.1111111111111111,\"#482878\"],[0.2222222222222222,\"#3e4989\"],[0.3333333333333333,\"#31688e\"],[0.4444444444444444,\"#26828e\"],[0.5555555555555556,\"#1f9e89\"],[0.6666666666666666,\"#35b779\"],[0.7777777777777778,\"#6ece58\"],[0.8888888888888888,\"#b5de2b\"],[1.0,\"#fde725\"]],\"type\":\"surface\"}],\"table\":[{\"cells\":{\"fill\":{\"color\":\"rgb(237,237,237)\"},\"line\":{\"color\":\"white\"}},\"header\":{\"fill\":{\"color\":\"rgb(217,217,217)\"},\"line\":{\"color\":\"white\"}},\"type\":\"table\"}]},\"layout\":{\"annotationdefaults\":{\"arrowhead\":0,\"arrowwidth\":1},\"autotypenumbers\":\"strict\",\"coloraxis\":{\"colorbar\":{\"outlinewidth\":1,\"tickcolor\":\"rgb(36,36,36)\",\"ticks\":\"outside\"}},\"colorscale\":{\"diverging\":[[0.0,\"rgb(103,0,31)\"],[0.1,\"rgb(178,24,43)\"],[0.2,\"rgb(214,96,77)\"],[0.3,\"rgb(244,165,130)\"],[0.4,\"rgb(253,219,199)\"],[0.5,\"rgb(247,247,247)\"],[0.6,\"rgb(209,229,240)\"],[0.7,\"rgb(146,197,222)\"],[0.8,\"rgb(67,147,195)\"],[0.9,\"rgb(33,102,172)\"],[1.0,\"rgb(5,48,97)\"]],\"sequential\":[[0.0,\"#440154\"],[0.1111111111111111,\"#482878\"],[0.2222222222222222,\"#3e4989\"],[0.3333333333333333,\"#31688e\"],[0.4444444444444444,\"#26828e\"],[0.5555555555555556,\"#1f9e89\"],[0.6666666666666666,\"#35b779\"],[0.7777777777777778,\"#6ece58\"],[0.8888888888888888,\"#b5de2b\"],[1.0,\"#fde725\"]],\"sequentialminus\":[[0.0,\"#440154\"],[0.1111111111111111,\"#482878\"],[0.2222222222222222,\"#3e4989\"],[0.3333333333333333,\"#31688e\"],[0.4444444444444444,\"#26828e\"],[0.5555555555555556,\"#1f9e89\"],[0.6666666666666666,\"#35b779\"],[0.7777777777777778,\"#6ece58\"],[0.8888888888888888,\"#b5de2b\"],[1.0,\"#fde725\"]]},\"colorway\":[\"#1F77B4\",\"#FF7F0E\",\"#2CA02C\",\"#D62728\",\"#9467BD\",\"#8C564B\",\"#E377C2\",\"#7F7F7F\",\"#BCBD22\",\"#17BECF\"],\"font\":{\"color\":\"rgb(36,36,36)\"},\"geo\":{\"bgcolor\":\"white\",\"lakecolor\":\"white\",\"landcolor\":\"white\",\"showlakes\":true,\"showland\":true,\"subunitcolor\":\"white\"},\"hoverlabel\":{\"align\":\"left\"},\"hovermode\":\"closest\",\"mapbox\":{\"style\":\"light\"},\"paper_bgcolor\":\"white\",\"plot_bgcolor\":\"white\",\"polar\":{\"angularaxis\":{\"gridcolor\":\"rgb(232,232,232)\",\"linecolor\":\"rgb(36,36,36)\",\"showgrid\":false,\"showline\":true,\"ticks\":\"outside\"},\"bgcolor\":\"white\",\"radialaxis\":{\"gridcolor\":\"rgb(232,232,232)\",\"linecolor\":\"rgb(36,36,36)\",\"showgrid\":false,\"showline\":true,\"ticks\":\"outside\"}},\"scene\":{\"xaxis\":{\"backgroundcolor\":\"white\",\"gridcolor\":\"rgb(232,232,232)\",\"gridwidth\":2,\"linecolor\":\"rgb(36,36,36)\",\"showbackground\":true,\"showgrid\":false,\"showline\":true,\"ticks\":\"outside\",\"zeroline\":false,\"zerolinecolor\":\"rgb(36,36,36)\"},\"yaxis\":{\"backgroundcolor\":\"white\",\"gridcolor\":\"rgb(232,232,232)\",\"gridwidth\":2,\"linecolor\":\"rgb(36,36,36)\",\"showbackground\":true,\"showgrid\":false,\"showline\":true,\"ticks\":\"outside\",\"zeroline\":false,\"zerolinecolor\":\"rgb(36,36,36)\"},\"zaxis\":{\"backgroundcolor\":\"white\",\"gridcolor\":\"rgb(232,232,232)\",\"gridwidth\":2,\"linecolor\":\"rgb(36,36,36)\",\"showbackground\":true,\"showgrid\":false,\"showline\":true,\"ticks\":\"outside\",\"zeroline\":false,\"zerolinecolor\":\"rgb(36,36,36)\"}},\"shapedefaults\":{\"fillcolor\":\"black\",\"line\":{\"width\":0},\"opacity\":0.3},\"ternary\":{\"aaxis\":{\"gridcolor\":\"rgb(232,232,232)\",\"linecolor\":\"rgb(36,36,36)\",\"showgrid\":false,\"showline\":true,\"ticks\":\"outside\"},\"baxis\":{\"gridcolor\":\"rgb(232,232,232)\",\"linecolor\":\"rgb(36,36,36)\",\"showgrid\":false,\"showline\":true,\"ticks\":\"outside\"},\"bgcolor\":\"white\",\"caxis\":{\"gridcolor\":\"rgb(232,232,232)\",\"linecolor\":\"rgb(36,36,36)\",\"showgrid\":false,\"showline\":true,\"ticks\":\"outside\"}},\"title\":{\"x\":0.05},\"xaxis\":{\"automargin\":true,\"gridcolor\":\"rgb(232,232,232)\",\"linecolor\":\"rgb(36,36,36)\",\"showgrid\":false,\"showline\":true,\"ticks\":\"outside\",\"title\":{\"standoff\":15},\"zeroline\":false,\"zerolinecolor\":\"rgb(36,36,36)\"},\"yaxis\":{\"automargin\":true,\"gridcolor\":\"rgb(232,232,232)\",\"linecolor\":\"rgb(36,36,36)\",\"showgrid\":false,\"showline\":true,\"ticks\":\"outside\",\"title\":{\"standoff\":15},\"zeroline\":false,\"zerolinecolor\":\"rgb(36,36,36)\"}}},\"xaxis\":{\"anchor\":\"y\",\"domain\":[0.0,1.0]},\"yaxis\":{\"anchor\":\"x\",\"domain\":[0.625,1.0]},\"xaxis2\":{\"anchor\":\"y2\",\"domain\":[0.0,1.0]},\"yaxis2\":{\"anchor\":\"x2\",\"domain\":[0.0,0.375]},\"annotations\":[{\"font\":{\"size\":16},\"showarrow\":false,\"text\":\"Cart x-position\",\"x\":0.5,\"xanchor\":\"center\",\"xref\":\"paper\",\"y\":1.0,\"yanchor\":\"bottom\",\"yref\":\"paper\"},{\"font\":{\"size\":16},\"showarrow\":false,\"text\":\"Cart angle\",\"x\":0.5,\"xanchor\":\"center\",\"xref\":\"paper\",\"y\":0.375,\"yanchor\":\"bottom\",\"yref\":\"paper\"},{\"showarrow\":false,\"text\":\"Min posn\",\"x\":537.6,\"xref\":\"x\",\"y\":-2.4,\"yref\":\"y\"},{\"showarrow\":false,\"text\":\"Min angle\",\"x\":537.6,\"xref\":\"x2\",\"y\":-0.2095,\"yref\":\"y2\"},{\"showarrow\":false,\"text\":\"Max posn\",\"x\":537.6,\"xref\":\"x\",\"y\":2.4,\"yref\":\"y\"},{\"showarrow\":false,\"text\":\"Max angle\",\"x\":537.6,\"xref\":\"x2\",\"y\":0.2095,\"yref\":\"y2\"}],\"title\":{\"text\":\"CartPole experiences (dotted lines = termination)\"},\"showlegend\":false,\"shapes\":[{\"line\":{\"color\":\"black\",\"dash\":\"dash\",\"width\":2},\"type\":\"line\",\"x0\":8,\"x1\":8,\"xref\":\"x\",\"y0\":0,\"y1\":1,\"yref\":\"y domain\"},{\"line\":{\"color\":\"black\",\"dash\":\"dash\",\"width\":2},\"type\":\"line\",\"x0\":17,\"x1\":17,\"xref\":\"x\",\"y0\":0,\"y1\":1,\"yref\":\"y domain\"},{\"line\":{\"color\":\"black\",\"dash\":\"dash\",\"width\":2},\"type\":\"line\",\"x0\":26,\"x1\":26,\"xref\":\"x\",\"y0\":0,\"y1\":1,\"yref\":\"y domain\"},{\"line\":{\"color\":\"black\",\"dash\":\"dash\",\"width\":2},\"type\":\"line\",\"x0\":36,\"x1\":36,\"xref\":\"x\",\"y0\":0,\"y1\":1,\"yref\":\"y domain\"},{\"line\":{\"color\":\"black\",\"dash\":\"dash\",\"width\":2},\"type\":\"line\",\"x0\":45,\"x1\":45,\"xref\":\"x\",\"y0\":0,\"y1\":1,\"yref\":\"y domain\"},{\"line\":{\"color\":\"black\",\"dash\":\"dash\",\"width\":2},\"type\":\"line\",\"x0\":53,\"x1\":53,\"xref\":\"x\",\"y0\":0,\"y1\":1,\"yref\":\"y domain\"},{\"line\":{\"color\":\"black\",\"dash\":\"dash\",\"width\":2},\"type\":\"line\",\"x0\":62,\"x1\":62,\"xref\":\"x\",\"y0\":0,\"y1\":1,\"yref\":\"y domain\"},{\"line\":{\"color\":\"black\",\"dash\":\"dash\",\"width\":2},\"type\":\"line\",\"x0\":71,\"x1\":71,\"xref\":\"x\",\"y0\":0,\"y1\":1,\"yref\":\"y domain\"},{\"line\":{\"color\":\"black\",\"dash\":\"dash\",\"width\":2},\"type\":\"line\",\"x0\":79,\"x1\":79,\"xref\":\"x\",\"y0\":0,\"y1\":1,\"yref\":\"y domain\"},{\"line\":{\"color\":\"black\",\"dash\":\"dash\",\"width\":2},\"type\":\"line\",\"x0\":88,\"x1\":88,\"xref\":\"x\",\"y0\":0,\"y1\":1,\"yref\":\"y domain\"},{\"line\":{\"color\":\"black\",\"dash\":\"dash\",\"width\":2},\"type\":\"line\",\"x0\":98,\"x1\":98,\"xref\":\"x\",\"y0\":0,\"y1\":1,\"yref\":\"y domain\"},{\"line\":{\"color\":\"black\",\"dash\":\"dash\",\"width\":2},\"type\":\"line\",\"x0\":107,\"x1\":107,\"xref\":\"x\",\"y0\":0,\"y1\":1,\"yref\":\"y domain\"},{\"line\":{\"color\":\"black\",\"dash\":\"dash\",\"width\":2},\"type\":\"line\",\"x0\":117,\"x1\":117,\"xref\":\"x\",\"y0\":0,\"y1\":1,\"yref\":\"y domain\"},{\"line\":{\"color\":\"black\",\"dash\":\"dash\",\"width\":2},\"type\":\"line\",\"x0\":127,\"x1\":127,\"xref\":\"x\",\"y0\":0,\"y1\":1,\"yref\":\"y domain\"},{\"line\":{\"color\":\"black\",\"dash\":\"dash\",\"width\":2},\"type\":\"line\",\"x0\":136,\"x1\":136,\"xref\":\"x\",\"y0\":0,\"y1\":1,\"yref\":\"y domain\"},{\"line\":{\"color\":\"black\",\"dash\":\"dash\",\"width\":2},\"type\":\"line\",\"x0\":145,\"x1\":145,\"xref\":\"x\",\"y0\":0,\"y1\":1,\"yref\":\"y domain\"},{\"line\":{\"color\":\"black\",\"dash\":\"dash\",\"width\":2},\"type\":\"line\",\"x0\":155,\"x1\":155,\"xref\":\"x\",\"y0\":0,\"y1\":1,\"yref\":\"y domain\"},{\"line\":{\"color\":\"black\",\"dash\":\"dash\",\"width\":2},\"type\":\"line\",\"x0\":165,\"x1\":165,\"xref\":\"x\",\"y0\":0,\"y1\":1,\"yref\":\"y domain\"},{\"line\":{\"color\":\"black\",\"dash\":\"dash\",\"width\":2},\"type\":\"line\",\"x0\":174,\"x1\":174,\"xref\":\"x\",\"y0\":0,\"y1\":1,\"yref\":\"y domain\"},{\"line\":{\"color\":\"black\",\"dash\":\"dash\",\"width\":2},\"type\":\"line\",\"x0\":183,\"x1\":183,\"xref\":\"x\",\"y0\":0,\"y1\":1,\"yref\":\"y domain\"},{\"line\":{\"color\":\"black\",\"dash\":\"dash\",\"width\":2},\"type\":\"line\",\"x0\":192,\"x1\":192,\"xref\":\"x\",\"y0\":0,\"y1\":1,\"yref\":\"y domain\"},{\"line\":{\"color\":\"black\",\"dash\":\"dash\",\"width\":2},\"type\":\"line\",\"x0\":201,\"x1\":201,\"xref\":\"x\",\"y0\":0,\"y1\":1,\"yref\":\"y domain\"},{\"line\":{\"color\":\"black\",\"dash\":\"dash\",\"width\":2},\"type\":\"line\",\"x0\":211,\"x1\":211,\"xref\":\"x\",\"y0\":0,\"y1\":1,\"yref\":\"y domain\"},{\"line\":{\"color\":\"black\",\"dash\":\"dash\",\"width\":2},\"type\":\"line\",\"x0\":220,\"x1\":220,\"xref\":\"x\",\"y0\":0,\"y1\":1,\"yref\":\"y domain\"},{\"line\":{\"color\":\"black\",\"dash\":\"dash\",\"width\":2},\"type\":\"line\",\"x0\":229,\"x1\":229,\"xref\":\"x\",\"y0\":0,\"y1\":1,\"yref\":\"y domain\"},{\"line\":{\"color\":\"black\",\"dash\":\"dash\",\"width\":2},\"type\":\"line\",\"x0\":238,\"x1\":238,\"xref\":\"x\",\"y0\":0,\"y1\":1,\"yref\":\"y domain\"},{\"line\":{\"color\":\"black\",\"dash\":\"dash\",\"width\":2},\"type\":\"line\",\"x0\":248,\"x1\":248,\"xref\":\"x\",\"y0\":0,\"y1\":1,\"yref\":\"y domain\"},{\"line\":{\"color\":\"black\",\"dash\":\"dash\",\"width\":2},\"type\":\"line\",\"x0\":265,\"x1\":265,\"xref\":\"x\",\"y0\":0,\"y1\":1,\"yref\":\"y domain\"},{\"line\":{\"color\":\"black\",\"dash\":\"dash\",\"width\":2},\"type\":\"line\",\"x0\":274,\"x1\":274,\"xref\":\"x\",\"y0\":0,\"y1\":1,\"yref\":\"y domain\"},{\"line\":{\"color\":\"black\",\"dash\":\"dash\",\"width\":2},\"type\":\"line\",\"x0\":284,\"x1\":284,\"xref\":\"x\",\"y0\":0,\"y1\":1,\"yref\":\"y domain\"},{\"line\":{\"color\":\"black\",\"dash\":\"dash\",\"width\":2},\"type\":\"line\",\"x0\":294,\"x1\":294,\"xref\":\"x\",\"y0\":0,\"y1\":1,\"yref\":\"y domain\"},{\"line\":{\"color\":\"black\",\"dash\":\"dash\",\"width\":2},\"type\":\"line\",\"x0\":302,\"x1\":302,\"xref\":\"x\",\"y0\":0,\"y1\":1,\"yref\":\"y domain\"},{\"line\":{\"color\":\"black\",\"dash\":\"dash\",\"width\":2},\"type\":\"line\",\"x0\":311,\"x1\":311,\"xref\":\"x\",\"y0\":0,\"y1\":1,\"yref\":\"y domain\"},{\"line\":{\"color\":\"black\",\"dash\":\"dash\",\"width\":2},\"type\":\"line\",\"x0\":321,\"x1\":321,\"xref\":\"x\",\"y0\":0,\"y1\":1,\"yref\":\"y domain\"},{\"line\":{\"color\":\"black\",\"dash\":\"dash\",\"width\":2},\"type\":\"line\",\"x0\":330,\"x1\":330,\"xref\":\"x\",\"y0\":0,\"y1\":1,\"yref\":\"y domain\"},{\"line\":{\"color\":\"black\",\"dash\":\"dash\",\"width\":2},\"type\":\"line\",\"x0\":339,\"x1\":339,\"xref\":\"x\",\"y0\":0,\"y1\":1,\"yref\":\"y domain\"},{\"line\":{\"color\":\"black\",\"dash\":\"dash\",\"width\":2},\"type\":\"line\",\"x0\":348,\"x1\":348,\"xref\":\"x\",\"y0\":0,\"y1\":1,\"yref\":\"y domain\"},{\"line\":{\"color\":\"black\",\"dash\":\"dash\",\"width\":2},\"type\":\"line\",\"x0\":357,\"x1\":357,\"xref\":\"x\",\"y0\":0,\"y1\":1,\"yref\":\"y domain\"},{\"line\":{\"color\":\"black\",\"dash\":\"dash\",\"width\":2},\"type\":\"line\",\"x0\":366,\"x1\":366,\"xref\":\"x\",\"y0\":0,\"y1\":1,\"yref\":\"y domain\"},{\"line\":{\"color\":\"black\",\"dash\":\"dash\",\"width\":2},\"type\":\"line\",\"x0\":375,\"x1\":375,\"xref\":\"x\",\"y0\":0,\"y1\":1,\"yref\":\"y domain\"},{\"line\":{\"color\":\"black\",\"dash\":\"dash\",\"width\":2},\"type\":\"line\",\"x0\":393,\"x1\":393,\"xref\":\"x\",\"y0\":0,\"y1\":1,\"yref\":\"y domain\"},{\"line\":{\"color\":\"black\",\"dash\":\"dash\",\"width\":2},\"type\":\"line\",\"x0\":403,\"x1\":403,\"xref\":\"x\",\"y0\":0,\"y1\":1,\"yref\":\"y domain\"},{\"line\":{\"color\":\"black\",\"dash\":\"dash\",\"width\":2},\"type\":\"line\",\"x0\":412,\"x1\":412,\"xref\":\"x\",\"y0\":0,\"y1\":1,\"yref\":\"y domain\"},{\"line\":{\"color\":\"black\",\"dash\":\"dash\",\"width\":2},\"type\":\"line\",\"x0\":421,\"x1\":421,\"xref\":\"x\",\"y0\":0,\"y1\":1,\"yref\":\"y domain\"},{\"line\":{\"color\":\"black\",\"dash\":\"dash\",\"width\":2},\"type\":\"line\",\"x0\":431,\"x1\":431,\"xref\":\"x\",\"y0\":0,\"y1\":1,\"yref\":\"y domain\"},{\"line\":{\"color\":\"black\",\"dash\":\"dash\",\"width\":2},\"type\":\"line\",\"x0\":440,\"x1\":440,\"xref\":\"x\",\"y0\":0,\"y1\":1,\"yref\":\"y domain\"},{\"line\":{\"color\":\"black\",\"dash\":\"dash\",\"width\":2},\"type\":\"line\",\"x0\":450,\"x1\":450,\"xref\":\"x\",\"y0\":0,\"y1\":1,\"yref\":\"y domain\"},{\"line\":{\"color\":\"black\",\"dash\":\"dash\",\"width\":2},\"type\":\"line\",\"x0\":460,\"x1\":460,\"xref\":\"x\",\"y0\":0,\"y1\":1,\"yref\":\"y domain\"},{\"line\":{\"color\":\"black\",\"dash\":\"dash\",\"width\":2},\"type\":\"line\",\"x0\":469,\"x1\":469,\"xref\":\"x\",\"y0\":0,\"y1\":1,\"yref\":\"y domain\"},{\"line\":{\"color\":\"black\",\"dash\":\"dash\",\"width\":2},\"type\":\"line\",\"x0\":478,\"x1\":478,\"xref\":\"x\",\"y0\":0,\"y1\":1,\"yref\":\"y domain\"},{\"line\":{\"color\":\"black\",\"dash\":\"dash\",\"width\":2},\"type\":\"line\",\"x0\":487,\"x1\":487,\"xref\":\"x\",\"y0\":0,\"y1\":1,\"yref\":\"y domain\"},{\"line\":{\"color\":\"black\",\"dash\":\"dash\",\"width\":2},\"type\":\"line\",\"x0\":497,\"x1\":497,\"xref\":\"x\",\"y0\":0,\"y1\":1,\"yref\":\"y domain\"},{\"line\":{\"color\":\"black\",\"dash\":\"dash\",\"width\":2},\"type\":\"line\",\"x0\":506,\"x1\":506,\"xref\":\"x\",\"y0\":0,\"y1\":1,\"yref\":\"y domain\"},{\"line\":{\"color\":\"black\",\"width\":4},\"type\":\"line\",\"x0\":128,\"x1\":128,\"xref\":\"x\",\"y0\":0,\"y1\":1,\"yref\":\"y domain\"},{\"line\":{\"color\":\"black\",\"width\":4},\"type\":\"line\",\"x0\":256,\"x1\":256,\"xref\":\"x\",\"y0\":0,\"y1\":1,\"yref\":\"y domain\"},{\"line\":{\"color\":\"black\",\"width\":4},\"type\":\"line\",\"x0\":384,\"x1\":384,\"xref\":\"x\",\"y0\":0,\"y1\":1,\"yref\":\"y domain\"},{\"line\":{\"color\":\"black\",\"dash\":\"dash\",\"width\":2},\"type\":\"line\",\"x0\":8,\"x1\":8,\"xref\":\"x2\",\"y0\":0,\"y1\":1,\"yref\":\"y2 domain\"},{\"line\":{\"color\":\"black\",\"dash\":\"dash\",\"width\":2},\"type\":\"line\",\"x0\":17,\"x1\":17,\"xref\":\"x2\",\"y0\":0,\"y1\":1,\"yref\":\"y2 domain\"},{\"line\":{\"color\":\"black\",\"dash\":\"dash\",\"width\":2},\"type\":\"line\",\"x0\":26,\"x1\":26,\"xref\":\"x2\",\"y0\":0,\"y1\":1,\"yref\":\"y2 domain\"},{\"line\":{\"color\":\"black\",\"dash\":\"dash\",\"width\":2},\"type\":\"line\",\"x0\":36,\"x1\":36,\"xref\":\"x2\",\"y0\":0,\"y1\":1,\"yref\":\"y2 domain\"},{\"line\":{\"color\":\"black\",\"dash\":\"dash\",\"width\":2},\"type\":\"line\",\"x0\":45,\"x1\":45,\"xref\":\"x2\",\"y0\":0,\"y1\":1,\"yref\":\"y2 domain\"},{\"line\":{\"color\":\"black\",\"dash\":\"dash\",\"width\":2},\"type\":\"line\",\"x0\":53,\"x1\":53,\"xref\":\"x2\",\"y0\":0,\"y1\":1,\"yref\":\"y2 domain\"},{\"line\":{\"color\":\"black\",\"dash\":\"dash\",\"width\":2},\"type\":\"line\",\"x0\":62,\"x1\":62,\"xref\":\"x2\",\"y0\":0,\"y1\":1,\"yref\":\"y2 domain\"},{\"line\":{\"color\":\"black\",\"dash\":\"dash\",\"width\":2},\"type\":\"line\",\"x0\":71,\"x1\":71,\"xref\":\"x2\",\"y0\":0,\"y1\":1,\"yref\":\"y2 domain\"},{\"line\":{\"color\":\"black\",\"dash\":\"dash\",\"width\":2},\"type\":\"line\",\"x0\":79,\"x1\":79,\"xref\":\"x2\",\"y0\":0,\"y1\":1,\"yref\":\"y2 domain\"},{\"line\":{\"color\":\"black\",\"dash\":\"dash\",\"width\":2},\"type\":\"line\",\"x0\":88,\"x1\":88,\"xref\":\"x2\",\"y0\":0,\"y1\":1,\"yref\":\"y2 domain\"},{\"line\":{\"color\":\"black\",\"dash\":\"dash\",\"width\":2},\"type\":\"line\",\"x0\":98,\"x1\":98,\"xref\":\"x2\",\"y0\":0,\"y1\":1,\"yref\":\"y2 domain\"},{\"line\":{\"color\":\"black\",\"dash\":\"dash\",\"width\":2},\"type\":\"line\",\"x0\":107,\"x1\":107,\"xref\":\"x2\",\"y0\":0,\"y1\":1,\"yref\":\"y2 domain\"},{\"line\":{\"color\":\"black\",\"dash\":\"dash\",\"width\":2},\"type\":\"line\",\"x0\":117,\"x1\":117,\"xref\":\"x2\",\"y0\":0,\"y1\":1,\"yref\":\"y2 domain\"},{\"line\":{\"color\":\"black\",\"dash\":\"dash\",\"width\":2},\"type\":\"line\",\"x0\":127,\"x1\":127,\"xref\":\"x2\",\"y0\":0,\"y1\":1,\"yref\":\"y2 domain\"},{\"line\":{\"color\":\"black\",\"dash\":\"dash\",\"width\":2},\"type\":\"line\",\"x0\":136,\"x1\":136,\"xref\":\"x2\",\"y0\":0,\"y1\":1,\"yref\":\"y2 domain\"},{\"line\":{\"color\":\"black\",\"dash\":\"dash\",\"width\":2},\"type\":\"line\",\"x0\":145,\"x1\":145,\"xref\":\"x2\",\"y0\":0,\"y1\":1,\"yref\":\"y2 domain\"},{\"line\":{\"color\":\"black\",\"dash\":\"dash\",\"width\":2},\"type\":\"line\",\"x0\":155,\"x1\":155,\"xref\":\"x2\",\"y0\":0,\"y1\":1,\"yref\":\"y2 domain\"},{\"line\":{\"color\":\"black\",\"dash\":\"dash\",\"width\":2},\"type\":\"line\",\"x0\":165,\"x1\":165,\"xref\":\"x2\",\"y0\":0,\"y1\":1,\"yref\":\"y2 domain\"},{\"line\":{\"color\":\"black\",\"dash\":\"dash\",\"width\":2},\"type\":\"line\",\"x0\":174,\"x1\":174,\"xref\":\"x2\",\"y0\":0,\"y1\":1,\"yref\":\"y2 domain\"},{\"line\":{\"color\":\"black\",\"dash\":\"dash\",\"width\":2},\"type\":\"line\",\"x0\":183,\"x1\":183,\"xref\":\"x2\",\"y0\":0,\"y1\":1,\"yref\":\"y2 domain\"},{\"line\":{\"color\":\"black\",\"dash\":\"dash\",\"width\":2},\"type\":\"line\",\"x0\":192,\"x1\":192,\"xref\":\"x2\",\"y0\":0,\"y1\":1,\"yref\":\"y2 domain\"},{\"line\":{\"color\":\"black\",\"dash\":\"dash\",\"width\":2},\"type\":\"line\",\"x0\":201,\"x1\":201,\"xref\":\"x2\",\"y0\":0,\"y1\":1,\"yref\":\"y2 domain\"},{\"line\":{\"color\":\"black\",\"dash\":\"dash\",\"width\":2},\"type\":\"line\",\"x0\":211,\"x1\":211,\"xref\":\"x2\",\"y0\":0,\"y1\":1,\"yref\":\"y2 domain\"},{\"line\":{\"color\":\"black\",\"dash\":\"dash\",\"width\":2},\"type\":\"line\",\"x0\":220,\"x1\":220,\"xref\":\"x2\",\"y0\":0,\"y1\":1,\"yref\":\"y2 domain\"},{\"line\":{\"color\":\"black\",\"dash\":\"dash\",\"width\":2},\"type\":\"line\",\"x0\":229,\"x1\":229,\"xref\":\"x2\",\"y0\":0,\"y1\":1,\"yref\":\"y2 domain\"},{\"line\":{\"color\":\"black\",\"dash\":\"dash\",\"width\":2},\"type\":\"line\",\"x0\":238,\"x1\":238,\"xref\":\"x2\",\"y0\":0,\"y1\":1,\"yref\":\"y2 domain\"},{\"line\":{\"color\":\"black\",\"dash\":\"dash\",\"width\":2},\"type\":\"line\",\"x0\":248,\"x1\":248,\"xref\":\"x2\",\"y0\":0,\"y1\":1,\"yref\":\"y2 domain\"},{\"line\":{\"color\":\"black\",\"dash\":\"dash\",\"width\":2},\"type\":\"line\",\"x0\":265,\"x1\":265,\"xref\":\"x2\",\"y0\":0,\"y1\":1,\"yref\":\"y2 domain\"},{\"line\":{\"color\":\"black\",\"dash\":\"dash\",\"width\":2},\"type\":\"line\",\"x0\":274,\"x1\":274,\"xref\":\"x2\",\"y0\":0,\"y1\":1,\"yref\":\"y2 domain\"},{\"line\":{\"color\":\"black\",\"dash\":\"dash\",\"width\":2},\"type\":\"line\",\"x0\":284,\"x1\":284,\"xref\":\"x2\",\"y0\":0,\"y1\":1,\"yref\":\"y2 domain\"},{\"line\":{\"color\":\"black\",\"dash\":\"dash\",\"width\":2},\"type\":\"line\",\"x0\":294,\"x1\":294,\"xref\":\"x2\",\"y0\":0,\"y1\":1,\"yref\":\"y2 domain\"},{\"line\":{\"color\":\"black\",\"dash\":\"dash\",\"width\":2},\"type\":\"line\",\"x0\":302,\"x1\":302,\"xref\":\"x2\",\"y0\":0,\"y1\":1,\"yref\":\"y2 domain\"},{\"line\":{\"color\":\"black\",\"dash\":\"dash\",\"width\":2},\"type\":\"line\",\"x0\":311,\"x1\":311,\"xref\":\"x2\",\"y0\":0,\"y1\":1,\"yref\":\"y2 domain\"},{\"line\":{\"color\":\"black\",\"dash\":\"dash\",\"width\":2},\"type\":\"line\",\"x0\":321,\"x1\":321,\"xref\":\"x2\",\"y0\":0,\"y1\":1,\"yref\":\"y2 domain\"},{\"line\":{\"color\":\"black\",\"dash\":\"dash\",\"width\":2},\"type\":\"line\",\"x0\":330,\"x1\":330,\"xref\":\"x2\",\"y0\":0,\"y1\":1,\"yref\":\"y2 domain\"},{\"line\":{\"color\":\"black\",\"dash\":\"dash\",\"width\":2},\"type\":\"line\",\"x0\":339,\"x1\":339,\"xref\":\"x2\",\"y0\":0,\"y1\":1,\"yref\":\"y2 domain\"},{\"line\":{\"color\":\"black\",\"dash\":\"dash\",\"width\":2},\"type\":\"line\",\"x0\":348,\"x1\":348,\"xref\":\"x2\",\"y0\":0,\"y1\":1,\"yref\":\"y2 domain\"},{\"line\":{\"color\":\"black\",\"dash\":\"dash\",\"width\":2},\"type\":\"line\",\"x0\":357,\"x1\":357,\"xref\":\"x2\",\"y0\":0,\"y1\":1,\"yref\":\"y2 domain\"},{\"line\":{\"color\":\"black\",\"dash\":\"dash\",\"width\":2},\"type\":\"line\",\"x0\":366,\"x1\":366,\"xref\":\"x2\",\"y0\":0,\"y1\":1,\"yref\":\"y2 domain\"},{\"line\":{\"color\":\"black\",\"dash\":\"dash\",\"width\":2},\"type\":\"line\",\"x0\":375,\"x1\":375,\"xref\":\"x2\",\"y0\":0,\"y1\":1,\"yref\":\"y2 domain\"},{\"line\":{\"color\":\"black\",\"dash\":\"dash\",\"width\":2},\"type\":\"line\",\"x0\":393,\"x1\":393,\"xref\":\"x2\",\"y0\":0,\"y1\":1,\"yref\":\"y2 domain\"},{\"line\":{\"color\":\"black\",\"dash\":\"dash\",\"width\":2},\"type\":\"line\",\"x0\":403,\"x1\":403,\"xref\":\"x2\",\"y0\":0,\"y1\":1,\"yref\":\"y2 domain\"},{\"line\":{\"color\":\"black\",\"dash\":\"dash\",\"width\":2},\"type\":\"line\",\"x0\":412,\"x1\":412,\"xref\":\"x2\",\"y0\":0,\"y1\":1,\"yref\":\"y2 domain\"},{\"line\":{\"color\":\"black\",\"dash\":\"dash\",\"width\":2},\"type\":\"line\",\"x0\":421,\"x1\":421,\"xref\":\"x2\",\"y0\":0,\"y1\":1,\"yref\":\"y2 domain\"},{\"line\":{\"color\":\"black\",\"dash\":\"dash\",\"width\":2},\"type\":\"line\",\"x0\":431,\"x1\":431,\"xref\":\"x2\",\"y0\":0,\"y1\":1,\"yref\":\"y2 domain\"},{\"line\":{\"color\":\"black\",\"dash\":\"dash\",\"width\":2},\"type\":\"line\",\"x0\":440,\"x1\":440,\"xref\":\"x2\",\"y0\":0,\"y1\":1,\"yref\":\"y2 domain\"},{\"line\":{\"color\":\"black\",\"dash\":\"dash\",\"width\":2},\"type\":\"line\",\"x0\":450,\"x1\":450,\"xref\":\"x2\",\"y0\":0,\"y1\":1,\"yref\":\"y2 domain\"},{\"line\":{\"color\":\"black\",\"dash\":\"dash\",\"width\":2},\"type\":\"line\",\"x0\":460,\"x1\":460,\"xref\":\"x2\",\"y0\":0,\"y1\":1,\"yref\":\"y2 domain\"},{\"line\":{\"color\":\"black\",\"dash\":\"dash\",\"width\":2},\"type\":\"line\",\"x0\":469,\"x1\":469,\"xref\":\"x2\",\"y0\":0,\"y1\":1,\"yref\":\"y2 domain\"},{\"line\":{\"color\":\"black\",\"dash\":\"dash\",\"width\":2},\"type\":\"line\",\"x0\":478,\"x1\":478,\"xref\":\"x2\",\"y0\":0,\"y1\":1,\"yref\":\"y2 domain\"},{\"line\":{\"color\":\"black\",\"dash\":\"dash\",\"width\":2},\"type\":\"line\",\"x0\":487,\"x1\":487,\"xref\":\"x2\",\"y0\":0,\"y1\":1,\"yref\":\"y2 domain\"},{\"line\":{\"color\":\"black\",\"dash\":\"dash\",\"width\":2},\"type\":\"line\",\"x0\":497,\"x1\":497,\"xref\":\"x2\",\"y0\":0,\"y1\":1,\"yref\":\"y2 domain\"},{\"line\":{\"color\":\"black\",\"dash\":\"dash\",\"width\":2},\"type\":\"line\",\"x0\":506,\"x1\":506,\"xref\":\"x2\",\"y0\":0,\"y1\":1,\"yref\":\"y2 domain\"},{\"line\":{\"color\":\"black\",\"width\":4},\"type\":\"line\",\"x0\":128,\"x1\":128,\"xref\":\"x2\",\"y0\":0,\"y1\":1,\"yref\":\"y2 domain\"},{\"line\":{\"color\":\"black\",\"width\":4},\"type\":\"line\",\"x0\":256,\"x1\":256,\"xref\":\"x2\",\"y0\":0,\"y1\":1,\"yref\":\"y2 domain\"},{\"line\":{\"color\":\"black\",\"width\":4},\"type\":\"line\",\"x0\":384,\"x1\":384,\"xref\":\"x2\",\"y0\":0,\"y1\":1,\"yref\":\"y2 domain\"}]},                        {\"responsive\": true}                    ).then(function(){\n",
       "                            \n",
       "var gd = document.getElementById('c8d67a35-24c7-45fa-bd22-b57082e36eef');\n",
       "var x = new MutationObserver(function (mutations, observer) {{\n",
       "        var display = window.getComputedStyle(gd).display;\n",
       "        if (!display || display === 'none') {{\n",
       "            console.log([gd, 'removed!']);\n",
       "            Plotly.purge(gd);\n",
       "            observer.disconnect();\n",
       "        }}\n",
       "}});\n",
       "\n",
       "// Listen for the removal of the full notebook cells\n",
       "var notebookContainer = gd.closest('#notebook-container');\n",
       "if (notebookContainer) {{\n",
       "    x.observe(notebookContainer, {childList: true});\n",
       "}}\n",
       "\n",
       "// Listen for the clearing of the current output cell\n",
       "var outputEl = gd.closest('.output');\n",
       "if (outputEl) {{\n",
       "    x.observe(outputEl, {childList: true});\n",
       "}}\n",
       "\n",
       "                        })                };                });            </script>        </div>"
      ]
     },
     "metadata": {},
     "output_type": "display_data"
    }
   ],
   "source": [
    "args = PPOArgs()\n",
    "envs = gym.vector.SyncVectorEnv([make_env(\"CartPole-v1\", i, i, False, \"test\") for i in range(4)])\n",
    "next_value = t.zeros(envs.num_envs).to(device)\n",
    "next_done = t.zeros(envs.num_envs).to(device)\n",
    "rb = ReplayBuffer(args, envs)\n",
    "actions = t.zeros(envs.num_envs).int().to(device)\n",
    "obs = envs.reset()\n",
    "\n",
    "for i in range(args.num_steps):\n",
    "    (next_obs, rewards, dones, infos) = envs.step(actions.cpu().numpy())\n",
    "    real_next_obs = next_obs.copy()\n",
    "    for (i, done) in enumerate(dones):\n",
    "        if done: real_next_obs[i] = infos[i][\"terminal_observation\"]\n",
    "    logprobs = values = t.zeros(envs.num_envs)\n",
    "    rb.add(t.from_numpy(obs).to(device), actions, t.from_numpy(rewards).to(device), t.from_numpy(dones).to(device), logprobs, values)\n",
    "    obs = next_obs\n",
    "\n",
    "obs, dones, actions, logprobs, values, rewards = [t.stack(arr).to(device) for arr in zip(*rb.experiences)]\n",
    "\n",
    "plot_cartpole_obs_and_dones(obs, dones, show_env_jumps=True)"
   ]
  },
  {
   "cell_type": "code",
   "execution_count": 46,
   "metadata": {},
   "outputs": [
    {
     "data": {
      "application/vnd.plotly.v1+json": {
       "config": {
        "plotlyServerURL": "https://plot.ly"
       },
       "data": [
        {
         "marker": {
          "color": "#1F77B4"
         },
         "mode": "lines",
         "name": "posn",
         "type": "scatter",
         "xaxis": "x",
         "y": [
          -0.08685804903507233,
          -0.1150970533490181,
          -0.04087706655263901,
          -0.0210703294724226,
          0.030650688335299492,
          -0.020179789513349533,
          0.01691293530166149,
          0.03400714322924614,
          0.004362499341368675,
          -0.12870794534683228,
          -0.0989222303032875,
          -0.036670178174972534,
          -0.0392792709171772,
          -0.10207328200340271,
          -0.15099811553955078,
          -0.18241028487682343,
          -0.02128278836607933,
          -0.04085243120789528,
          -0.056098368018865585,
          0.0404437817633152,
          -0.06144656240940094,
          -0.06389030069112778,
          -0.05917999893426895,
          -0.09618714451789856,
          -0.020183691754937172,
          -0.04162733629345894,
          -0.11977346241474152,
          0.009574655443429947,
          -0.0526936911046505,
          -0.03456854447722435,
          0.001873956061899662,
          0.019842633977532387,
          -0.07109605520963669,
          0.012012600898742676,
          -0.04687080159783363,
          -0.12074637413024902,
          -0.14727355539798737,
          -0.005749105010181665,
          -0.02879190631210804,
          -0.018103817477822304,
          0.03198503330349922,
          -0.06675451993942261,
          -0.07398965209722519,
          -0.0064776018261909485,
          0.01905737817287445,
          -0.018185339868068695,
          -0.08784336596727371,
          0.0070310779847204685,
          -0.029699629172682762,
          -0.047919467091560364,
          0.011194289661943913,
          0.013882061466574669,
          -0.023035073652863503,
          -0.08363155275583267,
          -0.039691925048828125,
          -0.0861879289150238,
          -0.13578392565250397,
          -0.0694439709186554,
          -0.1016102135181427,
          -0.025963345542550087,
          -0.018056469038128853,
          -0.1093611791729927,
          -0.017421850934624672,
          -0.031084567308425903,
          -0.004966063424944878,
          0.025036467239260674,
          0.012902341783046722,
          0.010467173531651497,
          0.03945144638419151,
          0.03008689358830452,
          -0.1400032639503479,
          -0.018816854804754257,
          -0.010057550854980946,
          -0.05960191786289215,
          0.03764842450618744,
          -0.18677309155464172,
          -0.004373414907604456,
          -0.02707722783088684,
          0.02233673259615898,
          -0.018970202654600143,
          -0.0645563080906868,
          -0.06881709396839142,
          -0.05003632605075836,
          -0.04498469457030296,
          -0.02139517478644848,
          -0.13452939689159393,
          -0.07222782075405121,
          -0.09628038108348846,
          -0.1216246709227562,
          0.014704822562634945,
          -0.03023364581167698,
          -0.09747041016817093,
          -0.11263205111026764,
          -0.019700177013874054,
          -0.0438401997089386,
          -0.0008399183861911297,
          -0.0513337180018425,
          -0.017598535865545273,
          0.01801311783492565,
          -0.022325892001390457,
          -0.12938757240772247,
          0.03624526411294937,
          -0.08572643995285034,
          -0.006625298876315355,
          0.01867961883544922,
          -0.15490670502185822,
          -0.03299494832754135,
          -0.04696539789438248,
          -0.16267389059066772,
          -0.017026828601956367,
          -0.04093317687511444,
          -0.006398326251655817,
          -0.06870321184396744,
          -0.07606147229671478,
          -0.005298348143696785,
          -0.006763600744307041,
          0.010716266930103302,
          -0.181778222322464,
          0.029072580859065056,
          -0.001416464103385806,
          -0.12510274350643158,
          -0.05974021553993225,
          -0.06585099548101425,
          0.024811306968331337,
          -0.06527380645275116,
          0.0095500648021698,
          -0.05962851643562317,
          -0.05359354615211487
         ],
         "yaxis": "y"
        },
        {
         "marker": {
          "color": "#1F77B4"
         },
         "mode": "lines",
         "name": "posn_min",
         "type": "scatter",
         "xaxis": "x",
         "y": [
          -2.4000000953674316,
          -2.4000000953674316,
          -2.4000000953674316,
          -2.4000000953674316,
          -2.4000000953674316,
          -2.4000000953674316,
          -2.4000000953674316,
          -2.4000000953674316,
          -2.4000000953674316,
          -2.4000000953674316,
          -2.4000000953674316,
          -2.4000000953674316,
          -2.4000000953674316,
          -2.4000000953674316,
          -2.4000000953674316,
          -2.4000000953674316,
          -2.4000000953674316,
          -2.4000000953674316,
          -2.4000000953674316,
          -2.4000000953674316,
          -2.4000000953674316,
          -2.4000000953674316,
          -2.4000000953674316,
          -2.4000000953674316,
          -2.4000000953674316,
          -2.4000000953674316,
          -2.4000000953674316,
          -2.4000000953674316,
          -2.4000000953674316,
          -2.4000000953674316,
          -2.4000000953674316,
          -2.4000000953674316,
          -2.4000000953674316,
          -2.4000000953674316,
          -2.4000000953674316,
          -2.4000000953674316,
          -2.4000000953674316,
          -2.4000000953674316,
          -2.4000000953674316,
          -2.4000000953674316,
          -2.4000000953674316,
          -2.4000000953674316,
          -2.4000000953674316,
          -2.4000000953674316,
          -2.4000000953674316,
          -2.4000000953674316,
          -2.4000000953674316,
          -2.4000000953674316,
          -2.4000000953674316,
          -2.4000000953674316,
          -2.4000000953674316,
          -2.4000000953674316,
          -2.4000000953674316,
          -2.4000000953674316,
          -2.4000000953674316,
          -2.4000000953674316,
          -2.4000000953674316,
          -2.4000000953674316,
          -2.4000000953674316,
          -2.4000000953674316,
          -2.4000000953674316,
          -2.4000000953674316,
          -2.4000000953674316,
          -2.4000000953674316,
          -2.4000000953674316,
          -2.4000000953674316,
          -2.4000000953674316,
          -2.4000000953674316,
          -2.4000000953674316,
          -2.4000000953674316,
          -2.4000000953674316,
          -2.4000000953674316,
          -2.4000000953674316,
          -2.4000000953674316,
          -2.4000000953674316,
          -2.4000000953674316,
          -2.4000000953674316,
          -2.4000000953674316,
          -2.4000000953674316,
          -2.4000000953674316,
          -2.4000000953674316,
          -2.4000000953674316,
          -2.4000000953674316,
          -2.4000000953674316,
          -2.4000000953674316,
          -2.4000000953674316,
          -2.4000000953674316,
          -2.4000000953674316,
          -2.4000000953674316,
          -2.4000000953674316,
          -2.4000000953674316,
          -2.4000000953674316,
          -2.4000000953674316,
          -2.4000000953674316,
          -2.4000000953674316,
          -2.4000000953674316,
          -2.4000000953674316,
          -2.4000000953674316,
          -2.4000000953674316,
          -2.4000000953674316,
          -2.4000000953674316,
          -2.4000000953674316,
          -2.4000000953674316,
          -2.4000000953674316,
          -2.4000000953674316,
          -2.4000000953674316,
          -2.4000000953674316,
          -2.4000000953674316,
          -2.4000000953674316,
          -2.4000000953674316,
          -2.4000000953674316,
          -2.4000000953674316,
          -2.4000000953674316,
          -2.4000000953674316,
          -2.4000000953674316,
          -2.4000000953674316,
          -2.4000000953674316,
          -2.4000000953674316,
          -2.4000000953674316,
          -2.4000000953674316,
          -2.4000000953674316,
          -2.4000000953674316,
          -2.4000000953674316,
          -2.4000000953674316,
          -2.4000000953674316,
          -2.4000000953674316,
          -2.4000000953674316,
          -2.4000000953674316
         ],
         "yaxis": "y"
        },
        {
         "marker": {
          "color": "#1F77B4"
         },
         "mode": "lines",
         "name": "posn_max",
         "type": "scatter",
         "xaxis": "x",
         "y": [
          2.4000000953674316,
          2.4000000953674316,
          2.4000000953674316,
          2.4000000953674316,
          2.4000000953674316,
          2.4000000953674316,
          2.4000000953674316,
          2.4000000953674316,
          2.4000000953674316,
          2.4000000953674316,
          2.4000000953674316,
          2.4000000953674316,
          2.4000000953674316,
          2.4000000953674316,
          2.4000000953674316,
          2.4000000953674316,
          2.4000000953674316,
          2.4000000953674316,
          2.4000000953674316,
          2.4000000953674316,
          2.4000000953674316,
          2.4000000953674316,
          2.4000000953674316,
          2.4000000953674316,
          2.4000000953674316,
          2.4000000953674316,
          2.4000000953674316,
          2.4000000953674316,
          2.4000000953674316,
          2.4000000953674316,
          2.4000000953674316,
          2.4000000953674316,
          2.4000000953674316,
          2.4000000953674316,
          2.4000000953674316,
          2.4000000953674316,
          2.4000000953674316,
          2.4000000953674316,
          2.4000000953674316,
          2.4000000953674316,
          2.4000000953674316,
          2.4000000953674316,
          2.4000000953674316,
          2.4000000953674316,
          2.4000000953674316,
          2.4000000953674316,
          2.4000000953674316,
          2.4000000953674316,
          2.4000000953674316,
          2.4000000953674316,
          2.4000000953674316,
          2.4000000953674316,
          2.4000000953674316,
          2.4000000953674316,
          2.4000000953674316,
          2.4000000953674316,
          2.4000000953674316,
          2.4000000953674316,
          2.4000000953674316,
          2.4000000953674316,
          2.4000000953674316,
          2.4000000953674316,
          2.4000000953674316,
          2.4000000953674316,
          2.4000000953674316,
          2.4000000953674316,
          2.4000000953674316,
          2.4000000953674316,
          2.4000000953674316,
          2.4000000953674316,
          2.4000000953674316,
          2.4000000953674316,
          2.4000000953674316,
          2.4000000953674316,
          2.4000000953674316,
          2.4000000953674316,
          2.4000000953674316,
          2.4000000953674316,
          2.4000000953674316,
          2.4000000953674316,
          2.4000000953674316,
          2.4000000953674316,
          2.4000000953674316,
          2.4000000953674316,
          2.4000000953674316,
          2.4000000953674316,
          2.4000000953674316,
          2.4000000953674316,
          2.4000000953674316,
          2.4000000953674316,
          2.4000000953674316,
          2.4000000953674316,
          2.4000000953674316,
          2.4000000953674316,
          2.4000000953674316,
          2.4000000953674316,
          2.4000000953674316,
          2.4000000953674316,
          2.4000000953674316,
          2.4000000953674316,
          2.4000000953674316,
          2.4000000953674316,
          2.4000000953674316,
          2.4000000953674316,
          2.4000000953674316,
          2.4000000953674316,
          2.4000000953674316,
          2.4000000953674316,
          2.4000000953674316,
          2.4000000953674316,
          2.4000000953674316,
          2.4000000953674316,
          2.4000000953674316,
          2.4000000953674316,
          2.4000000953674316,
          2.4000000953674316,
          2.4000000953674316,
          2.4000000953674316,
          2.4000000953674316,
          2.4000000953674316,
          2.4000000953674316,
          2.4000000953674316,
          2.4000000953674316,
          2.4000000953674316,
          2.4000000953674316,
          2.4000000953674316,
          2.4000000953674316,
          2.4000000953674316
         ],
         "yaxis": "y"
        },
        {
         "marker": {
          "color": "#FF7F0E"
         },
         "mode": "lines",
         "name": "angle",
         "type": "scatter",
         "xaxis": "x2",
         "y": [
          0.08540397882461548,
          0.20191264152526855,
          -0.02494160085916519,
          0.07221654057502747,
          0.0023945553693920374,
          -0.009506383910775185,
          -0.029020702466368675,
          0.0015949488151818514,
          0.03158535435795784,
          0.18598486483097076,
          0.1452496349811554,
          0.10335612297058105,
          -0.02980925515294075,
          0.1599011868238449,
          0.1582644134759903,
          0.2061506062746048,
          0.019207041710615158,
          0.020107809454202652,
          0.05648508667945862,
          -0.010543129406869411,
          0.14389632642269135,
          0.11210757493972778,
          0.07746689766645432,
          0.05293471738696098,
          0.02221648022532463,
          0.12488403171300888,
          0.08711770921945572,
          0.04402760788798332,
          0.013380537740886211,
          0.018902884796261787,
          0.016001982614398003,
          0.037113916128873825,
          0.08109819144010544,
          0.018942514434456825,
          0.019003398716449738,
          0.16621463000774384,
          0.12747424840927124,
          0.03774704039096832,
          0.11635363847017288,
          0.12431737035512924,
          -0.012037825770676136,
          0.02163492888212204,
          0.13445881009101868,
          0.042871661484241486,
          0.02704424038529396,
          -0.0029090114403516054,
          0.1726803183555603,
          -0.02733580954372883,
          0.06350340694189072,
          0.01735682040452957,
          0.04807090386748314,
          -0.02309447154402733,
          0.03846384584903717,
          0.07973267138004303,
          0.07664398103952408,
          0.13405971229076385,
          0.16188690066337585,
          0.012730015441775322,
          0.14338664710521698,
          0.003581924131140113,
          0.04443245753645897,
          0.12046566605567932,
          0.010493491776287556,
          0.007818862795829773,
          -0.026935778558254242,
          -0.0014809025451540947,
          0.012134925462305546,
          -0.03209960088133812,
          0.032931726425886154,
          0.00869979988783598,
          0.17354586720466614,
          0.03277026116847992,
          -0.027037866413593292,
          0.14842887222766876,
          -0.016388293355703354,
          0.18585404753684998,
          -0.02783173695206642,
          0.059063415974378586,
          0.02019183151423931,
          0.0325886569917202,
          0.11993647366762161,
          0.16758795082569122,
          -0.008438429795205593,
          0.10036761313676834,
          0.05827295407652855,
          0.14560732245445251,
          0.1415209025144577,
          0.11654001474380493,
          0.14244630932807922,
          0.0070157903246581554,
          -0.03170450031757355,
          0.17233476042747498,
          0.2041439563035965,
          0.021653911098837852,
          0.05384664982557297,
          0.03151533380150795,
          0.04523886740207672,
          0.07312056422233582,
          -0.005025594495236874,
          0.10282553732395172,
          0.16788749396800995,
          0.03759752959012985,
          0.16120144724845886,
          0.03705265745520592,
          0.014256712049245834,
          0.15431928634643555,
          0.0008385897963307798,
          -0.01257561706006527,
          0.18889091908931732,
          -0.01968051679432392,
          0.028188569471240044,
          -0.007455164100974798,
          0.018809909000992775,
          0.1581152379512787,
          0.07184112071990967,
          0.024696312844753265,
          0.03020298294723034,
          0.18688340485095978,
          0.017502129077911377,
          0.04340435191988945,
          0.09864907711744308,
          0.09285513311624527,
          0.142991840839386,
          0.0213907603174448,
          0.16286790370941162,
          0.018894055858254433,
          0.1675301045179367,
          0.03373397886753082
         ],
         "yaxis": "y2"
        },
        {
         "marker": {
          "color": "#FF7F0E"
         },
         "mode": "lines",
         "name": "angle_min",
         "type": "scatter",
         "xaxis": "x2",
         "y": [
          -0.2094999998807907,
          -0.2094999998807907,
          -0.2094999998807907,
          -0.2094999998807907,
          -0.2094999998807907,
          -0.2094999998807907,
          -0.2094999998807907,
          -0.2094999998807907,
          -0.2094999998807907,
          -0.2094999998807907,
          -0.2094999998807907,
          -0.2094999998807907,
          -0.2094999998807907,
          -0.2094999998807907,
          -0.2094999998807907,
          -0.2094999998807907,
          -0.2094999998807907,
          -0.2094999998807907,
          -0.2094999998807907,
          -0.2094999998807907,
          -0.2094999998807907,
          -0.2094999998807907,
          -0.2094999998807907,
          -0.2094999998807907,
          -0.2094999998807907,
          -0.2094999998807907,
          -0.2094999998807907,
          -0.2094999998807907,
          -0.2094999998807907,
          -0.2094999998807907,
          -0.2094999998807907,
          -0.2094999998807907,
          -0.2094999998807907,
          -0.2094999998807907,
          -0.2094999998807907,
          -0.2094999998807907,
          -0.2094999998807907,
          -0.2094999998807907,
          -0.2094999998807907,
          -0.2094999998807907,
          -0.2094999998807907,
          -0.2094999998807907,
          -0.2094999998807907,
          -0.2094999998807907,
          -0.2094999998807907,
          -0.2094999998807907,
          -0.2094999998807907,
          -0.2094999998807907,
          -0.2094999998807907,
          -0.2094999998807907,
          -0.2094999998807907,
          -0.2094999998807907,
          -0.2094999998807907,
          -0.2094999998807907,
          -0.2094999998807907,
          -0.2094999998807907,
          -0.2094999998807907,
          -0.2094999998807907,
          -0.2094999998807907,
          -0.2094999998807907,
          -0.2094999998807907,
          -0.2094999998807907,
          -0.2094999998807907,
          -0.2094999998807907,
          -0.2094999998807907,
          -0.2094999998807907,
          -0.2094999998807907,
          -0.2094999998807907,
          -0.2094999998807907,
          -0.2094999998807907,
          -0.2094999998807907,
          -0.2094999998807907,
          -0.2094999998807907,
          -0.2094999998807907,
          -0.2094999998807907,
          -0.2094999998807907,
          -0.2094999998807907,
          -0.2094999998807907,
          -0.2094999998807907,
          -0.2094999998807907,
          -0.2094999998807907,
          -0.2094999998807907,
          -0.2094999998807907,
          -0.2094999998807907,
          -0.2094999998807907,
          -0.2094999998807907,
          -0.2094999998807907,
          -0.2094999998807907,
          -0.2094999998807907,
          -0.2094999998807907,
          -0.2094999998807907,
          -0.2094999998807907,
          -0.2094999998807907,
          -0.2094999998807907,
          -0.2094999998807907,
          -0.2094999998807907,
          -0.2094999998807907,
          -0.2094999998807907,
          -0.2094999998807907,
          -0.2094999998807907,
          -0.2094999998807907,
          -0.2094999998807907,
          -0.2094999998807907,
          -0.2094999998807907,
          -0.2094999998807907,
          -0.2094999998807907,
          -0.2094999998807907,
          -0.2094999998807907,
          -0.2094999998807907,
          -0.2094999998807907,
          -0.2094999998807907,
          -0.2094999998807907,
          -0.2094999998807907,
          -0.2094999998807907,
          -0.2094999998807907,
          -0.2094999998807907,
          -0.2094999998807907,
          -0.2094999998807907,
          -0.2094999998807907,
          -0.2094999998807907,
          -0.2094999998807907,
          -0.2094999998807907,
          -0.2094999998807907,
          -0.2094999998807907,
          -0.2094999998807907,
          -0.2094999998807907,
          -0.2094999998807907,
          -0.2094999998807907
         ],
         "yaxis": "y2"
        },
        {
         "marker": {
          "color": "#FF7F0E"
         },
         "mode": "lines",
         "name": "angle_max",
         "type": "scatter",
         "xaxis": "x2",
         "y": [
          0.2094999998807907,
          0.2094999998807907,
          0.2094999998807907,
          0.2094999998807907,
          0.2094999998807907,
          0.2094999998807907,
          0.2094999998807907,
          0.2094999998807907,
          0.2094999998807907,
          0.2094999998807907,
          0.2094999998807907,
          0.2094999998807907,
          0.2094999998807907,
          0.2094999998807907,
          0.2094999998807907,
          0.2094999998807907,
          0.2094999998807907,
          0.2094999998807907,
          0.2094999998807907,
          0.2094999998807907,
          0.2094999998807907,
          0.2094999998807907,
          0.2094999998807907,
          0.2094999998807907,
          0.2094999998807907,
          0.2094999998807907,
          0.2094999998807907,
          0.2094999998807907,
          0.2094999998807907,
          0.2094999998807907,
          0.2094999998807907,
          0.2094999998807907,
          0.2094999998807907,
          0.2094999998807907,
          0.2094999998807907,
          0.2094999998807907,
          0.2094999998807907,
          0.2094999998807907,
          0.2094999998807907,
          0.2094999998807907,
          0.2094999998807907,
          0.2094999998807907,
          0.2094999998807907,
          0.2094999998807907,
          0.2094999998807907,
          0.2094999998807907,
          0.2094999998807907,
          0.2094999998807907,
          0.2094999998807907,
          0.2094999998807907,
          0.2094999998807907,
          0.2094999998807907,
          0.2094999998807907,
          0.2094999998807907,
          0.2094999998807907,
          0.2094999998807907,
          0.2094999998807907,
          0.2094999998807907,
          0.2094999998807907,
          0.2094999998807907,
          0.2094999998807907,
          0.2094999998807907,
          0.2094999998807907,
          0.2094999998807907,
          0.2094999998807907,
          0.2094999998807907,
          0.2094999998807907,
          0.2094999998807907,
          0.2094999998807907,
          0.2094999998807907,
          0.2094999998807907,
          0.2094999998807907,
          0.2094999998807907,
          0.2094999998807907,
          0.2094999998807907,
          0.2094999998807907,
          0.2094999998807907,
          0.2094999998807907,
          0.2094999998807907,
          0.2094999998807907,
          0.2094999998807907,
          0.2094999998807907,
          0.2094999998807907,
          0.2094999998807907,
          0.2094999998807907,
          0.2094999998807907,
          0.2094999998807907,
          0.2094999998807907,
          0.2094999998807907,
          0.2094999998807907,
          0.2094999998807907,
          0.2094999998807907,
          0.2094999998807907,
          0.2094999998807907,
          0.2094999998807907,
          0.2094999998807907,
          0.2094999998807907,
          0.2094999998807907,
          0.2094999998807907,
          0.2094999998807907,
          0.2094999998807907,
          0.2094999998807907,
          0.2094999998807907,
          0.2094999998807907,
          0.2094999998807907,
          0.2094999998807907,
          0.2094999998807907,
          0.2094999998807907,
          0.2094999998807907,
          0.2094999998807907,
          0.2094999998807907,
          0.2094999998807907,
          0.2094999998807907,
          0.2094999998807907,
          0.2094999998807907,
          0.2094999998807907,
          0.2094999998807907,
          0.2094999998807907,
          0.2094999998807907,
          0.2094999998807907,
          0.2094999998807907,
          0.2094999998807907,
          0.2094999998807907,
          0.2094999998807907,
          0.2094999998807907,
          0.2094999998807907,
          0.2094999998807907,
          0.2094999998807907
         ],
         "yaxis": "y2"
        }
       ],
       "layout": {
        "annotations": [
         {
          "font": {
           "size": 16
          },
          "showarrow": false,
          "text": "Cart x-position",
          "x": 0.5,
          "xanchor": "center",
          "xref": "paper",
          "y": 1,
          "yanchor": "bottom",
          "yref": "paper"
         },
         {
          "font": {
           "size": 16
          },
          "showarrow": false,
          "text": "Cart angle",
          "x": 0.5,
          "xanchor": "center",
          "xref": "paper",
          "y": 0.375,
          "yanchor": "bottom",
          "yref": "paper"
         },
         {
          "showarrow": false,
          "text": "Min posn",
          "x": 134.4,
          "xref": "x",
          "y": -2.4,
          "yref": "y"
         },
         {
          "showarrow": false,
          "text": "Min angle",
          "x": 134.4,
          "xref": "x2",
          "y": -0.2095,
          "yref": "y2"
         },
         {
          "showarrow": false,
          "text": "Max posn",
          "x": 134.4,
          "xref": "x",
          "y": 2.4,
          "yref": "y"
         },
         {
          "showarrow": false,
          "text": "Max angle",
          "x": 134.4,
          "xref": "x2",
          "y": 0.2095,
          "yref": "y2"
         }
        ],
        "shapes": [
         {
          "line": {
           "color": "black",
           "dash": "dash",
           "width": 2
          },
          "type": "line",
          "x0": 1,
          "x1": 1,
          "xref": "x",
          "y0": 0,
          "y1": 1,
          "yref": "y domain"
         },
         {
          "line": {
           "color": "black",
           "dash": "dash",
           "width": 2
          },
          "type": "line",
          "x0": 9,
          "x1": 9,
          "xref": "x",
          "y0": 0,
          "y1": 1,
          "yref": "y domain"
         },
         {
          "line": {
           "color": "black",
           "dash": "dash",
           "width": 2
          },
          "type": "line",
          "x0": 15,
          "x1": 15,
          "xref": "x",
          "y0": 0,
          "y1": 1,
          "yref": "y domain"
         },
         {
          "line": {
           "color": "black",
           "dash": "dash",
           "width": 2
          },
          "type": "line",
          "x0": 35,
          "x1": 35,
          "xref": "x",
          "y0": 0,
          "y1": 1,
          "yref": "y domain"
         },
         {
          "line": {
           "color": "black",
           "dash": "dash",
           "width": 2
          },
          "type": "line",
          "x0": 46,
          "x1": 46,
          "xref": "x",
          "y0": 0,
          "y1": 1,
          "yref": "y domain"
         },
         {
          "line": {
           "color": "black",
           "dash": "dash",
           "width": 2
          },
          "type": "line",
          "x0": 56,
          "x1": 56,
          "xref": "x",
          "y0": 0,
          "y1": 1,
          "yref": "y domain"
         },
         {
          "line": {
           "color": "black",
           "dash": "dash",
           "width": 2
          },
          "type": "line",
          "x0": 70,
          "x1": 70,
          "xref": "x",
          "y0": 0,
          "y1": 1,
          "yref": "y domain"
         },
         {
          "line": {
           "color": "black",
           "dash": "dash",
           "width": 2
          },
          "type": "line",
          "x0": 75,
          "x1": 75,
          "xref": "x",
          "y0": 0,
          "y1": 1,
          "yref": "y domain"
         },
         {
          "line": {
           "color": "black",
           "dash": "dash",
           "width": 2
          },
          "type": "line",
          "x0": 81,
          "x1": 81,
          "xref": "x",
          "y0": 0,
          "y1": 1,
          "yref": "y domain"
         },
         {
          "line": {
           "color": "black",
           "dash": "dash",
           "width": 2
          },
          "type": "line",
          "x0": 91,
          "x1": 91,
          "xref": "x",
          "y0": 0,
          "y1": 1,
          "yref": "y domain"
         },
         {
          "line": {
           "color": "black",
           "dash": "dash",
           "width": 2
          },
          "type": "line",
          "x0": 92,
          "x1": 92,
          "xref": "x",
          "y0": 0,
          "y1": 1,
          "yref": "y domain"
         },
         {
          "line": {
           "color": "black",
           "dash": "dash",
           "width": 2
          },
          "type": "line",
          "x0": 100,
          "x1": 100,
          "xref": "x",
          "y0": 0,
          "y1": 1,
          "yref": "y domain"
         },
         {
          "line": {
           "color": "black",
           "dash": "dash",
           "width": 2
          },
          "type": "line",
          "x0": 108,
          "x1": 108,
          "xref": "x",
          "y0": 0,
          "y1": 1,
          "yref": "y domain"
         },
         {
          "line": {
           "color": "black",
           "dash": "dash",
           "width": 2
          },
          "type": "line",
          "x0": 117,
          "x1": 117,
          "xref": "x",
          "y0": 0,
          "y1": 1,
          "yref": "y domain"
         },
         {
          "line": {
           "color": "black",
           "dash": "dash",
           "width": 2
          },
          "type": "line",
          "x0": 126,
          "x1": 126,
          "xref": "x",
          "y0": 0,
          "y1": 1,
          "yref": "y domain"
         },
         {
          "line": {
           "color": "black",
           "dash": "dash",
           "width": 2
          },
          "type": "line",
          "x0": 1,
          "x1": 1,
          "xref": "x2",
          "y0": 0,
          "y1": 1,
          "yref": "y2 domain"
         },
         {
          "line": {
           "color": "black",
           "dash": "dash",
           "width": 2
          },
          "type": "line",
          "x0": 9,
          "x1": 9,
          "xref": "x2",
          "y0": 0,
          "y1": 1,
          "yref": "y2 domain"
         },
         {
          "line": {
           "color": "black",
           "dash": "dash",
           "width": 2
          },
          "type": "line",
          "x0": 15,
          "x1": 15,
          "xref": "x2",
          "y0": 0,
          "y1": 1,
          "yref": "y2 domain"
         },
         {
          "line": {
           "color": "black",
           "dash": "dash",
           "width": 2
          },
          "type": "line",
          "x0": 35,
          "x1": 35,
          "xref": "x2",
          "y0": 0,
          "y1": 1,
          "yref": "y2 domain"
         },
         {
          "line": {
           "color": "black",
           "dash": "dash",
           "width": 2
          },
          "type": "line",
          "x0": 46,
          "x1": 46,
          "xref": "x2",
          "y0": 0,
          "y1": 1,
          "yref": "y2 domain"
         },
         {
          "line": {
           "color": "black",
           "dash": "dash",
           "width": 2
          },
          "type": "line",
          "x0": 56,
          "x1": 56,
          "xref": "x2",
          "y0": 0,
          "y1": 1,
          "yref": "y2 domain"
         },
         {
          "line": {
           "color": "black",
           "dash": "dash",
           "width": 2
          },
          "type": "line",
          "x0": 70,
          "x1": 70,
          "xref": "x2",
          "y0": 0,
          "y1": 1,
          "yref": "y2 domain"
         },
         {
          "line": {
           "color": "black",
           "dash": "dash",
           "width": 2
          },
          "type": "line",
          "x0": 75,
          "x1": 75,
          "xref": "x2",
          "y0": 0,
          "y1": 1,
          "yref": "y2 domain"
         },
         {
          "line": {
           "color": "black",
           "dash": "dash",
           "width": 2
          },
          "type": "line",
          "x0": 81,
          "x1": 81,
          "xref": "x2",
          "y0": 0,
          "y1": 1,
          "yref": "y2 domain"
         },
         {
          "line": {
           "color": "black",
           "dash": "dash",
           "width": 2
          },
          "type": "line",
          "x0": 91,
          "x1": 91,
          "xref": "x2",
          "y0": 0,
          "y1": 1,
          "yref": "y2 domain"
         },
         {
          "line": {
           "color": "black",
           "dash": "dash",
           "width": 2
          },
          "type": "line",
          "x0": 92,
          "x1": 92,
          "xref": "x2",
          "y0": 0,
          "y1": 1,
          "yref": "y2 domain"
         },
         {
          "line": {
           "color": "black",
           "dash": "dash",
           "width": 2
          },
          "type": "line",
          "x0": 100,
          "x1": 100,
          "xref": "x2",
          "y0": 0,
          "y1": 1,
          "yref": "y2 domain"
         },
         {
          "line": {
           "color": "black",
           "dash": "dash",
           "width": 2
          },
          "type": "line",
          "x0": 108,
          "x1": 108,
          "xref": "x2",
          "y0": 0,
          "y1": 1,
          "yref": "y2 domain"
         },
         {
          "line": {
           "color": "black",
           "dash": "dash",
           "width": 2
          },
          "type": "line",
          "x0": 117,
          "x1": 117,
          "xref": "x2",
          "y0": 0,
          "y1": 1,
          "yref": "y2 domain"
         },
         {
          "line": {
           "color": "black",
           "dash": "dash",
           "width": 2
          },
          "type": "line",
          "x0": 126,
          "x1": 126,
          "xref": "x2",
          "y0": 0,
          "y1": 1,
          "yref": "y2 domain"
         }
        ],
        "showlegend": false,
        "template": {
         "data": {
          "bar": [
           {
            "error_x": {
             "color": "rgb(36,36,36)"
            },
            "error_y": {
             "color": "rgb(36,36,36)"
            },
            "marker": {
             "line": {
              "color": "white",
              "width": 0.5
             },
             "pattern": {
              "fillmode": "overlay",
              "size": 10,
              "solidity": 0.2
             }
            },
            "type": "bar"
           }
          ],
          "barpolar": [
           {
            "marker": {
             "line": {
              "color": "white",
              "width": 0.5
             },
             "pattern": {
              "fillmode": "overlay",
              "size": 10,
              "solidity": 0.2
             }
            },
            "type": "barpolar"
           }
          ],
          "carpet": [
           {
            "aaxis": {
             "endlinecolor": "rgb(36,36,36)",
             "gridcolor": "white",
             "linecolor": "white",
             "minorgridcolor": "white",
             "startlinecolor": "rgb(36,36,36)"
            },
            "baxis": {
             "endlinecolor": "rgb(36,36,36)",
             "gridcolor": "white",
             "linecolor": "white",
             "minorgridcolor": "white",
             "startlinecolor": "rgb(36,36,36)"
            },
            "type": "carpet"
           }
          ],
          "choropleth": [
           {
            "colorbar": {
             "outlinewidth": 1,
             "tickcolor": "rgb(36,36,36)",
             "ticks": "outside"
            },
            "type": "choropleth"
           }
          ],
          "contour": [
           {
            "colorbar": {
             "outlinewidth": 1,
             "tickcolor": "rgb(36,36,36)",
             "ticks": "outside"
            },
            "colorscale": [
             [
              0,
              "#440154"
             ],
             [
              0.1111111111111111,
              "#482878"
             ],
             [
              0.2222222222222222,
              "#3e4989"
             ],
             [
              0.3333333333333333,
              "#31688e"
             ],
             [
              0.4444444444444444,
              "#26828e"
             ],
             [
              0.5555555555555556,
              "#1f9e89"
             ],
             [
              0.6666666666666666,
              "#35b779"
             ],
             [
              0.7777777777777778,
              "#6ece58"
             ],
             [
              0.8888888888888888,
              "#b5de2b"
             ],
             [
              1,
              "#fde725"
             ]
            ],
            "type": "contour"
           }
          ],
          "contourcarpet": [
           {
            "colorbar": {
             "outlinewidth": 1,
             "tickcolor": "rgb(36,36,36)",
             "ticks": "outside"
            },
            "type": "contourcarpet"
           }
          ],
          "heatmap": [
           {
            "colorbar": {
             "outlinewidth": 1,
             "tickcolor": "rgb(36,36,36)",
             "ticks": "outside"
            },
            "colorscale": [
             [
              0,
              "#440154"
             ],
             [
              0.1111111111111111,
              "#482878"
             ],
             [
              0.2222222222222222,
              "#3e4989"
             ],
             [
              0.3333333333333333,
              "#31688e"
             ],
             [
              0.4444444444444444,
              "#26828e"
             ],
             [
              0.5555555555555556,
              "#1f9e89"
             ],
             [
              0.6666666666666666,
              "#35b779"
             ],
             [
              0.7777777777777778,
              "#6ece58"
             ],
             [
              0.8888888888888888,
              "#b5de2b"
             ],
             [
              1,
              "#fde725"
             ]
            ],
            "type": "heatmap"
           }
          ],
          "heatmapgl": [
           {
            "colorbar": {
             "outlinewidth": 1,
             "tickcolor": "rgb(36,36,36)",
             "ticks": "outside"
            },
            "colorscale": [
             [
              0,
              "#440154"
             ],
             [
              0.1111111111111111,
              "#482878"
             ],
             [
              0.2222222222222222,
              "#3e4989"
             ],
             [
              0.3333333333333333,
              "#31688e"
             ],
             [
              0.4444444444444444,
              "#26828e"
             ],
             [
              0.5555555555555556,
              "#1f9e89"
             ],
             [
              0.6666666666666666,
              "#35b779"
             ],
             [
              0.7777777777777778,
              "#6ece58"
             ],
             [
              0.8888888888888888,
              "#b5de2b"
             ],
             [
              1,
              "#fde725"
             ]
            ],
            "type": "heatmapgl"
           }
          ],
          "histogram": [
           {
            "marker": {
             "line": {
              "color": "white",
              "width": 0.6
             }
            },
            "type": "histogram"
           }
          ],
          "histogram2d": [
           {
            "colorbar": {
             "outlinewidth": 1,
             "tickcolor": "rgb(36,36,36)",
             "ticks": "outside"
            },
            "colorscale": [
             [
              0,
              "#440154"
             ],
             [
              0.1111111111111111,
              "#482878"
             ],
             [
              0.2222222222222222,
              "#3e4989"
             ],
             [
              0.3333333333333333,
              "#31688e"
             ],
             [
              0.4444444444444444,
              "#26828e"
             ],
             [
              0.5555555555555556,
              "#1f9e89"
             ],
             [
              0.6666666666666666,
              "#35b779"
             ],
             [
              0.7777777777777778,
              "#6ece58"
             ],
             [
              0.8888888888888888,
              "#b5de2b"
             ],
             [
              1,
              "#fde725"
             ]
            ],
            "type": "histogram2d"
           }
          ],
          "histogram2dcontour": [
           {
            "colorbar": {
             "outlinewidth": 1,
             "tickcolor": "rgb(36,36,36)",
             "ticks": "outside"
            },
            "colorscale": [
             [
              0,
              "#440154"
             ],
             [
              0.1111111111111111,
              "#482878"
             ],
             [
              0.2222222222222222,
              "#3e4989"
             ],
             [
              0.3333333333333333,
              "#31688e"
             ],
             [
              0.4444444444444444,
              "#26828e"
             ],
             [
              0.5555555555555556,
              "#1f9e89"
             ],
             [
              0.6666666666666666,
              "#35b779"
             ],
             [
              0.7777777777777778,
              "#6ece58"
             ],
             [
              0.8888888888888888,
              "#b5de2b"
             ],
             [
              1,
              "#fde725"
             ]
            ],
            "type": "histogram2dcontour"
           }
          ],
          "mesh3d": [
           {
            "colorbar": {
             "outlinewidth": 1,
             "tickcolor": "rgb(36,36,36)",
             "ticks": "outside"
            },
            "type": "mesh3d"
           }
          ],
          "parcoords": [
           {
            "line": {
             "colorbar": {
              "outlinewidth": 1,
              "tickcolor": "rgb(36,36,36)",
              "ticks": "outside"
             }
            },
            "type": "parcoords"
           }
          ],
          "pie": [
           {
            "automargin": true,
            "type": "pie"
           }
          ],
          "scatter": [
           {
            "fillpattern": {
             "fillmode": "overlay",
             "size": 10,
             "solidity": 0.2
            },
            "type": "scatter"
           }
          ],
          "scatter3d": [
           {
            "line": {
             "colorbar": {
              "outlinewidth": 1,
              "tickcolor": "rgb(36,36,36)",
              "ticks": "outside"
             }
            },
            "marker": {
             "colorbar": {
              "outlinewidth": 1,
              "tickcolor": "rgb(36,36,36)",
              "ticks": "outside"
             }
            },
            "type": "scatter3d"
           }
          ],
          "scattercarpet": [
           {
            "marker": {
             "colorbar": {
              "outlinewidth": 1,
              "tickcolor": "rgb(36,36,36)",
              "ticks": "outside"
             }
            },
            "type": "scattercarpet"
           }
          ],
          "scattergeo": [
           {
            "marker": {
             "colorbar": {
              "outlinewidth": 1,
              "tickcolor": "rgb(36,36,36)",
              "ticks": "outside"
             }
            },
            "type": "scattergeo"
           }
          ],
          "scattergl": [
           {
            "marker": {
             "colorbar": {
              "outlinewidth": 1,
              "tickcolor": "rgb(36,36,36)",
              "ticks": "outside"
             }
            },
            "type": "scattergl"
           }
          ],
          "scattermapbox": [
           {
            "marker": {
             "colorbar": {
              "outlinewidth": 1,
              "tickcolor": "rgb(36,36,36)",
              "ticks": "outside"
             }
            },
            "type": "scattermapbox"
           }
          ],
          "scatterpolar": [
           {
            "marker": {
             "colorbar": {
              "outlinewidth": 1,
              "tickcolor": "rgb(36,36,36)",
              "ticks": "outside"
             }
            },
            "type": "scatterpolar"
           }
          ],
          "scatterpolargl": [
           {
            "marker": {
             "colorbar": {
              "outlinewidth": 1,
              "tickcolor": "rgb(36,36,36)",
              "ticks": "outside"
             }
            },
            "type": "scatterpolargl"
           }
          ],
          "scatterternary": [
           {
            "marker": {
             "colorbar": {
              "outlinewidth": 1,
              "tickcolor": "rgb(36,36,36)",
              "ticks": "outside"
             }
            },
            "type": "scatterternary"
           }
          ],
          "surface": [
           {
            "colorbar": {
             "outlinewidth": 1,
             "tickcolor": "rgb(36,36,36)",
             "ticks": "outside"
            },
            "colorscale": [
             [
              0,
              "#440154"
             ],
             [
              0.1111111111111111,
              "#482878"
             ],
             [
              0.2222222222222222,
              "#3e4989"
             ],
             [
              0.3333333333333333,
              "#31688e"
             ],
             [
              0.4444444444444444,
              "#26828e"
             ],
             [
              0.5555555555555556,
              "#1f9e89"
             ],
             [
              0.6666666666666666,
              "#35b779"
             ],
             [
              0.7777777777777778,
              "#6ece58"
             ],
             [
              0.8888888888888888,
              "#b5de2b"
             ],
             [
              1,
              "#fde725"
             ]
            ],
            "type": "surface"
           }
          ],
          "table": [
           {
            "cells": {
             "fill": {
              "color": "rgb(237,237,237)"
             },
             "line": {
              "color": "white"
             }
            },
            "header": {
             "fill": {
              "color": "rgb(217,217,217)"
             },
             "line": {
              "color": "white"
             }
            },
            "type": "table"
           }
          ]
         },
         "layout": {
          "annotationdefaults": {
           "arrowhead": 0,
           "arrowwidth": 1
          },
          "autotypenumbers": "strict",
          "coloraxis": {
           "colorbar": {
            "outlinewidth": 1,
            "tickcolor": "rgb(36,36,36)",
            "ticks": "outside"
           }
          },
          "colorscale": {
           "diverging": [
            [
             0,
             "rgb(103,0,31)"
            ],
            [
             0.1,
             "rgb(178,24,43)"
            ],
            [
             0.2,
             "rgb(214,96,77)"
            ],
            [
             0.3,
             "rgb(244,165,130)"
            ],
            [
             0.4,
             "rgb(253,219,199)"
            ],
            [
             0.5,
             "rgb(247,247,247)"
            ],
            [
             0.6,
             "rgb(209,229,240)"
            ],
            [
             0.7,
             "rgb(146,197,222)"
            ],
            [
             0.8,
             "rgb(67,147,195)"
            ],
            [
             0.9,
             "rgb(33,102,172)"
            ],
            [
             1,
             "rgb(5,48,97)"
            ]
           ],
           "sequential": [
            [
             0,
             "#440154"
            ],
            [
             0.1111111111111111,
             "#482878"
            ],
            [
             0.2222222222222222,
             "#3e4989"
            ],
            [
             0.3333333333333333,
             "#31688e"
            ],
            [
             0.4444444444444444,
             "#26828e"
            ],
            [
             0.5555555555555556,
             "#1f9e89"
            ],
            [
             0.6666666666666666,
             "#35b779"
            ],
            [
             0.7777777777777778,
             "#6ece58"
            ],
            [
             0.8888888888888888,
             "#b5de2b"
            ],
            [
             1,
             "#fde725"
            ]
           ],
           "sequentialminus": [
            [
             0,
             "#440154"
            ],
            [
             0.1111111111111111,
             "#482878"
            ],
            [
             0.2222222222222222,
             "#3e4989"
            ],
            [
             0.3333333333333333,
             "#31688e"
            ],
            [
             0.4444444444444444,
             "#26828e"
            ],
            [
             0.5555555555555556,
             "#1f9e89"
            ],
            [
             0.6666666666666666,
             "#35b779"
            ],
            [
             0.7777777777777778,
             "#6ece58"
            ],
            [
             0.8888888888888888,
             "#b5de2b"
            ],
            [
             1,
             "#fde725"
            ]
           ]
          },
          "colorway": [
           "#1F77B4",
           "#FF7F0E",
           "#2CA02C",
           "#D62728",
           "#9467BD",
           "#8C564B",
           "#E377C2",
           "#7F7F7F",
           "#BCBD22",
           "#17BECF"
          ],
          "font": {
           "color": "rgb(36,36,36)"
          },
          "geo": {
           "bgcolor": "white",
           "lakecolor": "white",
           "landcolor": "white",
           "showlakes": true,
           "showland": true,
           "subunitcolor": "white"
          },
          "hoverlabel": {
           "align": "left"
          },
          "hovermode": "closest",
          "mapbox": {
           "style": "light"
          },
          "paper_bgcolor": "white",
          "plot_bgcolor": "white",
          "polar": {
           "angularaxis": {
            "gridcolor": "rgb(232,232,232)",
            "linecolor": "rgb(36,36,36)",
            "showgrid": false,
            "showline": true,
            "ticks": "outside"
           },
           "bgcolor": "white",
           "radialaxis": {
            "gridcolor": "rgb(232,232,232)",
            "linecolor": "rgb(36,36,36)",
            "showgrid": false,
            "showline": true,
            "ticks": "outside"
           }
          },
          "scene": {
           "xaxis": {
            "backgroundcolor": "white",
            "gridcolor": "rgb(232,232,232)",
            "gridwidth": 2,
            "linecolor": "rgb(36,36,36)",
            "showbackground": true,
            "showgrid": false,
            "showline": true,
            "ticks": "outside",
            "zeroline": false,
            "zerolinecolor": "rgb(36,36,36)"
           },
           "yaxis": {
            "backgroundcolor": "white",
            "gridcolor": "rgb(232,232,232)",
            "gridwidth": 2,
            "linecolor": "rgb(36,36,36)",
            "showbackground": true,
            "showgrid": false,
            "showline": true,
            "ticks": "outside",
            "zeroline": false,
            "zerolinecolor": "rgb(36,36,36)"
           },
           "zaxis": {
            "backgroundcolor": "white",
            "gridcolor": "rgb(232,232,232)",
            "gridwidth": 2,
            "linecolor": "rgb(36,36,36)",
            "showbackground": true,
            "showgrid": false,
            "showline": true,
            "ticks": "outside",
            "zeroline": false,
            "zerolinecolor": "rgb(36,36,36)"
           }
          },
          "shapedefaults": {
           "fillcolor": "black",
           "line": {
            "width": 0
           },
           "opacity": 0.3
          },
          "ternary": {
           "aaxis": {
            "gridcolor": "rgb(232,232,232)",
            "linecolor": "rgb(36,36,36)",
            "showgrid": false,
            "showline": true,
            "ticks": "outside"
           },
           "baxis": {
            "gridcolor": "rgb(232,232,232)",
            "linecolor": "rgb(36,36,36)",
            "showgrid": false,
            "showline": true,
            "ticks": "outside"
           },
           "bgcolor": "white",
           "caxis": {
            "gridcolor": "rgb(232,232,232)",
            "linecolor": "rgb(36,36,36)",
            "showgrid": false,
            "showline": true,
            "ticks": "outside"
           }
          },
          "title": {
           "x": 0.05
          },
          "xaxis": {
           "automargin": true,
           "gridcolor": "rgb(232,232,232)",
           "linecolor": "rgb(36,36,36)",
           "showgrid": false,
           "showline": true,
           "ticks": "outside",
           "title": {
            "standoff": 15
           },
           "zeroline": false,
           "zerolinecolor": "rgb(36,36,36)"
          },
          "yaxis": {
           "automargin": true,
           "gridcolor": "rgb(232,232,232)",
           "linecolor": "rgb(36,36,36)",
           "showgrid": false,
           "showline": true,
           "ticks": "outside",
           "title": {
            "standoff": 15
           },
           "zeroline": false,
           "zerolinecolor": "rgb(36,36,36)"
          }
         }
        },
        "title": {
         "text": "CartPole experiences (dotted lines = termination)"
        },
        "xaxis": {
         "anchor": "y",
         "domain": [
          0,
          1
         ]
        },
        "xaxis2": {
         "anchor": "y2",
         "domain": [
          0,
          1
         ]
        },
        "yaxis": {
         "anchor": "x",
         "domain": [
          0.625,
          1
         ]
        },
        "yaxis2": {
         "anchor": "x2",
         "domain": [
          0,
          0.375
         ]
        }
       }
      },
      "text/html": [
       "<div>                            <div id=\"3adcaa0f-263e-446b-b0db-7c4c73837bb8\" class=\"plotly-graph-div\" style=\"height:525px; width:100%;\"></div>            <script type=\"text/javascript\">                require([\"plotly\"], function(Plotly) {                    window.PLOTLYENV=window.PLOTLYENV || {};                                    if (document.getElementById(\"3adcaa0f-263e-446b-b0db-7c4c73837bb8\")) {                    Plotly.newPlot(                        \"3adcaa0f-263e-446b-b0db-7c4c73837bb8\",                        [{\"marker\":{\"color\":\"#1F77B4\"},\"mode\":\"lines\",\"name\":\"posn\",\"y\":[-0.08685804903507233,-0.1150970533490181,-0.04087706655263901,-0.0210703294724226,0.030650688335299492,-0.020179789513349533,0.01691293530166149,0.03400714322924614,0.004362499341368675,-0.12870794534683228,-0.0989222303032875,-0.036670178174972534,-0.0392792709171772,-0.10207328200340271,-0.15099811553955078,-0.18241028487682343,-0.02128278836607933,-0.04085243120789528,-0.056098368018865585,0.0404437817633152,-0.06144656240940094,-0.06389030069112778,-0.05917999893426895,-0.09618714451789856,-0.020183691754937172,-0.04162733629345894,-0.11977346241474152,0.009574655443429947,-0.0526936911046505,-0.03456854447722435,0.001873956061899662,0.019842633977532387,-0.07109605520963669,0.012012600898742676,-0.04687080159783363,-0.12074637413024902,-0.14727355539798737,-0.005749105010181665,-0.02879190631210804,-0.018103817477822304,0.03198503330349922,-0.06675451993942261,-0.07398965209722519,-0.0064776018261909485,0.01905737817287445,-0.018185339868068695,-0.08784336596727371,0.0070310779847204685,-0.029699629172682762,-0.047919467091560364,0.011194289661943913,0.013882061466574669,-0.023035073652863503,-0.08363155275583267,-0.039691925048828125,-0.0861879289150238,-0.13578392565250397,-0.0694439709186554,-0.1016102135181427,-0.025963345542550087,-0.018056469038128853,-0.1093611791729927,-0.017421850934624672,-0.031084567308425903,-0.004966063424944878,0.025036467239260674,0.012902341783046722,0.010467173531651497,0.03945144638419151,0.03008689358830452,-0.1400032639503479,-0.018816854804754257,-0.010057550854980946,-0.05960191786289215,0.03764842450618744,-0.18677309155464172,-0.004373414907604456,-0.02707722783088684,0.02233673259615898,-0.018970202654600143,-0.0645563080906868,-0.06881709396839142,-0.05003632605075836,-0.04498469457030296,-0.02139517478644848,-0.13452939689159393,-0.07222782075405121,-0.09628038108348846,-0.1216246709227562,0.014704822562634945,-0.03023364581167698,-0.09747041016817093,-0.11263205111026764,-0.019700177013874054,-0.0438401997089386,-0.0008399183861911297,-0.0513337180018425,-0.017598535865545273,0.01801311783492565,-0.022325892001390457,-0.12938757240772247,0.03624526411294937,-0.08572643995285034,-0.006625298876315355,0.01867961883544922,-0.15490670502185822,-0.03299494832754135,-0.04696539789438248,-0.16267389059066772,-0.017026828601956367,-0.04093317687511444,-0.006398326251655817,-0.06870321184396744,-0.07606147229671478,-0.005298348143696785,-0.006763600744307041,0.010716266930103302,-0.181778222322464,0.029072580859065056,-0.001416464103385806,-0.12510274350643158,-0.05974021553993225,-0.06585099548101425,0.024811306968331337,-0.06527380645275116,0.0095500648021698,-0.05962851643562317,-0.05359354615211487],\"type\":\"scatter\",\"xaxis\":\"x\",\"yaxis\":\"y\"},{\"marker\":{\"color\":\"#1F77B4\"},\"mode\":\"lines\",\"name\":\"posn_min\",\"y\":[-2.4000000953674316,-2.4000000953674316,-2.4000000953674316,-2.4000000953674316,-2.4000000953674316,-2.4000000953674316,-2.4000000953674316,-2.4000000953674316,-2.4000000953674316,-2.4000000953674316,-2.4000000953674316,-2.4000000953674316,-2.4000000953674316,-2.4000000953674316,-2.4000000953674316,-2.4000000953674316,-2.4000000953674316,-2.4000000953674316,-2.4000000953674316,-2.4000000953674316,-2.4000000953674316,-2.4000000953674316,-2.4000000953674316,-2.4000000953674316,-2.4000000953674316,-2.4000000953674316,-2.4000000953674316,-2.4000000953674316,-2.4000000953674316,-2.4000000953674316,-2.4000000953674316,-2.4000000953674316,-2.4000000953674316,-2.4000000953674316,-2.4000000953674316,-2.4000000953674316,-2.4000000953674316,-2.4000000953674316,-2.4000000953674316,-2.4000000953674316,-2.4000000953674316,-2.4000000953674316,-2.4000000953674316,-2.4000000953674316,-2.4000000953674316,-2.4000000953674316,-2.4000000953674316,-2.4000000953674316,-2.4000000953674316,-2.4000000953674316,-2.4000000953674316,-2.4000000953674316,-2.4000000953674316,-2.4000000953674316,-2.4000000953674316,-2.4000000953674316,-2.4000000953674316,-2.4000000953674316,-2.4000000953674316,-2.4000000953674316,-2.4000000953674316,-2.4000000953674316,-2.4000000953674316,-2.4000000953674316,-2.4000000953674316,-2.4000000953674316,-2.4000000953674316,-2.4000000953674316,-2.4000000953674316,-2.4000000953674316,-2.4000000953674316,-2.4000000953674316,-2.4000000953674316,-2.4000000953674316,-2.4000000953674316,-2.4000000953674316,-2.4000000953674316,-2.4000000953674316,-2.4000000953674316,-2.4000000953674316,-2.4000000953674316,-2.4000000953674316,-2.4000000953674316,-2.4000000953674316,-2.4000000953674316,-2.4000000953674316,-2.4000000953674316,-2.4000000953674316,-2.4000000953674316,-2.4000000953674316,-2.4000000953674316,-2.4000000953674316,-2.4000000953674316,-2.4000000953674316,-2.4000000953674316,-2.4000000953674316,-2.4000000953674316,-2.4000000953674316,-2.4000000953674316,-2.4000000953674316,-2.4000000953674316,-2.4000000953674316,-2.4000000953674316,-2.4000000953674316,-2.4000000953674316,-2.4000000953674316,-2.4000000953674316,-2.4000000953674316,-2.4000000953674316,-2.4000000953674316,-2.4000000953674316,-2.4000000953674316,-2.4000000953674316,-2.4000000953674316,-2.4000000953674316,-2.4000000953674316,-2.4000000953674316,-2.4000000953674316,-2.4000000953674316,-2.4000000953674316,-2.4000000953674316,-2.4000000953674316,-2.4000000953674316,-2.4000000953674316,-2.4000000953674316,-2.4000000953674316,-2.4000000953674316,-2.4000000953674316],\"type\":\"scatter\",\"xaxis\":\"x\",\"yaxis\":\"y\"},{\"marker\":{\"color\":\"#1F77B4\"},\"mode\":\"lines\",\"name\":\"posn_max\",\"y\":[2.4000000953674316,2.4000000953674316,2.4000000953674316,2.4000000953674316,2.4000000953674316,2.4000000953674316,2.4000000953674316,2.4000000953674316,2.4000000953674316,2.4000000953674316,2.4000000953674316,2.4000000953674316,2.4000000953674316,2.4000000953674316,2.4000000953674316,2.4000000953674316,2.4000000953674316,2.4000000953674316,2.4000000953674316,2.4000000953674316,2.4000000953674316,2.4000000953674316,2.4000000953674316,2.4000000953674316,2.4000000953674316,2.4000000953674316,2.4000000953674316,2.4000000953674316,2.4000000953674316,2.4000000953674316,2.4000000953674316,2.4000000953674316,2.4000000953674316,2.4000000953674316,2.4000000953674316,2.4000000953674316,2.4000000953674316,2.4000000953674316,2.4000000953674316,2.4000000953674316,2.4000000953674316,2.4000000953674316,2.4000000953674316,2.4000000953674316,2.4000000953674316,2.4000000953674316,2.4000000953674316,2.4000000953674316,2.4000000953674316,2.4000000953674316,2.4000000953674316,2.4000000953674316,2.4000000953674316,2.4000000953674316,2.4000000953674316,2.4000000953674316,2.4000000953674316,2.4000000953674316,2.4000000953674316,2.4000000953674316,2.4000000953674316,2.4000000953674316,2.4000000953674316,2.4000000953674316,2.4000000953674316,2.4000000953674316,2.4000000953674316,2.4000000953674316,2.4000000953674316,2.4000000953674316,2.4000000953674316,2.4000000953674316,2.4000000953674316,2.4000000953674316,2.4000000953674316,2.4000000953674316,2.4000000953674316,2.4000000953674316,2.4000000953674316,2.4000000953674316,2.4000000953674316,2.4000000953674316,2.4000000953674316,2.4000000953674316,2.4000000953674316,2.4000000953674316,2.4000000953674316,2.4000000953674316,2.4000000953674316,2.4000000953674316,2.4000000953674316,2.4000000953674316,2.4000000953674316,2.4000000953674316,2.4000000953674316,2.4000000953674316,2.4000000953674316,2.4000000953674316,2.4000000953674316,2.4000000953674316,2.4000000953674316,2.4000000953674316,2.4000000953674316,2.4000000953674316,2.4000000953674316,2.4000000953674316,2.4000000953674316,2.4000000953674316,2.4000000953674316,2.4000000953674316,2.4000000953674316,2.4000000953674316,2.4000000953674316,2.4000000953674316,2.4000000953674316,2.4000000953674316,2.4000000953674316,2.4000000953674316,2.4000000953674316,2.4000000953674316,2.4000000953674316,2.4000000953674316,2.4000000953674316,2.4000000953674316,2.4000000953674316,2.4000000953674316,2.4000000953674316,2.4000000953674316],\"type\":\"scatter\",\"xaxis\":\"x\",\"yaxis\":\"y\"},{\"marker\":{\"color\":\"#FF7F0E\"},\"mode\":\"lines\",\"name\":\"angle\",\"y\":[0.08540397882461548,0.20191264152526855,-0.02494160085916519,0.07221654057502747,0.0023945553693920374,-0.009506383910775185,-0.029020702466368675,0.0015949488151818514,0.03158535435795784,0.18598486483097076,0.1452496349811554,0.10335612297058105,-0.02980925515294075,0.1599011868238449,0.1582644134759903,0.2061506062746048,0.019207041710615158,0.020107809454202652,0.05648508667945862,-0.010543129406869411,0.14389632642269135,0.11210757493972778,0.07746689766645432,0.05293471738696098,0.02221648022532463,0.12488403171300888,0.08711770921945572,0.04402760788798332,0.013380537740886211,0.018902884796261787,0.016001982614398003,0.037113916128873825,0.08109819144010544,0.018942514434456825,0.019003398716449738,0.16621463000774384,0.12747424840927124,0.03774704039096832,0.11635363847017288,0.12431737035512924,-0.012037825770676136,0.02163492888212204,0.13445881009101868,0.042871661484241486,0.02704424038529396,-0.0029090114403516054,0.1726803183555603,-0.02733580954372883,0.06350340694189072,0.01735682040452957,0.04807090386748314,-0.02309447154402733,0.03846384584903717,0.07973267138004303,0.07664398103952408,0.13405971229076385,0.16188690066337585,0.012730015441775322,0.14338664710521698,0.003581924131140113,0.04443245753645897,0.12046566605567932,0.010493491776287556,0.007818862795829773,-0.026935778558254242,-0.0014809025451540947,0.012134925462305546,-0.03209960088133812,0.032931726425886154,0.00869979988783598,0.17354586720466614,0.03277026116847992,-0.027037866413593292,0.14842887222766876,-0.016388293355703354,0.18585404753684998,-0.02783173695206642,0.059063415974378586,0.02019183151423931,0.0325886569917202,0.11993647366762161,0.16758795082569122,-0.008438429795205593,0.10036761313676834,0.05827295407652855,0.14560732245445251,0.1415209025144577,0.11654001474380493,0.14244630932807922,0.0070157903246581554,-0.03170450031757355,0.17233476042747498,0.2041439563035965,0.021653911098837852,0.05384664982557297,0.03151533380150795,0.04523886740207672,0.07312056422233582,-0.005025594495236874,0.10282553732395172,0.16788749396800995,0.03759752959012985,0.16120144724845886,0.03705265745520592,0.014256712049245834,0.15431928634643555,0.0008385897963307798,-0.01257561706006527,0.18889091908931732,-0.01968051679432392,0.028188569471240044,-0.007455164100974798,0.018809909000992775,0.1581152379512787,0.07184112071990967,0.024696312844753265,0.03020298294723034,0.18688340485095978,0.017502129077911377,0.04340435191988945,0.09864907711744308,0.09285513311624527,0.142991840839386,0.0213907603174448,0.16286790370941162,0.018894055858254433,0.1675301045179367,0.03373397886753082],\"type\":\"scatter\",\"xaxis\":\"x2\",\"yaxis\":\"y2\"},{\"marker\":{\"color\":\"#FF7F0E\"},\"mode\":\"lines\",\"name\":\"angle_min\",\"y\":[-0.2094999998807907,-0.2094999998807907,-0.2094999998807907,-0.2094999998807907,-0.2094999998807907,-0.2094999998807907,-0.2094999998807907,-0.2094999998807907,-0.2094999998807907,-0.2094999998807907,-0.2094999998807907,-0.2094999998807907,-0.2094999998807907,-0.2094999998807907,-0.2094999998807907,-0.2094999998807907,-0.2094999998807907,-0.2094999998807907,-0.2094999998807907,-0.2094999998807907,-0.2094999998807907,-0.2094999998807907,-0.2094999998807907,-0.2094999998807907,-0.2094999998807907,-0.2094999998807907,-0.2094999998807907,-0.2094999998807907,-0.2094999998807907,-0.2094999998807907,-0.2094999998807907,-0.2094999998807907,-0.2094999998807907,-0.2094999998807907,-0.2094999998807907,-0.2094999998807907,-0.2094999998807907,-0.2094999998807907,-0.2094999998807907,-0.2094999998807907,-0.2094999998807907,-0.2094999998807907,-0.2094999998807907,-0.2094999998807907,-0.2094999998807907,-0.2094999998807907,-0.2094999998807907,-0.2094999998807907,-0.2094999998807907,-0.2094999998807907,-0.2094999998807907,-0.2094999998807907,-0.2094999998807907,-0.2094999998807907,-0.2094999998807907,-0.2094999998807907,-0.2094999998807907,-0.2094999998807907,-0.2094999998807907,-0.2094999998807907,-0.2094999998807907,-0.2094999998807907,-0.2094999998807907,-0.2094999998807907,-0.2094999998807907,-0.2094999998807907,-0.2094999998807907,-0.2094999998807907,-0.2094999998807907,-0.2094999998807907,-0.2094999998807907,-0.2094999998807907,-0.2094999998807907,-0.2094999998807907,-0.2094999998807907,-0.2094999998807907,-0.2094999998807907,-0.2094999998807907,-0.2094999998807907,-0.2094999998807907,-0.2094999998807907,-0.2094999998807907,-0.2094999998807907,-0.2094999998807907,-0.2094999998807907,-0.2094999998807907,-0.2094999998807907,-0.2094999998807907,-0.2094999998807907,-0.2094999998807907,-0.2094999998807907,-0.2094999998807907,-0.2094999998807907,-0.2094999998807907,-0.2094999998807907,-0.2094999998807907,-0.2094999998807907,-0.2094999998807907,-0.2094999998807907,-0.2094999998807907,-0.2094999998807907,-0.2094999998807907,-0.2094999998807907,-0.2094999998807907,-0.2094999998807907,-0.2094999998807907,-0.2094999998807907,-0.2094999998807907,-0.2094999998807907,-0.2094999998807907,-0.2094999998807907,-0.2094999998807907,-0.2094999998807907,-0.2094999998807907,-0.2094999998807907,-0.2094999998807907,-0.2094999998807907,-0.2094999998807907,-0.2094999998807907,-0.2094999998807907,-0.2094999998807907,-0.2094999998807907,-0.2094999998807907,-0.2094999998807907,-0.2094999998807907,-0.2094999998807907,-0.2094999998807907,-0.2094999998807907],\"type\":\"scatter\",\"xaxis\":\"x2\",\"yaxis\":\"y2\"},{\"marker\":{\"color\":\"#FF7F0E\"},\"mode\":\"lines\",\"name\":\"angle_max\",\"y\":[0.2094999998807907,0.2094999998807907,0.2094999998807907,0.2094999998807907,0.2094999998807907,0.2094999998807907,0.2094999998807907,0.2094999998807907,0.2094999998807907,0.2094999998807907,0.2094999998807907,0.2094999998807907,0.2094999998807907,0.2094999998807907,0.2094999998807907,0.2094999998807907,0.2094999998807907,0.2094999998807907,0.2094999998807907,0.2094999998807907,0.2094999998807907,0.2094999998807907,0.2094999998807907,0.2094999998807907,0.2094999998807907,0.2094999998807907,0.2094999998807907,0.2094999998807907,0.2094999998807907,0.2094999998807907,0.2094999998807907,0.2094999998807907,0.2094999998807907,0.2094999998807907,0.2094999998807907,0.2094999998807907,0.2094999998807907,0.2094999998807907,0.2094999998807907,0.2094999998807907,0.2094999998807907,0.2094999998807907,0.2094999998807907,0.2094999998807907,0.2094999998807907,0.2094999998807907,0.2094999998807907,0.2094999998807907,0.2094999998807907,0.2094999998807907,0.2094999998807907,0.2094999998807907,0.2094999998807907,0.2094999998807907,0.2094999998807907,0.2094999998807907,0.2094999998807907,0.2094999998807907,0.2094999998807907,0.2094999998807907,0.2094999998807907,0.2094999998807907,0.2094999998807907,0.2094999998807907,0.2094999998807907,0.2094999998807907,0.2094999998807907,0.2094999998807907,0.2094999998807907,0.2094999998807907,0.2094999998807907,0.2094999998807907,0.2094999998807907,0.2094999998807907,0.2094999998807907,0.2094999998807907,0.2094999998807907,0.2094999998807907,0.2094999998807907,0.2094999998807907,0.2094999998807907,0.2094999998807907,0.2094999998807907,0.2094999998807907,0.2094999998807907,0.2094999998807907,0.2094999998807907,0.2094999998807907,0.2094999998807907,0.2094999998807907,0.2094999998807907,0.2094999998807907,0.2094999998807907,0.2094999998807907,0.2094999998807907,0.2094999998807907,0.2094999998807907,0.2094999998807907,0.2094999998807907,0.2094999998807907,0.2094999998807907,0.2094999998807907,0.2094999998807907,0.2094999998807907,0.2094999998807907,0.2094999998807907,0.2094999998807907,0.2094999998807907,0.2094999998807907,0.2094999998807907,0.2094999998807907,0.2094999998807907,0.2094999998807907,0.2094999998807907,0.2094999998807907,0.2094999998807907,0.2094999998807907,0.2094999998807907,0.2094999998807907,0.2094999998807907,0.2094999998807907,0.2094999998807907,0.2094999998807907,0.2094999998807907,0.2094999998807907,0.2094999998807907,0.2094999998807907,0.2094999998807907],\"type\":\"scatter\",\"xaxis\":\"x2\",\"yaxis\":\"y2\"}],                        {\"template\":{\"data\":{\"barpolar\":[{\"marker\":{\"line\":{\"color\":\"white\",\"width\":0.5},\"pattern\":{\"fillmode\":\"overlay\",\"size\":10,\"solidity\":0.2}},\"type\":\"barpolar\"}],\"bar\":[{\"error_x\":{\"color\":\"rgb(36,36,36)\"},\"error_y\":{\"color\":\"rgb(36,36,36)\"},\"marker\":{\"line\":{\"color\":\"white\",\"width\":0.5},\"pattern\":{\"fillmode\":\"overlay\",\"size\":10,\"solidity\":0.2}},\"type\":\"bar\"}],\"carpet\":[{\"aaxis\":{\"endlinecolor\":\"rgb(36,36,36)\",\"gridcolor\":\"white\",\"linecolor\":\"white\",\"minorgridcolor\":\"white\",\"startlinecolor\":\"rgb(36,36,36)\"},\"baxis\":{\"endlinecolor\":\"rgb(36,36,36)\",\"gridcolor\":\"white\",\"linecolor\":\"white\",\"minorgridcolor\":\"white\",\"startlinecolor\":\"rgb(36,36,36)\"},\"type\":\"carpet\"}],\"choropleth\":[{\"colorbar\":{\"outlinewidth\":1,\"tickcolor\":\"rgb(36,36,36)\",\"ticks\":\"outside\"},\"type\":\"choropleth\"}],\"contourcarpet\":[{\"colorbar\":{\"outlinewidth\":1,\"tickcolor\":\"rgb(36,36,36)\",\"ticks\":\"outside\"},\"type\":\"contourcarpet\"}],\"contour\":[{\"colorbar\":{\"outlinewidth\":1,\"tickcolor\":\"rgb(36,36,36)\",\"ticks\":\"outside\"},\"colorscale\":[[0.0,\"#440154\"],[0.1111111111111111,\"#482878\"],[0.2222222222222222,\"#3e4989\"],[0.3333333333333333,\"#31688e\"],[0.4444444444444444,\"#26828e\"],[0.5555555555555556,\"#1f9e89\"],[0.6666666666666666,\"#35b779\"],[0.7777777777777778,\"#6ece58\"],[0.8888888888888888,\"#b5de2b\"],[1.0,\"#fde725\"]],\"type\":\"contour\"}],\"heatmapgl\":[{\"colorbar\":{\"outlinewidth\":1,\"tickcolor\":\"rgb(36,36,36)\",\"ticks\":\"outside\"},\"colorscale\":[[0.0,\"#440154\"],[0.1111111111111111,\"#482878\"],[0.2222222222222222,\"#3e4989\"],[0.3333333333333333,\"#31688e\"],[0.4444444444444444,\"#26828e\"],[0.5555555555555556,\"#1f9e89\"],[0.6666666666666666,\"#35b779\"],[0.7777777777777778,\"#6ece58\"],[0.8888888888888888,\"#b5de2b\"],[1.0,\"#fde725\"]],\"type\":\"heatmapgl\"}],\"heatmap\":[{\"colorbar\":{\"outlinewidth\":1,\"tickcolor\":\"rgb(36,36,36)\",\"ticks\":\"outside\"},\"colorscale\":[[0.0,\"#440154\"],[0.1111111111111111,\"#482878\"],[0.2222222222222222,\"#3e4989\"],[0.3333333333333333,\"#31688e\"],[0.4444444444444444,\"#26828e\"],[0.5555555555555556,\"#1f9e89\"],[0.6666666666666666,\"#35b779\"],[0.7777777777777778,\"#6ece58\"],[0.8888888888888888,\"#b5de2b\"],[1.0,\"#fde725\"]],\"type\":\"heatmap\"}],\"histogram2dcontour\":[{\"colorbar\":{\"outlinewidth\":1,\"tickcolor\":\"rgb(36,36,36)\",\"ticks\":\"outside\"},\"colorscale\":[[0.0,\"#440154\"],[0.1111111111111111,\"#482878\"],[0.2222222222222222,\"#3e4989\"],[0.3333333333333333,\"#31688e\"],[0.4444444444444444,\"#26828e\"],[0.5555555555555556,\"#1f9e89\"],[0.6666666666666666,\"#35b779\"],[0.7777777777777778,\"#6ece58\"],[0.8888888888888888,\"#b5de2b\"],[1.0,\"#fde725\"]],\"type\":\"histogram2dcontour\"}],\"histogram2d\":[{\"colorbar\":{\"outlinewidth\":1,\"tickcolor\":\"rgb(36,36,36)\",\"ticks\":\"outside\"},\"colorscale\":[[0.0,\"#440154\"],[0.1111111111111111,\"#482878\"],[0.2222222222222222,\"#3e4989\"],[0.3333333333333333,\"#31688e\"],[0.4444444444444444,\"#26828e\"],[0.5555555555555556,\"#1f9e89\"],[0.6666666666666666,\"#35b779\"],[0.7777777777777778,\"#6ece58\"],[0.8888888888888888,\"#b5de2b\"],[1.0,\"#fde725\"]],\"type\":\"histogram2d\"}],\"histogram\":[{\"marker\":{\"line\":{\"color\":\"white\",\"width\":0.6}},\"type\":\"histogram\"}],\"mesh3d\":[{\"colorbar\":{\"outlinewidth\":1,\"tickcolor\":\"rgb(36,36,36)\",\"ticks\":\"outside\"},\"type\":\"mesh3d\"}],\"parcoords\":[{\"line\":{\"colorbar\":{\"outlinewidth\":1,\"tickcolor\":\"rgb(36,36,36)\",\"ticks\":\"outside\"}},\"type\":\"parcoords\"}],\"pie\":[{\"automargin\":true,\"type\":\"pie\"}],\"scatter3d\":[{\"line\":{\"colorbar\":{\"outlinewidth\":1,\"tickcolor\":\"rgb(36,36,36)\",\"ticks\":\"outside\"}},\"marker\":{\"colorbar\":{\"outlinewidth\":1,\"tickcolor\":\"rgb(36,36,36)\",\"ticks\":\"outside\"}},\"type\":\"scatter3d\"}],\"scattercarpet\":[{\"marker\":{\"colorbar\":{\"outlinewidth\":1,\"tickcolor\":\"rgb(36,36,36)\",\"ticks\":\"outside\"}},\"type\":\"scattercarpet\"}],\"scattergeo\":[{\"marker\":{\"colorbar\":{\"outlinewidth\":1,\"tickcolor\":\"rgb(36,36,36)\",\"ticks\":\"outside\"}},\"type\":\"scattergeo\"}],\"scattergl\":[{\"marker\":{\"colorbar\":{\"outlinewidth\":1,\"tickcolor\":\"rgb(36,36,36)\",\"ticks\":\"outside\"}},\"type\":\"scattergl\"}],\"scattermapbox\":[{\"marker\":{\"colorbar\":{\"outlinewidth\":1,\"tickcolor\":\"rgb(36,36,36)\",\"ticks\":\"outside\"}},\"type\":\"scattermapbox\"}],\"scatterpolargl\":[{\"marker\":{\"colorbar\":{\"outlinewidth\":1,\"tickcolor\":\"rgb(36,36,36)\",\"ticks\":\"outside\"}},\"type\":\"scatterpolargl\"}],\"scatterpolar\":[{\"marker\":{\"colorbar\":{\"outlinewidth\":1,\"tickcolor\":\"rgb(36,36,36)\",\"ticks\":\"outside\"}},\"type\":\"scatterpolar\"}],\"scatter\":[{\"fillpattern\":{\"fillmode\":\"overlay\",\"size\":10,\"solidity\":0.2},\"type\":\"scatter\"}],\"scatterternary\":[{\"marker\":{\"colorbar\":{\"outlinewidth\":1,\"tickcolor\":\"rgb(36,36,36)\",\"ticks\":\"outside\"}},\"type\":\"scatterternary\"}],\"surface\":[{\"colorbar\":{\"outlinewidth\":1,\"tickcolor\":\"rgb(36,36,36)\",\"ticks\":\"outside\"},\"colorscale\":[[0.0,\"#440154\"],[0.1111111111111111,\"#482878\"],[0.2222222222222222,\"#3e4989\"],[0.3333333333333333,\"#31688e\"],[0.4444444444444444,\"#26828e\"],[0.5555555555555556,\"#1f9e89\"],[0.6666666666666666,\"#35b779\"],[0.7777777777777778,\"#6ece58\"],[0.8888888888888888,\"#b5de2b\"],[1.0,\"#fde725\"]],\"type\":\"surface\"}],\"table\":[{\"cells\":{\"fill\":{\"color\":\"rgb(237,237,237)\"},\"line\":{\"color\":\"white\"}},\"header\":{\"fill\":{\"color\":\"rgb(217,217,217)\"},\"line\":{\"color\":\"white\"}},\"type\":\"table\"}]},\"layout\":{\"annotationdefaults\":{\"arrowhead\":0,\"arrowwidth\":1},\"autotypenumbers\":\"strict\",\"coloraxis\":{\"colorbar\":{\"outlinewidth\":1,\"tickcolor\":\"rgb(36,36,36)\",\"ticks\":\"outside\"}},\"colorscale\":{\"diverging\":[[0.0,\"rgb(103,0,31)\"],[0.1,\"rgb(178,24,43)\"],[0.2,\"rgb(214,96,77)\"],[0.3,\"rgb(244,165,130)\"],[0.4,\"rgb(253,219,199)\"],[0.5,\"rgb(247,247,247)\"],[0.6,\"rgb(209,229,240)\"],[0.7,\"rgb(146,197,222)\"],[0.8,\"rgb(67,147,195)\"],[0.9,\"rgb(33,102,172)\"],[1.0,\"rgb(5,48,97)\"]],\"sequential\":[[0.0,\"#440154\"],[0.1111111111111111,\"#482878\"],[0.2222222222222222,\"#3e4989\"],[0.3333333333333333,\"#31688e\"],[0.4444444444444444,\"#26828e\"],[0.5555555555555556,\"#1f9e89\"],[0.6666666666666666,\"#35b779\"],[0.7777777777777778,\"#6ece58\"],[0.8888888888888888,\"#b5de2b\"],[1.0,\"#fde725\"]],\"sequentialminus\":[[0.0,\"#440154\"],[0.1111111111111111,\"#482878\"],[0.2222222222222222,\"#3e4989\"],[0.3333333333333333,\"#31688e\"],[0.4444444444444444,\"#26828e\"],[0.5555555555555556,\"#1f9e89\"],[0.6666666666666666,\"#35b779\"],[0.7777777777777778,\"#6ece58\"],[0.8888888888888888,\"#b5de2b\"],[1.0,\"#fde725\"]]},\"colorway\":[\"#1F77B4\",\"#FF7F0E\",\"#2CA02C\",\"#D62728\",\"#9467BD\",\"#8C564B\",\"#E377C2\",\"#7F7F7F\",\"#BCBD22\",\"#17BECF\"],\"font\":{\"color\":\"rgb(36,36,36)\"},\"geo\":{\"bgcolor\":\"white\",\"lakecolor\":\"white\",\"landcolor\":\"white\",\"showlakes\":true,\"showland\":true,\"subunitcolor\":\"white\"},\"hoverlabel\":{\"align\":\"left\"},\"hovermode\":\"closest\",\"mapbox\":{\"style\":\"light\"},\"paper_bgcolor\":\"white\",\"plot_bgcolor\":\"white\",\"polar\":{\"angularaxis\":{\"gridcolor\":\"rgb(232,232,232)\",\"linecolor\":\"rgb(36,36,36)\",\"showgrid\":false,\"showline\":true,\"ticks\":\"outside\"},\"bgcolor\":\"white\",\"radialaxis\":{\"gridcolor\":\"rgb(232,232,232)\",\"linecolor\":\"rgb(36,36,36)\",\"showgrid\":false,\"showline\":true,\"ticks\":\"outside\"}},\"scene\":{\"xaxis\":{\"backgroundcolor\":\"white\",\"gridcolor\":\"rgb(232,232,232)\",\"gridwidth\":2,\"linecolor\":\"rgb(36,36,36)\",\"showbackground\":true,\"showgrid\":false,\"showline\":true,\"ticks\":\"outside\",\"zeroline\":false,\"zerolinecolor\":\"rgb(36,36,36)\"},\"yaxis\":{\"backgroundcolor\":\"white\",\"gridcolor\":\"rgb(232,232,232)\",\"gridwidth\":2,\"linecolor\":\"rgb(36,36,36)\",\"showbackground\":true,\"showgrid\":false,\"showline\":true,\"ticks\":\"outside\",\"zeroline\":false,\"zerolinecolor\":\"rgb(36,36,36)\"},\"zaxis\":{\"backgroundcolor\":\"white\",\"gridcolor\":\"rgb(232,232,232)\",\"gridwidth\":2,\"linecolor\":\"rgb(36,36,36)\",\"showbackground\":true,\"showgrid\":false,\"showline\":true,\"ticks\":\"outside\",\"zeroline\":false,\"zerolinecolor\":\"rgb(36,36,36)\"}},\"shapedefaults\":{\"fillcolor\":\"black\",\"line\":{\"width\":0},\"opacity\":0.3},\"ternary\":{\"aaxis\":{\"gridcolor\":\"rgb(232,232,232)\",\"linecolor\":\"rgb(36,36,36)\",\"showgrid\":false,\"showline\":true,\"ticks\":\"outside\"},\"baxis\":{\"gridcolor\":\"rgb(232,232,232)\",\"linecolor\":\"rgb(36,36,36)\",\"showgrid\":false,\"showline\":true,\"ticks\":\"outside\"},\"bgcolor\":\"white\",\"caxis\":{\"gridcolor\":\"rgb(232,232,232)\",\"linecolor\":\"rgb(36,36,36)\",\"showgrid\":false,\"showline\":true,\"ticks\":\"outside\"}},\"title\":{\"x\":0.05},\"xaxis\":{\"automargin\":true,\"gridcolor\":\"rgb(232,232,232)\",\"linecolor\":\"rgb(36,36,36)\",\"showgrid\":false,\"showline\":true,\"ticks\":\"outside\",\"title\":{\"standoff\":15},\"zeroline\":false,\"zerolinecolor\":\"rgb(36,36,36)\"},\"yaxis\":{\"automargin\":true,\"gridcolor\":\"rgb(232,232,232)\",\"linecolor\":\"rgb(36,36,36)\",\"showgrid\":false,\"showline\":true,\"ticks\":\"outside\",\"title\":{\"standoff\":15},\"zeroline\":false,\"zerolinecolor\":\"rgb(36,36,36)\"}}},\"xaxis\":{\"anchor\":\"y\",\"domain\":[0.0,1.0]},\"yaxis\":{\"anchor\":\"x\",\"domain\":[0.625,1.0]},\"xaxis2\":{\"anchor\":\"y2\",\"domain\":[0.0,1.0]},\"yaxis2\":{\"anchor\":\"x2\",\"domain\":[0.0,0.375]},\"annotations\":[{\"font\":{\"size\":16},\"showarrow\":false,\"text\":\"Cart x-position\",\"x\":0.5,\"xanchor\":\"center\",\"xref\":\"paper\",\"y\":1.0,\"yanchor\":\"bottom\",\"yref\":\"paper\"},{\"font\":{\"size\":16},\"showarrow\":false,\"text\":\"Cart angle\",\"x\":0.5,\"xanchor\":\"center\",\"xref\":\"paper\",\"y\":0.375,\"yanchor\":\"bottom\",\"yref\":\"paper\"},{\"showarrow\":false,\"text\":\"Min posn\",\"x\":134.4,\"xref\":\"x\",\"y\":-2.4,\"yref\":\"y\"},{\"showarrow\":false,\"text\":\"Min angle\",\"x\":134.4,\"xref\":\"x2\",\"y\":-0.2095,\"yref\":\"y2\"},{\"showarrow\":false,\"text\":\"Max posn\",\"x\":134.4,\"xref\":\"x\",\"y\":2.4,\"yref\":\"y\"},{\"showarrow\":false,\"text\":\"Max angle\",\"x\":134.4,\"xref\":\"x2\",\"y\":0.2095,\"yref\":\"y2\"}],\"title\":{\"text\":\"CartPole experiences (dotted lines = termination)\"},\"showlegend\":false,\"shapes\":[{\"line\":{\"color\":\"black\",\"dash\":\"dash\",\"width\":2},\"type\":\"line\",\"x0\":1,\"x1\":1,\"xref\":\"x\",\"y0\":0,\"y1\":1,\"yref\":\"y domain\"},{\"line\":{\"color\":\"black\",\"dash\":\"dash\",\"width\":2},\"type\":\"line\",\"x0\":9,\"x1\":9,\"xref\":\"x\",\"y0\":0,\"y1\":1,\"yref\":\"y domain\"},{\"line\":{\"color\":\"black\",\"dash\":\"dash\",\"width\":2},\"type\":\"line\",\"x0\":15,\"x1\":15,\"xref\":\"x\",\"y0\":0,\"y1\":1,\"yref\":\"y domain\"},{\"line\":{\"color\":\"black\",\"dash\":\"dash\",\"width\":2},\"type\":\"line\",\"x0\":35,\"x1\":35,\"xref\":\"x\",\"y0\":0,\"y1\":1,\"yref\":\"y domain\"},{\"line\":{\"color\":\"black\",\"dash\":\"dash\",\"width\":2},\"type\":\"line\",\"x0\":46,\"x1\":46,\"xref\":\"x\",\"y0\":0,\"y1\":1,\"yref\":\"y domain\"},{\"line\":{\"color\":\"black\",\"dash\":\"dash\",\"width\":2},\"type\":\"line\",\"x0\":56,\"x1\":56,\"xref\":\"x\",\"y0\":0,\"y1\":1,\"yref\":\"y domain\"},{\"line\":{\"color\":\"black\",\"dash\":\"dash\",\"width\":2},\"type\":\"line\",\"x0\":70,\"x1\":70,\"xref\":\"x\",\"y0\":0,\"y1\":1,\"yref\":\"y domain\"},{\"line\":{\"color\":\"black\",\"dash\":\"dash\",\"width\":2},\"type\":\"line\",\"x0\":75,\"x1\":75,\"xref\":\"x\",\"y0\":0,\"y1\":1,\"yref\":\"y domain\"},{\"line\":{\"color\":\"black\",\"dash\":\"dash\",\"width\":2},\"type\":\"line\",\"x0\":81,\"x1\":81,\"xref\":\"x\",\"y0\":0,\"y1\":1,\"yref\":\"y domain\"},{\"line\":{\"color\":\"black\",\"dash\":\"dash\",\"width\":2},\"type\":\"line\",\"x0\":91,\"x1\":91,\"xref\":\"x\",\"y0\":0,\"y1\":1,\"yref\":\"y domain\"},{\"line\":{\"color\":\"black\",\"dash\":\"dash\",\"width\":2},\"type\":\"line\",\"x0\":92,\"x1\":92,\"xref\":\"x\",\"y0\":0,\"y1\":1,\"yref\":\"y domain\"},{\"line\":{\"color\":\"black\",\"dash\":\"dash\",\"width\":2},\"type\":\"line\",\"x0\":100,\"x1\":100,\"xref\":\"x\",\"y0\":0,\"y1\":1,\"yref\":\"y domain\"},{\"line\":{\"color\":\"black\",\"dash\":\"dash\",\"width\":2},\"type\":\"line\",\"x0\":108,\"x1\":108,\"xref\":\"x\",\"y0\":0,\"y1\":1,\"yref\":\"y domain\"},{\"line\":{\"color\":\"black\",\"dash\":\"dash\",\"width\":2},\"type\":\"line\",\"x0\":117,\"x1\":117,\"xref\":\"x\",\"y0\":0,\"y1\":1,\"yref\":\"y domain\"},{\"line\":{\"color\":\"black\",\"dash\":\"dash\",\"width\":2},\"type\":\"line\",\"x0\":126,\"x1\":126,\"xref\":\"x\",\"y0\":0,\"y1\":1,\"yref\":\"y domain\"},{\"line\":{\"color\":\"black\",\"dash\":\"dash\",\"width\":2},\"type\":\"line\",\"x0\":1,\"x1\":1,\"xref\":\"x2\",\"y0\":0,\"y1\":1,\"yref\":\"y2 domain\"},{\"line\":{\"color\":\"black\",\"dash\":\"dash\",\"width\":2},\"type\":\"line\",\"x0\":9,\"x1\":9,\"xref\":\"x2\",\"y0\":0,\"y1\":1,\"yref\":\"y2 domain\"},{\"line\":{\"color\":\"black\",\"dash\":\"dash\",\"width\":2},\"type\":\"line\",\"x0\":15,\"x1\":15,\"xref\":\"x2\",\"y0\":0,\"y1\":1,\"yref\":\"y2 domain\"},{\"line\":{\"color\":\"black\",\"dash\":\"dash\",\"width\":2},\"type\":\"line\",\"x0\":35,\"x1\":35,\"xref\":\"x2\",\"y0\":0,\"y1\":1,\"yref\":\"y2 domain\"},{\"line\":{\"color\":\"black\",\"dash\":\"dash\",\"width\":2},\"type\":\"line\",\"x0\":46,\"x1\":46,\"xref\":\"x2\",\"y0\":0,\"y1\":1,\"yref\":\"y2 domain\"},{\"line\":{\"color\":\"black\",\"dash\":\"dash\",\"width\":2},\"type\":\"line\",\"x0\":56,\"x1\":56,\"xref\":\"x2\",\"y0\":0,\"y1\":1,\"yref\":\"y2 domain\"},{\"line\":{\"color\":\"black\",\"dash\":\"dash\",\"width\":2},\"type\":\"line\",\"x0\":70,\"x1\":70,\"xref\":\"x2\",\"y0\":0,\"y1\":1,\"yref\":\"y2 domain\"},{\"line\":{\"color\":\"black\",\"dash\":\"dash\",\"width\":2},\"type\":\"line\",\"x0\":75,\"x1\":75,\"xref\":\"x2\",\"y0\":0,\"y1\":1,\"yref\":\"y2 domain\"},{\"line\":{\"color\":\"black\",\"dash\":\"dash\",\"width\":2},\"type\":\"line\",\"x0\":81,\"x1\":81,\"xref\":\"x2\",\"y0\":0,\"y1\":1,\"yref\":\"y2 domain\"},{\"line\":{\"color\":\"black\",\"dash\":\"dash\",\"width\":2},\"type\":\"line\",\"x0\":91,\"x1\":91,\"xref\":\"x2\",\"y0\":0,\"y1\":1,\"yref\":\"y2 domain\"},{\"line\":{\"color\":\"black\",\"dash\":\"dash\",\"width\":2},\"type\":\"line\",\"x0\":92,\"x1\":92,\"xref\":\"x2\",\"y0\":0,\"y1\":1,\"yref\":\"y2 domain\"},{\"line\":{\"color\":\"black\",\"dash\":\"dash\",\"width\":2},\"type\":\"line\",\"x0\":100,\"x1\":100,\"xref\":\"x2\",\"y0\":0,\"y1\":1,\"yref\":\"y2 domain\"},{\"line\":{\"color\":\"black\",\"dash\":\"dash\",\"width\":2},\"type\":\"line\",\"x0\":108,\"x1\":108,\"xref\":\"x2\",\"y0\":0,\"y1\":1,\"yref\":\"y2 domain\"},{\"line\":{\"color\":\"black\",\"dash\":\"dash\",\"width\":2},\"type\":\"line\",\"x0\":117,\"x1\":117,\"xref\":\"x2\",\"y0\":0,\"y1\":1,\"yref\":\"y2 domain\"},{\"line\":{\"color\":\"black\",\"dash\":\"dash\",\"width\":2},\"type\":\"line\",\"x0\":126,\"x1\":126,\"xref\":\"x2\",\"y0\":0,\"y1\":1,\"yref\":\"y2 domain\"}]},                        {\"responsive\": true}                    ).then(function(){\n",
       "                            \n",
       "var gd = document.getElementById('3adcaa0f-263e-446b-b0db-7c4c73837bb8');\n",
       "var x = new MutationObserver(function (mutations, observer) {{\n",
       "        var display = window.getComputedStyle(gd).display;\n",
       "        if (!display || display === 'none') {{\n",
       "            console.log([gd, 'removed!']);\n",
       "            Plotly.purge(gd);\n",
       "            observer.disconnect();\n",
       "        }}\n",
       "}});\n",
       "\n",
       "// Listen for the removal of the full notebook cells\n",
       "var notebookContainer = gd.closest('#notebook-container');\n",
       "if (notebookContainer) {{\n",
       "    x.observe(notebookContainer, {childList: true});\n",
       "}}\n",
       "\n",
       "// Listen for the clearing of the current output cell\n",
       "var outputEl = gd.closest('.output');\n",
       "if (outputEl) {{\n",
       "    x.observe(outputEl, {childList: true});\n",
       "}}\n",
       "\n",
       "                        })                };                });            </script>        </div>"
      ]
     },
     "metadata": {},
     "output_type": "display_data"
    }
   ],
   "source": [
    "minibatches = rb.get_minibatches(next_value, next_done)\n",
    "\n",
    "obs = minibatches[0].obs\n",
    "dones = minibatches[0].dones\n",
    "\n",
    "plot_cartpole_obs_and_dones(obs, dones)"
   ]
  },
  {
   "cell_type": "code",
   "execution_count": 47,
   "metadata": {},
   "outputs": [
    {
     "name": "stdout",
     "output_type": "stream",
     "text": [
      "All tests in `test_agent` passed!\n"
     ]
    }
   ],
   "source": [
    "class PPOAgent(nn.Module):\n",
    "    critic: nn.Sequential\n",
    "    actor: nn.Sequential\n",
    "\n",
    "    def __init__(self, args: PPOArgs, envs: gym.vector.SyncVectorEnv):\n",
    "        super().__init__()\n",
    "        self.args = args\n",
    "        self.envs = envs # environment class(?)\n",
    "        self.num_envs = envs.num_envs # in parallel\n",
    "        self.obs_shape = envs.single_observation_space.shape\n",
    "        self.num_obs = np.array(self.obs_shape).prod()\n",
    "        self.num_actions = envs.single_action_space.n\n",
    "\n",
    "        # Keep track of global number of steps taken by agent\n",
    "        self.steps = 0\n",
    "        # Define actor and critic (using our previous methods)\n",
    "        self.actor, self.critic = get_actor_and_critic(envs)\n",
    "\n",
    "        # Define our first (obs, done, value), so we can start adding experiences to our replay buffer\n",
    "        self.next_obs = t.tensor(self.envs.reset()).to(device) # current obs: (n_envs, *obs_shape) where obs_shape.prod is num_obs\n",
    "        self.next_done = t.zeros(self.envs.num_envs).to(device, dtype=t.float) # current done: (n_envs,)\n",
    "\n",
    "        # Create our replay buffer\n",
    "        self.rb = ReplayBuffer(args, envs)\n",
    "\n",
    "    def play_step(self) -> List[dict]:\n",
    "        '''\n",
    "        Carries out a single interaction step between the agent and the environment, and adds results to the replay buffer.\n",
    "        '''\n",
    "\n",
    "        obs = self.next_obs\n",
    "        dones = self.next_done\n",
    "\n",
    "        with t.inference_mode():\n",
    "            values = self.critic(obs).flatten() # output is (n_env, 1) --> flatten to 1\n",
    "            logits = self.actor(obs) # obs: (n_env, *obs_shape) --> logits: (n_envs, n_actions)\n",
    "        \n",
    "        policy = Categorical(logits = logits)\n",
    "        actions = policy.sample() # actions = (n_envs,)\n",
    "        logprobs = policy.log_prob(actions)\n",
    "\n",
    "        next_obs, rewards, next_dones, infos = self.envs.step(actions.cpu().numpy())\n",
    "        rewards = t.from_numpy(rewards).to(device)\n",
    "\n",
    "        # s_t, a_t, r_t+1, d_t, logpi(a_t|s_t), v(s_t)\n",
    "        self.rb.add(obs, actions, rewards, dones, logprobs, values)\n",
    "\n",
    "        # Update next observation and next_done\n",
    "        self.next_obs = t.from_numpy(next_obs).to(device)\n",
    "        self.next_done = t.from_numpy(next_dones).to(device, dtype = t.float)\n",
    "\n",
    "        self.steps = self.steps + self.num_envs\n",
    "\n",
    "        return infos\n",
    "\n",
    "    def get_minibatches(self) -> None:\n",
    "        '''\n",
    "        Gets minibatches from the replay buffer.\n",
    "        '''\n",
    "        with t.inference_mode():\n",
    "            next_value = self.critic(self.next_obs).flatten()\n",
    "        return self.rb.get_minibatches(next_value, self.next_done)\n",
    "\n",
    "\n",
    "tests.test_ppo_agent(PPOAgent)"
   ]
  },
  {
   "cell_type": "code",
   "execution_count": 48,
   "metadata": {},
   "outputs": [
    {
     "name": "stdout",
     "output_type": "stream",
     "text": [
      "All tests in `test_calc_clipped_surrogate_objective` passed.\n"
     ]
    }
   ],
   "source": [
    "def calc_clipped_surrogate_objective(\n",
    "    probs: Categorical, \n",
    "    mb_action: Int[Tensor, \"minibatch_size\"], \n",
    "    mb_advantages: Float[Tensor, \"minibatch_size\"], \n",
    "    mb_logprobs: Float[Tensor, \"minibatch_size\"], \n",
    "    clip_coef: float, \n",
    "    eps: float = 1e-8\n",
    ") -> Float[Tensor, \"\"]:\n",
    "    '''Return the clipped surrogate objective, suitable for maximisation with gradient ascent.\n",
    "\n",
    "    probs:\n",
    "        a distribution containing the actor's unnormalized logits of shape (minibatch_size, num_actions)\n",
    "    mb_action:\n",
    "        what actions actions were taken in the sampled minibatch\n",
    "    mb_advantages:\n",
    "        advantages calculated from the sampled minibatch\n",
    "    mb_logprobs:\n",
    "        logprobs of the actions taken in the sampled minibatch (according to the old policy)\n",
    "    clip_coef:\n",
    "        amount of clipping, denoted by epsilon in Eq 7.\n",
    "    eps:\n",
    "        used to add to std dev of mb_advantages when normalizing (to avoid dividing by zero)\n",
    "    '''\n",
    "    assert mb_action.shape == mb_advantages.shape == mb_logprobs.shape \n",
    "\n",
    "    r_theta = t.exp(probs.log_prob(mb_action) - mb_logprobs) # probs = (mb, num_actions), r_theta = (mb,)\n",
    "    mb_advantages = (mb_advantages - mb_advantages.mean())/(mb_advantages.std() + eps)\n",
    "    first = r_theta * mb_advantages\n",
    "    second = t.clip(r_theta, 1-clip_coef, 1+clip_coef) * mb_advantages\n",
    "    return t.min(first, second).mean()\n",
    "\n",
    "\n",
    "\n",
    "\n",
    "tests.test_calc_clipped_surrogate_objective(calc_clipped_surrogate_objective)"
   ]
  },
  {
   "cell_type": "code",
   "execution_count": 49,
   "metadata": {},
   "outputs": [
    {
     "name": "stdout",
     "output_type": "stream",
     "text": [
      "All tests in `test_calc_value_function_loss` passed!\n"
     ]
    }
   ],
   "source": [
    "def calc_value_function_loss(\n",
    "    values: Float[Tensor, \"minibatch_size\"],\n",
    "    mb_returns: Float[Tensor, \"minibatch_size\"],\n",
    "    vf_coef: float\n",
    ") -> Float[Tensor, \"\"]:\n",
    "    '''Compute the value function portion of the loss function.\n",
    "\n",
    "    values:\n",
    "        the value function predictions for the sampled minibatch (using the updated critic network)\n",
    "    mb_returns:\n",
    "        the target for our updated critic network (computed as `advantages + values` from the old network)\n",
    "    vf_coef:\n",
    "        the coefficient for the value loss, which weights its contribution to the overall loss. Denoted by c_1 in the paper.\n",
    "    '''\n",
    "    assert values.shape == mb_returns.shape\n",
    "    return .5*vf_coef*(values - mb_returns).pow(2).mean()\n",
    "\n",
    "\n",
    "tests.test_calc_value_function_loss(calc_value_function_loss)"
   ]
  },
  {
   "cell_type": "code",
   "execution_count": 50,
   "metadata": {},
   "outputs": [
    {
     "name": "stdout",
     "output_type": "stream",
     "text": [
      "All tests in `test_calc_entropy_bonus` passed!\n"
     ]
    }
   ],
   "source": [
    "def calc_entropy_bonus(probs: Categorical, ent_coef: float):\n",
    "    '''Return the entropy bonus term, suitable for gradient ascent.\n",
    "\n",
    "    probs:\n",
    "        the probability distribution for the current policy\n",
    "    ent_coef: \n",
    "        the coefficient for the entropy loss, which weights its contribution to the overall objective function. Denoted by c_2 in the paper.\n",
    "    '''\n",
    "    return ent_coef*(probs.entropy().mean())\n",
    "\n",
    "\n",
    "tests.test_calc_entropy_bonus(calc_entropy_bonus)"
   ]
  },
  {
   "cell_type": "code",
   "execution_count": 51,
   "metadata": {},
   "outputs": [
    {
     "name": "stdout",
     "output_type": "stream",
     "text": [
      "All tests in `test_ppo_scheduler` passed!\n"
     ]
    }
   ],
   "source": [
    "class PPOScheduler:\n",
    "    def __init__(self, optimizer: Optimizer, initial_lr: float, end_lr: float, total_training_steps: int):\n",
    "        self.optimizer = optimizer\n",
    "        self.initial_lr = initial_lr\n",
    "        self.end_lr = end_lr\n",
    "        self.total_training_steps = total_training_steps\n",
    "        self.n_step_calls = 0\n",
    "\n",
    "    def step(self):\n",
    "        '''Implement linear learning rate decay so that after total_training_steps calls to step, the learning rate is end_lr.\n",
    "        '''\n",
    "        self.n_step_calls += 1\n",
    "        lr = (self.n_step_calls)/self.total_training_steps * (self.end_lr - self.initial_lr) + self.initial_lr\n",
    "        for param_group in self.optimizer.param_groups:\n",
    "            param_group[\"lr\"] = lr\n",
    "\n",
    "def make_optimizer(agent: PPOAgent, total_training_steps: int, initial_lr: float, end_lr: float) -> Tuple[optim.Adam, PPOScheduler]:\n",
    "    '''Return an appropriately configured Adam with its attached scheduler.'''\n",
    "    optimizer = optim.Adam(agent.parameters(), lr=initial_lr, eps=1e-5, maximize=True)\n",
    "    scheduler = PPOScheduler(optimizer, initial_lr, end_lr, total_training_steps)\n",
    "    return (optimizer, scheduler)\n",
    "\n",
    "\n",
    "tests.test_ppo_scheduler(PPOScheduler)"
   ]
  },
  {
   "cell_type": "code",
   "execution_count": 52,
   "metadata": {},
   "outputs": [],
   "source": [
    "class PPOTrainer:\n",
    "\n",
    "    def __init__(self, args: PPOArgs):\n",
    "        super().__init__()\n",
    "        self.args = args\n",
    "        set_global_seeds(args.seed)\n",
    "        self.run_name = f\"{args.env_id}__{args.exp_name}__{args.seed}__{int(time.time())}\"\n",
    "        self.envs = gym.vector.SyncVectorEnv([make_env(args.env_id, args.seed + i, i, args.capture_video, self.run_name) for i in range(args.num_envs)])\n",
    "        self.agent = PPOAgent(self.args, self.envs).to(device)\n",
    "        self.optimizer, self.scheduler = make_optimizer(self.agent, self.args.total_training_steps, self.args.learning_rate, 0.0)\n",
    "        if self.args.use_wandb:\n",
    "            wandb.init(project=args.wandb_project_name, entity=args.wandb_entity, name=args.exp_name)\n",
    "            wandb.gym.monitor()\n",
    "\n",
    "    def rollout_phase(self):\n",
    "        '''Should populate the replay buffer with new experiences.'''\n",
    "        last_episode_len = None\n",
    "        for _ in range(self.args.num_steps):\n",
    "            infos = self.agent.play_step()\n",
    "            if self.args.use_wandb:\n",
    "                for info in infos:\n",
    "                    if \"episode\" in info.keys():\n",
    "                        last_episode_len = info[\"episode\"][\"l\"]\n",
    "                        last_episode_return = info[\"episode\"][\"r\"]\n",
    "                        wandb.log({\n",
    "                            \"episode_length\": last_episode_len,\n",
    "                            \"episode_return\": last_episode_return,\n",
    "                        }, step=self.agent.steps)\n",
    "        return last_episode_len\n",
    "\n",
    "    def learning_phase(self) -> None:\n",
    "        '''Should get minibatches and iterate through them (performing an optimizer step at each one).'''\n",
    "        for mb in self.agent.get_minibatches():\n",
    "\n",
    "            logits = self.agent.actor(mb.obs)\n",
    "            probs = Categorical(logits=logits)\n",
    "            values = self.agent.critic(mb.obs).squeeze()\n",
    "            \n",
    "            first_term = calc_clipped_surrogate_objective(probs, mb.actions, mb.advantages, mb.logprobs, self.args.clip_coef)\n",
    "            second_term = calc_value_function_loss(values, mb.returns, self.args.vf_coef)\n",
    "            third_term = calc_entropy_bonus(probs, self.args.ent_coef)\n",
    "            objective = first_term - second_term + third_term\n",
    "            \n",
    "            if self.args.use_wandb:\n",
    "                with t.inference_mode():\n",
    "                    newlogprob = probs.log_prob(mb.actions)\n",
    "                    logratio = newlogprob - mb.logprobs\n",
    "                    ratio = logratio.exp()\n",
    "                    approx_kl = (ratio - 1 - logratio).mean().item()\n",
    "                    clipfracs = [((ratio - 1.0).abs() > self.args.clip_coef).float().mean().item()]\n",
    "                wandb.log(dict(\n",
    "                    total_steps = self.agent.steps,\n",
    "                    values = values.mean().item(),\n",
    "                    learning_rate = self.scheduler.optimizer.param_groups[0][\"lr\"],\n",
    "                    value_loss = second_term.item(),\n",
    "                    clipped_surrogate_objective = first_term.item(),\n",
    "                    entropy = third_term.item(),\n",
    "                    approx_kl = approx_kl,\n",
    "                    clipfrac = np.mean(clipfracs)\n",
    "                ), step=self.agent.steps)\n",
    "            \n",
    "            objective.backward()\n",
    "            nn.utils.clip_grad_norm_(self.agent.parameters(), args.max_grad_norm)\n",
    "            self.optimizer.step()\n",
    "            self.optimizer.zero_grad()\n",
    "            self.scheduler.step()"
   ]
  },
  {
   "cell_type": "code",
   "execution_count": 53,
   "metadata": {},
   "outputs": [],
   "source": [
    "def train(args: PPOArgs) -> PPOAgent:\n",
    "    '''Implements training loop, used like: agent = train(args)'''\n",
    "\n",
    "    trainer = PPOTrainer(args)\n",
    "\n",
    "    progress_bar = tqdm(range(args.total_epochs))\n",
    "\n",
    "    for epoch in progress_bar:\n",
    "        last_episode_len = trainer.rollout_phase()\n",
    "\n",
    "        if last_episode_len is not None:\n",
    "            progress_bar.set_description(f\"Epoch {epoch:02}, Episode length: {last_episode_len}\")\n",
    "            if args.use_wandb: wandb.log({\"episode_length\": last_episode_len}, step=trainer.agent.steps)\n",
    "\n",
    "        trainer.learning_phase()\n",
    "\n",
    "    return trainer.agent"
   ]
  },
  {
   "cell_type": "code",
   "execution_count": 54,
   "metadata": {},
   "outputs": [
    {
     "data": {
      "text/html": [
       "Finishing last run (ID:yg9d7vdb) before initializing another..."
      ],
      "text/plain": [
       "<IPython.core.display.HTML object>"
      ]
     },
     "metadata": {},
     "output_type": "display_data"
    },
    {
     "data": {
      "text/html": [
       "Waiting for W&B process to finish... <strong style=\"color:green\">(success).</strong>"
      ],
      "text/plain": [
       "<IPython.core.display.HTML object>"
      ]
     },
     "metadata": {},
     "output_type": "display_data"
    },
    {
     "data": {
      "application/vnd.jupyter.widget-view+json": {
       "model_id": "e68775fa8b23423caaf9101aaf97d0c2",
       "version_major": 2,
       "version_minor": 0
      },
      "text/plain": [
       "VBox(children=(Label(value='0.004 MB of 0.004 MB uploaded (0.000 MB deduped)\\r'), FloatProgress(value=1.0, max…"
      ]
     },
     "metadata": {},
     "output_type": "display_data"
    },
    {
     "data": {
      "text/html": [
       " View run <strong style=\"color:#cdcd00\">test-1</strong> at: <a href='https://wandb.ai/pranavgade20/PPOCart/runs/yg9d7vdb' target=\"_blank\">https://wandb.ai/pranavgade20/PPOCart/runs/yg9d7vdb</a><br/>Synced 5 W&B file(s), 0 media file(s), 0 artifact file(s) and 0 other file(s)"
      ],
      "text/plain": [
       "<IPython.core.display.HTML object>"
      ]
     },
     "metadata": {},
     "output_type": "display_data"
    },
    {
     "data": {
      "text/html": [
       "Find logs at: <code>./wandb/run-20230613_174318-yg9d7vdb/logs</code>"
      ],
      "text/plain": [
       "<IPython.core.display.HTML object>"
      ]
     },
     "metadata": {},
     "output_type": "display_data"
    },
    {
     "data": {
      "text/html": [
       "Successfully finished last run (ID:yg9d7vdb). Initializing new run:<br/>"
      ],
      "text/plain": [
       "<IPython.core.display.HTML object>"
      ]
     },
     "metadata": {},
     "output_type": "display_data"
    },
    {
     "data": {
      "application/vnd.jupyter.widget-view+json": {
       "model_id": "11b3097b89474cca8e8ffa48b9d736b5",
       "version_major": 2,
       "version_minor": 0
      },
      "text/plain": [
       "VBox(children=(Label(value='Waiting for wandb.init()...\\r'), FloatProgress(value=0.016669368165700384, max=1.0…"
      ]
     },
     "metadata": {},
     "output_type": "display_data"
    },
    {
     "data": {
      "text/html": [
       "wandb version 0.15.4 is available!  To upgrade, please run:\n",
       " $ pip install wandb --upgrade"
      ],
      "text/plain": [
       "<IPython.core.display.HTML object>"
      ]
     },
     "metadata": {},
     "output_type": "display_data"
    },
    {
     "data": {
      "text/html": [
       "Tracking run with wandb version 0.13.10"
      ],
      "text/plain": [
       "<IPython.core.display.HTML object>"
      ]
     },
     "metadata": {},
     "output_type": "display_data"
    },
    {
     "data": {
      "text/html": [
       "Run data is saved locally in <code>/root/ARENA_2.0/chapter2_rl/exercises/part3_ppo/wandb/run-20230613_174424-v7wbqc2z</code>"
      ],
      "text/plain": [
       "<IPython.core.display.HTML object>"
      ]
     },
     "metadata": {},
     "output_type": "display_data"
    },
    {
     "data": {
      "text/html": [
       "Syncing run <strong><a href='https://wandb.ai/pranavgade20/PPOCart/runs/v7wbqc2z' target=\"_blank\">PPO_Implementation</a></strong> to <a href='https://wandb.ai/pranavgade20/PPOCart' target=\"_blank\">Weights & Biases</a> (<a href='https://wandb.me/run' target=\"_blank\">docs</a>)<br/>"
      ],
      "text/plain": [
       "<IPython.core.display.HTML object>"
      ]
     },
     "metadata": {},
     "output_type": "display_data"
    },
    {
     "data": {
      "text/html": [
       " View project at <a href='https://wandb.ai/pranavgade20/PPOCart' target=\"_blank\">https://wandb.ai/pranavgade20/PPOCart</a>"
      ],
      "text/plain": [
       "<IPython.core.display.HTML object>"
      ]
     },
     "metadata": {},
     "output_type": "display_data"
    },
    {
     "data": {
      "text/html": [
       " View run at <a href='https://wandb.ai/pranavgade20/PPOCart/runs/v7wbqc2z' target=\"_blank\">https://wandb.ai/pranavgade20/PPOCart/runs/v7wbqc2z</a>"
      ],
      "text/plain": [
       "<IPython.core.display.HTML object>"
      ]
     },
     "metadata": {},
     "output_type": "display_data"
    },
    {
     "name": "stderr",
     "output_type": "stream",
     "text": [
      "  0%|          | 0/976 [00:00<?, ?it/s]\n"
     ]
    },
    {
     "ename": "RecursionError",
     "evalue": "maximum recursion depth exceeded",
     "output_type": "error",
     "traceback": [
      "\u001b[0;31m---------------------------------------------------------------------------\u001b[0m",
      "\u001b[0;31mRecursionError\u001b[0m                            Traceback (most recent call last)",
      "Cell \u001b[0;32mIn[54], line 5\u001b[0m\n\u001b[1;32m      2\u001b[0m warnings\u001b[39m.\u001b[39mfilterwarnings(\u001b[39m\"\u001b[39m\u001b[39mignore\u001b[39m\u001b[39m\"\u001b[39m)\n\u001b[1;32m      4\u001b[0m args\u001b[39m.\u001b[39muse_wandb \u001b[39m=\u001b[39m \u001b[39mTrue\u001b[39;00m\n\u001b[0;32m----> 5\u001b[0m agent \u001b[39m=\u001b[39m train(args)\n",
      "Cell \u001b[0;32mIn[53], line 9\u001b[0m, in \u001b[0;36mtrain\u001b[0;34m(args)\u001b[0m\n\u001b[1;32m      6\u001b[0m progress_bar \u001b[39m=\u001b[39m tqdm(\u001b[39mrange\u001b[39m(args\u001b[39m.\u001b[39mtotal_epochs))\n\u001b[1;32m      8\u001b[0m \u001b[39mfor\u001b[39;00m epoch \u001b[39min\u001b[39;00m progress_bar:\n\u001b[0;32m----> 9\u001b[0m     last_episode_len \u001b[39m=\u001b[39m trainer\u001b[39m.\u001b[39;49mrollout_phase()\n\u001b[1;32m     11\u001b[0m     \u001b[39mif\u001b[39;00m last_episode_len \u001b[39mis\u001b[39;00m \u001b[39mnot\u001b[39;00m \u001b[39mNone\u001b[39;00m:\n\u001b[1;32m     12\u001b[0m         progress_bar\u001b[39m.\u001b[39mset_description(\u001b[39mf\u001b[39m\u001b[39m\"\u001b[39m\u001b[39mEpoch \u001b[39m\u001b[39m{\u001b[39;00mepoch\u001b[39m:\u001b[39;00m\u001b[39m02\u001b[39m\u001b[39m}\u001b[39;00m\u001b[39m, Episode length: \u001b[39m\u001b[39m{\u001b[39;00mlast_episode_len\u001b[39m}\u001b[39;00m\u001b[39m\"\u001b[39m)\n",
      "Cell \u001b[0;32mIn[52], line 19\u001b[0m, in \u001b[0;36mPPOTrainer.rollout_phase\u001b[0;34m(self)\u001b[0m\n\u001b[1;32m     17\u001b[0m last_episode_len \u001b[39m=\u001b[39m \u001b[39mNone\u001b[39;00m\n\u001b[1;32m     18\u001b[0m \u001b[39mfor\u001b[39;00m _ \u001b[39min\u001b[39;00m \u001b[39mrange\u001b[39m(\u001b[39mself\u001b[39m\u001b[39m.\u001b[39margs\u001b[39m.\u001b[39mnum_steps):\n\u001b[0;32m---> 19\u001b[0m     infos \u001b[39m=\u001b[39m \u001b[39mself\u001b[39;49m\u001b[39m.\u001b[39;49magent\u001b[39m.\u001b[39;49mplay_step()\n\u001b[1;32m     20\u001b[0m     \u001b[39mif\u001b[39;00m \u001b[39mself\u001b[39m\u001b[39m.\u001b[39margs\u001b[39m.\u001b[39muse_wandb:\n\u001b[1;32m     21\u001b[0m         \u001b[39mfor\u001b[39;00m info \u001b[39min\u001b[39;00m infos:\n",
      "Cell \u001b[0;32mIn[47], line 42\u001b[0m, in \u001b[0;36mPPOAgent.play_step\u001b[0;34m(self)\u001b[0m\n\u001b[1;32m     39\u001b[0m actions \u001b[39m=\u001b[39m policy\u001b[39m.\u001b[39msample() \u001b[39m# actions = (n_envs,)\u001b[39;00m\n\u001b[1;32m     40\u001b[0m logprobs \u001b[39m=\u001b[39m policy\u001b[39m.\u001b[39mlog_prob(actions)\n\u001b[0;32m---> 42\u001b[0m next_obs, rewards, next_dones, infos \u001b[39m=\u001b[39m \u001b[39mself\u001b[39;49m\u001b[39m.\u001b[39;49menvs\u001b[39m.\u001b[39;49mstep(actions\u001b[39m.\u001b[39;49mcpu()\u001b[39m.\u001b[39;49mnumpy())\n\u001b[1;32m     43\u001b[0m rewards \u001b[39m=\u001b[39m t\u001b[39m.\u001b[39mfrom_numpy(rewards)\u001b[39m.\u001b[39mto(device)\n\u001b[1;32m     45\u001b[0m \u001b[39m# s_t, a_t, r_t+1, d_t, logpi(a_t|s_t), v(s_t)\u001b[39;00m\n",
      "File \u001b[0;32m/usr/local/lib/python3.8/dist-packages/gym/vector/vector_env.py:112\u001b[0m, in \u001b[0;36mVectorEnv.step\u001b[0;34m(self, actions)\u001b[0m\n\u001b[1;32m     89\u001b[0m \u001b[39m\u001b[39m\u001b[39mr\u001b[39m\u001b[39m\"\"\"Take an action for each sub-environments.\u001b[39;00m\n\u001b[1;32m     90\u001b[0m \n\u001b[1;32m     91\u001b[0m \u001b[39mParameters\u001b[39;00m\n\u001b[0;32m   (...)\u001b[0m\n\u001b[1;32m    108\u001b[0m \u001b[39m    A list of auxiliary diagnostic information dicts from sub-environments.\u001b[39;00m\n\u001b[1;32m    109\u001b[0m \u001b[39m\"\"\"\u001b[39;00m\n\u001b[1;32m    111\u001b[0m \u001b[39mself\u001b[39m\u001b[39m.\u001b[39mstep_async(actions)\n\u001b[0;32m--> 112\u001b[0m \u001b[39mreturn\u001b[39;00m \u001b[39mself\u001b[39;49m\u001b[39m.\u001b[39;49mstep_wait()\n",
      "File \u001b[0;32m/usr/local/lib/python3.8/dist-packages/gym/vector/sync_vector_env.py:138\u001b[0m, in \u001b[0;36mSyncVectorEnv.step_wait\u001b[0;34m(self)\u001b[0m\n\u001b[1;32m    136\u001b[0m observations, infos \u001b[39m=\u001b[39m [], []\n\u001b[1;32m    137\u001b[0m \u001b[39mfor\u001b[39;00m i, (env, action) \u001b[39min\u001b[39;00m \u001b[39menumerate\u001b[39m(\u001b[39mzip\u001b[39m(\u001b[39mself\u001b[39m\u001b[39m.\u001b[39menvs, \u001b[39mself\u001b[39m\u001b[39m.\u001b[39m_actions)):\n\u001b[0;32m--> 138\u001b[0m     observation, \u001b[39mself\u001b[39m\u001b[39m.\u001b[39m_rewards[i], \u001b[39mself\u001b[39m\u001b[39m.\u001b[39m_dones[i], info \u001b[39m=\u001b[39m env\u001b[39m.\u001b[39;49mstep(action)\n\u001b[1;32m    139\u001b[0m     \u001b[39mif\u001b[39;00m \u001b[39mself\u001b[39m\u001b[39m.\u001b[39m_dones[i]:\n\u001b[1;32m    140\u001b[0m         info[\u001b[39m\"\u001b[39m\u001b[39mterminal_observation\u001b[39m\u001b[39m\"\u001b[39m] \u001b[39m=\u001b[39m observation\n",
      "File \u001b[0;32m/usr/local/lib/python3.8/dist-packages/gym/wrappers/record_video.py:105\u001b[0m, in \u001b[0;36mRecordVideo.step\u001b[0;34m(self, action)\u001b[0m\n\u001b[1;32m    103\u001b[0m \u001b[39mif\u001b[39;00m \u001b[39mnot\u001b[39;00m \u001b[39mself\u001b[39m\u001b[39m.\u001b[39mis_vector_env:\n\u001b[1;32m    104\u001b[0m     \u001b[39mif\u001b[39;00m dones:\n\u001b[0;32m--> 105\u001b[0m         \u001b[39mself\u001b[39;49m\u001b[39m.\u001b[39;49mclose_video_recorder()\n\u001b[1;32m    106\u001b[0m \u001b[39melif\u001b[39;00m dones[\u001b[39m0\u001b[39m]:\n\u001b[1;32m    107\u001b[0m     \u001b[39mself\u001b[39m\u001b[39m.\u001b[39mclose_video_recorder()\n",
      "File \u001b[0;32m/usr/local/lib/python3.8/dist-packages/gym/wrappers/record_video.py:116\u001b[0m, in \u001b[0;36mRecordVideo.close_video_recorder\u001b[0;34m(self)\u001b[0m\n\u001b[1;32m    114\u001b[0m \u001b[39mdef\u001b[39;00m \u001b[39mclose_video_recorder\u001b[39m(\u001b[39mself\u001b[39m) \u001b[39m-\u001b[39m\u001b[39m>\u001b[39m \u001b[39mNone\u001b[39;00m:\n\u001b[1;32m    115\u001b[0m     \u001b[39mif\u001b[39;00m \u001b[39mself\u001b[39m\u001b[39m.\u001b[39mrecording:\n\u001b[0;32m--> 116\u001b[0m         \u001b[39mself\u001b[39;49m\u001b[39m.\u001b[39;49mvideo_recorder\u001b[39m.\u001b[39;49mclose()\n\u001b[1;32m    117\u001b[0m     \u001b[39mself\u001b[39m\u001b[39m.\u001b[39mrecording \u001b[39m=\u001b[39m \u001b[39mFalse\u001b[39;00m\n\u001b[1;32m    118\u001b[0m     \u001b[39mself\u001b[39m\u001b[39m.\u001b[39mrecorded_frames \u001b[39m=\u001b[39m \u001b[39m1\u001b[39m\n",
      "File \u001b[0;32m/usr/local/lib/python3.8/dist-packages/gym/wrappers/monitoring/video_recorder.py:185\u001b[0m, in \u001b[0;36mVideoRecorder.close\u001b[0;34m(self)\u001b[0m\n\u001b[1;32m    183\u001b[0m \u001b[39mif\u001b[39;00m \u001b[39mself\u001b[39m\u001b[39m.\u001b[39mencoder:\n\u001b[1;32m    184\u001b[0m     logger\u001b[39m.\u001b[39mdebug(\u001b[39m\"\u001b[39m\u001b[39mClosing video encoder: path=\u001b[39m\u001b[39m%s\u001b[39;00m\u001b[39m\"\u001b[39m, \u001b[39mself\u001b[39m\u001b[39m.\u001b[39mpath)\n\u001b[0;32m--> 185\u001b[0m     \u001b[39mself\u001b[39;49m\u001b[39m.\u001b[39;49mencoder\u001b[39m.\u001b[39;49mclose()\n\u001b[1;32m    186\u001b[0m     \u001b[39mself\u001b[39m\u001b[39m.\u001b[39mencoder \u001b[39m=\u001b[39m \u001b[39mNone\u001b[39;00m\n\u001b[1;32m    187\u001b[0m \u001b[39melse\u001b[39;00m:\n\u001b[1;32m    188\u001b[0m     \u001b[39m# No frames captured. Set metadata, and remove the empty output file.\u001b[39;00m\n",
      "File \u001b[0;32m/usr/local/lib/python3.8/dist-packages/wandb/integration/gym/__init__.py:34\u001b[0m, in \u001b[0;36mmonitor.<locals>.close\u001b[0;34m(self)\u001b[0m\n\u001b[1;32m     33\u001b[0m \u001b[39mdef\u001b[39;00m \u001b[39mclose\u001b[39m(\u001b[39mself\u001b[39m):\n\u001b[0;32m---> 34\u001b[0m     recorder\u001b[39m.\u001b[39;49morig_close(\u001b[39mself\u001b[39;49m)\n\u001b[1;32m     35\u001b[0m     m \u001b[39m=\u001b[39m re\u001b[39m.\u001b[39mmatch(\u001b[39mr\u001b[39m\u001b[39m\"\u001b[39m\u001b[39m.+(video\u001b[39m\u001b[39m\\\u001b[39m\u001b[39m.\u001b[39m\u001b[39m\\\u001b[39m\u001b[39md+).+\u001b[39m\u001b[39m\"\u001b[39m, \u001b[39mgetattr\u001b[39m(\u001b[39mself\u001b[39m, path))\n\u001b[1;32m     36\u001b[0m     \u001b[39mif\u001b[39;00m m:\n",
      "File \u001b[0;32m/usr/local/lib/python3.8/dist-packages/wandb/integration/gym/__init__.py:34\u001b[0m, in \u001b[0;36mmonitor.<locals>.close\u001b[0;34m(self)\u001b[0m\n\u001b[1;32m     33\u001b[0m \u001b[39mdef\u001b[39;00m \u001b[39mclose\u001b[39m(\u001b[39mself\u001b[39m):\n\u001b[0;32m---> 34\u001b[0m     recorder\u001b[39m.\u001b[39;49morig_close(\u001b[39mself\u001b[39;49m)\n\u001b[1;32m     35\u001b[0m     m \u001b[39m=\u001b[39m re\u001b[39m.\u001b[39mmatch(\u001b[39mr\u001b[39m\u001b[39m\"\u001b[39m\u001b[39m.+(video\u001b[39m\u001b[39m\\\u001b[39m\u001b[39m.\u001b[39m\u001b[39m\\\u001b[39m\u001b[39md+).+\u001b[39m\u001b[39m\"\u001b[39m, \u001b[39mgetattr\u001b[39m(\u001b[39mself\u001b[39m, path))\n\u001b[1;32m     36\u001b[0m     \u001b[39mif\u001b[39;00m m:\n",
      "    \u001b[0;31m[... skipping similar frames: monitor.<locals>.close at line 34 (2962 times)]\u001b[0m\n",
      "File \u001b[0;32m/usr/local/lib/python3.8/dist-packages/wandb/integration/gym/__init__.py:34\u001b[0m, in \u001b[0;36mmonitor.<locals>.close\u001b[0;34m(self)\u001b[0m\n\u001b[1;32m     33\u001b[0m \u001b[39mdef\u001b[39;00m \u001b[39mclose\u001b[39m(\u001b[39mself\u001b[39m):\n\u001b[0;32m---> 34\u001b[0m     recorder\u001b[39m.\u001b[39;49morig_close(\u001b[39mself\u001b[39;49m)\n\u001b[1;32m     35\u001b[0m     m \u001b[39m=\u001b[39m re\u001b[39m.\u001b[39mmatch(\u001b[39mr\u001b[39m\u001b[39m\"\u001b[39m\u001b[39m.+(video\u001b[39m\u001b[39m\\\u001b[39m\u001b[39m.\u001b[39m\u001b[39m\\\u001b[39m\u001b[39md+).+\u001b[39m\u001b[39m\"\u001b[39m, \u001b[39mgetattr\u001b[39m(\u001b[39mself\u001b[39m, path))\n\u001b[1;32m     36\u001b[0m     \u001b[39mif\u001b[39;00m m:\n",
      "\u001b[0;31mRecursionError\u001b[0m: maximum recursion depth exceeded"
     ]
    }
   ],
   "source": [
    "import warnings\n",
    "warnings.filterwarnings(\"ignore\")\n",
    "\n",
    "args.use_wandb = True\n",
    "agent = train(args)"
   ]
  },
  {
   "cell_type": "code",
   "execution_count": 55,
   "metadata": {},
   "outputs": [],
   "source": [
    "def test_probe(probe_idx: int):\n",
    "\n",
    "    # Define a set of arguments for our probe experiment\n",
    "    args = PPOArgs(\n",
    "        env_id=f\"Probe{probe_idx}-v0\",\n",
    "        exp_name=f\"test-probe-{probe_idx}\", \n",
    "        total_timesteps=10000 if probe_idx <= 3 else 30000,\n",
    "        learning_rate=0.001,\n",
    "        capture_video=False,\n",
    "        use_wandb=False,\n",
    "    )\n",
    "\n",
    "    # YOUR CODE HERE - create a PPOTrainer instance, and train your agent\n",
    "    agent = train(args)\n",
    "\n",
    "    # Check that our final results were the ones we expected from this probe\n",
    "    obs_for_probes = [[[0.0]], [[-1.0], [+1.0]], [[0.0], [1.0]], [[0.0]], [[0.0], [1.0]]]\n",
    "    expected_value_for_probes = [[[1.0]], [[-1.0], [+1.0]], [[args.gamma], [1.0]], [[1.0]], [[1.0], [1.0]]]\n",
    "    expected_probs_for_probes = [None, None, None, [[0.0, 1.0]], [[1.0, 0.0], [0.0, 1.0]]]\n",
    "    tolerances = [5e-4, 5e-4, 5e-4, 1e-3, 1e-3]\n",
    "    obs = t.tensor(obs_for_probes[probe_idx-1]).to(device)\n",
    "    with t.inference_mode():\n",
    "        value = agent.critic(obs)\n",
    "        probs = agent.actor(obs).softmax(-1)\n",
    "    expected_value = t.tensor(expected_value_for_probes[probe_idx-1]).to(device)\n",
    "    t.testing.assert_close(value, expected_value, atol=tolerances[probe_idx-1], rtol=0)\n",
    "    expected_probs = expected_probs_for_probes[probe_idx-1]\n",
    "    if expected_probs is not None:\n",
    "        t.testing.assert_close(probs, t.tensor(expected_probs).to(device), atol=tolerances[probe_idx-1], rtol=0)\n",
    "        print(\"ran\")\n",
    "    print(\"Probe tests passed!\")"
   ]
  },
  {
   "cell_type": "code",
   "execution_count": 57,
   "metadata": {},
   "outputs": [
    {
     "name": "stderr",
     "output_type": "stream",
     "text": [
      "  0%|          | 0/19 [00:00<?, ?it/s]\n"
     ]
    },
    {
     "ename": "RecursionError",
     "evalue": "maximum recursion depth exceeded",
     "output_type": "error",
     "traceback": [
      "\u001b[0;31m---------------------------------------------------------------------------\u001b[0m",
      "\u001b[0;31mRecursionError\u001b[0m                            Traceback (most recent call last)",
      "Cell \u001b[0;32mIn[57], line 14\u001b[0m\n\u001b[1;32m     11\u001b[0m     agent \u001b[39m=\u001b[39m train(args)\n\u001b[1;32m     12\u001b[0m     \u001b[39mreturn\u001b[39;00m agent\n\u001b[0;32m---> 14\u001b[0m agent_cp \u001b[39m=\u001b[39m run_cartpole()\n",
      "Cell \u001b[0;32mIn[57], line 11\u001b[0m, in \u001b[0;36mrun_cartpole\u001b[0;34m()\u001b[0m\n\u001b[1;32m      1\u001b[0m \u001b[39mdef\u001b[39;00m \u001b[39mrun_cartpole\u001b[39m():\n\u001b[1;32m      2\u001b[0m     args \u001b[39m=\u001b[39m PPOArgs(\n\u001b[1;32m      3\u001b[0m         env_id\u001b[39m=\u001b[39m\u001b[39m\"\u001b[39m\u001b[39mCartPole\u001b[39m\u001b[39m\"\u001b[39m,\n\u001b[1;32m      4\u001b[0m         exp_name\u001b[39m=\u001b[39m\u001b[39m\"\u001b[39m\u001b[39mtest-1\u001b[39m\u001b[39m\"\u001b[39m,\n\u001b[0;32m   (...)\u001b[0m\n\u001b[1;32m      8\u001b[0m         use_wandb\u001b[39m=\u001b[39m\u001b[39mFalse\u001b[39;00m\n\u001b[1;32m      9\u001b[0m     )\n\u001b[0;32m---> 11\u001b[0m     agent \u001b[39m=\u001b[39m train(args)\n\u001b[1;32m     12\u001b[0m     \u001b[39mreturn\u001b[39;00m agent\n",
      "Cell \u001b[0;32mIn[53], line 9\u001b[0m, in \u001b[0;36mtrain\u001b[0;34m(args)\u001b[0m\n\u001b[1;32m      6\u001b[0m progress_bar \u001b[39m=\u001b[39m tqdm(\u001b[39mrange\u001b[39m(args\u001b[39m.\u001b[39mtotal_epochs))\n\u001b[1;32m      8\u001b[0m \u001b[39mfor\u001b[39;00m epoch \u001b[39min\u001b[39;00m progress_bar:\n\u001b[0;32m----> 9\u001b[0m     last_episode_len \u001b[39m=\u001b[39m trainer\u001b[39m.\u001b[39;49mrollout_phase()\n\u001b[1;32m     11\u001b[0m     \u001b[39mif\u001b[39;00m last_episode_len \u001b[39mis\u001b[39;00m \u001b[39mnot\u001b[39;00m \u001b[39mNone\u001b[39;00m:\n\u001b[1;32m     12\u001b[0m         progress_bar\u001b[39m.\u001b[39mset_description(\u001b[39mf\u001b[39m\u001b[39m\"\u001b[39m\u001b[39mEpoch \u001b[39m\u001b[39m{\u001b[39;00mepoch\u001b[39m:\u001b[39;00m\u001b[39m02\u001b[39m\u001b[39m}\u001b[39;00m\u001b[39m, Episode length: \u001b[39m\u001b[39m{\u001b[39;00mlast_episode_len\u001b[39m}\u001b[39;00m\u001b[39m\"\u001b[39m)\n",
      "Cell \u001b[0;32mIn[52], line 19\u001b[0m, in \u001b[0;36mPPOTrainer.rollout_phase\u001b[0;34m(self)\u001b[0m\n\u001b[1;32m     17\u001b[0m last_episode_len \u001b[39m=\u001b[39m \u001b[39mNone\u001b[39;00m\n\u001b[1;32m     18\u001b[0m \u001b[39mfor\u001b[39;00m _ \u001b[39min\u001b[39;00m \u001b[39mrange\u001b[39m(\u001b[39mself\u001b[39m\u001b[39m.\u001b[39margs\u001b[39m.\u001b[39mnum_steps):\n\u001b[0;32m---> 19\u001b[0m     infos \u001b[39m=\u001b[39m \u001b[39mself\u001b[39;49m\u001b[39m.\u001b[39;49magent\u001b[39m.\u001b[39;49mplay_step()\n\u001b[1;32m     20\u001b[0m     \u001b[39mif\u001b[39;00m \u001b[39mself\u001b[39m\u001b[39m.\u001b[39margs\u001b[39m.\u001b[39muse_wandb:\n\u001b[1;32m     21\u001b[0m         \u001b[39mfor\u001b[39;00m info \u001b[39min\u001b[39;00m infos:\n",
      "Cell \u001b[0;32mIn[47], line 42\u001b[0m, in \u001b[0;36mPPOAgent.play_step\u001b[0;34m(self)\u001b[0m\n\u001b[1;32m     39\u001b[0m actions \u001b[39m=\u001b[39m policy\u001b[39m.\u001b[39msample() \u001b[39m# actions = (n_envs,)\u001b[39;00m\n\u001b[1;32m     40\u001b[0m logprobs \u001b[39m=\u001b[39m policy\u001b[39m.\u001b[39mlog_prob(actions)\n\u001b[0;32m---> 42\u001b[0m next_obs, rewards, next_dones, infos \u001b[39m=\u001b[39m \u001b[39mself\u001b[39;49m\u001b[39m.\u001b[39;49menvs\u001b[39m.\u001b[39;49mstep(actions\u001b[39m.\u001b[39;49mcpu()\u001b[39m.\u001b[39;49mnumpy())\n\u001b[1;32m     43\u001b[0m rewards \u001b[39m=\u001b[39m t\u001b[39m.\u001b[39mfrom_numpy(rewards)\u001b[39m.\u001b[39mto(device)\n\u001b[1;32m     45\u001b[0m \u001b[39m# s_t, a_t, r_t+1, d_t, logpi(a_t|s_t), v(s_t)\u001b[39;00m\n",
      "File \u001b[0;32m/usr/local/lib/python3.8/dist-packages/gym/vector/vector_env.py:112\u001b[0m, in \u001b[0;36mVectorEnv.step\u001b[0;34m(self, actions)\u001b[0m\n\u001b[1;32m     89\u001b[0m \u001b[39m\u001b[39m\u001b[39mr\u001b[39m\u001b[39m\"\"\"Take an action for each sub-environments.\u001b[39;00m\n\u001b[1;32m     90\u001b[0m \n\u001b[1;32m     91\u001b[0m \u001b[39mParameters\u001b[39;00m\n\u001b[0;32m   (...)\u001b[0m\n\u001b[1;32m    108\u001b[0m \u001b[39m    A list of auxiliary diagnostic information dicts from sub-environments.\u001b[39;00m\n\u001b[1;32m    109\u001b[0m \u001b[39m\"\"\"\u001b[39;00m\n\u001b[1;32m    111\u001b[0m \u001b[39mself\u001b[39m\u001b[39m.\u001b[39mstep_async(actions)\n\u001b[0;32m--> 112\u001b[0m \u001b[39mreturn\u001b[39;00m \u001b[39mself\u001b[39;49m\u001b[39m.\u001b[39;49mstep_wait()\n",
      "File \u001b[0;32m/usr/local/lib/python3.8/dist-packages/gym/vector/sync_vector_env.py:138\u001b[0m, in \u001b[0;36mSyncVectorEnv.step_wait\u001b[0;34m(self)\u001b[0m\n\u001b[1;32m    136\u001b[0m observations, infos \u001b[39m=\u001b[39m [], []\n\u001b[1;32m    137\u001b[0m \u001b[39mfor\u001b[39;00m i, (env, action) \u001b[39min\u001b[39;00m \u001b[39menumerate\u001b[39m(\u001b[39mzip\u001b[39m(\u001b[39mself\u001b[39m\u001b[39m.\u001b[39menvs, \u001b[39mself\u001b[39m\u001b[39m.\u001b[39m_actions)):\n\u001b[0;32m--> 138\u001b[0m     observation, \u001b[39mself\u001b[39m\u001b[39m.\u001b[39m_rewards[i], \u001b[39mself\u001b[39m\u001b[39m.\u001b[39m_dones[i], info \u001b[39m=\u001b[39m env\u001b[39m.\u001b[39;49mstep(action)\n\u001b[1;32m    139\u001b[0m     \u001b[39mif\u001b[39;00m \u001b[39mself\u001b[39m\u001b[39m.\u001b[39m_dones[i]:\n\u001b[1;32m    140\u001b[0m         info[\u001b[39m\"\u001b[39m\u001b[39mterminal_observation\u001b[39m\u001b[39m\"\u001b[39m] \u001b[39m=\u001b[39m observation\n",
      "File \u001b[0;32m/usr/local/lib/python3.8/dist-packages/gym/wrappers/record_video.py:105\u001b[0m, in \u001b[0;36mRecordVideo.step\u001b[0;34m(self, action)\u001b[0m\n\u001b[1;32m    103\u001b[0m \u001b[39mif\u001b[39;00m \u001b[39mnot\u001b[39;00m \u001b[39mself\u001b[39m\u001b[39m.\u001b[39mis_vector_env:\n\u001b[1;32m    104\u001b[0m     \u001b[39mif\u001b[39;00m dones:\n\u001b[0;32m--> 105\u001b[0m         \u001b[39mself\u001b[39;49m\u001b[39m.\u001b[39;49mclose_video_recorder()\n\u001b[1;32m    106\u001b[0m \u001b[39melif\u001b[39;00m dones[\u001b[39m0\u001b[39m]:\n\u001b[1;32m    107\u001b[0m     \u001b[39mself\u001b[39m\u001b[39m.\u001b[39mclose_video_recorder()\n",
      "File \u001b[0;32m/usr/local/lib/python3.8/dist-packages/gym/wrappers/record_video.py:116\u001b[0m, in \u001b[0;36mRecordVideo.close_video_recorder\u001b[0;34m(self)\u001b[0m\n\u001b[1;32m    114\u001b[0m \u001b[39mdef\u001b[39;00m \u001b[39mclose_video_recorder\u001b[39m(\u001b[39mself\u001b[39m) \u001b[39m-\u001b[39m\u001b[39m>\u001b[39m \u001b[39mNone\u001b[39;00m:\n\u001b[1;32m    115\u001b[0m     \u001b[39mif\u001b[39;00m \u001b[39mself\u001b[39m\u001b[39m.\u001b[39mrecording:\n\u001b[0;32m--> 116\u001b[0m         \u001b[39mself\u001b[39;49m\u001b[39m.\u001b[39;49mvideo_recorder\u001b[39m.\u001b[39;49mclose()\n\u001b[1;32m    117\u001b[0m     \u001b[39mself\u001b[39m\u001b[39m.\u001b[39mrecording \u001b[39m=\u001b[39m \u001b[39mFalse\u001b[39;00m\n\u001b[1;32m    118\u001b[0m     \u001b[39mself\u001b[39m\u001b[39m.\u001b[39mrecorded_frames \u001b[39m=\u001b[39m \u001b[39m1\u001b[39m\n",
      "File \u001b[0;32m/usr/local/lib/python3.8/dist-packages/gym/wrappers/monitoring/video_recorder.py:185\u001b[0m, in \u001b[0;36mVideoRecorder.close\u001b[0;34m(self)\u001b[0m\n\u001b[1;32m    183\u001b[0m \u001b[39mif\u001b[39;00m \u001b[39mself\u001b[39m\u001b[39m.\u001b[39mencoder:\n\u001b[1;32m    184\u001b[0m     logger\u001b[39m.\u001b[39mdebug(\u001b[39m\"\u001b[39m\u001b[39mClosing video encoder: path=\u001b[39m\u001b[39m%s\u001b[39;00m\u001b[39m\"\u001b[39m, \u001b[39mself\u001b[39m\u001b[39m.\u001b[39mpath)\n\u001b[0;32m--> 185\u001b[0m     \u001b[39mself\u001b[39;49m\u001b[39m.\u001b[39;49mencoder\u001b[39m.\u001b[39;49mclose()\n\u001b[1;32m    186\u001b[0m     \u001b[39mself\u001b[39m\u001b[39m.\u001b[39mencoder \u001b[39m=\u001b[39m \u001b[39mNone\u001b[39;00m\n\u001b[1;32m    187\u001b[0m \u001b[39melse\u001b[39;00m:\n\u001b[1;32m    188\u001b[0m     \u001b[39m# No frames captured. Set metadata, and remove the empty output file.\u001b[39;00m\n",
      "File \u001b[0;32m/usr/local/lib/python3.8/dist-packages/wandb/integration/gym/__init__.py:34\u001b[0m, in \u001b[0;36mmonitor.<locals>.close\u001b[0;34m(self)\u001b[0m\n\u001b[1;32m     33\u001b[0m \u001b[39mdef\u001b[39;00m \u001b[39mclose\u001b[39m(\u001b[39mself\u001b[39m):\n\u001b[0;32m---> 34\u001b[0m     recorder\u001b[39m.\u001b[39;49morig_close(\u001b[39mself\u001b[39;49m)\n\u001b[1;32m     35\u001b[0m     m \u001b[39m=\u001b[39m re\u001b[39m.\u001b[39mmatch(\u001b[39mr\u001b[39m\u001b[39m\"\u001b[39m\u001b[39m.+(video\u001b[39m\u001b[39m\\\u001b[39m\u001b[39m.\u001b[39m\u001b[39m\\\u001b[39m\u001b[39md+).+\u001b[39m\u001b[39m\"\u001b[39m, \u001b[39mgetattr\u001b[39m(\u001b[39mself\u001b[39m, path))\n\u001b[1;32m     36\u001b[0m     \u001b[39mif\u001b[39;00m m:\n",
      "File \u001b[0;32m/usr/local/lib/python3.8/dist-packages/wandb/integration/gym/__init__.py:34\u001b[0m, in \u001b[0;36mmonitor.<locals>.close\u001b[0;34m(self)\u001b[0m\n\u001b[1;32m     33\u001b[0m \u001b[39mdef\u001b[39;00m \u001b[39mclose\u001b[39m(\u001b[39mself\u001b[39m):\n\u001b[0;32m---> 34\u001b[0m     recorder\u001b[39m.\u001b[39;49morig_close(\u001b[39mself\u001b[39;49m)\n\u001b[1;32m     35\u001b[0m     m \u001b[39m=\u001b[39m re\u001b[39m.\u001b[39mmatch(\u001b[39mr\u001b[39m\u001b[39m\"\u001b[39m\u001b[39m.+(video\u001b[39m\u001b[39m\\\u001b[39m\u001b[39m.\u001b[39m\u001b[39m\\\u001b[39m\u001b[39md+).+\u001b[39m\u001b[39m\"\u001b[39m, \u001b[39mgetattr\u001b[39m(\u001b[39mself\u001b[39m, path))\n\u001b[1;32m     36\u001b[0m     \u001b[39mif\u001b[39;00m m:\n",
      "    \u001b[0;31m[... skipping similar frames: monitor.<locals>.close at line 34 (2961 times)]\u001b[0m\n",
      "File \u001b[0;32m/usr/local/lib/python3.8/dist-packages/wandb/integration/gym/__init__.py:34\u001b[0m, in \u001b[0;36mmonitor.<locals>.close\u001b[0;34m(self)\u001b[0m\n\u001b[1;32m     33\u001b[0m \u001b[39mdef\u001b[39;00m \u001b[39mclose\u001b[39m(\u001b[39mself\u001b[39m):\n\u001b[0;32m---> 34\u001b[0m     recorder\u001b[39m.\u001b[39;49morig_close(\u001b[39mself\u001b[39;49m)\n\u001b[1;32m     35\u001b[0m     m \u001b[39m=\u001b[39m re\u001b[39m.\u001b[39mmatch(\u001b[39mr\u001b[39m\u001b[39m\"\u001b[39m\u001b[39m.+(video\u001b[39m\u001b[39m\\\u001b[39m\u001b[39m.\u001b[39m\u001b[39m\\\u001b[39m\u001b[39md+).+\u001b[39m\u001b[39m\"\u001b[39m, \u001b[39mgetattr\u001b[39m(\u001b[39mself\u001b[39m, path))\n\u001b[1;32m     36\u001b[0m     \u001b[39mif\u001b[39;00m m:\n",
      "\u001b[0;31mRecursionError\u001b[0m: maximum recursion depth exceeded"
     ]
    }
   ],
   "source": [
    "def run_cartpole():\n",
    "    args = PPOArgs(\n",
    "        env_id=\"CartPole\",\n",
    "        exp_name=\"test-1\",\n",
    "        total_timesteps=10000,\n",
    "        learning_rate=0.001,\n",
    "        capture_video=True,\n",
    "        use_wandb=False\n",
    "    )\n",
    "\n",
    "    agent = train(args)\n",
    "    return agent\n",
    "\n",
    "agent_cp = run_cartpole()"
   ]
  },
  {
   "cell_type": "code",
   "execution_count": null,
   "metadata": {},
   "outputs": [],
   "source": []
  }
 ],
 "metadata": {
  "kernelspec": {
   "display_name": "Python 3",
   "language": "python",
   "name": "python3"
  },
  "language_info": {
   "codemirror_mode": {
    "name": "ipython",
    "version": 3
   },
   "file_extension": ".py",
   "mimetype": "text/x-python",
   "name": "python",
   "nbconvert_exporter": "python",
   "pygments_lexer": "ipython3",
   "version": "3.8.10"
  },
  "orig_nbformat": 4
 },
 "nbformat": 4,
 "nbformat_minor": 2
}
