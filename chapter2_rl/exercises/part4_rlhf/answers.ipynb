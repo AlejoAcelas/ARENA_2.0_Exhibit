{
 "cells": [
  {
   "cell_type": "code",
   "execution_count": 1,
   "metadata": {},
   "outputs": [
    {
     "ename": "ModuleNotFoundError",
     "evalue": "No module named 'trlx.data'",
     "output_type": "error",
     "traceback": [
      "\u001b[0;31m---------------------------------------------------------------------------\u001b[0m",
      "\u001b[0;31mModuleNotFoundError\u001b[0m                       Traceback (most recent call last)",
      "Cell \u001b[0;32mIn[1], line 22\u001b[0m\n\u001b[1;32m     20\u001b[0m \u001b[39mimport\u001b[39;00m \u001b[39mpart4_rlhf\u001b[39;00m\u001b[39m.\u001b[39;00m\u001b[39mtests\u001b[39;00m \u001b[39mas\u001b[39;00m \u001b[39mtests\u001b[39;00m\n\u001b[1;32m     21\u001b[0m \u001b[39mimport\u001b[39;00m \u001b[39mpart4_rlhf\u001b[39;00m\u001b[39m.\u001b[39;00m\u001b[39mutils\u001b[39;00m \u001b[39mas\u001b[39;00m \u001b[39mutils\u001b[39;00m\n\u001b[0;32m---> 22\u001b[0m \u001b[39mfrom\u001b[39;00m \u001b[39mpart4_rlhf\u001b[39;00m\u001b[39m.\u001b[39;00m\u001b[39mtrlx\u001b[39;00m\u001b[39m.\u001b[39;00m\u001b[39mtrlx\u001b[39;00m\u001b[39m.\u001b[39;00m\u001b[39mdata\u001b[39;00m\u001b[39m.\u001b[39;00m\u001b[39mdefault_configs\u001b[39;00m \u001b[39mimport\u001b[39;00m TRLConfig, TrainConfig, OptimizerConfig, SchedulerConfig, TokenizerConfig, ModelConfig\n\u001b[1;32m     23\u001b[0m \u001b[39mfrom\u001b[39;00m \u001b[39mpart4_rlhf\u001b[39;00m\u001b[39m.\u001b[39;00m\u001b[39mtrlx\u001b[39;00m\u001b[39m.\u001b[39;00m\u001b[39mtrlx\u001b[39;00m\u001b[39m.\u001b[39;00m\u001b[39mmodels\u001b[39;00m\u001b[39m.\u001b[39;00m\u001b[39mmodeling_ppo\u001b[39;00m \u001b[39mimport\u001b[39;00m PPOConfig\n\u001b[1;32m     24\u001b[0m \u001b[39mfrom\u001b[39;00m \u001b[39mpart4_rlhf\u001b[39;00m\u001b[39m.\u001b[39;00m\u001b[39mtrlx\u001b[39;00m\u001b[39m.\u001b[39;00m\u001b[39mtrlx\u001b[39;00m \u001b[39mimport\u001b[39;00m train\n",
      "File \u001b[0;32m~/ARENA_2.0/chapter2_rl/exercises/part4_rlhf/trlx/trlx/__init__.py:1\u001b[0m\n\u001b[0;32m----> 1\u001b[0m \u001b[39mfrom\u001b[39;00m \u001b[39m.\u001b[39;00m\u001b[39mtrlx\u001b[39;00m \u001b[39mimport\u001b[39;00m train\n\u001b[1;32m      2\u001b[0m \u001b[39mfrom\u001b[39;00m \u001b[39m.\u001b[39;00m\u001b[39mutils\u001b[39;00m \u001b[39mimport\u001b[39;00m logging\n",
      "File \u001b[0;32m~/ARENA_2.0/chapter2_rl/exercises/part4_rlhf/trlx/trlx/trlx.py:5\u001b[0m\n\u001b[1;32m      2\u001b[0m \u001b[39mimport\u001b[39;00m \u001b[39mwarnings\u001b[39;00m\n\u001b[1;32m      3\u001b[0m \u001b[39mfrom\u001b[39;00m \u001b[39mtyping\u001b[39;00m \u001b[39mimport\u001b[39;00m Callable, Dict, Iterable, List, Optional, Tuple\n\u001b[0;32m----> 5\u001b[0m \u001b[39mfrom\u001b[39;00m \u001b[39mtrlx\u001b[39;00m\u001b[39m.\u001b[39;00m\u001b[39mdata\u001b[39;00m\u001b[39m.\u001b[39;00m\u001b[39mconfigs\u001b[39;00m \u001b[39mimport\u001b[39;00m TRLConfig\n\u001b[1;32m      6\u001b[0m \u001b[39mfrom\u001b[39;00m \u001b[39mtrlx\u001b[39;00m\u001b[39m.\u001b[39;00m\u001b[39mdata\u001b[39;00m\u001b[39m.\u001b[39;00m\u001b[39mdefault_configs\u001b[39;00m \u001b[39mimport\u001b[39;00m (\n\u001b[1;32m      7\u001b[0m     default_ilql_config,\n\u001b[1;32m      8\u001b[0m     default_ppo_config,\n\u001b[1;32m      9\u001b[0m     default_sft_config,\n\u001b[1;32m     10\u001b[0m )\n\u001b[1;32m     11\u001b[0m \u001b[39mfrom\u001b[39;00m \u001b[39mtrlx\u001b[39;00m\u001b[39m.\u001b[39;00m\u001b[39mutils\u001b[39;00m \u001b[39mimport\u001b[39;00m set_seed\n",
      "\u001b[0;31mModuleNotFoundError\u001b[0m: No module named 'trlx.data'"
     ]
    }
   ],
   "source": [
    "import os; os.environ[\"ACCELERATE_DISABLE_RICH\"] = \"1\"\n",
    "import json\n",
    "import sys\n",
    "import math\n",
    "import gc\n",
    "from pathlib import Path\n",
    "import torch as t\n",
    "from datasets import load_dataset\n",
    "from transformers import pipeline, AutoTokenizer, AutoModelForCausalLM,  AutoModelForSequenceClassification\n",
    "from transformers.models.bert.modeling_bert import BertForMaskedLM\n",
    "import logging\n",
    "from typing import cast, Any, List, Optional, Union, Tuple\n",
    "\n",
    "# Make sure exercises are in the path\n",
    "chapter = r\"chapter2_rl\"\n",
    "exercises_dir = Path(f\"{os.getcwd().split(chapter)[0]}/{chapter}/exercises\").resolve()\n",
    "section_dir = exercises_dir / \"part4_rlhf\"\n",
    "if str(exercises_dir) not in sys.path: sys.path.append(str(exercises_dir))\n",
    "\n",
    "import part4_rlhf.tests as tests\n",
    "import part4_rlhf.utils as utils\n",
    "from part4_rlhf.trlx.trlx.data.default_configs import TRLConfig, TrainConfig, OptimizerConfig, SchedulerConfig, TokenizerConfig, ModelConfig\n",
    "from part4_rlhf.trlx.trlx.models.modeling_ppo import PPOConfig\n",
    "from part4_rlhf.trlx.trlx import train"
   ]
  },
  {
   "cell_type": "code",
   "execution_count": 4,
   "metadata": {},
   "outputs": [
    {
     "ename": "AttributeError",
     "evalue": "module 'part4_rlhf.utils' has no attribute 'load_pretrained_bert'",
     "output_type": "error",
     "traceback": [
      "\u001b[0;31m---------------------------------------------------------------------------\u001b[0m",
      "\u001b[0;31mAttributeError\u001b[0m                            Traceback (most recent call last)",
      "Cell \u001b[0;32mIn[4], line 1\u001b[0m\n\u001b[0;32m----> 1\u001b[0m bert \u001b[39m=\u001b[39m utils\u001b[39m.\u001b[39;49mload_pretrained_bert()\n\u001b[1;32m      2\u001b[0m tokenizer \u001b[39m=\u001b[39m AutoTokenizer\u001b[39m.\u001b[39mfrom_pretrained(\u001b[39m\"\u001b[39m\u001b[39mbert-base-cased\u001b[39m\u001b[39m\"\u001b[39m)\n\u001b[1;32m      5\u001b[0m \u001b[39mdef\u001b[39;00m \u001b[39mpredict\u001b[39m(model: BertForMaskedLM, tokenizer: AutoTokenizer, text: \u001b[39mstr\u001b[39m, k\u001b[39m=\u001b[39m\u001b[39m15\u001b[39m) \u001b[39m-\u001b[39m\u001b[39m>\u001b[39m List[List[\u001b[39mstr\u001b[39m]]:\n",
      "\u001b[0;31mAttributeError\u001b[0m: module 'part4_rlhf.utils' has no attribute 'load_pretrained_bert'"
     ]
    }
   ],
   "source": [
    "bert = utils.load_pretrained_bert()\n",
    "tokenizer = AutoTokenizer.from_pretrained(\"bert-base-cased\")\n",
    "\n",
    "\n",
    "def predict(model: BertForMaskedLM, tokenizer: AutoTokenizer, text: str, k=15) -> List[List[str]]:\n",
    "    '''\n",
    "    Return a list of k strings for each [MASK] in the input.\n",
    "    '''\n",
    "\n",
    "    # Make sure we're in eval mode\n",
    "    model.eval()\n",
    "\n",
    "    # Tokenizer returns a bunch of special BERT-specific things, we just want input ids\n",
    "    input_ids = tokenizer(text, return_tensors=\"pt\")[\"input_ids\"]\n",
    "\n",
    "    # Get top predictions at all the places we masked\n",
    "    out = model(input_ids).logits\n",
    "    preds = out[input_ids == tokenizer.mask_token_id]\n",
    "    tops = preds.topk(k, dim=-1).indices\n",
    "\n",
    "    return [[tokenizer.decode(t) for t in mask] for mask in tops]\n",
    "\n",
    "\n",
    "your_text = \"The Answer to the Ultimate Question of Life, The Universe, and Everything is [MASK].\"\n",
    "predictions = predict(bert, tokenizer, your_text)\n",
    "print(\"Model predicted: \\n\", \"\\n\".join(map(str, predictions)))"
   ]
  },
  {
   "cell_type": "code",
   "execution_count": null,
   "metadata": {},
   "outputs": [],
   "source": [
    "print(tokenizer.vocab)\n",
    "print(tokenizer.special_tokens_map)\n",
    "print(tokenizer.mask_token)\n",
    "print(tokenizer.mask_token_id)"
   ]
  }
 ],
 "metadata": {
  "kernelspec": {
   "display_name": "Python 3",
   "language": "python",
   "name": "python3"
  },
  "language_info": {
   "codemirror_mode": {
    "name": "ipython",
    "version": 3
   },
   "file_extension": ".py",
   "mimetype": "text/x-python",
   "name": "python",
   "nbconvert_exporter": "python",
   "pygments_lexer": "ipython3",
   "version": "3.8.10"
  },
  "orig_nbformat": 4
 },
 "nbformat": 4,
 "nbformat_minor": 2
}
